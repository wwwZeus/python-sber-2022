{
 "cells": [
  {
   "cell_type": "code",
   "execution_count": 14,
   "id": "8b6dd65b",
   "metadata": {},
   "outputs": [],
   "source": [
    "#https://docs.python.org/3.10/library/sqlite3.html\n",
    "import sqlite3\n",
    "import numpy as np \n",
    "import pandas as pd"
   ]
  },
  {
   "cell_type": "code",
   "execution_count": 21,
   "id": "fc3d8487",
   "metadata": {},
   "outputs": [],
   "source": [
    "con = sqlite3.connect(\"task1_7.db\",timeout=10)"
   ]
  },
  {
   "cell_type": "code",
   "execution_count": 22,
   "id": "5074d2c2",
   "metadata": {},
   "outputs": [
    {
     "name": "stdout",
     "output_type": "stream",
     "text": [
      "Таблица существует\n"
     ]
    }
   ],
   "source": [
    "cur = con.cursor()\n",
    "res = cur.execute(\"SELECT name FROM sqlite_master WHERE name='table1'\")\n",
    "if res.fetchone() is None:\n",
    "    cur.execute(\"CREATE TABLE table1(col_1, col_2, col_3)\")\n",
    "    print('Таблица создана')\n",
    "else: \n",
    "    print('Таблица существует')"
   ]
  },
  {
   "cell_type": "code",
   "execution_count": 23,
   "id": "8bd9d2fe",
   "metadata": {},
   "outputs": [],
   "source": [
    "for i in range(1000):\n",
    "    data = [\n",
    "             (np.random.choice(1000),\n",
    "             np.random.choice(1000),\n",
    "             np.random.choice(1000))]\n",
    "\n",
    "    cur.executemany(\"INSERT INTO table1 VALUES(?,?,?)\", data)"
   ]
  },
  {
   "cell_type": "code",
   "execution_count": 24,
   "id": "c6e785e6",
   "metadata": {},
   "outputs": [],
   "source": [
    "con.commit()"
   ]
  },
  {
   "cell_type": "code",
   "execution_count": 25,
   "id": "8d9737c5",
   "metadata": {},
   "outputs": [],
   "source": [
    "cur = con.cursor()\n",
    "res=cur.execute(\"SELECT col_1,col_2,col_3 FROM table1\")\n",
    "df=pd.DataFrame(tuple(t) for t in res.fetchall())\n",
    "con.close()"
   ]
  },
  {
   "cell_type": "code",
   "execution_count": 26,
   "id": "589ea5d0",
   "metadata": {},
   "outputs": [
    {
     "data": {
      "text/plain": [
       "array([[<AxesSubplot:title={'center':'0'}>,\n",
       "        <AxesSubplot:title={'center':'1'}>],\n",
       "       [<AxesSubplot:title={'center':'2'}>, <AxesSubplot:>]], dtype=object)"
      ]
     },
     "execution_count": 26,
     "metadata": {},
     "output_type": "execute_result"
    },
    {
     "data": {
      "image/png": "[encoded data removed]",
      "text/plain": [
       "<Figure size 432x288 with 4 Axes>"
      ]
     },
     "metadata": {
      "needs_background": "light"
     },
     "output_type": "display_data"
    }
   ],
   "source": [
    "df.hist(column=[0,1,2])"
   ]
  },
  {
   "cell_type": "code",
   "execution_count": null,
   "id": "784e4393",
   "metadata": {},
   "outputs": [],
   "source": []
  }
 ],
 "metadata": {
  "kernelspec": {
   "display_name": "Python 3 (ipykernel)",
   "language": "python",
   "name": "python3"
  },
  "language_info": {
   "codemirror_mode": {
    "name": "ipython",
    "version": 3
   },
   "file_extension": ".py",
   "mimetype": "text/x-python",
   "name": "python",
   "nbconvert_exporter": "python",
   "pygments_lexer": "ipython3",
   "version": "3.8.12"
  }
 },
 "nbformat": 4,
 "nbformat_minor": 5
}
