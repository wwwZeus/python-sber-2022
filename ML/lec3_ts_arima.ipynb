{
 "cells": [
  {
   "cell_type": "code",
   "execution_count": 177,
   "metadata": {},
   "outputs": [],
   "source": [
    "import pandas as pd\n",
    "import datetime\n",
    "from statsmodels.tsa.arima.model import ARIMA\n",
    "from statsmodels.tsa.stattools import adfuller\n",
    "import warnings\n",
    "warnings.filterwarnings('ignore')"
   ]
  },
  {
   "cell_type": "markdown",
   "metadata": {},
   "source": [
    "## Решал с помощью модели ARIMA"
   ]
  },
  {
   "cell_type": "code",
   "execution_count": 178,
   "metadata": {},
   "outputs": [],
   "source": [
    "df = pd.read_excel('usdrub.xlsx')"
   ]
  },
  {
   "cell_type": "code",
   "execution_count": 179,
   "metadata": {},
   "outputs": [],
   "source": [
    "df['dDate'] = pd.to_datetime(df['dDate']).dt.date.astype('datetime64[ns]')\n",
    "df = df.sort_values(by='dDate').reset_index(drop=True)"
   ]
  },
  {
   "cell_type": "code",
   "execution_count": 180,
   "metadata": {},
   "outputs": [],
   "source": [
    "df.set_index('dDate', inplace = True)"
   ]
  },
  {
   "cell_type": "code",
   "execution_count": 181,
   "metadata": {},
   "outputs": [
    {
     "data": {
      "text/plain": [
       "<AxesSubplot:xlabel='dDate'>"
      ]
     },
     "execution_count": 181,
     "metadata": {},
     "output_type": "execute_result"
    },
    {
     "data": {
      "image/png": "[encoded data removed]",
      "text/plain": [
       "<Figure size 432x288 with 1 Axes>"
      ]
     },
     "metadata": {
      "needs_background": "light"
     },
     "output_type": "display_data"
    }
   ],
   "source": [
    "df.plot()"
   ]
  },
  {
   "cell_type": "code",
   "execution_count": 213,
   "metadata": {},
   "outputs": [
    {
     "name": "stdout",
     "output_type": "stream",
     "text": [
      "                               SARIMAX Results                                \n",
      "==============================================================================\n",
      "Dep. Variable:                   nCur   No. Observations:                  591\n",
      "Model:                 ARIMA(4, 2, 8)   Log Likelihood               -1030.446\n",
      "Date:                Sun, 09 Oct 2022   AIC                           2086.891\n",
      "Time:                        20:15:12   BIC                           2143.811\n",
      "Sample:                             0   HQIC                          2109.067\n",
      "                                - 591                                         \n",
      "Covariance Type:                  opg                                         \n",
      "==============================================================================\n",
      "                 coef    std err          z      P>|z|      [0.025      0.975]\n",
      "------------------------------------------------------------------------------\n",
      "ar.L1         -0.4221      0.086     -4.882      0.000      -0.592      -0.253\n",
      "ar.L2         -1.1180      0.109    -10.300      0.000      -1.331      -0.905\n",
      "ar.L3         -0.0894      0.086     -1.036      0.300      -0.259       0.080\n",
      "ar.L4         -0.3777      0.126     -2.993      0.003      -0.625      -0.130\n",
      "ma.L1         -0.7849      0.092     -8.575      0.000      -0.964      -0.606\n",
      "ma.L2          0.9495      0.176      5.382      0.000       0.604       1.295\n",
      "ma.L3         -1.1891      0.144     -8.262      0.000      -1.471      -0.907\n",
      "ma.L4          0.5656      0.178      3.181      0.001       0.217       0.914\n",
      "ma.L5         -0.3624      0.167     -2.176      0.030      -0.689      -0.036\n",
      "ma.L6          0.0400      0.056      0.714      0.476      -0.070       0.150\n",
      "ma.L7          0.0452      0.039      1.144      0.253      -0.032       0.123\n",
      "ma.L8         -0.2545      0.036     -7.014      0.000      -0.326      -0.183\n",
      "sigma2         1.9169      0.050     38.615      0.000       1.820       2.014\n",
      "===================================================================================\n",
      "Ljung-Box (L1) (Q):                   0.00   Jarque-Bera (JB):             18840.02\n",
      "Prob(Q):                              0.95   Prob(JB):                         0.00\n",
      "Heteroskedasticity (H):              11.75   Skew:                             1.90\n",
      "Prob(H) (two-sided):                  0.00   Kurtosis:                        30.44\n",
      "===================================================================================\n",
      "\n",
      "Warnings:\n",
      "[1] Covariance matrix calculated using the outer product of gradients (complex-step).\n"
     ]
    }
   ],
   "source": [
    "#Подбирал значения, чтобы уменьшить показатель AIC\n",
    "ar=4\n",
    "i=2\n",
    "ma=8\n",
    "arima_mod = ARIMA(df,order=(ar,i,ma))\n",
    "arima_res = arima_mod.fit()\n",
    "print(arima_res.summary())"
   ]
  },
  {
   "cell_type": "markdown",
   "metadata": {},
   "source": [
    "## предсказание на 1 шаг"
   ]
  },
  {
   "cell_type": "code",
   "execution_count": 214,
   "metadata": {},
   "outputs": [
    {
     "name": "stdout",
     "output_type": "stream",
     "text": [
      "591    57.37501\n",
      "dtype: float64\n"
     ]
    }
   ],
   "source": [
    "print(arima_res.forecast())"
   ]
  },
  {
   "cell_type": "markdown",
   "metadata": {},
   "source": [
    "## предсказание на 10 шагов"
   ]
  },
  {
   "cell_type": "code",
   "execution_count": 215,
   "metadata": {},
   "outputs": [],
   "source": [
    "forecast = arima_res.get_forecast(steps=10)\n",
    "df_10 = pd.DataFrame(columns=['forecast', 'predict_low','predict_up'])"
   ]
  },
  {
   "cell_type": "code",
   "execution_count": 216,
   "metadata": {},
   "outputs": [],
   "source": [
    "df_10['forecast']=forecast.predicted_mean\n",
    "df_10['predict_low']=forecast.conf_int()['lower nCur']\n",
    "df_10['predict_up']=forecast.conf_int()['upper nCur']"
   ]
  },
  {
   "cell_type": "code",
   "execution_count": 217,
   "metadata": {},
   "outputs": [
    {
     "data": {
      "text/html": [
       "<div>\n",
       "<style scoped>\n",
       "    .dataframe tbody tr th:only-of-type {\n",
       "        vertical-align: middle;\n",
       "    }\n",
       "\n",
       "    .dataframe tbody tr th {\n",
       "        vertical-align: top;\n",
       "    }\n",
       "\n",
       "    .dataframe thead th {\n",
       "        text-align: right;\n",
       "    }\n",
       "</style>\n",
       "<table border=\"1\" class=\"dataframe\">\n",
       "  <thead>\n",
       "    <tr style=\"text-align: right;\">\n",
       "      <th></th>\n",
       "      <th>forecast</th>\n",
       "      <th>predict_low</th>\n",
       "      <th>predict_up</th>\n",
       "    </tr>\n",
       "  </thead>\n",
       "  <tbody>\n",
       "    <tr>\n",
       "      <th>591</th>\n",
       "      <td>57.375010</td>\n",
       "      <td>54.661098</td>\n",
       "      <td>60.088922</td>\n",
       "    </tr>\n",
       "    <tr>\n",
       "      <th>592</th>\n",
       "      <td>57.527892</td>\n",
       "      <td>54.063857</td>\n",
       "      <td>60.991927</td>\n",
       "    </tr>\n",
       "    <tr>\n",
       "      <th>593</th>\n",
       "      <td>57.172776</td>\n",
       "      <td>52.890865</td>\n",
       "      <td>61.454687</td>\n",
       "    </tr>\n",
       "    <tr>\n",
       "      <th>594</th>\n",
       "      <td>57.647895</td>\n",
       "      <td>52.594799</td>\n",
       "      <td>62.700991</td>\n",
       "    </tr>\n",
       "    <tr>\n",
       "      <th>595</th>\n",
       "      <td>57.789717</td>\n",
       "      <td>52.060092</td>\n",
       "      <td>63.519342</td>\n",
       "    </tr>\n",
       "    <tr>\n",
       "      <th>596</th>\n",
       "      <td>58.011404</td>\n",
       "      <td>51.461357</td>\n",
       "      <td>64.561451</td>\n",
       "    </tr>\n",
       "    <tr>\n",
       "      <th>597</th>\n",
       "      <td>57.822679</td>\n",
       "      <td>50.443921</td>\n",
       "      <td>65.201437</td>\n",
       "    </tr>\n",
       "    <tr>\n",
       "      <th>598</th>\n",
       "      <td>57.361022</td>\n",
       "      <td>49.224808</td>\n",
       "      <td>65.497235</td>\n",
       "    </tr>\n",
       "    <tr>\n",
       "      <th>599</th>\n",
       "      <td>57.592151</td>\n",
       "      <td>48.869628</td>\n",
       "      <td>66.314674</td>\n",
       "    </tr>\n",
       "    <tr>\n",
       "      <th>600</th>\n",
       "      <td>57.842504</td>\n",
       "      <td>48.599282</td>\n",
       "      <td>67.085726</td>\n",
       "    </tr>\n",
       "  </tbody>\n",
       "</table>\n",
       "</div>"
      ],
      "text/plain": [
       "      forecast  predict_low  predict_up\n",
       "591  57.375010    54.661098   60.088922\n",
       "592  57.527892    54.063857   60.991927\n",
       "593  57.172776    52.890865   61.454687\n",
       "594  57.647895    52.594799   62.700991\n",
       "595  57.789717    52.060092   63.519342\n",
       "596  58.011404    51.461357   64.561451\n",
       "597  57.822679    50.443921   65.201437\n",
       "598  57.361022    49.224808   65.497235\n",
       "599  57.592151    48.869628   66.314674\n",
       "600  57.842504    48.599282   67.085726"
      ]
     },
     "execution_count": 217,
     "metadata": {},
     "output_type": "execute_result"
    }
   ],
   "source": [
    "df_10"
   ]
  },
  {
   "cell_type": "code",
   "execution_count": null,
   "metadata": {},
   "outputs": [],
   "source": []
  }
 ],
 "metadata": {
  "kernelspec": {
   "display_name": "Python 3 (ipykernel)",
   "language": "python",
   "name": "python3"
  },
  "language_info": {
   "codemirror_mode": {
    "name": "ipython",
    "version": 3
   },
   "file_extension": ".py",
   "mimetype": "text/x-python",
   "name": "python",
   "nbconvert_exporter": "python",
   "pygments_lexer": "ipython3",
   "version": "3.8.12"
  }
 },
 "nbformat": 4,
 "nbformat_minor": 4
}
