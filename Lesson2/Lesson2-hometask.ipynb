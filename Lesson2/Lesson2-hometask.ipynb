{
 "cells": [
  {
   "cell_type": "markdown",
   "metadata": {
    "pycharm": {
     "name": "#%% md\n"
    }
   },
   "source": [
    "[![Open In Colab](https://colab.research.google.com/assets/colab-badge.svg)](https://colab.research.google.com/github/da-python/python-for-data-analytics/blob/main/Lesson2/hometask/HH-api-hometask.ipynb)"
   ]
  },
  {
   "cell_type": "markdown",
   "metadata": {
    "pycharm": {
     "name": "#%% md\n"
    }
   },
   "source": [
    "# Задание\n",
    "* Скачать все вакансии СБЕРа с ХХ (у апи есть ограничение в 2000, а также captcha подумайте как их можно обойти)\n",
    "* Извлеките все описания этих вакансий\n",
    "* Создайте аналогичный vacancy DataFrame только добавьте поле skills\n",
    "* Переведите даты публикаций в datetime\n",
    "* Постройте график опубликованных вакансий по датам\n",
    "* Переведите даты в дни недели, и определите день недели, в который больше всего публикуют вакансий\n",
    "* Найдите те вакансии с использованием python, которые вам интересны\n",
    "* Определите по полю skills какие навыки больше всего востребованы для этих вакансий\n",
    "* Постройте график наиболее востребованных навыков для аналитика данных"
   ]
  },
  {
   "cell_type": "markdown",
   "metadata": {
    "pycharm": {
     "name": "#%% md\n"
    }
   },
   "source": [
    "https://github.com/hhru/api"
   ]
  },
  {
   "cell_type": "code",
   "execution_count": 1,
   "metadata": {
    "pycharm": {
     "name": "#%%\n"
    }
   },
   "outputs": [],
   "source": [
    "import requests\n",
    "import json\n",
    "from tqdm.auto import tqdm\n",
    "from collections import defaultdict\n",
    "import pickle\n",
    "import pandas as pd\n",
    "import numpy as np\n",
    "import time\n",
    "from functools import reduce"
   ]
  },
  {
   "cell_type": "code",
   "execution_count": 2,
   "metadata": {
    "pycharm": {
     "name": "#%%\n"
    }
   },
   "outputs": [],
   "source": [
    "sber = '3529'\n",
    "page = 1\n",
    "num_per_page = 50\n",
    "moscow = 1\n",
    "url = f'https://api.hh.ru/vacancies?employer_id={sber}&page={page}&per_page={num_per_page}&area={moscow}'"
   ]
  },
  {
   "cell_type": "code",
   "execution_count": 3,
   "metadata": {},
   "outputs": [
    {
     "data": {
      "text/plain": [
       "'https://api.hh.ru/vacancies?employer_id=3529&page=1&per_page=50&area=1'"
      ]
     },
     "execution_count": 3,
     "metadata": {},
     "output_type": "execute_result"
    }
   ],
   "source": [
    "url"
   ]
  },
  {
   "cell_type": "code",
   "execution_count": 4,
   "metadata": {
    "pycharm": {
     "name": "#%%\n"
    }
   },
   "outputs": [],
   "source": [
    "res = requests.get(url)"
   ]
  },
  {
   "cell_type": "code",
   "execution_count": 5,
   "metadata": {},
   "outputs": [
    {
     "name": "stdout",
     "output_type": "stream",
     "text": [
      "Всего страниц в запросе: 25\n",
      "Всего найдено 1214 вакансий\n"
     ]
    }
   ],
   "source": [
    "count_page=res.json().get('pages')\n",
    "count_vac=res.json().get('found')\n",
    "\n",
    "print('Всего страниц в запросе: '+ str(count_page))\n",
    "print(f\"Всего найдено {count_vac} вакансий\")\n",
    "\n"
   ]
  },
  {
   "cell_type": "code",
   "execution_count": 6,
   "metadata": {},
   "outputs": [
    {
     "data": {
      "application/vnd.jupyter.widget-view+json": {
       "model_id": "706c6c5f025d41a0a518e151551cad26",
       "version_major": 2,
       "version_minor": 0
      },
      "text/plain": [
       "  0%|          | 0/25 [00:00<?, ?it/s]"
      ]
     },
     "metadata": {},
     "output_type": "display_data"
    },
    {
     "name": "stdout",
     "output_type": "stream",
     "text": [
      "Скачали 1214 вакансии. Найденное совпадает со скаченным? True\n",
      "CPU times: total: 1.25 s\n",
      "Wall time: 8.6 s\n"
     ]
    }
   ],
   "source": [
    "%%time\n",
    "## Данные о вакансиях\n",
    "\n",
    "vacancies = []\n",
    "\n",
    "for page in tqdm(range(count_page)):\n",
    "    url = f'https://api.hh.ru/vacancies?employer_id={sber}&page={page}&per_page={num_per_page}&area={moscow}'\n",
    "    res = requests.get(url)\n",
    "    vacancies += res.json()['items']\n",
    "    #time.sleep(3)\n",
    "\n",
    "\n",
    "print(f'Скачали {len(vacancies)} вакансии. Найденное совпадает со скаченным? {len(vacancies)==count_vac}')\n",
    "\n"
   ]
  },
  {
   "cell_type": "code",
   "execution_count": 7,
   "metadata": {},
   "outputs": [
    {
     "data": {
      "application/vnd.jupyter.widget-view+json": {
       "model_id": "8da8a92b8e1e420bb62e71f336918c26",
       "version_major": 2,
       "version_minor": 0
      },
      "text/plain": [
       "  0%|          | 0/1214 [00:00<?, ?it/s]"
      ]
     },
     "metadata": {},
     "output_type": "display_data"
    },
    {
     "name": "stdout",
     "output_type": "stream",
     "text": [
      "CPU times: total: 49.8 s\n",
      "Wall time: 3min 48s\n"
     ]
    }
   ],
   "source": [
    "%%time\n",
    "info_vacs = []\n",
    "vacancies_ids = [el['id'] for el in vacancies]\n",
    "\n",
    "for v_id in tqdm(vacancies_ids):\n",
    "    url = f'https://api.hh.ru/vacancies/{v_id}'\n",
    "    vac = requests.get(url).json()\n",
    "    info_vacs.append(vac)\n",
    "    time.sleep(0.01) # боремся с капчей (паузой показываю, что запрашивает человек)"
   ]
  },
  {
   "cell_type": "markdown",
   "metadata": {},
   "source": [
    "## Создайте аналогичный vacancy DataFrame только добавьте поле skills\n",
    "## Переведите даты публикаций в datetime"
   ]
  },
  {
   "cell_type": "code",
   "execution_count": 8,
   "metadata": {},
   "outputs": [
    {
     "name": "stdout",
     "output_type": "stream",
     "text": [
      "Кол-во строк в DataFrame 1214\n"
     ]
    }
   ],
   "source": [
    "df = pd.DataFrame()\n",
    "\n",
    "for col in vacancies[0].keys():\n",
    "    s = pd.Series([el[col] for el in vacancies])\n",
    "    df[col] = s\n",
    "\n",
    "print(f'Кол-во строк в DataFrame {df.shape[0]}')\n",
    "df['skills'] = pd.Series([el['key_skills'] for el in info_vacs])\n",
    "\n",
    "df['published_at']=pd.to_datetime(df['published_at'],format='%Y/%m/%d')\n",
    "df['published_at']=df['published_at'].dt.tz_localize(None)\n",
    "\n",
    "#df.to_excel('df_hh.xlsx')"
   ]
  },
  {
   "cell_type": "markdown",
   "metadata": {},
   "source": [
    "## Постройте график опубликованных вакансий по датам"
   ]
  },
  {
   "cell_type": "code",
   "execution_count": 9,
   "metadata": {},
   "outputs": [
    {
     "name": "stdout",
     "output_type": "stream",
     "text": [
      "График между датами 2022-07-04 08:57:22 и 2022-08-02 21:31:02\n"
     ]
    },
    {
     "data": {
      "text/plain": [
       "<AxesSubplot:>"
      ]
     },
     "execution_count": 9,
     "metadata": {},
     "output_type": "execute_result"
    },
    {
     "data": {
      "image/png": "[encoded data removed]",
      "text/plain": [
       "<Figure size 1440x360 with 1 Axes>"
      ]
     },
     "metadata": {
      "needs_background": "light"
     },
     "output_type": "display_data"
    }
   ],
   "source": [
    "print(f'График между датами ' + str(df['published_at'].min()) + ' и '+ str(df['published_at'].max()))\n",
    "\n",
    "df['published_at'].dt.date.hist(bins=20, figsize=(20, 5), xrot=70)"
   ]
  },
  {
   "cell_type": "markdown",
   "metadata": {},
   "source": [
    "### Переведите даты в дни недели, и определите день недели, в который больше всего публикуют вакансий"
   ]
  },
  {
   "cell_type": "code",
   "execution_count": 10,
   "metadata": {},
   "outputs": [
    {
     "data": {
      "image/png": "[encoded data removed]",
      "text/plain": [
       "<Figure size 432x288 with 1 Axes>"
      ]
     },
     "metadata": {
      "needs_background": "light"
     },
     "output_type": "display_data"
    }
   ],
   "source": [
    "df['day_of_week'] = df['published_at'].dt.day_of_week.hist(bins=7)"
   ]
  },
  {
   "cell_type": "code",
   "execution_count": 11,
   "metadata": {},
   "outputs": [
    {
     "data": {
      "text/plain": [
       "0   2022-07-27 13:48:51\n",
       "1   2022-07-27 11:48:44\n",
       "2   2022-08-01 11:49:46\n",
       "3   2022-08-02 10:44:14\n",
       "4   2022-07-29 11:49:00\n",
       "5   2022-08-02 16:57:19\n",
       "6   2022-08-02 11:15:17\n",
       "7   2022-07-19 12:11:11\n",
       "8   2022-07-25 11:16:06\n",
       "9   2022-07-17 16:24:19\n",
       "Name: published_at, dtype: datetime64[ns]"
      ]
     },
     "execution_count": 11,
     "metadata": {},
     "output_type": "execute_result"
    }
   ],
   "source": [
    "df['published_at'].head(10)"
   ]
  },
  {
   "cell_type": "code",
   "execution_count": 12,
   "metadata": {},
   "outputs": [
    {
     "name": "stdout",
     "output_type": "stream",
     "text": [
      "Кол-во строк в DataFrame 1214\n"
     ]
    }
   ],
   "source": [
    "print(f'Кол-во строк в DataFrame {df.shape[0]}')"
   ]
  },
  {
   "cell_type": "markdown",
   "metadata": {},
   "source": [
    "### Найдите те вакансии с использованием python, которые вам интересны"
   ]
  },
  {
   "cell_type": "code",
   "execution_count": 13,
   "metadata": {},
   "outputs": [],
   "source": [
    "df['skills_copy']=df['skills']"
   ]
  },
  {
   "cell_type": "code",
   "execution_count": 14,
   "metadata": {
    "scrolled": true
   },
   "outputs": [],
   "source": [
    "df['skills_copy']=df['skills_copy'].apply(lambda s: ','.join([x.get('name') for x in s]))\n",
    "df['skills_copy']=df['skills_copy'].str.lower()"
   ]
  },
  {
   "cell_type": "code",
   "execution_count": 15,
   "metadata": {},
   "outputs": [],
   "source": [
    "df['name']=df['name'].str.lower()\n",
    "df2=df[df['name'].str.contains('data analyst|аналитик данных|data engineer', na=False)]"
   ]
  },
  {
   "cell_type": "code",
   "execution_count": 16,
   "metadata": {},
   "outputs": [
    {
     "name": "stdout",
     "output_type": "stream",
     "text": [
      "Кол-во интересных мне вакансий по анализу данных с навыками SQL и Python 31\n"
     ]
    }
   ],
   "source": [
    "#df[['area','skills_copy']][(df['skills_copy'].str.=='sql'.upper())]\n",
    "C=df2[['area','skills_copy']][df2['skills_copy'].str.contains('sql|python', na=False)].count()[0]\n",
    "print(f'Кол-во интересных мне вакансий по анализу данных с навыками SQL и Python {C}')"
   ]
  },
  {
   "cell_type": "markdown",
   "metadata": {},
   "source": [
    "### Постройте график наиболее востребованных навыков для аналитика данных\n",
    "(какша, но получилось)"
   ]
  },
  {
   "cell_type": "code",
   "execution_count": 17,
   "metadata": {},
   "outputs": [],
   "source": [
    "res = []\n",
    "for x in df2['skills'].tolist():\n",
    "    res.extend(x if isinstance(x, list) else [x])"
   ]
  },
  {
   "cell_type": "code",
   "execution_count": 18,
   "metadata": {},
   "outputs": [
    {
     "name": "stdout",
     "output_type": "stream",
     "text": [
      "{'name': 'Python'}           25\n",
      "{'name': 'SQL'}              23\n",
      "{'name': 'Hadoop'}           18\n",
      "{'name': 'Spark'}            17\n",
      "{'name': 'SCALA'}             9\n",
      "{'name': 'Git'}               8\n",
      "{'name': 'Java'}              8\n",
      "{'name': 'Big Data'}          7\n",
      "{'name': 'Hive'}              6\n",
      "{'name': 'PostgreSQL'}        5\n",
      "{'name': 'Анализ данных'}     4\n",
      "{'name': 'hadoop'}            3\n",
      "{'name': 'ORACLE'}            3\n",
      "{'name': 'Teradata'}          3\n",
      "{'name': 'kafka'}             2\n",
      "{'name': 'Linux'}             2\n",
      "{'name': 'ETL'}               2\n",
      "{'name': 'Numpy'}             2\n",
      "{'name': 'Pandas'}            2\n",
      "{'name': 'Bash'}              2\n",
      "{'name': 'MS SQL'}            2\n",
      "dtype: int64\n"
     ]
    }
   ],
   "source": [
    "all_skills = pd.Series(res)\n",
    "print(all_skills.value_counts()[all_skills.value_counts() > 1])\n"
   ]
  },
  {
   "cell_type": "code",
   "execution_count": null,
   "metadata": {},
   "outputs": [],
   "source": []
  }
 ],
 "metadata": {
  "kernelspec": {
   "display_name": "Python 3 (ipykernel)",
   "language": "python",
   "name": "python3"
  },
  "language_info": {
   "codemirror_mode": {
    "name": "ipython",
    "version": 3
   },
   "file_extension": ".py",
   "mimetype": "text/x-python",
   "name": "python",
   "nbconvert_exporter": "python",
   "pygments_lexer": "ipython3",
   "version": "3.8.12"
  }
 },
 "nbformat": 4,
 "nbformat_minor": 4
}
