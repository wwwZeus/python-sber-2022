{
 "cells": [
  {
   "cell_type": "markdown",
   "metadata": {},
   "source": [
    " <font color=\"#339966\" face=\"Segoe UI Semibold\" size=\"5\">Начало:</font>"
   ]
  },
  {
   "cell_type": "code",
   "execution_count": 1,
   "metadata": {},
   "outputs": [],
   "source": [
    "# Необходимо установить следующие пакеты\n",
    "\n",
    "#!pip install distance\n",
    "#!pip install progressbar2"
   ]
  },
  {
   "cell_type": "code",
   "execution_count": 2,
   "metadata": {},
   "outputs": [],
   "source": [
    "#!/usr/bin/env python3\n",
    "# @hidden_cell\n",
    "#coding: utf-8\n",
    "import datetime, time\n",
    "import math as m\n",
    "from IPython.display import Javascript\n",
    "from IPython.display import display\n",
    "from IPython.display import HTML\n",
    "import sys, os\n",
    "import warnings\n",
    "import numpy as np\n",
    "import pandas as pd\n",
    "import progressbar #необходимо установить\n",
    "from math import radians, cos, sin, asin, sqrt\n",
    "from datetime import timedelta\n",
    "import requests, json\n",
    "import winsound\n",
    "from scipy.spatial.distance import pdist, squareform\n",
    "from sklearn.cluster import DBSCAN\n",
    "import codecs, difflib, distance #необходимо установить distance"
   ]
  },
  {
   "cell_type": "code",
   "execution_count": 3,
   "metadata": {},
   "outputs": [],
   "source": [
    "def Way(lat_Start,lon_Start,lat_Finish, lon_Finish,ID,Step,TIME):\n",
    "    \"\"\"\n",
    "    Процедура для эмуляции html-страницы\n",
    "    \"\"\"\n",
    "    \n",
    "    js2 = \"\"\"\n",
    "    var start_point = [\"\"\"+lat_Start+\"\"\", \"\"\"+lon_Start+\"\"\"];\n",
    "    var end_point = [\"\"\"+lat_Finish+\"\"\", \"\"\"+lon_Finish+\"\"\"];\n",
    "    ymaps.ready(function () {\n",
    "    var theEl=document.getElementById(\"output\");    \n",
    "    ymaps.route([start_point, end_point], {\n",
    "            mapStateAutoApply: false,\n",
    "            avoidTrafficJams: false,\n",
    "            multiRoute: false,\n",
    "            routingMode: \"auto\",\n",
    "            viaIndexes: []\n",
    "        }).then(function (route) {\n",
    "            var points = route.getWayPoints();  \n",
    "            theEl.innerHTML = theEl.innerHTML+'\"\"\"+str(ID)+\"\"\"'+'|'+start_point+'; '+end_point+'|Расстояние --'+route.getHumanLength() + '|'+route.getLength()+'|'+ route.getJamsTime() + '|'+ route.getTime()+ '|'+\"\"\"+str(Step)+\"\"\"+'|'+\"\"\"+str(TIME)+\"\"\"+'\\\\r\\\\n';\n",
    "        }, function (error) {\n",
    "        theEl.innerHTML = theEl.innerHTML+'\"\"\"+str(ID)+\"\"\"'+'||||||' +\"\"\"+str(Step)+\"\"\"+'|'+\"\"\"+str(TIME)+\"\"\"+'\\\\r\\\\n';\n",
    "    });\n",
    "    });\n",
    "    \"\"\"\n",
    "    jj=Javascript(js2)\n",
    "    display(jj)\n",
    "    \n",
    "def haversine(lonlat1, lonlat2):\n",
    "    \"\"\"\n",
    "    Вычисляет прямое расстояние между двумя точками на карте на основании координат\n",
    "    \"\"\"\n",
    "    lat1, lon1 = lonlat1\n",
    "    lat2, lon2 = lonlat2\n",
    "    lon1, lat1, lon2, lat2 = map(radians, [lon1, lat1, lon2, lat2])\n",
    "\n",
    "    dlon = lon2 - lon1 \n",
    "    dlat = lat2 - lat1 \n",
    "    a = sin(dlat/2)**2 + cos(lat1) * cos(lat2) * sin(dlon/2)**2\n",
    "    c = 2 * asin(sqrt(a)) \n",
    "    r = 6371 # Средний радиус Земли в километрах\n",
    "    return c * r"
   ]
  },
  {
   "cell_type": "code",
   "execution_count": 4,
   "metadata": {},
   "outputs": [],
   "source": [
    "YandexHTTPGeocoderKey = '23aa748e-b261-49a3-8e25-a353715fdb8c' # API клюс Яндекса категории \"JavaScript API и HTTP Геокодер\"\n",
    "YandexHTTPGeocoderKey2 ='ad87feb5-1f0e-4a8c-8c4e-3f8718d0a22e' # API клюс Яндекса категории \"JavaScript API и HTTP Геокодер\" Ксюша\n",
    "\n",
    "YandexHTTPGeocoderKey4 = 'cf1818ff-f029-408e-8a91-e4e223ad6693' # API клюс Яндекса категории \"JavaScript API и HTTP Геокодер\" Мама, na.tolyupa\n",
    "\n",
    "s=\"\"\"\n",
    "<!DOCTYPE HTML PUBLIC \"-//W3C//DTD HTML 4.01 Transitional//EN\">\n",
    "<HEAD>\n",
    "    <TITLE>Заголовок</TITLE>\n",
    "    <META HTTP-EQUIV=\"Content-Type\" CONTENT=\"text/html; charset=windows-1251\">\n",
    "</head>\n",
    "\n",
    "<script src=\"https://api-maps.yandex.ru/2.1/?apikey=\"\"\"+str(YandexHTTPGeocoderKey4)+\"\"\"&lang=ru_RU\"></script>\n",
    "<script type=\"text/javascript\" src=\"jquery-1.3.1.min.js\" ></script>\n",
    "<script type=\"text/javascript\">  \n",
    "    var myOutput=document.getElementById(\"downloadfile\")\n",
    "\n",
    "</script>\n",
    "\n",
    "<body>\n",
    "    <div hidden id=\"output\"></div>\n",
    "    <div id=\"downloadfile\"></div>\n",
    "</body>\n",
    "\"\"\""
   ]
  },
  {
   "cell_type": "markdown",
   "metadata": {},
   "source": [
    " <font color=\"#339966\" face=\"Segoe UI Semibold\" size=\"5\">Входные данные:</font>"
   ]
  },
  {
   "cell_type": "code",
   "execution_count": 5,
   "metadata": {},
   "outputs": [],
   "source": [
    "СollateralFile = \"A_part1.txt\" # файл, где хранятся данные об Объекте залога\n",
    "SberbankAdress = \"SBPointMSK.txt\" # файл, где хранятся данные о рабочих адресах сотрудников ПМЗ\n",
    "TimeSleep = 0.05 # Пауза при обрадотка данных, в секундах <font color=\"#339966\" face=\"Segoe UI\" size=\"4\">Обработка данных:</font>"
   ]
  },
  {
   "cell_type": "code",
   "execution_count": 6,
   "metadata": {},
   "outputs": [],
   "source": [
    "frame = pd.read_csv(СollateralFile, header=None, sep='|',encoding='utf-8')\n",
    "sbp = pd.read_csv(SberbankAdress, header=None, sep='|',encoding='cp1251')\n",
    "frame['index']=frame.index; sbp['index']=sbp.index;\n",
    "frame['stateSB']=frame['latSB']=frame['lngSB']=frame['latZ']=frame['lngZ']=0\n",
    "frame['zalogstate']=frame['zalogaddress']=frame['km']=frame['time_jams']=frame['day']=frame['day_num']=frame['day_km']=frame['time_arrival']=frame['accuracy']=frame['quality']=frame['ok']=np.nan\n",
    "sbp['lat']=sbp['lng']=sbp['rez']=np.nan\n",
    "\n",
    "frame.rename(columns={0: 'sb', 1: 'zalog',2:'time',3:'num'}, inplace=True)\n",
    "sbp.rename(columns={0: 'sb'}, inplace=True)"
   ]
  },
  {
   "cell_type": "markdown",
   "metadata": {},
   "source": [
    " <font color=\"#339966\" face=\"Segoe UI Semibold\" size=\"5\">Обработка данных:</font>"
   ]
  },
  {
   "cell_type": "code",
   "execution_count": 7,
   "metadata": {},
   "outputs": [
    {
     "name": "stdout",
     "output_type": "stream",
     "text": [
      "Текущее время:  2022-11-13 11:38\n"
     ]
    },
    {
     "name": "stderr",
     "output_type": "stream",
     "text": [
      "100% (59 of 59) |########################| Elapsed Time: 0:00:19 Time:  0:00:19\n"
     ]
    },
    {
     "name": "stdout",
     "output_type": "stream",
     "text": [
      "Время выполнения:  0:00:19.318123\n"
     ]
    }
   ],
   "source": [
    "now = datetime.datetime.now()\n",
    "print ('Текущее время: ',now.strftime(\"%Y-%m-%d %H:%M\"))\n",
    "\n",
    "start = datetime.datetime.now()\n",
    "bar = progressbar.ProgressBar(max_value=frame['sb'].count())\n",
    "\n",
    "#num_start = 3059\n",
    "#num_finish = 3663\n",
    "#i=num_start\n",
    "\n",
    "i=0 #комментировать если обсчет не всего массива\n",
    "for row,row1 in zip(frame['zalog'],frame['sb']): #комментировать если обсчет не всего массива\n",
    "    time.sleep(TimeSleep)\n",
    "    try:\n",
    "        g = requests.get('https://geocode-maps.yandex.ru/1.x/?apikey='+YandexHTTPGeocoderKey+'&geocode='+row+'&format=json&results=1')\n",
    "    except:\n",
    "        i+=1\n",
    "        time.sleep(TimeSleep)\n",
    "        continue\n",
    "    time.sleep(TimeSleep)\n",
    "        \n",
    "    if int(g.json()['response']['GeoObjectCollection']['metaDataProperty']['GeocoderResponseMetaData']['found'])>0:\n",
    "        for result in range(int(g.json()['response']['GeoObjectCollection']['metaDataProperty']['GeocoderResponseMetaData']['results'])):\n",
    "            frame.loc[i,'latZ'] = g.json()['response']['GeoObjectCollection']['featureMember'][0]['GeoObject']['Point']['pos'].split(\" \")[1]\n",
    "            frame.loc[i,'lngZ'] = g.json()['response']['GeoObjectCollection']['featureMember'][0]['GeoObject']['Point']['pos'].split(\" \")[0]\n",
    "            frame.loc[i,'zalogaddress'] = g.json()['response']['GeoObjectCollection']['featureMember'][0]['GeoObject']['metaDataProperty']['GeocoderMetaData']['text']\n",
    "            frame.loc[i,'accuracy'] = g.json()['response']['GeoObjectCollection']['featureMember'][0]['GeoObject']['metaDataProperty']['GeocoderMetaData']['precision']\n",
    "            frame.loc[i,'quality'] = g.json()['response']['GeoObjectCollection']['featureMember'][0]['GeoObject']['metaDataProperty']['GeocoderMetaData']['kind']\n",
    "            try:\n",
    "                frame.loc[i,'zalogstate'] = g.json()['response']['GeoObjectCollection']['featureMember'][0]['GeoObject']['metaDataProperty']['GeocoderMetaData']['Address']['Components'][2]['name']\n",
    "            except:\n",
    "                frame.loc[i,'zalogstate'] = '-'\n",
    "            frame.loc[i,'ok'] = g.json()['response']['GeoObjectCollection']['featureMember'][0]['GeoObject']['Point']['pos']   \n",
    "    i+=1\n",
    "    bar.update(i)\n",
    "bar.finish()        \n",
    "finish = datetime.datetime.now()\n",
    "\n",
    "print ('Время выполнения: ', (finish-start))#.strftime(\"%d-%m-%Y %H:%M\")"
   ]
  },
  {
   "cell_type": "markdown",
   "metadata": {},
   "source": [
    " <font color=\"#339966\" face=\"Segoe UI Semibold\" size=\"5\">Обработка Адресов Сбербанка:</font>"
   ]
  },
  {
   "cell_type": "code",
   "execution_count": 8,
   "metadata": {},
   "outputs": [
    {
     "name": "stderr",
     "output_type": "stream",
     "text": [
      "\r",
      "  0% (0 of 39) |                         | Elapsed Time: 0:00:00 ETA:  --:--:--"
     ]
    },
    {
     "name": "stdout",
     "output_type": "stream",
     "text": [
      "Текущее время:  2022-11-13 11:39\n"
     ]
    },
    {
     "name": "stderr",
     "output_type": "stream",
     "text": [
      "100% (39 of 39) |########################| Elapsed Time: 0:00:07 Time:  0:00:07\n"
     ]
    },
    {
     "name": "stdout",
     "output_type": "stream",
     "text": [
      "Время выполнения:  0:00:07.692972\n"
     ]
    }
   ],
   "source": [
    "print ('Текущее время: ', datetime.datetime.now().strftime(\"%Y-%m-%d %H:%M\"))\n",
    "start = datetime.datetime.now()\n",
    "bar = progressbar.ProgressBar(max_value=sbp['sb'].count())\n",
    "i=0\n",
    "for row in sbp['sb']:\n",
    "    try:\n",
    "        g = requests.get('https://geocode-maps.yandex.ru/1.x/?apikey='+YandexHTTPGeocoderKey2+'&geocode='+row+'&format=json&results=1')\n",
    "    except:\n",
    "        i+=1\n",
    "        time.sleep(TimeSleep)\n",
    "        continue \n",
    "        \n",
    "    if int(g.json()['response']['GeoObjectCollection']['metaDataProperty']['GeocoderResponseMetaData']['found'])>0:\n",
    "        sbp.loc[i,'lat']=g.json()['response']['GeoObjectCollection']['featureMember'][0]['GeoObject']['Point']['pos'].split(\" \")[1]\n",
    "        sbp.loc[i,'lng'] = g.json()['response']['GeoObjectCollection']['featureMember'][0]['GeoObject']['Point']['pos'].split(\" \")[0]\n",
    "        sbp.loc[i,'rez'] = g.json()['response']['GeoObjectCollection']['featureMember'][0]['GeoObject']['metaDataProperty']['GeocoderMetaData']['precision']\n",
    "    bar.update(i)\n",
    "    i+=1\n",
    "bar.finish() \n",
    "\n",
    "finish = datetime.datetime.now()\n",
    "print ('Время выполнения: ', (finish-start))"
   ]
  },
  {
   "cell_type": "code",
   "execution_count": 9,
   "metadata": {},
   "outputs": [
    {
     "name": "stdout",
     "output_type": "stream",
     "text": [
      "Текущее время:  2022-11-13 11:39\n",
      "2301\n",
      "Время выполнения:  0:00:00.131016\n"
     ]
    }
   ],
   "source": [
    "print ('Текущее время: ', datetime.datetime.now().strftime(\"%Y-%m-%d %H:%M\"))\n",
    "start = datetime.datetime.now()\n",
    "near = pd.DataFrame([])\n",
    "near['index']=near['latZ']=near['lngZ']=0;\n",
    "near['localaddress1']=near['km_s1']=near['lat_s1']=near['lng_s1']=np.nan\n",
    "near['localaddress2']=near['km_s2']=near['lat_s2']=near['lng_s2']=np.nan\n",
    "near['localaddress3']=near['km_s3']=near['lat_s3']=near['lng_s3']=np.nan\n",
    "near['localaddress4']=near['km_s4']=near['lat_s4']=near['lng_s4']=np.nan\n",
    "near['localaddress5']=near['km_s5']=near['lat_s5']=near['lng_s5']=np.nan\n",
    "nn=0\n",
    "for i in range(frame.shape[0]):\n",
    "    KM=[]\n",
    "    for j in range(sbp.shape[0]):\n",
    "        nn+=1\n",
    "        lat1=float(frame.loc[i,'latZ']); lon1=float(frame.loc[i,'lngZ']); lat2=float(sbp.loc[j,'lat']); lon2=float(sbp.loc[j,'lng']);\n",
    "        lon1, lat1, lon2, lat2 = map(radians, (lon1, lat1, lon2, lat2))\n",
    "        a = sin((lat2-lat1)/2) ** 2 + cos(lat1) * cos(lat2) * sin((lon2-lon1)/2) ** 2\n",
    "        km = 2*asin(sqrt(a))*6367.0\n",
    "        KM.append((round(km,2),sbp.loc[j,'sb'],sbp.loc[j,'lat'],sbp.loc[j,'lng']))\n",
    "    KM.sort(key=lambda x: x[0])\n",
    "    near.loc[i,'index']=frame.loc[i,'index']; near.loc[i,'latZ']=frame.loc[i,'latZ']; near.loc[i,'lngZ']=frame.loc[i,'lngZ'];\n",
    "    near.loc[i,'km_s1']=float(KM[0][0]); near.loc[i,'localaddress1']=KM[0][1]; near.loc[i,'lat_s1']=KM[0][2]; near.loc[i,'lng_s1']=KM[0][3];\n",
    "    near.loc[i,'km_s2']=float(KM[1][0]); near.loc[i,'localaddress2']=KM[1][1]; near.loc[i,'lat_s2']=KM[1][2]; near.loc[i,'lng_s2']=KM[1][3];\n",
    "    near.loc[i,'km_s3']=float(KM[2][0]); near.loc[i,'localaddress3']=KM[2][1]; near.loc[i,'lat_s3']=KM[2][2]; near.loc[i,'lng_s3']=KM[2][3];\n",
    "    near.loc[i,'km_s4']=float(KM[3][0]); near.loc[i,'localaddress4']=KM[3][1]; near.loc[i,'lat_s4']=KM[3][2]; near.loc[i,'lng_s4']=KM[3][3];\n",
    "    near.loc[i,'km_s5']=float(KM[4][0]); near.loc[i,'localaddress5']=KM[4][1]; near.loc[i,'lat_s5']=KM[4][2]; near.loc[i,'lng_s5']=KM[4][3];\n",
    "print (nn)\n",
    "finish = datetime.datetime.now()\n",
    "print ('Время выполнения: ', (finish-start))#.strftime(\"%d-%m-%Y %H:%M\")"
   ]
  },
  {
   "cell_type": "code",
   "execution_count": 10,
   "metadata": {},
   "outputs": [
    {
     "data": {
      "text/html": [
       "\n",
       "<!DOCTYPE HTML PUBLIC \"-//W3C//DTD HTML 4.01 Transitional//EN\">\n",
       "<HEAD>\n",
       "    <TITLE>Заголовок</TITLE>\n",
       "    <META HTTP-EQUIV=\"Content-Type\" CONTENT=\"text/html; charset=windows-1251\">\n",
       "</head>\n",
       "\n",
       "<script src=\"https://api-maps.yandex.ru/2.1/?apikey=cf1818ff-f029-408e-8a91-e4e223ad6693&lang=ru_RU\"></script>\n",
       "<script type=\"text/javascript\" src=\"jquery-1.3.1.min.js\" ></script>\n",
       "<script type=\"text/javascript\">  \n",
       "    var myOutput=document.getElementById(\"downloadfile\")\n",
       "\n",
       "</script>\n",
       "\n",
       "<body>\n",
       "    <div hidden id=\"output\"></div>\n",
       "    <div id=\"downloadfile\"></div>\n",
       "</body>\n"
      ],
      "text/plain": [
       "<IPython.core.display.HTML object>"
      ]
     },
     "metadata": {},
     "output_type": "display_data"
    }
   ],
   "source": [
    "h = HTML(s)\n",
    "f=display(h)"
   ]
  },
  {
   "cell_type": "code",
   "execution_count": 11,
   "metadata": {},
   "outputs": [
    {
     "name": "stdout",
     "output_type": "stream",
     "text": [
      "Подождите, пожалуйста. Анализ маршрутов займет примерно 0.8261166666666667 мин...\n",
      "Выполняется шаг 1. Начало 2022-11-13 11:39:20.913455\n"
     ]
    },
    {
     "data": {
      "application/javascript": [
       "\n",
       "    var start_point = [0, 0];\n",
       "    var end_point = [57.465109, 40.552827];\n",
       "    ymaps.ready(function () {\n",
       "    var theEl=document.getElementById(\"output\");    \n",
       "    ymaps.route([start_point, end_point], {\n",
       "            mapStateAutoApply: false,\n",
       "            avoidTrafficJams: false,\n",
       "            multiRoute: false,\n",
       "            routingMode: \"auto\",\n",
       "            viaIndexes: []\n",
       "        }).then(function (route) {\n",
       "            var points = route.getWayPoints();  \n",
       "            theEl.innerHTML = theEl.innerHTML+'0'+'|'+start_point+'; '+end_point+'|Расстояние --'+route.getHumanLength() + '|'+route.getLength()+'|'+ route.getJamsTime() + '|'+ route.getTime()+ '|'+0+'|'+202211131139+'\\r\\n';\n",
       "        }, function (error) {\n",
       "        theEl.innerHTML = theEl.innerHTML+'0'+'||||||' +0+'|'+202211131139+'\\r\\n';\n",
       "    });\n",
       "    });\n",
       "    "
      ],
      "text/plain": [
       "<IPython.core.display.Javascript object>"
      ]
     },
     "metadata": {},
     "output_type": "display_data"
    },
    {
     "data": {
      "application/javascript": [
       "\n",
       "    var start_point = [0, 0];\n",
       "    var end_point = [55.754568, 37.609586];\n",
       "    ymaps.ready(function () {\n",
       "    var theEl=document.getElementById(\"output\");    \n",
       "    ymaps.route([start_point, end_point], {\n",
       "            mapStateAutoApply: false,\n",
       "            avoidTrafficJams: false,\n",
       "            multiRoute: false,\n",
       "            routingMode: \"auto\",\n",
       "            viaIndexes: []\n",
       "        }).then(function (route) {\n",
       "            var points = route.getWayPoints();  \n",
       "            theEl.innerHTML = theEl.innerHTML+'1'+'|'+start_point+'; '+end_point+'|Расстояние --'+route.getHumanLength() + '|'+route.getLength()+'|'+ route.getJamsTime() + '|'+ route.getTime()+ '|'+0+'|'+202211131139+'\\r\\n';\n",
       "        }, function (error) {\n",
       "        theEl.innerHTML = theEl.innerHTML+'1'+'||||||' +0+'|'+202211131139+'\\r\\n';\n",
       "    });\n",
       "    });\n",
       "    "
      ],
      "text/plain": [
       "<IPython.core.display.Javascript object>"
      ]
     },
     "metadata": {},
     "output_type": "display_data"
    },
    {
     "data": {
      "application/javascript": [
       "\n",
       "    var start_point = [0, 0];\n",
       "    var end_point = [56.824809, 41.400594];\n",
       "    ymaps.ready(function () {\n",
       "    var theEl=document.getElementById(\"output\");    \n",
       "    ymaps.route([start_point, end_point], {\n",
       "            mapStateAutoApply: false,\n",
       "            avoidTrafficJams: false,\n",
       "            multiRoute: false,\n",
       "            routingMode: \"auto\",\n",
       "            viaIndexes: []\n",
       "        }).then(function (route) {\n",
       "            var points = route.getWayPoints();  \n",
       "            theEl.innerHTML = theEl.innerHTML+'2'+'|'+start_point+'; '+end_point+'|Расстояние --'+route.getHumanLength() + '|'+route.getLength()+'|'+ route.getJamsTime() + '|'+ route.getTime()+ '|'+0+'|'+202211131139+'\\r\\n';\n",
       "        }, function (error) {\n",
       "        theEl.innerHTML = theEl.innerHTML+'2'+'||||||' +0+'|'+202211131139+'\\r\\n';\n",
       "    });\n",
       "    });\n",
       "    "
      ],
      "text/plain": [
       "<IPython.core.display.Javascript object>"
      ]
     },
     "metadata": {},
     "output_type": "display_data"
    },
    {
     "data": {
      "application/javascript": [
       "\n",
       "    var start_point = [0, 0];\n",
       "    var end_point = [56.828217, 41.408652];\n",
       "    ymaps.ready(function () {\n",
       "    var theEl=document.getElementById(\"output\");    \n",
       "    ymaps.route([start_point, end_point], {\n",
       "            mapStateAutoApply: false,\n",
       "            avoidTrafficJams: false,\n",
       "            multiRoute: false,\n",
       "            routingMode: \"auto\",\n",
       "            viaIndexes: []\n",
       "        }).then(function (route) {\n",
       "            var points = route.getWayPoints();  \n",
       "            theEl.innerHTML = theEl.innerHTML+'3'+'|'+start_point+'; '+end_point+'|Расстояние --'+route.getHumanLength() + '|'+route.getLength()+'|'+ route.getJamsTime() + '|'+ route.getTime()+ '|'+0+'|'+202211131139+'\\r\\n';\n",
       "        }, function (error) {\n",
       "        theEl.innerHTML = theEl.innerHTML+'3'+'||||||' +0+'|'+202211131139+'\\r\\n';\n",
       "    });\n",
       "    });\n",
       "    "
      ],
      "text/plain": [
       "<IPython.core.display.Javascript object>"
      ]
     },
     "metadata": {},
     "output_type": "display_data"
    },
    {
     "data": {
      "application/javascript": [
       "\n",
       "    var start_point = [0, 0];\n",
       "    var end_point = [56.965923, 41.018989];\n",
       "    ymaps.ready(function () {\n",
       "    var theEl=document.getElementById(\"output\");    \n",
       "    ymaps.route([start_point, end_point], {\n",
       "            mapStateAutoApply: false,\n",
       "            avoidTrafficJams: false,\n",
       "            multiRoute: false,\n",
       "            routingMode: \"auto\",\n",
       "            viaIndexes: []\n",
       "        }).then(function (route) {\n",
       "            var points = route.getWayPoints();  \n",
       "            theEl.innerHTML = theEl.innerHTML+'4'+'|'+start_point+'; '+end_point+'|Расстояние --'+route.getHumanLength() + '|'+route.getLength()+'|'+ route.getJamsTime() + '|'+ route.getTime()+ '|'+0+'|'+202211131139+'\\r\\n';\n",
       "        }, function (error) {\n",
       "        theEl.innerHTML = theEl.innerHTML+'4'+'||||||' +0+'|'+202211131139+'\\r\\n';\n",
       "    });\n",
       "    });\n",
       "    "
      ],
      "text/plain": [
       "<IPython.core.display.Javascript object>"
      ]
     },
     "metadata": {},
     "output_type": "display_data"
    },
    {
     "data": {
      "application/javascript": [
       "\n",
       "    var start_point = [0, 0];\n",
       "    var end_point = [55.531132, 38.874756];\n",
       "    ymaps.ready(function () {\n",
       "    var theEl=document.getElementById(\"output\");    \n",
       "    ymaps.route([start_point, end_point], {\n",
       "            mapStateAutoApply: false,\n",
       "            avoidTrafficJams: false,\n",
       "            multiRoute: false,\n",
       "            routingMode: \"auto\",\n",
       "            viaIndexes: []\n",
       "        }).then(function (route) {\n",
       "            var points = route.getWayPoints();  \n",
       "            theEl.innerHTML = theEl.innerHTML+'5'+'|'+start_point+'; '+end_point+'|Расстояние --'+route.getHumanLength() + '|'+route.getLength()+'|'+ route.getJamsTime() + '|'+ route.getTime()+ '|'+0+'|'+202211131139+'\\r\\n';\n",
       "        }, function (error) {\n",
       "        theEl.innerHTML = theEl.innerHTML+'5'+'||||||' +0+'|'+202211131139+'\\r\\n';\n",
       "    });\n",
       "    });\n",
       "    "
      ],
      "text/plain": [
       "<IPython.core.display.Javascript object>"
      ]
     },
     "metadata": {},
     "output_type": "display_data"
    },
    {
     "data": {
      "application/javascript": [
       "\n",
       "    var start_point = [0, 0];\n",
       "    var end_point = [55.083575, 33.071001];\n",
       "    ymaps.ready(function () {\n",
       "    var theEl=document.getElementById(\"output\");    \n",
       "    ymaps.route([start_point, end_point], {\n",
       "            mapStateAutoApply: false,\n",
       "            avoidTrafficJams: false,\n",
       "            multiRoute: false,\n",
       "            routingMode: \"auto\",\n",
       "            viaIndexes: []\n",
       "        }).then(function (route) {\n",
       "            var points = route.getWayPoints();  \n",
       "            theEl.innerHTML = theEl.innerHTML+'6'+'|'+start_point+'; '+end_point+'|Расстояние --'+route.getHumanLength() + '|'+route.getLength()+'|'+ route.getJamsTime() + '|'+ route.getTime()+ '|'+0+'|'+202211131139+'\\r\\n';\n",
       "        }, function (error) {\n",
       "        theEl.innerHTML = theEl.innerHTML+'6'+'||||||' +0+'|'+202211131139+'\\r\\n';\n",
       "    });\n",
       "    });\n",
       "    "
      ],
      "text/plain": [
       "<IPython.core.display.Javascript object>"
      ]
     },
     "metadata": {},
     "output_type": "display_data"
    },
    {
     "data": {
      "application/javascript": [
       "\n",
       "    var start_point = [0, 0];\n",
       "    var end_point = [54.811892, 32.024257];\n",
       "    ymaps.ready(function () {\n",
       "    var theEl=document.getElementById(\"output\");    \n",
       "    ymaps.route([start_point, end_point], {\n",
       "            mapStateAutoApply: false,\n",
       "            avoidTrafficJams: false,\n",
       "            multiRoute: false,\n",
       "            routingMode: \"auto\",\n",
       "            viaIndexes: []\n",
       "        }).then(function (route) {\n",
       "            var points = route.getWayPoints();  \n",
       "            theEl.innerHTML = theEl.innerHTML+'7'+'|'+start_point+'; '+end_point+'|Расстояние --'+route.getHumanLength() + '|'+route.getLength()+'|'+ route.getJamsTime() + '|'+ route.getTime()+ '|'+0+'|'+202211131139+'\\r\\n';\n",
       "        }, function (error) {\n",
       "        theEl.innerHTML = theEl.innerHTML+'7'+'||||||' +0+'|'+202211131139+'\\r\\n';\n",
       "    });\n",
       "    });\n",
       "    "
      ],
      "text/plain": [
       "<IPython.core.display.Javascript object>"
      ]
     },
     "metadata": {},
     "output_type": "display_data"
    },
    {
     "data": {
      "application/javascript": [
       "\n",
       "    var start_point = [0, 0];\n",
       "    var end_point = [54.009909, 38.27434];\n",
       "    ymaps.ready(function () {\n",
       "    var theEl=document.getElementById(\"output\");    \n",
       "    ymaps.route([start_point, end_point], {\n",
       "            mapStateAutoApply: false,\n",
       "            avoidTrafficJams: false,\n",
       "            multiRoute: false,\n",
       "            routingMode: \"auto\",\n",
       "            viaIndexes: []\n",
       "        }).then(function (route) {\n",
       "            var points = route.getWayPoints();  \n",
       "            theEl.innerHTML = theEl.innerHTML+'8'+'|'+start_point+'; '+end_point+'|Расстояние --'+route.getHumanLength() + '|'+route.getLength()+'|'+ route.getJamsTime() + '|'+ route.getTime()+ '|'+0+'|'+202211131139+'\\r\\n';\n",
       "        }, function (error) {\n",
       "        theEl.innerHTML = theEl.innerHTML+'8'+'||||||' +0+'|'+202211131139+'\\r\\n';\n",
       "    });\n",
       "    });\n",
       "    "
      ],
      "text/plain": [
       "<IPython.core.display.Javascript object>"
      ]
     },
     "metadata": {},
     "output_type": "display_data"
    },
    {
     "data": {
      "application/javascript": [
       "\n",
       "    var start_point = [0, 0];\n",
       "    var end_point = [55.818776, 37.521354];\n",
       "    ymaps.ready(function () {\n",
       "    var theEl=document.getElementById(\"output\");    \n",
       "    ymaps.route([start_point, end_point], {\n",
       "            mapStateAutoApply: false,\n",
       "            avoidTrafficJams: false,\n",
       "            multiRoute: false,\n",
       "            routingMode: \"auto\",\n",
       "            viaIndexes: []\n",
       "        }).then(function (route) {\n",
       "            var points = route.getWayPoints();  \n",
       "            theEl.innerHTML = theEl.innerHTML+'9'+'|'+start_point+'; '+end_point+'|Расстояние --'+route.getHumanLength() + '|'+route.getLength()+'|'+ route.getJamsTime() + '|'+ route.getTime()+ '|'+0+'|'+202211131139+'\\r\\n';\n",
       "        }, function (error) {\n",
       "        theEl.innerHTML = theEl.innerHTML+'9'+'||||||' +0+'|'+202211131139+'\\r\\n';\n",
       "    });\n",
       "    });\n",
       "    "
      ],
      "text/plain": [
       "<IPython.core.display.Javascript object>"
      ]
     },
     "metadata": {},
     "output_type": "display_data"
    },
    {
     "data": {
      "application/javascript": [
       "\n",
       "    var start_point = [0, 0];\n",
       "    var end_point = [54.157576, 37.582071];\n",
       "    ymaps.ready(function () {\n",
       "    var theEl=document.getElementById(\"output\");    \n",
       "    ymaps.route([start_point, end_point], {\n",
       "            mapStateAutoApply: false,\n",
       "            avoidTrafficJams: false,\n",
       "            multiRoute: false,\n",
       "            routingMode: \"auto\",\n",
       "            viaIndexes: []\n",
       "        }).then(function (route) {\n",
       "            var points = route.getWayPoints();  \n",
       "            theEl.innerHTML = theEl.innerHTML+'10'+'|'+start_point+'; '+end_point+'|Расстояние --'+route.getHumanLength() + '|'+route.getLength()+'|'+ route.getJamsTime() + '|'+ route.getTime()+ '|'+0+'|'+202211131139+'\\r\\n';\n",
       "        }, function (error) {\n",
       "        theEl.innerHTML = theEl.innerHTML+'10'+'||||||' +0+'|'+202211131139+'\\r\\n';\n",
       "    });\n",
       "    });\n",
       "    "
      ],
      "text/plain": [
       "<IPython.core.display.Javascript object>"
      ]
     },
     "metadata": {},
     "output_type": "display_data"
    },
    {
     "data": {
      "application/javascript": [
       "\n",
       "    var start_point = [0, 0];\n",
       "    var end_point = [55.568329, 37.596758];\n",
       "    ymaps.ready(function () {\n",
       "    var theEl=document.getElementById(\"output\");    \n",
       "    ymaps.route([start_point, end_point], {\n",
       "            mapStateAutoApply: false,\n",
       "            avoidTrafficJams: false,\n",
       "            multiRoute: false,\n",
       "            routingMode: \"auto\",\n",
       "            viaIndexes: []\n",
       "        }).then(function (route) {\n",
       "            var points = route.getWayPoints();  \n",
       "            theEl.innerHTML = theEl.innerHTML+'11'+'|'+start_point+'; '+end_point+'|Расстояние --'+route.getHumanLength() + '|'+route.getLength()+'|'+ route.getJamsTime() + '|'+ route.getTime()+ '|'+0+'|'+202211131139+'\\r\\n';\n",
       "        }, function (error) {\n",
       "        theEl.innerHTML = theEl.innerHTML+'11'+'||||||' +0+'|'+202211131139+'\\r\\n';\n",
       "    });\n",
       "    });\n",
       "    "
      ],
      "text/plain": [
       "<IPython.core.display.Javascript object>"
      ]
     },
     "metadata": {},
     "output_type": "display_data"
    },
    {
     "data": {
      "application/javascript": [
       "\n",
       "    var start_point = [0, 0];\n",
       "    var end_point = [54.781052, 35.926916];\n",
       "    ymaps.ready(function () {\n",
       "    var theEl=document.getElementById(\"output\");    \n",
       "    ymaps.route([start_point, end_point], {\n",
       "            mapStateAutoApply: false,\n",
       "            avoidTrafficJams: false,\n",
       "            multiRoute: false,\n",
       "            routingMode: \"auto\",\n",
       "            viaIndexes: []\n",
       "        }).then(function (route) {\n",
       "            var points = route.getWayPoints();  \n",
       "            theEl.innerHTML = theEl.innerHTML+'12'+'|'+start_point+'; '+end_point+'|Расстояние --'+route.getHumanLength() + '|'+route.getLength()+'|'+ route.getJamsTime() + '|'+ route.getTime()+ '|'+0+'|'+202211131139+'\\r\\n';\n",
       "        }, function (error) {\n",
       "        theEl.innerHTML = theEl.innerHTML+'12'+'||||||' +0+'|'+202211131139+'\\r\\n';\n",
       "    });\n",
       "    });\n",
       "    "
      ],
      "text/plain": [
       "<IPython.core.display.Javascript object>"
      ]
     },
     "metadata": {},
     "output_type": "display_data"
    },
    {
     "data": {
      "application/javascript": [
       "\n",
       "    var start_point = [0, 0];\n",
       "    var end_point = [54.76957, 32.070511];\n",
       "    ymaps.ready(function () {\n",
       "    var theEl=document.getElementById(\"output\");    \n",
       "    ymaps.route([start_point, end_point], {\n",
       "            mapStateAutoApply: false,\n",
       "            avoidTrafficJams: false,\n",
       "            multiRoute: false,\n",
       "            routingMode: \"auto\",\n",
       "            viaIndexes: []\n",
       "        }).then(function (route) {\n",
       "            var points = route.getWayPoints();  \n",
       "            theEl.innerHTML = theEl.innerHTML+'13'+'|'+start_point+'; '+end_point+'|Расстояние --'+route.getHumanLength() + '|'+route.getLength()+'|'+ route.getJamsTime() + '|'+ route.getTime()+ '|'+0+'|'+202211131139+'\\r\\n';\n",
       "        }, function (error) {\n",
       "        theEl.innerHTML = theEl.innerHTML+'13'+'||||||' +0+'|'+202211131139+'\\r\\n';\n",
       "    });\n",
       "    });\n",
       "    "
      ],
      "text/plain": [
       "<IPython.core.display.Javascript object>"
      ]
     },
     "metadata": {},
     "output_type": "display_data"
    },
    {
     "data": {
      "application/javascript": [
       "\n",
       "    var start_point = [0, 0];\n",
       "    var end_point = [55.916678, 37.759264];\n",
       "    ymaps.ready(function () {\n",
       "    var theEl=document.getElementById(\"output\");    \n",
       "    ymaps.route([start_point, end_point], {\n",
       "            mapStateAutoApply: false,\n",
       "            avoidTrafficJams: false,\n",
       "            multiRoute: false,\n",
       "            routingMode: \"auto\",\n",
       "            viaIndexes: []\n",
       "        }).then(function (route) {\n",
       "            var points = route.getWayPoints();  \n",
       "            theEl.innerHTML = theEl.innerHTML+'14'+'|'+start_point+'; '+end_point+'|Расстояние --'+route.getHumanLength() + '|'+route.getLength()+'|'+ route.getJamsTime() + '|'+ route.getTime()+ '|'+0+'|'+202211131139+'\\r\\n';\n",
       "        }, function (error) {\n",
       "        theEl.innerHTML = theEl.innerHTML+'14'+'||||||' +0+'|'+202211131139+'\\r\\n';\n",
       "    });\n",
       "    });\n",
       "    "
      ],
      "text/plain": [
       "<IPython.core.display.Javascript object>"
      ]
     },
     "metadata": {},
     "output_type": "display_data"
    },
    {
     "data": {
      "application/javascript": [
       "\n",
       "    var start_point = [0, 0];\n",
       "    var end_point = [56.816114, 35.989053];\n",
       "    ymaps.ready(function () {\n",
       "    var theEl=document.getElementById(\"output\");    \n",
       "    ymaps.route([start_point, end_point], {\n",
       "            mapStateAutoApply: false,\n",
       "            avoidTrafficJams: false,\n",
       "            multiRoute: false,\n",
       "            routingMode: \"auto\",\n",
       "            viaIndexes: []\n",
       "        }).then(function (route) {\n",
       "            var points = route.getWayPoints();  \n",
       "            theEl.innerHTML = theEl.innerHTML+'15'+'|'+start_point+'; '+end_point+'|Расстояние --'+route.getHumanLength() + '|'+route.getLength()+'|'+ route.getJamsTime() + '|'+ route.getTime()+ '|'+0+'|'+202211131139+'\\r\\n';\n",
       "        }, function (error) {\n",
       "        theEl.innerHTML = theEl.innerHTML+'15'+'||||||' +0+'|'+202211131139+'\\r\\n';\n",
       "    });\n",
       "    });\n",
       "    "
      ],
      "text/plain": [
       "<IPython.core.display.Javascript object>"
      ]
     },
     "metadata": {},
     "output_type": "display_data"
    },
    {
     "data": {
      "application/javascript": [
       "\n",
       "    var start_point = [0, 0];\n",
       "    var end_point = [56.997656, 41.013123];\n",
       "    ymaps.ready(function () {\n",
       "    var theEl=document.getElementById(\"output\");    \n",
       "    ymaps.route([start_point, end_point], {\n",
       "            mapStateAutoApply: false,\n",
       "            avoidTrafficJams: false,\n",
       "            multiRoute: false,\n",
       "            routingMode: \"auto\",\n",
       "            viaIndexes: []\n",
       "        }).then(function (route) {\n",
       "            var points = route.getWayPoints();  \n",
       "            theEl.innerHTML = theEl.innerHTML+'16'+'|'+start_point+'; '+end_point+'|Расстояние --'+route.getHumanLength() + '|'+route.getLength()+'|'+ route.getJamsTime() + '|'+ route.getTime()+ '|'+0+'|'+202211131139+'\\r\\n';\n",
       "        }, function (error) {\n",
       "        theEl.innerHTML = theEl.innerHTML+'16'+'||||||' +0+'|'+202211131139+'\\r\\n';\n",
       "    });\n",
       "    });\n",
       "    "
      ],
      "text/plain": [
       "<IPython.core.display.Javascript object>"
      ]
     },
     "metadata": {},
     "output_type": "display_data"
    },
    {
     "data": {
      "application/javascript": [
       "\n",
       "    var start_point = [0, 0];\n",
       "    var end_point = [54.589994, 39.541647];\n",
       "    ymaps.ready(function () {\n",
       "    var theEl=document.getElementById(\"output\");    \n",
       "    ymaps.route([start_point, end_point], {\n",
       "            mapStateAutoApply: false,\n",
       "            avoidTrafficJams: false,\n",
       "            multiRoute: false,\n",
       "            routingMode: \"auto\",\n",
       "            viaIndexes: []\n",
       "        }).then(function (route) {\n",
       "            var points = route.getWayPoints();  \n",
       "            theEl.innerHTML = theEl.innerHTML+'17'+'|'+start_point+'; '+end_point+'|Расстояние --'+route.getHumanLength() + '|'+route.getLength()+'|'+ route.getJamsTime() + '|'+ route.getTime()+ '|'+0+'|'+202211131139+'\\r\\n';\n",
       "        }, function (error) {\n",
       "        theEl.innerHTML = theEl.innerHTML+'17'+'||||||' +0+'|'+202211131139+'\\r\\n';\n",
       "    });\n",
       "    });\n",
       "    "
      ],
      "text/plain": [
       "<IPython.core.display.Javascript object>"
      ]
     },
     "metadata": {},
     "output_type": "display_data"
    },
    {
     "data": {
      "application/javascript": [
       "\n",
       "    var start_point = [0, 0];\n",
       "    var end_point = [52.129588, 34.497068];\n",
       "    ymaps.ready(function () {\n",
       "    var theEl=document.getElementById(\"output\");    \n",
       "    ymaps.route([start_point, end_point], {\n",
       "            mapStateAutoApply: false,\n",
       "            avoidTrafficJams: false,\n",
       "            multiRoute: false,\n",
       "            routingMode: \"auto\",\n",
       "            viaIndexes: []\n",
       "        }).then(function (route) {\n",
       "            var points = route.getWayPoints();  \n",
       "            theEl.innerHTML = theEl.innerHTML+'18'+'|'+start_point+'; '+end_point+'|Расстояние --'+route.getHumanLength() + '|'+route.getLength()+'|'+ route.getJamsTime() + '|'+ route.getTime()+ '|'+0+'|'+202211131139+'\\r\\n';\n",
       "        }, function (error) {\n",
       "        theEl.innerHTML = theEl.innerHTML+'18'+'||||||' +0+'|'+202211131139+'\\r\\n';\n",
       "    });\n",
       "    });\n",
       "    "
      ],
      "text/plain": [
       "<IPython.core.display.Javascript object>"
      ]
     },
     "metadata": {},
     "output_type": "display_data"
    },
    {
     "data": {
      "application/javascript": [
       "\n",
       "    var start_point = [0, 0];\n",
       "    var end_point = [54.898235, 38.078749];\n",
       "    ymaps.ready(function () {\n",
       "    var theEl=document.getElementById(\"output\");    \n",
       "    ymaps.route([start_point, end_point], {\n",
       "            mapStateAutoApply: false,\n",
       "            avoidTrafficJams: false,\n",
       "            multiRoute: false,\n",
       "            routingMode: \"auto\",\n",
       "            viaIndexes: []\n",
       "        }).then(function (route) {\n",
       "            var points = route.getWayPoints();  \n",
       "            theEl.innerHTML = theEl.innerHTML+'19'+'|'+start_point+'; '+end_point+'|Расстояние --'+route.getHumanLength() + '|'+route.getLength()+'|'+ route.getJamsTime() + '|'+ route.getTime()+ '|'+0+'|'+202211131139+'\\r\\n';\n",
       "        }, function (error) {\n",
       "        theEl.innerHTML = theEl.innerHTML+'19'+'||||||' +0+'|'+202211131139+'\\r\\n';\n",
       "    });\n",
       "    });\n",
       "    "
      ],
      "text/plain": [
       "<IPython.core.display.Javascript object>"
      ]
     },
     "metadata": {},
     "output_type": "display_data"
    },
    {
     "data": {
      "application/javascript": [
       "\n",
       "    var start_point = [0, 0];\n",
       "    var end_point = [56.967841, 41.966406];\n",
       "    ymaps.ready(function () {\n",
       "    var theEl=document.getElementById(\"output\");    \n",
       "    ymaps.route([start_point, end_point], {\n",
       "            mapStateAutoApply: false,\n",
       "            avoidTrafficJams: false,\n",
       "            multiRoute: false,\n",
       "            routingMode: \"auto\",\n",
       "            viaIndexes: []\n",
       "        }).then(function (route) {\n",
       "            var points = route.getWayPoints();  \n",
       "            theEl.innerHTML = theEl.innerHTML+'20'+'|'+start_point+'; '+end_point+'|Расстояние --'+route.getHumanLength() + '|'+route.getLength()+'|'+ route.getJamsTime() + '|'+ route.getTime()+ '|'+0+'|'+202211131139+'\\r\\n';\n",
       "        }, function (error) {\n",
       "        theEl.innerHTML = theEl.innerHTML+'20'+'||||||' +0+'|'+202211131139+'\\r\\n';\n",
       "    });\n",
       "    });\n",
       "    "
      ],
      "text/plain": [
       "<IPython.core.display.Javascript object>"
      ]
     },
     "metadata": {},
     "output_type": "display_data"
    },
    {
     "data": {
      "application/javascript": [
       "\n",
       "    var start_point = [0, 0];\n",
       "    var end_point = [54.193702, 37.612039];\n",
       "    ymaps.ready(function () {\n",
       "    var theEl=document.getElementById(\"output\");    \n",
       "    ymaps.route([start_point, end_point], {\n",
       "            mapStateAutoApply: false,\n",
       "            avoidTrafficJams: false,\n",
       "            multiRoute: false,\n",
       "            routingMode: \"auto\",\n",
       "            viaIndexes: []\n",
       "        }).then(function (route) {\n",
       "            var points = route.getWayPoints();  \n",
       "            theEl.innerHTML = theEl.innerHTML+'21'+'|'+start_point+'; '+end_point+'|Расстояние --'+route.getHumanLength() + '|'+route.getLength()+'|'+ route.getJamsTime() + '|'+ route.getTime()+ '|'+0+'|'+202211131139+'\\r\\n';\n",
       "        }, function (error) {\n",
       "        theEl.innerHTML = theEl.innerHTML+'21'+'||||||' +0+'|'+202211131139+'\\r\\n';\n",
       "    });\n",
       "    });\n",
       "    "
      ],
      "text/plain": [
       "<IPython.core.display.Javascript object>"
      ]
     },
     "metadata": {},
     "output_type": "display_data"
    },
    {
     "data": {
      "application/javascript": [
       "\n",
       "    var start_point = [0, 0];\n",
       "    var end_point = [54.203525, 37.590237];\n",
       "    ymaps.ready(function () {\n",
       "    var theEl=document.getElementById(\"output\");    \n",
       "    ymaps.route([start_point, end_point], {\n",
       "            mapStateAutoApply: false,\n",
       "            avoidTrafficJams: false,\n",
       "            multiRoute: false,\n",
       "            routingMode: \"auto\",\n",
       "            viaIndexes: []\n",
       "        }).then(function (route) {\n",
       "            var points = route.getWayPoints();  \n",
       "            theEl.innerHTML = theEl.innerHTML+'22'+'|'+start_point+'; '+end_point+'|Расстояние --'+route.getHumanLength() + '|'+route.getLength()+'|'+ route.getJamsTime() + '|'+ route.getTime()+ '|'+0+'|'+202211131139+'\\r\\n';\n",
       "        }, function (error) {\n",
       "        theEl.innerHTML = theEl.innerHTML+'22'+'||||||' +0+'|'+202211131139+'\\r\\n';\n",
       "    });\n",
       "    });\n",
       "    "
      ],
      "text/plain": [
       "<IPython.core.display.Javascript object>"
      ]
     },
     "metadata": {},
     "output_type": "display_data"
    },
    {
     "data": {
      "application/javascript": [
       "\n",
       "    var start_point = [0, 0];\n",
       "    var end_point = [54.203856, 37.515703];\n",
       "    ymaps.ready(function () {\n",
       "    var theEl=document.getElementById(\"output\");    \n",
       "    ymaps.route([start_point, end_point], {\n",
       "            mapStateAutoApply: false,\n",
       "            avoidTrafficJams: false,\n",
       "            multiRoute: false,\n",
       "            routingMode: \"auto\",\n",
       "            viaIndexes: []\n",
       "        }).then(function (route) {\n",
       "            var points = route.getWayPoints();  \n",
       "            theEl.innerHTML = theEl.innerHTML+'23'+'|'+start_point+'; '+end_point+'|Расстояние --'+route.getHumanLength() + '|'+route.getLength()+'|'+ route.getJamsTime() + '|'+ route.getTime()+ '|'+0+'|'+202211131139+'\\r\\n';\n",
       "        }, function (error) {\n",
       "        theEl.innerHTML = theEl.innerHTML+'23'+'||||||' +0+'|'+202211131139+'\\r\\n';\n",
       "    });\n",
       "    });\n",
       "    "
      ],
      "text/plain": [
       "<IPython.core.display.Javascript object>"
      ]
     },
     "metadata": {},
     "output_type": "display_data"
    },
    {
     "data": {
      "application/javascript": [
       "\n",
       "    var start_point = [0, 0];\n",
       "    var end_point = [54.474303, 38.727863];\n",
       "    ymaps.ready(function () {\n",
       "    var theEl=document.getElementById(\"output\");    \n",
       "    ymaps.route([start_point, end_point], {\n",
       "            mapStateAutoApply: false,\n",
       "            avoidTrafficJams: false,\n",
       "            multiRoute: false,\n",
       "            routingMode: \"auto\",\n",
       "            viaIndexes: []\n",
       "        }).then(function (route) {\n",
       "            var points = route.getWayPoints();  \n",
       "            theEl.innerHTML = theEl.innerHTML+'24'+'|'+start_point+'; '+end_point+'|Расстояние --'+route.getHumanLength() + '|'+route.getLength()+'|'+ route.getJamsTime() + '|'+ route.getTime()+ '|'+0+'|'+202211131139+'\\r\\n';\n",
       "        }, function (error) {\n",
       "        theEl.innerHTML = theEl.innerHTML+'24'+'||||||' +0+'|'+202211131139+'\\r\\n';\n",
       "    });\n",
       "    });\n",
       "    "
      ],
      "text/plain": [
       "<IPython.core.display.Javascript object>"
      ]
     },
     "metadata": {},
     "output_type": "display_data"
    },
    {
     "data": {
      "application/javascript": [
       "\n",
       "    var start_point = [0, 0];\n",
       "    var end_point = [54.47357, 38.727001];\n",
       "    ymaps.ready(function () {\n",
       "    var theEl=document.getElementById(\"output\");    \n",
       "    ymaps.route([start_point, end_point], {\n",
       "            mapStateAutoApply: false,\n",
       "            avoidTrafficJams: false,\n",
       "            multiRoute: false,\n",
       "            routingMode: \"auto\",\n",
       "            viaIndexes: []\n",
       "        }).then(function (route) {\n",
       "            var points = route.getWayPoints();  \n",
       "            theEl.innerHTML = theEl.innerHTML+'25'+'|'+start_point+'; '+end_point+'|Расстояние --'+route.getHumanLength() + '|'+route.getLength()+'|'+ route.getJamsTime() + '|'+ route.getTime()+ '|'+0+'|'+202211131139+'\\r\\n';\n",
       "        }, function (error) {\n",
       "        theEl.innerHTML = theEl.innerHTML+'25'+'||||||' +0+'|'+202211131139+'\\r\\n';\n",
       "    });\n",
       "    });\n",
       "    "
      ],
      "text/plain": [
       "<IPython.core.display.Javascript object>"
      ]
     },
     "metadata": {},
     "output_type": "display_data"
    },
    {
     "data": {
      "application/javascript": [
       "\n",
       "    var start_point = [0, 0];\n",
       "    var end_point = [54.043499, 38.250813];\n",
       "    ymaps.ready(function () {\n",
       "    var theEl=document.getElementById(\"output\");    \n",
       "    ymaps.route([start_point, end_point], {\n",
       "            mapStateAutoApply: false,\n",
       "            avoidTrafficJams: false,\n",
       "            multiRoute: false,\n",
       "            routingMode: \"auto\",\n",
       "            viaIndexes: []\n",
       "        }).then(function (route) {\n",
       "            var points = route.getWayPoints();  \n",
       "            theEl.innerHTML = theEl.innerHTML+'26'+'|'+start_point+'; '+end_point+'|Расстояние --'+route.getHumanLength() + '|'+route.getLength()+'|'+ route.getJamsTime() + '|'+ route.getTime()+ '|'+0+'|'+202211131139+'\\r\\n';\n",
       "        }, function (error) {\n",
       "        theEl.innerHTML = theEl.innerHTML+'26'+'||||||' +0+'|'+202211131139+'\\r\\n';\n",
       "    });\n",
       "    });\n",
       "    "
      ],
      "text/plain": [
       "<IPython.core.display.Javascript object>"
      ]
     },
     "metadata": {},
     "output_type": "display_data"
    },
    {
     "data": {
      "application/javascript": [
       "\n",
       "    var start_point = [0, 0];\n",
       "    var end_point = [54.042431, 38.248836];\n",
       "    ymaps.ready(function () {\n",
       "    var theEl=document.getElementById(\"output\");    \n",
       "    ymaps.route([start_point, end_point], {\n",
       "            mapStateAutoApply: false,\n",
       "            avoidTrafficJams: false,\n",
       "            multiRoute: false,\n",
       "            routingMode: \"auto\",\n",
       "            viaIndexes: []\n",
       "        }).then(function (route) {\n",
       "            var points = route.getWayPoints();  \n",
       "            theEl.innerHTML = theEl.innerHTML+'27'+'|'+start_point+'; '+end_point+'|Расстояние --'+route.getHumanLength() + '|'+route.getLength()+'|'+ route.getJamsTime() + '|'+ route.getTime()+ '|'+0+'|'+202211131139+'\\r\\n';\n",
       "        }, function (error) {\n",
       "        theEl.innerHTML = theEl.innerHTML+'27'+'||||||' +0+'|'+202211131139+'\\r\\n';\n",
       "    });\n",
       "    });\n",
       "    "
      ],
      "text/plain": [
       "<IPython.core.display.Javascript object>"
      ]
     },
     "metadata": {},
     "output_type": "display_data"
    },
    {
     "data": {
      "application/javascript": [
       "\n",
       "    var start_point = [0, 0];\n",
       "    var end_point = [53.708027, 37.300997];\n",
       "    ymaps.ready(function () {\n",
       "    var theEl=document.getElementById(\"output\");    \n",
       "    ymaps.route([start_point, end_point], {\n",
       "            mapStateAutoApply: false,\n",
       "            avoidTrafficJams: false,\n",
       "            multiRoute: false,\n",
       "            routingMode: \"auto\",\n",
       "            viaIndexes: []\n",
       "        }).then(function (route) {\n",
       "            var points = route.getWayPoints();  \n",
       "            theEl.innerHTML = theEl.innerHTML+'28'+'|'+start_point+'; '+end_point+'|Расстояние --'+route.getHumanLength() + '|'+route.getLength()+'|'+ route.getJamsTime() + '|'+ route.getTime()+ '|'+0+'|'+202211131139+'\\r\\n';\n",
       "        }, function (error) {\n",
       "        theEl.innerHTML = theEl.innerHTML+'28'+'||||||' +0+'|'+202211131139+'\\r\\n';\n",
       "    });\n",
       "    });\n",
       "    "
      ],
      "text/plain": [
       "<IPython.core.display.Javascript object>"
      ]
     },
     "metadata": {},
     "output_type": "display_data"
    },
    {
     "data": {
      "application/javascript": [
       "\n",
       "    var start_point = [0, 0];\n",
       "    var end_point = [55.728398, 38.034382];\n",
       "    ymaps.ready(function () {\n",
       "    var theEl=document.getElementById(\"output\");    \n",
       "    ymaps.route([start_point, end_point], {\n",
       "            mapStateAutoApply: false,\n",
       "            avoidTrafficJams: false,\n",
       "            multiRoute: false,\n",
       "            routingMode: \"auto\",\n",
       "            viaIndexes: []\n",
       "        }).then(function (route) {\n",
       "            var points = route.getWayPoints();  \n",
       "            theEl.innerHTML = theEl.innerHTML+'29'+'|'+start_point+'; '+end_point+'|Расстояние --'+route.getHumanLength() + '|'+route.getLength()+'|'+ route.getJamsTime() + '|'+ route.getTime()+ '|'+0+'|'+202211131139+'\\r\\n';\n",
       "        }, function (error) {\n",
       "        theEl.innerHTML = theEl.innerHTML+'29'+'||||||' +0+'|'+202211131139+'\\r\\n';\n",
       "    });\n",
       "    });\n",
       "    "
      ],
      "text/plain": [
       "<IPython.core.display.Javascript object>"
      ]
     },
     "metadata": {},
     "output_type": "display_data"
    },
    {
     "data": {
      "application/javascript": [
       "\n",
       "    var start_point = [0, 0];\n",
       "    var end_point = [56.969038, 40.939479];\n",
       "    ymaps.ready(function () {\n",
       "    var theEl=document.getElementById(\"output\");    \n",
       "    ymaps.route([start_point, end_point], {\n",
       "            mapStateAutoApply: false,\n",
       "            avoidTrafficJams: false,\n",
       "            multiRoute: false,\n",
       "            routingMode: \"auto\",\n",
       "            viaIndexes: []\n",
       "        }).then(function (route) {\n",
       "            var points = route.getWayPoints();  \n",
       "            theEl.innerHTML = theEl.innerHTML+'30'+'|'+start_point+'; '+end_point+'|Расстояние --'+route.getHumanLength() + '|'+route.getLength()+'|'+ route.getJamsTime() + '|'+ route.getTime()+ '|'+0+'|'+202211131139+'\\r\\n';\n",
       "        }, function (error) {\n",
       "        theEl.innerHTML = theEl.innerHTML+'30'+'||||||' +0+'|'+202211131139+'\\r\\n';\n",
       "    });\n",
       "    });\n",
       "    "
      ],
      "text/plain": [
       "<IPython.core.display.Javascript object>"
      ]
     },
     "metadata": {},
     "output_type": "display_data"
    },
    {
     "data": {
      "application/javascript": [
       "\n",
       "    var start_point = [0, 0];\n",
       "    var end_point = [56.974003, 40.929697];\n",
       "    ymaps.ready(function () {\n",
       "    var theEl=document.getElementById(\"output\");    \n",
       "    ymaps.route([start_point, end_point], {\n",
       "            mapStateAutoApply: false,\n",
       "            avoidTrafficJams: false,\n",
       "            multiRoute: false,\n",
       "            routingMode: \"auto\",\n",
       "            viaIndexes: []\n",
       "        }).then(function (route) {\n",
       "            var points = route.getWayPoints();  \n",
       "            theEl.innerHTML = theEl.innerHTML+'31'+'|'+start_point+'; '+end_point+'|Расстояние --'+route.getHumanLength() + '|'+route.getLength()+'|'+ route.getJamsTime() + '|'+ route.getTime()+ '|'+0+'|'+202211131139+'\\r\\n';\n",
       "        }, function (error) {\n",
       "        theEl.innerHTML = theEl.innerHTML+'31'+'||||||' +0+'|'+202211131139+'\\r\\n';\n",
       "    });\n",
       "    });\n",
       "    "
      ],
      "text/plain": [
       "<IPython.core.display.Javascript object>"
      ]
     },
     "metadata": {},
     "output_type": "display_data"
    },
    {
     "data": {
      "application/javascript": [
       "\n",
       "    var start_point = [0, 0];\n",
       "    var end_point = [55.121216, 36.571421];\n",
       "    ymaps.ready(function () {\n",
       "    var theEl=document.getElementById(\"output\");    \n",
       "    ymaps.route([start_point, end_point], {\n",
       "            mapStateAutoApply: false,\n",
       "            avoidTrafficJams: false,\n",
       "            multiRoute: false,\n",
       "            routingMode: \"auto\",\n",
       "            viaIndexes: []\n",
       "        }).then(function (route) {\n",
       "            var points = route.getWayPoints();  \n",
       "            theEl.innerHTML = theEl.innerHTML+'32'+'|'+start_point+'; '+end_point+'|Расстояние --'+route.getHumanLength() + '|'+route.getLength()+'|'+ route.getJamsTime() + '|'+ route.getTime()+ '|'+0+'|'+202211131139+'\\r\\n';\n",
       "        }, function (error) {\n",
       "        theEl.innerHTML = theEl.innerHTML+'32'+'||||||' +0+'|'+202211131139+'\\r\\n';\n",
       "    });\n",
       "    });\n",
       "    "
      ],
      "text/plain": [
       "<IPython.core.display.Javascript object>"
      ]
     },
     "metadata": {},
     "output_type": "display_data"
    },
    {
     "data": {
      "application/javascript": [
       "\n",
       "    var start_point = [0, 0];\n",
       "    var end_point = [55.923942, 38.001405];\n",
       "    ymaps.ready(function () {\n",
       "    var theEl=document.getElementById(\"output\");    \n",
       "    ymaps.route([start_point, end_point], {\n",
       "            mapStateAutoApply: false,\n",
       "            avoidTrafficJams: false,\n",
       "            multiRoute: false,\n",
       "            routingMode: \"auto\",\n",
       "            viaIndexes: []\n",
       "        }).then(function (route) {\n",
       "            var points = route.getWayPoints();  \n",
       "            theEl.innerHTML = theEl.innerHTML+'33'+'|'+start_point+'; '+end_point+'|Расстояние --'+route.getHumanLength() + '|'+route.getLength()+'|'+ route.getJamsTime() + '|'+ route.getTime()+ '|'+0+'|'+202211131139+'\\r\\n';\n",
       "        }, function (error) {\n",
       "        theEl.innerHTML = theEl.innerHTML+'33'+'||||||' +0+'|'+202211131139+'\\r\\n';\n",
       "    });\n",
       "    });\n",
       "    "
      ],
      "text/plain": [
       "<IPython.core.display.Javascript object>"
      ]
     },
     "metadata": {},
     "output_type": "display_data"
    },
    {
     "data": {
      "application/javascript": [
       "\n",
       "    var start_point = [0, 0];\n",
       "    var end_point = [55.950539, 37.106413];\n",
       "    ymaps.ready(function () {\n",
       "    var theEl=document.getElementById(\"output\");    \n",
       "    ymaps.route([start_point, end_point], {\n",
       "            mapStateAutoApply: false,\n",
       "            avoidTrafficJams: false,\n",
       "            multiRoute: false,\n",
       "            routingMode: \"auto\",\n",
       "            viaIndexes: []\n",
       "        }).then(function (route) {\n",
       "            var points = route.getWayPoints();  \n",
       "            theEl.innerHTML = theEl.innerHTML+'34'+'|'+start_point+'; '+end_point+'|Расстояние --'+route.getHumanLength() + '|'+route.getLength()+'|'+ route.getJamsTime() + '|'+ route.getTime()+ '|'+0+'|'+202211131139+'\\r\\n';\n",
       "        }, function (error) {\n",
       "        theEl.innerHTML = theEl.innerHTML+'34'+'||||||' +0+'|'+202211131139+'\\r\\n';\n",
       "    });\n",
       "    });\n",
       "    "
      ],
      "text/plain": [
       "<IPython.core.display.Javascript object>"
      ]
     },
     "metadata": {},
     "output_type": "display_data"
    },
    {
     "data": {
      "application/javascript": [
       "\n",
       "    var start_point = [0, 0];\n",
       "    var end_point = [55.531132, 38.874756];\n",
       "    ymaps.ready(function () {\n",
       "    var theEl=document.getElementById(\"output\");    \n",
       "    ymaps.route([start_point, end_point], {\n",
       "            mapStateAutoApply: false,\n",
       "            avoidTrafficJams: false,\n",
       "            multiRoute: false,\n",
       "            routingMode: \"auto\",\n",
       "            viaIndexes: []\n",
       "        }).then(function (route) {\n",
       "            var points = route.getWayPoints();  \n",
       "            theEl.innerHTML = theEl.innerHTML+'35'+'|'+start_point+'; '+end_point+'|Расстояние --'+route.getHumanLength() + '|'+route.getLength()+'|'+ route.getJamsTime() + '|'+ route.getTime()+ '|'+0+'|'+202211131139+'\\r\\n';\n",
       "        }, function (error) {\n",
       "        theEl.innerHTML = theEl.innerHTML+'35'+'||||||' +0+'|'+202211131139+'\\r\\n';\n",
       "    });\n",
       "    });\n",
       "    "
      ],
      "text/plain": [
       "<IPython.core.display.Javascript object>"
      ]
     },
     "metadata": {},
     "output_type": "display_data"
    },
    {
     "data": {
      "application/javascript": [
       "\n",
       "    var start_point = [0, 0];\n",
       "    var end_point = [56.821814, 35.976656];\n",
       "    ymaps.ready(function () {\n",
       "    var theEl=document.getElementById(\"output\");    \n",
       "    ymaps.route([start_point, end_point], {\n",
       "            mapStateAutoApply: false,\n",
       "            avoidTrafficJams: false,\n",
       "            multiRoute: false,\n",
       "            routingMode: \"auto\",\n",
       "            viaIndexes: []\n",
       "        }).then(function (route) {\n",
       "            var points = route.getWayPoints();  \n",
       "            theEl.innerHTML = theEl.innerHTML+'36'+'|'+start_point+'; '+end_point+'|Расстояние --'+route.getHumanLength() + '|'+route.getLength()+'|'+ route.getJamsTime() + '|'+ route.getTime()+ '|'+0+'|'+202211131139+'\\r\\n';\n",
       "        }, function (error) {\n",
       "        theEl.innerHTML = theEl.innerHTML+'36'+'||||||' +0+'|'+202211131139+'\\r\\n';\n",
       "    });\n",
       "    });\n",
       "    "
      ],
      "text/plain": [
       "<IPython.core.display.Javascript object>"
      ]
     },
     "metadata": {},
     "output_type": "display_data"
    },
    {
     "data": {
      "application/javascript": [
       "\n",
       "    var start_point = [0, 0];\n",
       "    var end_point = [47.291017, 39.852814];\n",
       "    ymaps.ready(function () {\n",
       "    var theEl=document.getElementById(\"output\");    \n",
       "    ymaps.route([start_point, end_point], {\n",
       "            mapStateAutoApply: false,\n",
       "            avoidTrafficJams: false,\n",
       "            multiRoute: false,\n",
       "            routingMode: \"auto\",\n",
       "            viaIndexes: []\n",
       "        }).then(function (route) {\n",
       "            var points = route.getWayPoints();  \n",
       "            theEl.innerHTML = theEl.innerHTML+'37'+'|'+start_point+'; '+end_point+'|Расстояние --'+route.getHumanLength() + '|'+route.getLength()+'|'+ route.getJamsTime() + '|'+ route.getTime()+ '|'+0+'|'+202211131139+'\\r\\n';\n",
       "        }, function (error) {\n",
       "        theEl.innerHTML = theEl.innerHTML+'37'+'||||||' +0+'|'+202211131139+'\\r\\n';\n",
       "    });\n",
       "    });\n",
       "    "
      ],
      "text/plain": [
       "<IPython.core.display.Javascript object>"
      ]
     },
     "metadata": {},
     "output_type": "display_data"
    },
    {
     "data": {
      "application/javascript": [
       "\n",
       "    var start_point = [0, 0];\n",
       "    var end_point = [53.231031, 50.59512];\n",
       "    ymaps.ready(function () {\n",
       "    var theEl=document.getElementById(\"output\");    \n",
       "    ymaps.route([start_point, end_point], {\n",
       "            mapStateAutoApply: false,\n",
       "            avoidTrafficJams: false,\n",
       "            multiRoute: false,\n",
       "            routingMode: \"auto\",\n",
       "            viaIndexes: []\n",
       "        }).then(function (route) {\n",
       "            var points = route.getWayPoints();  \n",
       "            theEl.innerHTML = theEl.innerHTML+'38'+'|'+start_point+'; '+end_point+'|Расстояние --'+route.getHumanLength() + '|'+route.getLength()+'|'+ route.getJamsTime() + '|'+ route.getTime()+ '|'+0+'|'+202211131139+'\\r\\n';\n",
       "        }, function (error) {\n",
       "        theEl.innerHTML = theEl.innerHTML+'38'+'||||||' +0+'|'+202211131139+'\\r\\n';\n",
       "    });\n",
       "    });\n",
       "    "
      ],
      "text/plain": [
       "<IPython.core.display.Javascript object>"
      ]
     },
     "metadata": {},
     "output_type": "display_data"
    },
    {
     "data": {
      "application/javascript": [
       "\n",
       "    var start_point = [0, 0];\n",
       "    var end_point = [54.941901, 82.916459];\n",
       "    ymaps.ready(function () {\n",
       "    var theEl=document.getElementById(\"output\");    \n",
       "    ymaps.route([start_point, end_point], {\n",
       "            mapStateAutoApply: false,\n",
       "            avoidTrafficJams: false,\n",
       "            multiRoute: false,\n",
       "            routingMode: \"auto\",\n",
       "            viaIndexes: []\n",
       "        }).then(function (route) {\n",
       "            var points = route.getWayPoints();  \n",
       "            theEl.innerHTML = theEl.innerHTML+'39'+'|'+start_point+'; '+end_point+'|Расстояние --'+route.getHumanLength() + '|'+route.getLength()+'|'+ route.getJamsTime() + '|'+ route.getTime()+ '|'+0+'|'+202211131139+'\\r\\n';\n",
       "        }, function (error) {\n",
       "        theEl.innerHTML = theEl.innerHTML+'39'+'||||||' +0+'|'+202211131139+'\\r\\n';\n",
       "    });\n",
       "    });\n",
       "    "
      ],
      "text/plain": [
       "<IPython.core.display.Javascript object>"
      ]
     },
     "metadata": {},
     "output_type": "display_data"
    },
    {
     "data": {
      "application/javascript": [
       "\n",
       "    var start_point = [0, 0];\n",
       "    var end_point = [56.835446, 35.945287];\n",
       "    ymaps.ready(function () {\n",
       "    var theEl=document.getElementById(\"output\");    \n",
       "    ymaps.route([start_point, end_point], {\n",
       "            mapStateAutoApply: false,\n",
       "            avoidTrafficJams: false,\n",
       "            multiRoute: false,\n",
       "            routingMode: \"auto\",\n",
       "            viaIndexes: []\n",
       "        }).then(function (route) {\n",
       "            var points = route.getWayPoints();  \n",
       "            theEl.innerHTML = theEl.innerHTML+'40'+'|'+start_point+'; '+end_point+'|Расстояние --'+route.getHumanLength() + '|'+route.getLength()+'|'+ route.getJamsTime() + '|'+ route.getTime()+ '|'+0+'|'+202211131139+'\\r\\n';\n",
       "        }, function (error) {\n",
       "        theEl.innerHTML = theEl.innerHTML+'40'+'||||||' +0+'|'+202211131139+'\\r\\n';\n",
       "    });\n",
       "    });\n",
       "    "
      ],
      "text/plain": [
       "<IPython.core.display.Javascript object>"
      ]
     },
     "metadata": {},
     "output_type": "display_data"
    },
    {
     "data": {
      "application/javascript": [
       "\n",
       "    var start_point = [0, 0];\n",
       "    var end_point = [57.440839, 42.136745];\n",
       "    ymaps.ready(function () {\n",
       "    var theEl=document.getElementById(\"output\");    \n",
       "    ymaps.route([start_point, end_point], {\n",
       "            mapStateAutoApply: false,\n",
       "            avoidTrafficJams: false,\n",
       "            multiRoute: false,\n",
       "            routingMode: \"auto\",\n",
       "            viaIndexes: []\n",
       "        }).then(function (route) {\n",
       "            var points = route.getWayPoints();  \n",
       "            theEl.innerHTML = theEl.innerHTML+'41'+'|'+start_point+'; '+end_point+'|Расстояние --'+route.getHumanLength() + '|'+route.getLength()+'|'+ route.getJamsTime() + '|'+ route.getTime()+ '|'+0+'|'+202211131139+'\\r\\n';\n",
       "        }, function (error) {\n",
       "        theEl.innerHTML = theEl.innerHTML+'41'+'||||||' +0+'|'+202211131139+'\\r\\n';\n",
       "    });\n",
       "    });\n",
       "    "
      ],
      "text/plain": [
       "<IPython.core.display.Javascript object>"
      ]
     },
     "metadata": {},
     "output_type": "display_data"
    },
    {
     "data": {
      "application/javascript": [
       "\n",
       "    var start_point = [0, 0];\n",
       "    var end_point = [54.188228, 37.542392];\n",
       "    ymaps.ready(function () {\n",
       "    var theEl=document.getElementById(\"output\");    \n",
       "    ymaps.route([start_point, end_point], {\n",
       "            mapStateAutoApply: false,\n",
       "            avoidTrafficJams: false,\n",
       "            multiRoute: false,\n",
       "            routingMode: \"auto\",\n",
       "            viaIndexes: []\n",
       "        }).then(function (route) {\n",
       "            var points = route.getWayPoints();  \n",
       "            theEl.innerHTML = theEl.innerHTML+'42'+'|'+start_point+'; '+end_point+'|Расстояние --'+route.getHumanLength() + '|'+route.getLength()+'|'+ route.getJamsTime() + '|'+ route.getTime()+ '|'+0+'|'+202211131139+'\\r\\n';\n",
       "        }, function (error) {\n",
       "        theEl.innerHTML = theEl.innerHTML+'42'+'||||||' +0+'|'+202211131139+'\\r\\n';\n",
       "    });\n",
       "    });\n",
       "    "
      ],
      "text/plain": [
       "<IPython.core.display.Javascript object>"
      ]
     },
     "metadata": {},
     "output_type": "display_data"
    },
    {
     "data": {
      "application/javascript": [
       "\n",
       "    var start_point = [0, 0];\n",
       "    var end_point = [55.598217, 36.46984];\n",
       "    ymaps.ready(function () {\n",
       "    var theEl=document.getElementById(\"output\");    \n",
       "    ymaps.route([start_point, end_point], {\n",
       "            mapStateAutoApply: false,\n",
       "            avoidTrafficJams: false,\n",
       "            multiRoute: false,\n",
       "            routingMode: \"auto\",\n",
       "            viaIndexes: []\n",
       "        }).then(function (route) {\n",
       "            var points = route.getWayPoints();  \n",
       "            theEl.innerHTML = theEl.innerHTML+'43'+'|'+start_point+'; '+end_point+'|Расстояние --'+route.getHumanLength() + '|'+route.getLength()+'|'+ route.getJamsTime() + '|'+ route.getTime()+ '|'+0+'|'+202211131139+'\\r\\n';\n",
       "        }, function (error) {\n",
       "        theEl.innerHTML = theEl.innerHTML+'43'+'||||||' +0+'|'+202211131139+'\\r\\n';\n",
       "    });\n",
       "    });\n",
       "    "
      ],
      "text/plain": [
       "<IPython.core.display.Javascript object>"
      ]
     },
     "metadata": {},
     "output_type": "display_data"
    },
    {
     "data": {
      "application/javascript": [
       "\n",
       "    var start_point = [0, 0];\n",
       "    var end_point = [54.33941, 34.548056];\n",
       "    ymaps.ready(function () {\n",
       "    var theEl=document.getElementById(\"output\");    \n",
       "    ymaps.route([start_point, end_point], {\n",
       "            mapStateAutoApply: false,\n",
       "            avoidTrafficJams: false,\n",
       "            multiRoute: false,\n",
       "            routingMode: \"auto\",\n",
       "            viaIndexes: []\n",
       "        }).then(function (route) {\n",
       "            var points = route.getWayPoints();  \n",
       "            theEl.innerHTML = theEl.innerHTML+'44'+'|'+start_point+'; '+end_point+'|Расстояние --'+route.getHumanLength() + '|'+route.getLength()+'|'+ route.getJamsTime() + '|'+ route.getTime()+ '|'+0+'|'+202211131139+'\\r\\n';\n",
       "        }, function (error) {\n",
       "        theEl.innerHTML = theEl.innerHTML+'44'+'||||||' +0+'|'+202211131139+'\\r\\n';\n",
       "    });\n",
       "    });\n",
       "    "
      ],
      "text/plain": [
       "<IPython.core.display.Javascript object>"
      ]
     },
     "metadata": {},
     "output_type": "display_data"
    },
    {
     "data": {
      "application/javascript": [
       "\n",
       "    var start_point = [0, 0];\n",
       "    var end_point = [53.928148, 34.556698];\n",
       "    ymaps.ready(function () {\n",
       "    var theEl=document.getElementById(\"output\");    \n",
       "    ymaps.route([start_point, end_point], {\n",
       "            mapStateAutoApply: false,\n",
       "            avoidTrafficJams: false,\n",
       "            multiRoute: false,\n",
       "            routingMode: \"auto\",\n",
       "            viaIndexes: []\n",
       "        }).then(function (route) {\n",
       "            var points = route.getWayPoints();  \n",
       "            theEl.innerHTML = theEl.innerHTML+'45'+'|'+start_point+'; '+end_point+'|Расстояние --'+route.getHumanLength() + '|'+route.getLength()+'|'+ route.getJamsTime() + '|'+ route.getTime()+ '|'+0+'|'+202211131139+'\\r\\n';\n",
       "        }, function (error) {\n",
       "        theEl.innerHTML = theEl.innerHTML+'45'+'||||||' +0+'|'+202211131139+'\\r\\n';\n",
       "    });\n",
       "    });\n",
       "    "
      ],
      "text/plain": [
       "<IPython.core.display.Javascript object>"
      ]
     },
     "metadata": {},
     "output_type": "display_data"
    },
    {
     "data": {
      "application/javascript": [
       "\n",
       "    var start_point = [0, 0];\n",
       "    var end_point = [54.33941, 34.548056];\n",
       "    ymaps.ready(function () {\n",
       "    var theEl=document.getElementById(\"output\");    \n",
       "    ymaps.route([start_point, end_point], {\n",
       "            mapStateAutoApply: false,\n",
       "            avoidTrafficJams: false,\n",
       "            multiRoute: false,\n",
       "            routingMode: \"auto\",\n",
       "            viaIndexes: []\n",
       "        }).then(function (route) {\n",
       "            var points = route.getWayPoints();  \n",
       "            theEl.innerHTML = theEl.innerHTML+'46'+'|'+start_point+'; '+end_point+'|Расстояние --'+route.getHumanLength() + '|'+route.getLength()+'|'+ route.getJamsTime() + '|'+ route.getTime()+ '|'+0+'|'+202211131139+'\\r\\n';\n",
       "        }, function (error) {\n",
       "        theEl.innerHTML = theEl.innerHTML+'46'+'||||||' +0+'|'+202211131139+'\\r\\n';\n",
       "    });\n",
       "    });\n",
       "    "
      ],
      "text/plain": [
       "<IPython.core.display.Javascript object>"
      ]
     },
     "metadata": {},
     "output_type": "display_data"
    },
    {
     "data": {
      "application/javascript": [
       "\n",
       "    var start_point = [0, 0];\n",
       "    var end_point = [54.069022, 34.228489];\n",
       "    ymaps.ready(function () {\n",
       "    var theEl=document.getElementById(\"output\");    \n",
       "    ymaps.route([start_point, end_point], {\n",
       "            mapStateAutoApply: false,\n",
       "            avoidTrafficJams: false,\n",
       "            multiRoute: false,\n",
       "            routingMode: \"auto\",\n",
       "            viaIndexes: []\n",
       "        }).then(function (route) {\n",
       "            var points = route.getWayPoints();  \n",
       "            theEl.innerHTML = theEl.innerHTML+'47'+'|'+start_point+'; '+end_point+'|Расстояние --'+route.getHumanLength() + '|'+route.getLength()+'|'+ route.getJamsTime() + '|'+ route.getTime()+ '|'+0+'|'+202211131139+'\\r\\n';\n",
       "        }, function (error) {\n",
       "        theEl.innerHTML = theEl.innerHTML+'47'+'||||||' +0+'|'+202211131139+'\\r\\n';\n",
       "    });\n",
       "    });\n",
       "    "
      ],
      "text/plain": [
       "<IPython.core.display.Javascript object>"
      ]
     },
     "metadata": {},
     "output_type": "display_data"
    },
    {
     "data": {
      "application/javascript": [
       "\n",
       "    var start_point = [0, 0];\n",
       "    var end_point = [56.316129, 38.132532];\n",
       "    ymaps.ready(function () {\n",
       "    var theEl=document.getElementById(\"output\");    \n",
       "    ymaps.route([start_point, end_point], {\n",
       "            mapStateAutoApply: false,\n",
       "            avoidTrafficJams: false,\n",
       "            multiRoute: false,\n",
       "            routingMode: \"auto\",\n",
       "            viaIndexes: []\n",
       "        }).then(function (route) {\n",
       "            var points = route.getWayPoints();  \n",
       "            theEl.innerHTML = theEl.innerHTML+'48'+'|'+start_point+'; '+end_point+'|Расстояние --'+route.getHumanLength() + '|'+route.getLength()+'|'+ route.getJamsTime() + '|'+ route.getTime()+ '|'+0+'|'+202211131139+'\\r\\n';\n",
       "        }, function (error) {\n",
       "        theEl.innerHTML = theEl.innerHTML+'48'+'||||||' +0+'|'+202211131139+'\\r\\n';\n",
       "    });\n",
       "    });\n",
       "    "
      ],
      "text/plain": [
       "<IPython.core.display.Javascript object>"
      ]
     },
     "metadata": {},
     "output_type": "display_data"
    },
    {
     "data": {
      "application/javascript": [
       "\n",
       "    var start_point = [0, 0];\n",
       "    var end_point = [54.188228, 37.542392];\n",
       "    ymaps.ready(function () {\n",
       "    var theEl=document.getElementById(\"output\");    \n",
       "    ymaps.route([start_point, end_point], {\n",
       "            mapStateAutoApply: false,\n",
       "            avoidTrafficJams: false,\n",
       "            multiRoute: false,\n",
       "            routingMode: \"auto\",\n",
       "            viaIndexes: []\n",
       "        }).then(function (route) {\n",
       "            var points = route.getWayPoints();  \n",
       "            theEl.innerHTML = theEl.innerHTML+'49'+'|'+start_point+'; '+end_point+'|Расстояние --'+route.getHumanLength() + '|'+route.getLength()+'|'+ route.getJamsTime() + '|'+ route.getTime()+ '|'+0+'|'+202211131139+'\\r\\n';\n",
       "        }, function (error) {\n",
       "        theEl.innerHTML = theEl.innerHTML+'49'+'||||||' +0+'|'+202211131139+'\\r\\n';\n",
       "    });\n",
       "    });\n",
       "    "
      ],
      "text/plain": [
       "<IPython.core.display.Javascript object>"
      ]
     },
     "metadata": {},
     "output_type": "display_data"
    },
    {
     "data": {
      "application/javascript": [
       "\n",
       "    var start_point = [0, 0];\n",
       "    var end_point = [54.01129, 38.263784];\n",
       "    ymaps.ready(function () {\n",
       "    var theEl=document.getElementById(\"output\");    \n",
       "    ymaps.route([start_point, end_point], {\n",
       "            mapStateAutoApply: false,\n",
       "            avoidTrafficJams: false,\n",
       "            multiRoute: false,\n",
       "            routingMode: \"auto\",\n",
       "            viaIndexes: []\n",
       "        }).then(function (route) {\n",
       "            var points = route.getWayPoints();  \n",
       "            theEl.innerHTML = theEl.innerHTML+'50'+'|'+start_point+'; '+end_point+'|Расстояние --'+route.getHumanLength() + '|'+route.getLength()+'|'+ route.getJamsTime() + '|'+ route.getTime()+ '|'+0+'|'+202211131139+'\\r\\n';\n",
       "        }, function (error) {\n",
       "        theEl.innerHTML = theEl.innerHTML+'50'+'||||||' +0+'|'+202211131139+'\\r\\n';\n",
       "    });\n",
       "    });\n",
       "    "
      ],
      "text/plain": [
       "<IPython.core.display.Javascript object>"
      ]
     },
     "metadata": {},
     "output_type": "display_data"
    },
    {
     "data": {
      "application/javascript": [
       "\n",
       "    var start_point = [0, 0];\n",
       "    var end_point = [55.750282, 38.00683];\n",
       "    ymaps.ready(function () {\n",
       "    var theEl=document.getElementById(\"output\");    \n",
       "    ymaps.route([start_point, end_point], {\n",
       "            mapStateAutoApply: false,\n",
       "            avoidTrafficJams: false,\n",
       "            multiRoute: false,\n",
       "            routingMode: \"auto\",\n",
       "            viaIndexes: []\n",
       "        }).then(function (route) {\n",
       "            var points = route.getWayPoints();  \n",
       "            theEl.innerHTML = theEl.innerHTML+'51'+'|'+start_point+'; '+end_point+'|Расстояние --'+route.getHumanLength() + '|'+route.getLength()+'|'+ route.getJamsTime() + '|'+ route.getTime()+ '|'+0+'|'+202211131139+'\\r\\n';\n",
       "        }, function (error) {\n",
       "        theEl.innerHTML = theEl.innerHTML+'51'+'||||||' +0+'|'+202211131139+'\\r\\n';\n",
       "    });\n",
       "    });\n",
       "    "
      ],
      "text/plain": [
       "<IPython.core.display.Javascript object>"
      ]
     },
     "metadata": {},
     "output_type": "display_data"
    },
    {
     "data": {
      "application/javascript": [
       "\n",
       "    var start_point = [0, 0];\n",
       "    var end_point = [55.087007, 31.970565];\n",
       "    ymaps.ready(function () {\n",
       "    var theEl=document.getElementById(\"output\");    \n",
       "    ymaps.route([start_point, end_point], {\n",
       "            mapStateAutoApply: false,\n",
       "            avoidTrafficJams: false,\n",
       "            multiRoute: false,\n",
       "            routingMode: \"auto\",\n",
       "            viaIndexes: []\n",
       "        }).then(function (route) {\n",
       "            var points = route.getWayPoints();  \n",
       "            theEl.innerHTML = theEl.innerHTML+'52'+'|'+start_point+'; '+end_point+'|Расстояние --'+route.getHumanLength() + '|'+route.getLength()+'|'+ route.getJamsTime() + '|'+ route.getTime()+ '|'+0+'|'+202211131139+'\\r\\n';\n",
       "        }, function (error) {\n",
       "        theEl.innerHTML = theEl.innerHTML+'52'+'||||||' +0+'|'+202211131139+'\\r\\n';\n",
       "    });\n",
       "    });\n",
       "    "
      ],
      "text/plain": [
       "<IPython.core.display.Javascript object>"
      ]
     },
     "metadata": {},
     "output_type": "display_data"
    },
    {
     "data": {
      "application/javascript": [
       "\n",
       "    var start_point = [0, 0];\n",
       "    var end_point = [53.948448, 32.850941];\n",
       "    ymaps.ready(function () {\n",
       "    var theEl=document.getElementById(\"output\");    \n",
       "    ymaps.route([start_point, end_point], {\n",
       "            mapStateAutoApply: false,\n",
       "            avoidTrafficJams: false,\n",
       "            multiRoute: false,\n",
       "            routingMode: \"auto\",\n",
       "            viaIndexes: []\n",
       "        }).then(function (route) {\n",
       "            var points = route.getWayPoints();  \n",
       "            theEl.innerHTML = theEl.innerHTML+'53'+'|'+start_point+'; '+end_point+'|Расстояние --'+route.getHumanLength() + '|'+route.getLength()+'|'+ route.getJamsTime() + '|'+ route.getTime()+ '|'+0+'|'+202211131139+'\\r\\n';\n",
       "        }, function (error) {\n",
       "        theEl.innerHTML = theEl.innerHTML+'53'+'||||||' +0+'|'+202211131139+'\\r\\n';\n",
       "    });\n",
       "    });\n",
       "    "
      ],
      "text/plain": [
       "<IPython.core.display.Javascript object>"
      ]
     },
     "metadata": {},
     "output_type": "display_data"
    },
    {
     "data": {
      "application/javascript": [
       "\n",
       "    var start_point = [0, 0];\n",
       "    var end_point = [55.50493, 36.027941];\n",
       "    ymaps.ready(function () {\n",
       "    var theEl=document.getElementById(\"output\");    \n",
       "    ymaps.route([start_point, end_point], {\n",
       "            mapStateAutoApply: false,\n",
       "            avoidTrafficJams: false,\n",
       "            multiRoute: false,\n",
       "            routingMode: \"auto\",\n",
       "            viaIndexes: []\n",
       "        }).then(function (route) {\n",
       "            var points = route.getWayPoints();  \n",
       "            theEl.innerHTML = theEl.innerHTML+'54'+'|'+start_point+'; '+end_point+'|Расстояние --'+route.getHumanLength() + '|'+route.getLength()+'|'+ route.getJamsTime() + '|'+ route.getTime()+ '|'+0+'|'+202211131139+'\\r\\n';\n",
       "        }, function (error) {\n",
       "        theEl.innerHTML = theEl.innerHTML+'54'+'||||||' +0+'|'+202211131139+'\\r\\n';\n",
       "    });\n",
       "    });\n",
       "    "
      ],
      "text/plain": [
       "<IPython.core.display.Javascript object>"
      ]
     },
     "metadata": {},
     "output_type": "display_data"
    },
    {
     "data": {
      "application/javascript": [
       "\n",
       "    var start_point = [0, 0];\n",
       "    var end_point = [53.309683, 34.308727];\n",
       "    ymaps.ready(function () {\n",
       "    var theEl=document.getElementById(\"output\");    \n",
       "    ymaps.route([start_point, end_point], {\n",
       "            mapStateAutoApply: false,\n",
       "            avoidTrafficJams: false,\n",
       "            multiRoute: false,\n",
       "            routingMode: \"auto\",\n",
       "            viaIndexes: []\n",
       "        }).then(function (route) {\n",
       "            var points = route.getWayPoints();  \n",
       "            theEl.innerHTML = theEl.innerHTML+'55'+'|'+start_point+'; '+end_point+'|Расстояние --'+route.getHumanLength() + '|'+route.getLength()+'|'+ route.getJamsTime() + '|'+ route.getTime()+ '|'+0+'|'+202211131139+'\\r\\n';\n",
       "        }, function (error) {\n",
       "        theEl.innerHTML = theEl.innerHTML+'55'+'||||||' +0+'|'+202211131139+'\\r\\n';\n",
       "    });\n",
       "    });\n",
       "    "
      ],
      "text/plain": [
       "<IPython.core.display.Javascript object>"
      ]
     },
     "metadata": {},
     "output_type": "display_data"
    },
    {
     "data": {
      "application/javascript": [
       "\n",
       "    var start_point = [0, 0];\n",
       "    var end_point = [55.511185, 37.565219];\n",
       "    ymaps.ready(function () {\n",
       "    var theEl=document.getElementById(\"output\");    \n",
       "    ymaps.route([start_point, end_point], {\n",
       "            mapStateAutoApply: false,\n",
       "            avoidTrafficJams: false,\n",
       "            multiRoute: false,\n",
       "            routingMode: \"auto\",\n",
       "            viaIndexes: []\n",
       "        }).then(function (route) {\n",
       "            var points = route.getWayPoints();  \n",
       "            theEl.innerHTML = theEl.innerHTML+'56'+'|'+start_point+'; '+end_point+'|Расстояние --'+route.getHumanLength() + '|'+route.getLength()+'|'+ route.getJamsTime() + '|'+ route.getTime()+ '|'+0+'|'+202211131139+'\\r\\n';\n",
       "        }, function (error) {\n",
       "        theEl.innerHTML = theEl.innerHTML+'56'+'||||||' +0+'|'+202211131139+'\\r\\n';\n",
       "    });\n",
       "    });\n",
       "    "
      ],
      "text/plain": [
       "<IPython.core.display.Javascript object>"
      ]
     },
     "metadata": {},
     "output_type": "display_data"
    },
    {
     "data": {
      "application/javascript": [
       "\n",
       "    var start_point = [0, 0];\n",
       "    var end_point = [55.214804, 34.303436];\n",
       "    ymaps.ready(function () {\n",
       "    var theEl=document.getElementById(\"output\");    \n",
       "    ymaps.route([start_point, end_point], {\n",
       "            mapStateAutoApply: false,\n",
       "            avoidTrafficJams: false,\n",
       "            multiRoute: false,\n",
       "            routingMode: \"auto\",\n",
       "            viaIndexes: []\n",
       "        }).then(function (route) {\n",
       "            var points = route.getWayPoints();  \n",
       "            theEl.innerHTML = theEl.innerHTML+'57'+'|'+start_point+'; '+end_point+'|Расстояние --'+route.getHumanLength() + '|'+route.getLength()+'|'+ route.getJamsTime() + '|'+ route.getTime()+ '|'+0+'|'+202211131139+'\\r\\n';\n",
       "        }, function (error) {\n",
       "        theEl.innerHTML = theEl.innerHTML+'57'+'||||||' +0+'|'+202211131139+'\\r\\n';\n",
       "    });\n",
       "    });\n",
       "    "
      ],
      "text/plain": [
       "<IPython.core.display.Javascript object>"
      ]
     },
     "metadata": {},
     "output_type": "display_data"
    },
    {
     "data": {
      "application/javascript": [
       "\n",
       "    var start_point = [0, 0];\n",
       "    var end_point = [52.825797, 22.784465];\n",
       "    ymaps.ready(function () {\n",
       "    var theEl=document.getElementById(\"output\");    \n",
       "    ymaps.route([start_point, end_point], {\n",
       "            mapStateAutoApply: false,\n",
       "            avoidTrafficJams: false,\n",
       "            multiRoute: false,\n",
       "            routingMode: \"auto\",\n",
       "            viaIndexes: []\n",
       "        }).then(function (route) {\n",
       "            var points = route.getWayPoints();  \n",
       "            theEl.innerHTML = theEl.innerHTML+'58'+'|'+start_point+'; '+end_point+'|Расстояние --'+route.getHumanLength() + '|'+route.getLength()+'|'+ route.getJamsTime() + '|'+ route.getTime()+ '|'+0+'|'+202211131139+'\\r\\n';\n",
       "        }, function (error) {\n",
       "        theEl.innerHTML = theEl.innerHTML+'58'+'||||||' +0+'|'+202211131139+'\\r\\n';\n",
       "    });\n",
       "    });\n",
       "    "
      ],
      "text/plain": [
       "<IPython.core.display.Javascript object>"
      ]
     },
     "metadata": {},
     "output_type": "display_data"
    },
    {
     "name": "stdout",
     "output_type": "stream",
     "text": [
      "Выполняется шаг 2. Начало 2022-11-13 11:39:29.764214\n"
     ]
    },
    {
     "data": {
      "application/javascript": [
       "\n",
       "    var start_point = [57.76403, 40.957688];\n",
       "    var end_point = [57.465109, 40.552827];\n",
       "    ymaps.ready(function () {\n",
       "    var theEl=document.getElementById(\"output\");    \n",
       "    ymaps.route([start_point, end_point], {\n",
       "            mapStateAutoApply: false,\n",
       "            avoidTrafficJams: false,\n",
       "            multiRoute: false,\n",
       "            routingMode: \"auto\",\n",
       "            viaIndexes: []\n",
       "        }).then(function (route) {\n",
       "            var points = route.getWayPoints();  \n",
       "            theEl.innerHTML = theEl.innerHTML+'0.0'+'|'+start_point+'; '+end_point+'|Расстояние --'+route.getHumanLength() + '|'+route.getLength()+'|'+ route.getJamsTime() + '|'+ route.getTime()+ '|'+1+'|'+202211131139+'\\r\\n';\n",
       "        }, function (error) {\n",
       "        theEl.innerHTML = theEl.innerHTML+'0.0'+'||||||' +1+'|'+202211131139+'\\r\\n';\n",
       "    });\n",
       "    });\n",
       "    "
      ],
      "text/plain": [
       "<IPython.core.display.Javascript object>"
      ]
     },
     "metadata": {},
     "output_type": "display_data"
    },
    {
     "data": {
      "application/javascript": [
       "\n",
       "    var start_point = [55.773373, 37.605786];\n",
       "    var end_point = [55.754568, 37.609586];\n",
       "    ymaps.ready(function () {\n",
       "    var theEl=document.getElementById(\"output\");    \n",
       "    ymaps.route([start_point, end_point], {\n",
       "            mapStateAutoApply: false,\n",
       "            avoidTrafficJams: false,\n",
       "            multiRoute: false,\n",
       "            routingMode: \"auto\",\n",
       "            viaIndexes: []\n",
       "        }).then(function (route) {\n",
       "            var points = route.getWayPoints();  \n",
       "            theEl.innerHTML = theEl.innerHTML+'1.0'+'|'+start_point+'; '+end_point+'|Расстояние --'+route.getHumanLength() + '|'+route.getLength()+'|'+ route.getJamsTime() + '|'+ route.getTime()+ '|'+1+'|'+202211131139+'\\r\\n';\n",
       "        }, function (error) {\n",
       "        theEl.innerHTML = theEl.innerHTML+'1.0'+'||||||' +1+'|'+202211131139+'\\r\\n';\n",
       "    });\n",
       "    });\n",
       "    "
      ],
      "text/plain": [
       "<IPython.core.display.Javascript object>"
      ]
     },
     "metadata": {},
     "output_type": "display_data"
    },
    {
     "data": {
      "application/javascript": [
       "\n",
       "    var start_point = [56.971192, 40.974487];\n",
       "    var end_point = [56.824809, 41.400594];\n",
       "    ymaps.ready(function () {\n",
       "    var theEl=document.getElementById(\"output\");    \n",
       "    ymaps.route([start_point, end_point], {\n",
       "            mapStateAutoApply: false,\n",
       "            avoidTrafficJams: false,\n",
       "            multiRoute: false,\n",
       "            routingMode: \"auto\",\n",
       "            viaIndexes: []\n",
       "        }).then(function (route) {\n",
       "            var points = route.getWayPoints();  \n",
       "            theEl.innerHTML = theEl.innerHTML+'2.0'+'|'+start_point+'; '+end_point+'|Расстояние --'+route.getHumanLength() + '|'+route.getLength()+'|'+ route.getJamsTime() + '|'+ route.getTime()+ '|'+1+'|'+202211131139+'\\r\\n';\n",
       "        }, function (error) {\n",
       "        theEl.innerHTML = theEl.innerHTML+'2.0'+'||||||' +1+'|'+202211131139+'\\r\\n';\n",
       "    });\n",
       "    });\n",
       "    "
      ],
      "text/plain": [
       "<IPython.core.display.Javascript object>"
      ]
     },
     "metadata": {},
     "output_type": "display_data"
    },
    {
     "data": {
      "application/javascript": [
       "\n",
       "    var start_point = [56.971192, 40.974487];\n",
       "    var end_point = [56.828217, 41.408652];\n",
       "    ymaps.ready(function () {\n",
       "    var theEl=document.getElementById(\"output\");    \n",
       "    ymaps.route([start_point, end_point], {\n",
       "            mapStateAutoApply: false,\n",
       "            avoidTrafficJams: false,\n",
       "            multiRoute: false,\n",
       "            routingMode: \"auto\",\n",
       "            viaIndexes: []\n",
       "        }).then(function (route) {\n",
       "            var points = route.getWayPoints();  \n",
       "            theEl.innerHTML = theEl.innerHTML+'3.0'+'|'+start_point+'; '+end_point+'|Расстояние --'+route.getHumanLength() + '|'+route.getLength()+'|'+ route.getJamsTime() + '|'+ route.getTime()+ '|'+1+'|'+202211131139+'\\r\\n';\n",
       "        }, function (error) {\n",
       "        theEl.innerHTML = theEl.innerHTML+'3.0'+'||||||' +1+'|'+202211131139+'\\r\\n';\n",
       "    });\n",
       "    });\n",
       "    "
      ],
      "text/plain": [
       "<IPython.core.display.Javascript object>"
      ]
     },
     "metadata": {},
     "output_type": "display_data"
    },
    {
     "data": {
      "application/javascript": [
       "\n",
       "    var start_point = [56.971192, 40.974487];\n",
       "    var end_point = [56.965923, 41.018989];\n",
       "    ymaps.ready(function () {\n",
       "    var theEl=document.getElementById(\"output\");    \n",
       "    ymaps.route([start_point, end_point], {\n",
       "            mapStateAutoApply: false,\n",
       "            avoidTrafficJams: false,\n",
       "            multiRoute: false,\n",
       "            routingMode: \"auto\",\n",
       "            viaIndexes: []\n",
       "        }).then(function (route) {\n",
       "            var points = route.getWayPoints();  \n",
       "            theEl.innerHTML = theEl.innerHTML+'4.0'+'|'+start_point+'; '+end_point+'|Расстояние --'+route.getHumanLength() + '|'+route.getLength()+'|'+ route.getJamsTime() + '|'+ route.getTime()+ '|'+1+'|'+202211131139+'\\r\\n';\n",
       "        }, function (error) {\n",
       "        theEl.innerHTML = theEl.innerHTML+'4.0'+'||||||' +1+'|'+202211131139+'\\r\\n';\n",
       "    });\n",
       "    });\n",
       "    "
      ],
      "text/plain": [
       "<IPython.core.display.Javascript object>"
      ]
     },
     "metadata": {},
     "output_type": "display_data"
    },
    {
     "data": {
      "application/javascript": [
       "\n",
       "    var start_point = [55.773373, 37.605786];\n",
       "    var end_point = [55.531132, 38.874756];\n",
       "    ymaps.ready(function () {\n",
       "    var theEl=document.getElementById(\"output\");    \n",
       "    ymaps.route([start_point, end_point], {\n",
       "            mapStateAutoApply: false,\n",
       "            avoidTrafficJams: false,\n",
       "            multiRoute: false,\n",
       "            routingMode: \"auto\",\n",
       "            viaIndexes: []\n",
       "        }).then(function (route) {\n",
       "            var points = route.getWayPoints();  \n",
       "            theEl.innerHTML = theEl.innerHTML+'5.0'+'|'+start_point+'; '+end_point+'|Расстояние --'+route.getHumanLength() + '|'+route.getLength()+'|'+ route.getJamsTime() + '|'+ route.getTime()+ '|'+1+'|'+202211131139+'\\r\\n';\n",
       "        }, function (error) {\n",
       "        theEl.innerHTML = theEl.innerHTML+'5.0'+'||||||' +1+'|'+202211131139+'\\r\\n';\n",
       "    });\n",
       "    });\n",
       "    "
      ],
      "text/plain": [
       "<IPython.core.display.Javascript object>"
      ]
     },
     "metadata": {},
     "output_type": "display_data"
    },
    {
     "data": {
      "application/javascript": [
       "\n",
       "    var start_point = [54.776482, 32.016091];\n",
       "    var end_point = [55.083575, 33.071001];\n",
       "    ymaps.ready(function () {\n",
       "    var theEl=document.getElementById(\"output\");    \n",
       "    ymaps.route([start_point, end_point], {\n",
       "            mapStateAutoApply: false,\n",
       "            avoidTrafficJams: false,\n",
       "            multiRoute: false,\n",
       "            routingMode: \"auto\",\n",
       "            viaIndexes: []\n",
       "        }).then(function (route) {\n",
       "            var points = route.getWayPoints();  \n",
       "            theEl.innerHTML = theEl.innerHTML+'6.0'+'|'+start_point+'; '+end_point+'|Расстояние --'+route.getHumanLength() + '|'+route.getLength()+'|'+ route.getJamsTime() + '|'+ route.getTime()+ '|'+1+'|'+202211131139+'\\r\\n';\n",
       "        }, function (error) {\n",
       "        theEl.innerHTML = theEl.innerHTML+'6.0'+'||||||' +1+'|'+202211131139+'\\r\\n';\n",
       "    });\n",
       "    });\n",
       "    "
      ],
      "text/plain": [
       "<IPython.core.display.Javascript object>"
      ]
     },
     "metadata": {},
     "output_type": "display_data"
    },
    {
     "data": {
      "application/javascript": [
       "\n",
       "    var start_point = [54.776482, 32.016091];\n",
       "    var end_point = [54.811892, 32.024257];\n",
       "    ymaps.ready(function () {\n",
       "    var theEl=document.getElementById(\"output\");    \n",
       "    ymaps.route([start_point, end_point], {\n",
       "            mapStateAutoApply: false,\n",
       "            avoidTrafficJams: false,\n",
       "            multiRoute: false,\n",
       "            routingMode: \"auto\",\n",
       "            viaIndexes: []\n",
       "        }).then(function (route) {\n",
       "            var points = route.getWayPoints();  \n",
       "            theEl.innerHTML = theEl.innerHTML+'7.0'+'|'+start_point+'; '+end_point+'|Расстояние --'+route.getHumanLength() + '|'+route.getLength()+'|'+ route.getJamsTime() + '|'+ route.getTime()+ '|'+1+'|'+202211131139+'\\r\\n';\n",
       "        }, function (error) {\n",
       "        theEl.innerHTML = theEl.innerHTML+'7.0'+'||||||' +1+'|'+202211131139+'\\r\\n';\n",
       "    });\n",
       "    });\n",
       "    "
      ],
      "text/plain": [
       "<IPython.core.display.Javascript object>"
      ]
     },
     "metadata": {},
     "output_type": "display_data"
    },
    {
     "data": {
      "application/javascript": [
       "\n",
       "    var start_point = [54.515377, 36.255241];\n",
       "    var end_point = [54.009909, 38.27434];\n",
       "    ymaps.ready(function () {\n",
       "    var theEl=document.getElementById(\"output\");    \n",
       "    ymaps.route([start_point, end_point], {\n",
       "            mapStateAutoApply: false,\n",
       "            avoidTrafficJams: false,\n",
       "            multiRoute: false,\n",
       "            routingMode: \"auto\",\n",
       "            viaIndexes: []\n",
       "        }).then(function (route) {\n",
       "            var points = route.getWayPoints();  \n",
       "            theEl.innerHTML = theEl.innerHTML+'8.0'+'|'+start_point+'; '+end_point+'|Расстояние --'+route.getHumanLength() + '|'+route.getLength()+'|'+ route.getJamsTime() + '|'+ route.getTime()+ '|'+1+'|'+202211131139+'\\r\\n';\n",
       "        }, function (error) {\n",
       "        theEl.innerHTML = theEl.innerHTML+'8.0'+'||||||' +1+'|'+202211131139+'\\r\\n';\n",
       "    });\n",
       "    });\n",
       "    "
      ],
      "text/plain": [
       "<IPython.core.display.Javascript object>"
      ]
     },
     "metadata": {},
     "output_type": "display_data"
    },
    {
     "data": {
      "application/javascript": [
       "\n",
       "    var start_point = [55.773373, 37.605786];\n",
       "    var end_point = [55.818776, 37.521354];\n",
       "    ymaps.ready(function () {\n",
       "    var theEl=document.getElementById(\"output\");    \n",
       "    ymaps.route([start_point, end_point], {\n",
       "            mapStateAutoApply: false,\n",
       "            avoidTrafficJams: false,\n",
       "            multiRoute: false,\n",
       "            routingMode: \"auto\",\n",
       "            viaIndexes: []\n",
       "        }).then(function (route) {\n",
       "            var points = route.getWayPoints();  \n",
       "            theEl.innerHTML = theEl.innerHTML+'9.0'+'|'+start_point+'; '+end_point+'|Расстояние --'+route.getHumanLength() + '|'+route.getLength()+'|'+ route.getJamsTime() + '|'+ route.getTime()+ '|'+1+'|'+202211131139+'\\r\\n';\n",
       "        }, function (error) {\n",
       "        theEl.innerHTML = theEl.innerHTML+'9.0'+'||||||' +1+'|'+202211131139+'\\r\\n';\n",
       "    });\n",
       "    });\n",
       "    "
      ],
      "text/plain": [
       "<IPython.core.display.Javascript object>"
      ]
     },
     "metadata": {},
     "output_type": "display_data"
    },
    {
     "data": {
      "application/javascript": [
       "\n",
       "    var start_point = [54.515377, 36.255241];\n",
       "    var end_point = [54.157576, 37.582071];\n",
       "    ymaps.ready(function () {\n",
       "    var theEl=document.getElementById(\"output\");    \n",
       "    ymaps.route([start_point, end_point], {\n",
       "            mapStateAutoApply: false,\n",
       "            avoidTrafficJams: false,\n",
       "            multiRoute: false,\n",
       "            routingMode: \"auto\",\n",
       "            viaIndexes: []\n",
       "        }).then(function (route) {\n",
       "            var points = route.getWayPoints();  \n",
       "            theEl.innerHTML = theEl.innerHTML+'10.0'+'|'+start_point+'; '+end_point+'|Расстояние --'+route.getHumanLength() + '|'+route.getLength()+'|'+ route.getJamsTime() + '|'+ route.getTime()+ '|'+1+'|'+202211131139+'\\r\\n';\n",
       "        }, function (error) {\n",
       "        theEl.innerHTML = theEl.innerHTML+'10.0'+'||||||' +1+'|'+202211131139+'\\r\\n';\n",
       "    });\n",
       "    });\n",
       "    "
      ],
      "text/plain": [
       "<IPython.core.display.Javascript object>"
      ]
     },
     "metadata": {},
     "output_type": "display_data"
    },
    {
     "data": {
      "application/javascript": [
       "\n",
       "    var start_point = [55.773373, 37.605786];\n",
       "    var end_point = [55.568329, 37.596758];\n",
       "    ymaps.ready(function () {\n",
       "    var theEl=document.getElementById(\"output\");    \n",
       "    ymaps.route([start_point, end_point], {\n",
       "            mapStateAutoApply: false,\n",
       "            avoidTrafficJams: false,\n",
       "            multiRoute: false,\n",
       "            routingMode: \"auto\",\n",
       "            viaIndexes: []\n",
       "        }).then(function (route) {\n",
       "            var points = route.getWayPoints();  \n",
       "            theEl.innerHTML = theEl.innerHTML+'11.0'+'|'+start_point+'; '+end_point+'|Расстояние --'+route.getHumanLength() + '|'+route.getLength()+'|'+ route.getJamsTime() + '|'+ route.getTime()+ '|'+1+'|'+202211131139+'\\r\\n';\n",
       "        }, function (error) {\n",
       "        theEl.innerHTML = theEl.innerHTML+'11.0'+'||||||' +1+'|'+202211131139+'\\r\\n';\n",
       "    });\n",
       "    });\n",
       "    "
      ],
      "text/plain": [
       "<IPython.core.display.Javascript object>"
      ]
     },
     "metadata": {},
     "output_type": "display_data"
    },
    {
     "data": {
      "application/javascript": [
       "\n",
       "    var start_point = [54.515377, 36.255241];\n",
       "    var end_point = [54.781052, 35.926916];\n",
       "    ymaps.ready(function () {\n",
       "    var theEl=document.getElementById(\"output\");    \n",
       "    ymaps.route([start_point, end_point], {\n",
       "            mapStateAutoApply: false,\n",
       "            avoidTrafficJams: false,\n",
       "            multiRoute: false,\n",
       "            routingMode: \"auto\",\n",
       "            viaIndexes: []\n",
       "        }).then(function (route) {\n",
       "            var points = route.getWayPoints();  \n",
       "            theEl.innerHTML = theEl.innerHTML+'12.0'+'|'+start_point+'; '+end_point+'|Расстояние --'+route.getHumanLength() + '|'+route.getLength()+'|'+ route.getJamsTime() + '|'+ route.getTime()+ '|'+1+'|'+202211131139+'\\r\\n';\n",
       "        }, function (error) {\n",
       "        theEl.innerHTML = theEl.innerHTML+'12.0'+'||||||' +1+'|'+202211131139+'\\r\\n';\n",
       "    });\n",
       "    });\n",
       "    "
      ],
      "text/plain": [
       "<IPython.core.display.Javascript object>"
      ]
     },
     "metadata": {},
     "output_type": "display_data"
    },
    {
     "data": {
      "application/javascript": [
       "\n",
       "    var start_point = [54.776482, 32.016091];\n",
       "    var end_point = [54.76957, 32.070511];\n",
       "    ymaps.ready(function () {\n",
       "    var theEl=document.getElementById(\"output\");    \n",
       "    ymaps.route([start_point, end_point], {\n",
       "            mapStateAutoApply: false,\n",
       "            avoidTrafficJams: false,\n",
       "            multiRoute: false,\n",
       "            routingMode: \"auto\",\n",
       "            viaIndexes: []\n",
       "        }).then(function (route) {\n",
       "            var points = route.getWayPoints();  \n",
       "            theEl.innerHTML = theEl.innerHTML+'13.0'+'|'+start_point+'; '+end_point+'|Расстояние --'+route.getHumanLength() + '|'+route.getLength()+'|'+ route.getJamsTime() + '|'+ route.getTime()+ '|'+1+'|'+202211131139+'\\r\\n';\n",
       "        }, function (error) {\n",
       "        theEl.innerHTML = theEl.innerHTML+'13.0'+'||||||' +1+'|'+202211131139+'\\r\\n';\n",
       "    });\n",
       "    });\n",
       "    "
      ],
      "text/plain": [
       "<IPython.core.display.Javascript object>"
      ]
     },
     "metadata": {},
     "output_type": "display_data"
    },
    {
     "data": {
      "application/javascript": [
       "\n",
       "    var start_point = [55.773373, 37.605786];\n",
       "    var end_point = [55.916678, 37.759264];\n",
       "    ymaps.ready(function () {\n",
       "    var theEl=document.getElementById(\"output\");    \n",
       "    ymaps.route([start_point, end_point], {\n",
       "            mapStateAutoApply: false,\n",
       "            avoidTrafficJams: false,\n",
       "            multiRoute: false,\n",
       "            routingMode: \"auto\",\n",
       "            viaIndexes: []\n",
       "        }).then(function (route) {\n",
       "            var points = route.getWayPoints();  \n",
       "            theEl.innerHTML = theEl.innerHTML+'14.0'+'|'+start_point+'; '+end_point+'|Расстояние --'+route.getHumanLength() + '|'+route.getLength()+'|'+ route.getJamsTime() + '|'+ route.getTime()+ '|'+1+'|'+202211131139+'\\r\\n';\n",
       "        }, function (error) {\n",
       "        theEl.innerHTML = theEl.innerHTML+'14.0'+'||||||' +1+'|'+202211131139+'\\r\\n';\n",
       "    });\n",
       "    });\n",
       "    "
      ],
      "text/plain": [
       "<IPython.core.display.Javascript object>"
      ]
     },
     "metadata": {},
     "output_type": "display_data"
    },
    {
     "data": {
      "application/javascript": [
       "\n",
       "    var start_point = [55.773373, 37.605786];\n",
       "    var end_point = [56.816114, 35.989053];\n",
       "    ymaps.ready(function () {\n",
       "    var theEl=document.getElementById(\"output\");    \n",
       "    ymaps.route([start_point, end_point], {\n",
       "            mapStateAutoApply: false,\n",
       "            avoidTrafficJams: false,\n",
       "            multiRoute: false,\n",
       "            routingMode: \"auto\",\n",
       "            viaIndexes: []\n",
       "        }).then(function (route) {\n",
       "            var points = route.getWayPoints();  \n",
       "            theEl.innerHTML = theEl.innerHTML+'15.0'+'|'+start_point+'; '+end_point+'|Расстояние --'+route.getHumanLength() + '|'+route.getLength()+'|'+ route.getJamsTime() + '|'+ route.getTime()+ '|'+1+'|'+202211131139+'\\r\\n';\n",
       "        }, function (error) {\n",
       "        theEl.innerHTML = theEl.innerHTML+'15.0'+'||||||' +1+'|'+202211131139+'\\r\\n';\n",
       "    });\n",
       "    });\n",
       "    "
      ],
      "text/plain": [
       "<IPython.core.display.Javascript object>"
      ]
     },
     "metadata": {},
     "output_type": "display_data"
    },
    {
     "data": {
      "application/javascript": [
       "\n",
       "    var start_point = [56.971192, 40.974487];\n",
       "    var end_point = [56.997656, 41.013123];\n",
       "    ymaps.ready(function () {\n",
       "    var theEl=document.getElementById(\"output\");    \n",
       "    ymaps.route([start_point, end_point], {\n",
       "            mapStateAutoApply: false,\n",
       "            avoidTrafficJams: false,\n",
       "            multiRoute: false,\n",
       "            routingMode: \"auto\",\n",
       "            viaIndexes: []\n",
       "        }).then(function (route) {\n",
       "            var points = route.getWayPoints();  \n",
       "            theEl.innerHTML = theEl.innerHTML+'16.0'+'|'+start_point+'; '+end_point+'|Расстояние --'+route.getHumanLength() + '|'+route.getLength()+'|'+ route.getJamsTime() + '|'+ route.getTime()+ '|'+1+'|'+202211131139+'\\r\\n';\n",
       "        }, function (error) {\n",
       "        theEl.innerHTML = theEl.innerHTML+'16.0'+'||||||' +1+'|'+202211131139+'\\r\\n';\n",
       "    });\n",
       "    });\n",
       "    "
      ],
      "text/plain": [
       "<IPython.core.display.Javascript object>"
      ]
     },
     "metadata": {},
     "output_type": "display_data"
    },
    {
     "data": {
      "application/javascript": [
       "\n",
       "    var start_point = [56.11985, 40.361872];\n",
       "    var end_point = [54.589994, 39.541647];\n",
       "    ymaps.ready(function () {\n",
       "    var theEl=document.getElementById(\"output\");    \n",
       "    ymaps.route([start_point, end_point], {\n",
       "            mapStateAutoApply: false,\n",
       "            avoidTrafficJams: false,\n",
       "            multiRoute: false,\n",
       "            routingMode: \"auto\",\n",
       "            viaIndexes: []\n",
       "        }).then(function (route) {\n",
       "            var points = route.getWayPoints();  \n",
       "            theEl.innerHTML = theEl.innerHTML+'17.0'+'|'+start_point+'; '+end_point+'|Расстояние --'+route.getHumanLength() + '|'+route.getLength()+'|'+ route.getJamsTime() + '|'+ route.getTime()+ '|'+1+'|'+202211131139+'\\r\\n';\n",
       "        }, function (error) {\n",
       "        theEl.innerHTML = theEl.innerHTML+'17.0'+'||||||' +1+'|'+202211131139+'\\r\\n';\n",
       "    });\n",
       "    });\n",
       "    "
      ],
      "text/plain": [
       "<IPython.core.display.Javascript object>"
      ]
     },
     "metadata": {},
     "output_type": "display_data"
    },
    {
     "data": {
      "application/javascript": [
       "\n",
       "    var start_point = [51.718076, 36.132226];\n",
       "    var end_point = [52.129588, 34.497068];\n",
       "    ymaps.ready(function () {\n",
       "    var theEl=document.getElementById(\"output\");    \n",
       "    ymaps.route([start_point, end_point], {\n",
       "            mapStateAutoApply: false,\n",
       "            avoidTrafficJams: false,\n",
       "            multiRoute: false,\n",
       "            routingMode: \"auto\",\n",
       "            viaIndexes: []\n",
       "        }).then(function (route) {\n",
       "            var points = route.getWayPoints();  \n",
       "            theEl.innerHTML = theEl.innerHTML+'18.0'+'|'+start_point+'; '+end_point+'|Расстояние --'+route.getHumanLength() + '|'+route.getLength()+'|'+ route.getJamsTime() + '|'+ route.getTime()+ '|'+1+'|'+202211131139+'\\r\\n';\n",
       "        }, function (error) {\n",
       "        theEl.innerHTML = theEl.innerHTML+'18.0'+'||||||' +1+'|'+202211131139+'\\r\\n';\n",
       "    });\n",
       "    });\n",
       "    "
      ],
      "text/plain": [
       "<IPython.core.display.Javascript object>"
      ]
     },
     "metadata": {},
     "output_type": "display_data"
    },
    {
     "data": {
      "application/javascript": [
       "\n",
       "    var start_point = [55.773373, 37.605786];\n",
       "    var end_point = [54.898235, 38.078749];\n",
       "    ymaps.ready(function () {\n",
       "    var theEl=document.getElementById(\"output\");    \n",
       "    ymaps.route([start_point, end_point], {\n",
       "            mapStateAutoApply: false,\n",
       "            avoidTrafficJams: false,\n",
       "            multiRoute: false,\n",
       "            routingMode: \"auto\",\n",
       "            viaIndexes: []\n",
       "        }).then(function (route) {\n",
       "            var points = route.getWayPoints();  \n",
       "            theEl.innerHTML = theEl.innerHTML+'19.0'+'|'+start_point+'; '+end_point+'|Расстояние --'+route.getHumanLength() + '|'+route.getLength()+'|'+ route.getJamsTime() + '|'+ route.getTime()+ '|'+1+'|'+202211131139+'\\r\\n';\n",
       "        }, function (error) {\n",
       "        theEl.innerHTML = theEl.innerHTML+'19.0'+'||||||' +1+'|'+202211131139+'\\r\\n';\n",
       "    });\n",
       "    });\n",
       "    "
      ],
      "text/plain": [
       "<IPython.core.display.Javascript object>"
      ]
     },
     "metadata": {},
     "output_type": "display_data"
    },
    {
     "data": {
      "application/javascript": [
       "\n",
       "    var start_point = [56.971192, 40.974487];\n",
       "    var end_point = [56.967841, 41.966406];\n",
       "    ymaps.ready(function () {\n",
       "    var theEl=document.getElementById(\"output\");    \n",
       "    ymaps.route([start_point, end_point], {\n",
       "            mapStateAutoApply: false,\n",
       "            avoidTrafficJams: false,\n",
       "            multiRoute: false,\n",
       "            routingMode: \"auto\",\n",
       "            viaIndexes: []\n",
       "        }).then(function (route) {\n",
       "            var points = route.getWayPoints();  \n",
       "            theEl.innerHTML = theEl.innerHTML+'20.0'+'|'+start_point+'; '+end_point+'|Расстояние --'+route.getHumanLength() + '|'+route.getLength()+'|'+ route.getJamsTime() + '|'+ route.getTime()+ '|'+1+'|'+202211131139+'\\r\\n';\n",
       "        }, function (error) {\n",
       "        theEl.innerHTML = theEl.innerHTML+'20.0'+'||||||' +1+'|'+202211131139+'\\r\\n';\n",
       "    });\n",
       "    });\n",
       "    "
      ],
      "text/plain": [
       "<IPython.core.display.Javascript object>"
      ]
     },
     "metadata": {},
     "output_type": "display_data"
    },
    {
     "data": {
      "application/javascript": [
       "\n",
       "    var start_point = [54.515377, 36.255241];\n",
       "    var end_point = [54.193702, 37.612039];\n",
       "    ymaps.ready(function () {\n",
       "    var theEl=document.getElementById(\"output\");    \n",
       "    ymaps.route([start_point, end_point], {\n",
       "            mapStateAutoApply: false,\n",
       "            avoidTrafficJams: false,\n",
       "            multiRoute: false,\n",
       "            routingMode: \"auto\",\n",
       "            viaIndexes: []\n",
       "        }).then(function (route) {\n",
       "            var points = route.getWayPoints();  \n",
       "            theEl.innerHTML = theEl.innerHTML+'21.0'+'|'+start_point+'; '+end_point+'|Расстояние --'+route.getHumanLength() + '|'+route.getLength()+'|'+ route.getJamsTime() + '|'+ route.getTime()+ '|'+1+'|'+202211131139+'\\r\\n';\n",
       "        }, function (error) {\n",
       "        theEl.innerHTML = theEl.innerHTML+'21.0'+'||||||' +1+'|'+202211131139+'\\r\\n';\n",
       "    });\n",
       "    });\n",
       "    "
      ],
      "text/plain": [
       "<IPython.core.display.Javascript object>"
      ]
     },
     "metadata": {},
     "output_type": "display_data"
    },
    {
     "data": {
      "application/javascript": [
       "\n",
       "    var start_point = [54.515377, 36.255241];\n",
       "    var end_point = [54.203525, 37.590237];\n",
       "    ymaps.ready(function () {\n",
       "    var theEl=document.getElementById(\"output\");    \n",
       "    ymaps.route([start_point, end_point], {\n",
       "            mapStateAutoApply: false,\n",
       "            avoidTrafficJams: false,\n",
       "            multiRoute: false,\n",
       "            routingMode: \"auto\",\n",
       "            viaIndexes: []\n",
       "        }).then(function (route) {\n",
       "            var points = route.getWayPoints();  \n",
       "            theEl.innerHTML = theEl.innerHTML+'22.0'+'|'+start_point+'; '+end_point+'|Расстояние --'+route.getHumanLength() + '|'+route.getLength()+'|'+ route.getJamsTime() + '|'+ route.getTime()+ '|'+1+'|'+202211131139+'\\r\\n';\n",
       "        }, function (error) {\n",
       "        theEl.innerHTML = theEl.innerHTML+'22.0'+'||||||' +1+'|'+202211131139+'\\r\\n';\n",
       "    });\n",
       "    });\n",
       "    "
      ],
      "text/plain": [
       "<IPython.core.display.Javascript object>"
      ]
     },
     "metadata": {},
     "output_type": "display_data"
    },
    {
     "data": {
      "application/javascript": [
       "\n",
       "    var start_point = [54.515377, 36.255241];\n",
       "    var end_point = [54.203856, 37.515703];\n",
       "    ymaps.ready(function () {\n",
       "    var theEl=document.getElementById(\"output\");    \n",
       "    ymaps.route([start_point, end_point], {\n",
       "            mapStateAutoApply: false,\n",
       "            avoidTrafficJams: false,\n",
       "            multiRoute: false,\n",
       "            routingMode: \"auto\",\n",
       "            viaIndexes: []\n",
       "        }).then(function (route) {\n",
       "            var points = route.getWayPoints();  \n",
       "            theEl.innerHTML = theEl.innerHTML+'23.0'+'|'+start_point+'; '+end_point+'|Расстояние --'+route.getHumanLength() + '|'+route.getLength()+'|'+ route.getJamsTime() + '|'+ route.getTime()+ '|'+1+'|'+202211131139+'\\r\\n';\n",
       "        }, function (error) {\n",
       "        theEl.innerHTML = theEl.innerHTML+'23.0'+'||||||' +1+'|'+202211131139+'\\r\\n';\n",
       "    });\n",
       "    });\n",
       "    "
      ],
      "text/plain": [
       "<IPython.core.display.Javascript object>"
      ]
     },
     "metadata": {},
     "output_type": "display_data"
    },
    {
     "data": {
      "application/javascript": [
       "\n",
       "    var start_point = [54.515377, 36.255241];\n",
       "    var end_point = [54.474303, 38.727863];\n",
       "    ymaps.ready(function () {\n",
       "    var theEl=document.getElementById(\"output\");    \n",
       "    ymaps.route([start_point, end_point], {\n",
       "            mapStateAutoApply: false,\n",
       "            avoidTrafficJams: false,\n",
       "            multiRoute: false,\n",
       "            routingMode: \"auto\",\n",
       "            viaIndexes: []\n",
       "        }).then(function (route) {\n",
       "            var points = route.getWayPoints();  \n",
       "            theEl.innerHTML = theEl.innerHTML+'24.0'+'|'+start_point+'; '+end_point+'|Расстояние --'+route.getHumanLength() + '|'+route.getLength()+'|'+ route.getJamsTime() + '|'+ route.getTime()+ '|'+1+'|'+202211131139+'\\r\\n';\n",
       "        }, function (error) {\n",
       "        theEl.innerHTML = theEl.innerHTML+'24.0'+'||||||' +1+'|'+202211131139+'\\r\\n';\n",
       "    });\n",
       "    });\n",
       "    "
      ],
      "text/plain": [
       "<IPython.core.display.Javascript object>"
      ]
     },
     "metadata": {},
     "output_type": "display_data"
    },
    {
     "data": {
      "application/javascript": [
       "\n",
       "    var start_point = [54.515377, 36.255241];\n",
       "    var end_point = [54.47357, 38.727001];\n",
       "    ymaps.ready(function () {\n",
       "    var theEl=document.getElementById(\"output\");    \n",
       "    ymaps.route([start_point, end_point], {\n",
       "            mapStateAutoApply: false,\n",
       "            avoidTrafficJams: false,\n",
       "            multiRoute: false,\n",
       "            routingMode: \"auto\",\n",
       "            viaIndexes: []\n",
       "        }).then(function (route) {\n",
       "            var points = route.getWayPoints();  \n",
       "            theEl.innerHTML = theEl.innerHTML+'25.0'+'|'+start_point+'; '+end_point+'|Расстояние --'+route.getHumanLength() + '|'+route.getLength()+'|'+ route.getJamsTime() + '|'+ route.getTime()+ '|'+1+'|'+202211131139+'\\r\\n';\n",
       "        }, function (error) {\n",
       "        theEl.innerHTML = theEl.innerHTML+'25.0'+'||||||' +1+'|'+202211131139+'\\r\\n';\n",
       "    });\n",
       "    });\n",
       "    "
      ],
      "text/plain": [
       "<IPython.core.display.Javascript object>"
      ]
     },
     "metadata": {},
     "output_type": "display_data"
    },
    {
     "data": {
      "application/javascript": [
       "\n",
       "    var start_point = [54.515377, 36.255241];\n",
       "    var end_point = [54.043499, 38.250813];\n",
       "    ymaps.ready(function () {\n",
       "    var theEl=document.getElementById(\"output\");    \n",
       "    ymaps.route([start_point, end_point], {\n",
       "            mapStateAutoApply: false,\n",
       "            avoidTrafficJams: false,\n",
       "            multiRoute: false,\n",
       "            routingMode: \"auto\",\n",
       "            viaIndexes: []\n",
       "        }).then(function (route) {\n",
       "            var points = route.getWayPoints();  \n",
       "            theEl.innerHTML = theEl.innerHTML+'26.0'+'|'+start_point+'; '+end_point+'|Расстояние --'+route.getHumanLength() + '|'+route.getLength()+'|'+ route.getJamsTime() + '|'+ route.getTime()+ '|'+1+'|'+202211131139+'\\r\\n';\n",
       "        }, function (error) {\n",
       "        theEl.innerHTML = theEl.innerHTML+'26.0'+'||||||' +1+'|'+202211131139+'\\r\\n';\n",
       "    });\n",
       "    });\n",
       "    "
      ],
      "text/plain": [
       "<IPython.core.display.Javascript object>"
      ]
     },
     "metadata": {},
     "output_type": "display_data"
    },
    {
     "data": {
      "application/javascript": [
       "\n",
       "    var start_point = [54.515377, 36.255241];\n",
       "    var end_point = [54.042431, 38.248836];\n",
       "    ymaps.ready(function () {\n",
       "    var theEl=document.getElementById(\"output\");    \n",
       "    ymaps.route([start_point, end_point], {\n",
       "            mapStateAutoApply: false,\n",
       "            avoidTrafficJams: false,\n",
       "            multiRoute: false,\n",
       "            routingMode: \"auto\",\n",
       "            viaIndexes: []\n",
       "        }).then(function (route) {\n",
       "            var points = route.getWayPoints();  \n",
       "            theEl.innerHTML = theEl.innerHTML+'27.0'+'|'+start_point+'; '+end_point+'|Расстояние --'+route.getHumanLength() + '|'+route.getLength()+'|'+ route.getJamsTime() + '|'+ route.getTime()+ '|'+1+'|'+202211131139+'\\r\\n';\n",
       "        }, function (error) {\n",
       "        theEl.innerHTML = theEl.innerHTML+'27.0'+'||||||' +1+'|'+202211131139+'\\r\\n';\n",
       "    });\n",
       "    });\n",
       "    "
      ],
      "text/plain": [
       "<IPython.core.display.Javascript object>"
      ]
     },
     "metadata": {},
     "output_type": "display_data"
    },
    {
     "data": {
      "application/javascript": [
       "\n",
       "    var start_point = [54.515377, 36.255241];\n",
       "    var end_point = [53.708027, 37.300997];\n",
       "    ymaps.ready(function () {\n",
       "    var theEl=document.getElementById(\"output\");    \n",
       "    ymaps.route([start_point, end_point], {\n",
       "            mapStateAutoApply: false,\n",
       "            avoidTrafficJams: false,\n",
       "            multiRoute: false,\n",
       "            routingMode: \"auto\",\n",
       "            viaIndexes: []\n",
       "        }).then(function (route) {\n",
       "            var points = route.getWayPoints();  \n",
       "            theEl.innerHTML = theEl.innerHTML+'28.0'+'|'+start_point+'; '+end_point+'|Расстояние --'+route.getHumanLength() + '|'+route.getLength()+'|'+ route.getJamsTime() + '|'+ route.getTime()+ '|'+1+'|'+202211131139+'\\r\\n';\n",
       "        }, function (error) {\n",
       "        theEl.innerHTML = theEl.innerHTML+'28.0'+'||||||' +1+'|'+202211131139+'\\r\\n';\n",
       "    });\n",
       "    });\n",
       "    "
      ],
      "text/plain": [
       "<IPython.core.display.Javascript object>"
      ]
     },
     "metadata": {},
     "output_type": "display_data"
    },
    {
     "data": {
      "application/javascript": [
       "\n",
       "    var start_point = [55.773373, 37.605786];\n",
       "    var end_point = [55.728398, 38.034382];\n",
       "    ymaps.ready(function () {\n",
       "    var theEl=document.getElementById(\"output\");    \n",
       "    ymaps.route([start_point, end_point], {\n",
       "            mapStateAutoApply: false,\n",
       "            avoidTrafficJams: false,\n",
       "            multiRoute: false,\n",
       "            routingMode: \"auto\",\n",
       "            viaIndexes: []\n",
       "        }).then(function (route) {\n",
       "            var points = route.getWayPoints();  \n",
       "            theEl.innerHTML = theEl.innerHTML+'29.0'+'|'+start_point+'; '+end_point+'|Расстояние --'+route.getHumanLength() + '|'+route.getLength()+'|'+ route.getJamsTime() + '|'+ route.getTime()+ '|'+1+'|'+202211131139+'\\r\\n';\n",
       "        }, function (error) {\n",
       "        theEl.innerHTML = theEl.innerHTML+'29.0'+'||||||' +1+'|'+202211131139+'\\r\\n';\n",
       "    });\n",
       "    });\n",
       "    "
      ],
      "text/plain": [
       "<IPython.core.display.Javascript object>"
      ]
     },
     "metadata": {},
     "output_type": "display_data"
    },
    {
     "data": {
      "application/javascript": [
       "\n",
       "    var start_point = [56.971192, 40.974487];\n",
       "    var end_point = [56.969038, 40.939479];\n",
       "    ymaps.ready(function () {\n",
       "    var theEl=document.getElementById(\"output\");    \n",
       "    ymaps.route([start_point, end_point], {\n",
       "            mapStateAutoApply: false,\n",
       "            avoidTrafficJams: false,\n",
       "            multiRoute: false,\n",
       "            routingMode: \"auto\",\n",
       "            viaIndexes: []\n",
       "        }).then(function (route) {\n",
       "            var points = route.getWayPoints();  \n",
       "            theEl.innerHTML = theEl.innerHTML+'30.0'+'|'+start_point+'; '+end_point+'|Расстояние --'+route.getHumanLength() + '|'+route.getLength()+'|'+ route.getJamsTime() + '|'+ route.getTime()+ '|'+1+'|'+202211131139+'\\r\\n';\n",
       "        }, function (error) {\n",
       "        theEl.innerHTML = theEl.innerHTML+'30.0'+'||||||' +1+'|'+202211131139+'\\r\\n';\n",
       "    });\n",
       "    });\n",
       "    "
      ],
      "text/plain": [
       "<IPython.core.display.Javascript object>"
      ]
     },
     "metadata": {},
     "output_type": "display_data"
    },
    {
     "data": {
      "application/javascript": [
       "\n",
       "    var start_point = [56.971192, 40.974487];\n",
       "    var end_point = [56.974003, 40.929697];\n",
       "    ymaps.ready(function () {\n",
       "    var theEl=document.getElementById(\"output\");    \n",
       "    ymaps.route([start_point, end_point], {\n",
       "            mapStateAutoApply: false,\n",
       "            avoidTrafficJams: false,\n",
       "            multiRoute: false,\n",
       "            routingMode: \"auto\",\n",
       "            viaIndexes: []\n",
       "        }).then(function (route) {\n",
       "            var points = route.getWayPoints();  \n",
       "            theEl.innerHTML = theEl.innerHTML+'31.0'+'|'+start_point+'; '+end_point+'|Расстояние --'+route.getHumanLength() + '|'+route.getLength()+'|'+ route.getJamsTime() + '|'+ route.getTime()+ '|'+1+'|'+202211131139+'\\r\\n';\n",
       "        }, function (error) {\n",
       "        theEl.innerHTML = theEl.innerHTML+'31.0'+'||||||' +1+'|'+202211131139+'\\r\\n';\n",
       "    });\n",
       "    });\n",
       "    "
      ],
      "text/plain": [
       "<IPython.core.display.Javascript object>"
      ]
     },
     "metadata": {},
     "output_type": "display_data"
    },
    {
     "data": {
      "application/javascript": [
       "\n",
       "    var start_point = [54.515377, 36.255241];\n",
       "    var end_point = [55.121216, 36.571421];\n",
       "    ymaps.ready(function () {\n",
       "    var theEl=document.getElementById(\"output\");    \n",
       "    ymaps.route([start_point, end_point], {\n",
       "            mapStateAutoApply: false,\n",
       "            avoidTrafficJams: false,\n",
       "            multiRoute: false,\n",
       "            routingMode: \"auto\",\n",
       "            viaIndexes: []\n",
       "        }).then(function (route) {\n",
       "            var points = route.getWayPoints();  \n",
       "            theEl.innerHTML = theEl.innerHTML+'32.0'+'|'+start_point+'; '+end_point+'|Расстояние --'+route.getHumanLength() + '|'+route.getLength()+'|'+ route.getJamsTime() + '|'+ route.getTime()+ '|'+1+'|'+202211131139+'\\r\\n';\n",
       "        }, function (error) {\n",
       "        theEl.innerHTML = theEl.innerHTML+'32.0'+'||||||' +1+'|'+202211131139+'\\r\\n';\n",
       "    });\n",
       "    });\n",
       "    "
      ],
      "text/plain": [
       "<IPython.core.display.Javascript object>"
      ]
     },
     "metadata": {},
     "output_type": "display_data"
    },
    {
     "data": {
      "application/javascript": [
       "\n",
       "    var start_point = [55.773373, 37.605786];\n",
       "    var end_point = [55.923942, 38.001405];\n",
       "    ymaps.ready(function () {\n",
       "    var theEl=document.getElementById(\"output\");    \n",
       "    ymaps.route([start_point, end_point], {\n",
       "            mapStateAutoApply: false,\n",
       "            avoidTrafficJams: false,\n",
       "            multiRoute: false,\n",
       "            routingMode: \"auto\",\n",
       "            viaIndexes: []\n",
       "        }).then(function (route) {\n",
       "            var points = route.getWayPoints();  \n",
       "            theEl.innerHTML = theEl.innerHTML+'33.0'+'|'+start_point+'; '+end_point+'|Расстояние --'+route.getHumanLength() + '|'+route.getLength()+'|'+ route.getJamsTime() + '|'+ route.getTime()+ '|'+1+'|'+202211131139+'\\r\\n';\n",
       "        }, function (error) {\n",
       "        theEl.innerHTML = theEl.innerHTML+'33.0'+'||||||' +1+'|'+202211131139+'\\r\\n';\n",
       "    });\n",
       "    });\n",
       "    "
      ],
      "text/plain": [
       "<IPython.core.display.Javascript object>"
      ]
     },
     "metadata": {},
     "output_type": "display_data"
    },
    {
     "data": {
      "application/javascript": [
       "\n",
       "    var start_point = [55.773373, 37.605786];\n",
       "    var end_point = [55.950539, 37.106413];\n",
       "    ymaps.ready(function () {\n",
       "    var theEl=document.getElementById(\"output\");    \n",
       "    ymaps.route([start_point, end_point], {\n",
       "            mapStateAutoApply: false,\n",
       "            avoidTrafficJams: false,\n",
       "            multiRoute: false,\n",
       "            routingMode: \"auto\",\n",
       "            viaIndexes: []\n",
       "        }).then(function (route) {\n",
       "            var points = route.getWayPoints();  \n",
       "            theEl.innerHTML = theEl.innerHTML+'34.0'+'|'+start_point+'; '+end_point+'|Расстояние --'+route.getHumanLength() + '|'+route.getLength()+'|'+ route.getJamsTime() + '|'+ route.getTime()+ '|'+1+'|'+202211131139+'\\r\\n';\n",
       "        }, function (error) {\n",
       "        theEl.innerHTML = theEl.innerHTML+'34.0'+'||||||' +1+'|'+202211131139+'\\r\\n';\n",
       "    });\n",
       "    });\n",
       "    "
      ],
      "text/plain": [
       "<IPython.core.display.Javascript object>"
      ]
     },
     "metadata": {},
     "output_type": "display_data"
    },
    {
     "data": {
      "application/javascript": [
       "\n",
       "    var start_point = [55.773373, 37.605786];\n",
       "    var end_point = [55.531132, 38.874756];\n",
       "    ymaps.ready(function () {\n",
       "    var theEl=document.getElementById(\"output\");    \n",
       "    ymaps.route([start_point, end_point], {\n",
       "            mapStateAutoApply: false,\n",
       "            avoidTrafficJams: false,\n",
       "            multiRoute: false,\n",
       "            routingMode: \"auto\",\n",
       "            viaIndexes: []\n",
       "        }).then(function (route) {\n",
       "            var points = route.getWayPoints();  \n",
       "            theEl.innerHTML = theEl.innerHTML+'35.0'+'|'+start_point+'; '+end_point+'|Расстояние --'+route.getHumanLength() + '|'+route.getLength()+'|'+ route.getJamsTime() + '|'+ route.getTime()+ '|'+1+'|'+202211131139+'\\r\\n';\n",
       "        }, function (error) {\n",
       "        theEl.innerHTML = theEl.innerHTML+'35.0'+'||||||' +1+'|'+202211131139+'\\r\\n';\n",
       "    });\n",
       "    });\n",
       "    "
      ],
      "text/plain": [
       "<IPython.core.display.Javascript object>"
      ]
     },
     "metadata": {},
     "output_type": "display_data"
    },
    {
     "data": {
      "application/javascript": [
       "\n",
       "    var start_point = [55.773373, 37.605786];\n",
       "    var end_point = [56.821814, 35.976656];\n",
       "    ymaps.ready(function () {\n",
       "    var theEl=document.getElementById(\"output\");    \n",
       "    ymaps.route([start_point, end_point], {\n",
       "            mapStateAutoApply: false,\n",
       "            avoidTrafficJams: false,\n",
       "            multiRoute: false,\n",
       "            routingMode: \"auto\",\n",
       "            viaIndexes: []\n",
       "        }).then(function (route) {\n",
       "            var points = route.getWayPoints();  \n",
       "            theEl.innerHTML = theEl.innerHTML+'36.0'+'|'+start_point+'; '+end_point+'|Расстояние --'+route.getHumanLength() + '|'+route.getLength()+'|'+ route.getJamsTime() + '|'+ route.getTime()+ '|'+1+'|'+202211131139+'\\r\\n';\n",
       "        }, function (error) {\n",
       "        theEl.innerHTML = theEl.innerHTML+'36.0'+'||||||' +1+'|'+202211131139+'\\r\\n';\n",
       "    });\n",
       "    });\n",
       "    "
      ],
      "text/plain": [
       "<IPython.core.display.Javascript object>"
      ]
     },
     "metadata": {},
     "output_type": "display_data"
    },
    {
     "data": {
      "application/javascript": [
       "\n",
       "    var start_point = [47.215903, 39.705868];\n",
       "    var end_point = [47.291017, 39.852814];\n",
       "    ymaps.ready(function () {\n",
       "    var theEl=document.getElementById(\"output\");    \n",
       "    ymaps.route([start_point, end_point], {\n",
       "            mapStateAutoApply: false,\n",
       "            avoidTrafficJams: false,\n",
       "            multiRoute: false,\n",
       "            routingMode: \"auto\",\n",
       "            viaIndexes: []\n",
       "        }).then(function (route) {\n",
       "            var points = route.getWayPoints();  \n",
       "            theEl.innerHTML = theEl.innerHTML+'37.0'+'|'+start_point+'; '+end_point+'|Расстояние --'+route.getHumanLength() + '|'+route.getLength()+'|'+ route.getJamsTime() + '|'+ route.getTime()+ '|'+1+'|'+202211131139+'\\r\\n';\n",
       "        }, function (error) {\n",
       "        theEl.innerHTML = theEl.innerHTML+'37.0'+'||||||' +1+'|'+202211131139+'\\r\\n';\n",
       "    });\n",
       "    });\n",
       "    "
      ],
      "text/plain": [
       "<IPython.core.display.Javascript object>"
      ]
     },
     "metadata": {},
     "output_type": "display_data"
    },
    {
     "data": {
      "application/javascript": [
       "\n",
       "    var start_point = [53.214049, 50.185398];\n",
       "    var end_point = [53.231031, 50.59512];\n",
       "    ymaps.ready(function () {\n",
       "    var theEl=document.getElementById(\"output\");    \n",
       "    ymaps.route([start_point, end_point], {\n",
       "            mapStateAutoApply: false,\n",
       "            avoidTrafficJams: false,\n",
       "            multiRoute: false,\n",
       "            routingMode: \"auto\",\n",
       "            viaIndexes: []\n",
       "        }).then(function (route) {\n",
       "            var points = route.getWayPoints();  \n",
       "            theEl.innerHTML = theEl.innerHTML+'38.0'+'|'+start_point+'; '+end_point+'|Расстояние --'+route.getHumanLength() + '|'+route.getLength()+'|'+ route.getJamsTime() + '|'+ route.getTime()+ '|'+1+'|'+202211131139+'\\r\\n';\n",
       "        }, function (error) {\n",
       "        theEl.innerHTML = theEl.innerHTML+'38.0'+'||||||' +1+'|'+202211131139+'\\r\\n';\n",
       "    });\n",
       "    });\n",
       "    "
      ],
      "text/plain": [
       "<IPython.core.display.Javascript object>"
      ]
     },
     "metadata": {},
     "output_type": "display_data"
    },
    {
     "data": {
      "application/javascript": [
       "\n",
       "    var start_point = [55.024549, 82.92652];\n",
       "    var end_point = [54.941901, 82.916459];\n",
       "    ymaps.ready(function () {\n",
       "    var theEl=document.getElementById(\"output\");    \n",
       "    ymaps.route([start_point, end_point], {\n",
       "            mapStateAutoApply: false,\n",
       "            avoidTrafficJams: false,\n",
       "            multiRoute: false,\n",
       "            routingMode: \"auto\",\n",
       "            viaIndexes: []\n",
       "        }).then(function (route) {\n",
       "            var points = route.getWayPoints();  \n",
       "            theEl.innerHTML = theEl.innerHTML+'39.0'+'|'+start_point+'; '+end_point+'|Расстояние --'+route.getHumanLength() + '|'+route.getLength()+'|'+ route.getJamsTime() + '|'+ route.getTime()+ '|'+1+'|'+202211131139+'\\r\\n';\n",
       "        }, function (error) {\n",
       "        theEl.innerHTML = theEl.innerHTML+'39.0'+'||||||' +1+'|'+202211131139+'\\r\\n';\n",
       "    });\n",
       "    });\n",
       "    "
      ],
      "text/plain": [
       "<IPython.core.display.Javascript object>"
      ]
     },
     "metadata": {},
     "output_type": "display_data"
    },
    {
     "data": {
      "application/javascript": [
       "\n",
       "    var start_point = [55.773373, 37.605786];\n",
       "    var end_point = [56.835446, 35.945287];\n",
       "    ymaps.ready(function () {\n",
       "    var theEl=document.getElementById(\"output\");    \n",
       "    ymaps.route([start_point, end_point], {\n",
       "            mapStateAutoApply: false,\n",
       "            avoidTrafficJams: false,\n",
       "            multiRoute: false,\n",
       "            routingMode: \"auto\",\n",
       "            viaIndexes: []\n",
       "        }).then(function (route) {\n",
       "            var points = route.getWayPoints();  \n",
       "            theEl.innerHTML = theEl.innerHTML+'40.0'+'|'+start_point+'; '+end_point+'|Расстояние --'+route.getHumanLength() + '|'+route.getLength()+'|'+ route.getJamsTime() + '|'+ route.getTime()+ '|'+1+'|'+202211131139+'\\r\\n';\n",
       "        }, function (error) {\n",
       "        theEl.innerHTML = theEl.innerHTML+'40.0'+'||||||' +1+'|'+202211131139+'\\r\\n';\n",
       "    });\n",
       "    });\n",
       "    "
      ],
      "text/plain": [
       "<IPython.core.display.Javascript object>"
      ]
     },
     "metadata": {},
     "output_type": "display_data"
    },
    {
     "data": {
      "application/javascript": [
       "\n",
       "    var start_point = [57.76403, 40.957688];\n",
       "    var end_point = [57.440839, 42.136745];\n",
       "    ymaps.ready(function () {\n",
       "    var theEl=document.getElementById(\"output\");    \n",
       "    ymaps.route([start_point, end_point], {\n",
       "            mapStateAutoApply: false,\n",
       "            avoidTrafficJams: false,\n",
       "            multiRoute: false,\n",
       "            routingMode: \"auto\",\n",
       "            viaIndexes: []\n",
       "        }).then(function (route) {\n",
       "            var points = route.getWayPoints();  \n",
       "            theEl.innerHTML = theEl.innerHTML+'41.0'+'|'+start_point+'; '+end_point+'|Расстояние --'+route.getHumanLength() + '|'+route.getLength()+'|'+ route.getJamsTime() + '|'+ route.getTime()+ '|'+1+'|'+202211131139+'\\r\\n';\n",
       "        }, function (error) {\n",
       "        theEl.innerHTML = theEl.innerHTML+'41.0'+'||||||' +1+'|'+202211131139+'\\r\\n';\n",
       "    });\n",
       "    });\n",
       "    "
      ],
      "text/plain": [
       "<IPython.core.display.Javascript object>"
      ]
     },
     "metadata": {},
     "output_type": "display_data"
    },
    {
     "data": {
      "application/javascript": [
       "\n",
       "    var start_point = [54.515377, 36.255241];\n",
       "    var end_point = [54.188228, 37.542392];\n",
       "    ymaps.ready(function () {\n",
       "    var theEl=document.getElementById(\"output\");    \n",
       "    ymaps.route([start_point, end_point], {\n",
       "            mapStateAutoApply: false,\n",
       "            avoidTrafficJams: false,\n",
       "            multiRoute: false,\n",
       "            routingMode: \"auto\",\n",
       "            viaIndexes: []\n",
       "        }).then(function (route) {\n",
       "            var points = route.getWayPoints();  \n",
       "            theEl.innerHTML = theEl.innerHTML+'42.0'+'|'+start_point+'; '+end_point+'|Расстояние --'+route.getHumanLength() + '|'+route.getLength()+'|'+ route.getJamsTime() + '|'+ route.getTime()+ '|'+1+'|'+202211131139+'\\r\\n';\n",
       "        }, function (error) {\n",
       "        theEl.innerHTML = theEl.innerHTML+'42.0'+'||||||' +1+'|'+202211131139+'\\r\\n';\n",
       "    });\n",
       "    });\n",
       "    "
      ],
      "text/plain": [
       "<IPython.core.display.Javascript object>"
      ]
     },
     "metadata": {},
     "output_type": "display_data"
    },
    {
     "data": {
      "application/javascript": [
       "\n",
       "    var start_point = [55.773373, 37.605786];\n",
       "    var end_point = [55.598217, 36.46984];\n",
       "    ymaps.ready(function () {\n",
       "    var theEl=document.getElementById(\"output\");    \n",
       "    ymaps.route([start_point, end_point], {\n",
       "            mapStateAutoApply: false,\n",
       "            avoidTrafficJams: false,\n",
       "            multiRoute: false,\n",
       "            routingMode: \"auto\",\n",
       "            viaIndexes: []\n",
       "        }).then(function (route) {\n",
       "            var points = route.getWayPoints();  \n",
       "            theEl.innerHTML = theEl.innerHTML+'43.0'+'|'+start_point+'; '+end_point+'|Расстояние --'+route.getHumanLength() + '|'+route.getLength()+'|'+ route.getJamsTime() + '|'+ route.getTime()+ '|'+1+'|'+202211131139+'\\r\\n';\n",
       "        }, function (error) {\n",
       "        theEl.innerHTML = theEl.innerHTML+'43.0'+'||||||' +1+'|'+202211131139+'\\r\\n';\n",
       "    });\n",
       "    });\n",
       "    "
      ],
      "text/plain": [
       "<IPython.core.display.Javascript object>"
      ]
     },
     "metadata": {},
     "output_type": "display_data"
    },
    {
     "data": {
      "application/javascript": [
       "\n",
       "    var start_point = [54.515377, 36.255241];\n",
       "    var end_point = [54.33941, 34.548056];\n",
       "    ymaps.ready(function () {\n",
       "    var theEl=document.getElementById(\"output\");    \n",
       "    ymaps.route([start_point, end_point], {\n",
       "            mapStateAutoApply: false,\n",
       "            avoidTrafficJams: false,\n",
       "            multiRoute: false,\n",
       "            routingMode: \"auto\",\n",
       "            viaIndexes: []\n",
       "        }).then(function (route) {\n",
       "            var points = route.getWayPoints();  \n",
       "            theEl.innerHTML = theEl.innerHTML+'44.0'+'|'+start_point+'; '+end_point+'|Расстояние --'+route.getHumanLength() + '|'+route.getLength()+'|'+ route.getJamsTime() + '|'+ route.getTime()+ '|'+1+'|'+202211131139+'\\r\\n';\n",
       "        }, function (error) {\n",
       "        theEl.innerHTML = theEl.innerHTML+'44.0'+'||||||' +1+'|'+202211131139+'\\r\\n';\n",
       "    });\n",
       "    });\n",
       "    "
      ],
      "text/plain": [
       "<IPython.core.display.Javascript object>"
      ]
     },
     "metadata": {},
     "output_type": "display_data"
    },
    {
     "data": {
      "application/javascript": [
       "\n",
       "    var start_point = [53.237014, 34.358826];\n",
       "    var end_point = [53.928148, 34.556698];\n",
       "    ymaps.ready(function () {\n",
       "    var theEl=document.getElementById(\"output\");    \n",
       "    ymaps.route([start_point, end_point], {\n",
       "            mapStateAutoApply: false,\n",
       "            avoidTrafficJams: false,\n",
       "            multiRoute: false,\n",
       "            routingMode: \"auto\",\n",
       "            viaIndexes: []\n",
       "        }).then(function (route) {\n",
       "            var points = route.getWayPoints();  \n",
       "            theEl.innerHTML = theEl.innerHTML+'45.0'+'|'+start_point+'; '+end_point+'|Расстояние --'+route.getHumanLength() + '|'+route.getLength()+'|'+ route.getJamsTime() + '|'+ route.getTime()+ '|'+1+'|'+202211131139+'\\r\\n';\n",
       "        }, function (error) {\n",
       "        theEl.innerHTML = theEl.innerHTML+'45.0'+'||||||' +1+'|'+202211131139+'\\r\\n';\n",
       "    });\n",
       "    });\n",
       "    "
      ],
      "text/plain": [
       "<IPython.core.display.Javascript object>"
      ]
     },
     "metadata": {},
     "output_type": "display_data"
    },
    {
     "data": {
      "application/javascript": [
       "\n",
       "    var start_point = [54.515377, 36.255241];\n",
       "    var end_point = [54.33941, 34.548056];\n",
       "    ymaps.ready(function () {\n",
       "    var theEl=document.getElementById(\"output\");    \n",
       "    ymaps.route([start_point, end_point], {\n",
       "            mapStateAutoApply: false,\n",
       "            avoidTrafficJams: false,\n",
       "            multiRoute: false,\n",
       "            routingMode: \"auto\",\n",
       "            viaIndexes: []\n",
       "        }).then(function (route) {\n",
       "            var points = route.getWayPoints();  \n",
       "            theEl.innerHTML = theEl.innerHTML+'46.0'+'|'+start_point+'; '+end_point+'|Расстояние --'+route.getHumanLength() + '|'+route.getLength()+'|'+ route.getJamsTime() + '|'+ route.getTime()+ '|'+1+'|'+202211131139+'\\r\\n';\n",
       "        }, function (error) {\n",
       "        theEl.innerHTML = theEl.innerHTML+'46.0'+'||||||' +1+'|'+202211131139+'\\r\\n';\n",
       "    });\n",
       "    });\n",
       "    "
      ],
      "text/plain": [
       "<IPython.core.display.Javascript object>"
      ]
     },
     "metadata": {},
     "output_type": "display_data"
    },
    {
     "data": {
      "application/javascript": [
       "\n",
       "    var start_point = [53.237014, 34.358826];\n",
       "    var end_point = [54.069022, 34.228489];\n",
       "    ymaps.ready(function () {\n",
       "    var theEl=document.getElementById(\"output\");    \n",
       "    ymaps.route([start_point, end_point], {\n",
       "            mapStateAutoApply: false,\n",
       "            avoidTrafficJams: false,\n",
       "            multiRoute: false,\n",
       "            routingMode: \"auto\",\n",
       "            viaIndexes: []\n",
       "        }).then(function (route) {\n",
       "            var points = route.getWayPoints();  \n",
       "            theEl.innerHTML = theEl.innerHTML+'47.0'+'|'+start_point+'; '+end_point+'|Расстояние --'+route.getHumanLength() + '|'+route.getLength()+'|'+ route.getJamsTime() + '|'+ route.getTime()+ '|'+1+'|'+202211131139+'\\r\\n';\n",
       "        }, function (error) {\n",
       "        theEl.innerHTML = theEl.innerHTML+'47.0'+'||||||' +1+'|'+202211131139+'\\r\\n';\n",
       "    });\n",
       "    });\n",
       "    "
      ],
      "text/plain": [
       "<IPython.core.display.Javascript object>"
      ]
     },
     "metadata": {},
     "output_type": "display_data"
    },
    {
     "data": {
      "application/javascript": [
       "\n",
       "    var start_point = [55.773373, 37.605786];\n",
       "    var end_point = [56.316129, 38.132532];\n",
       "    ymaps.ready(function () {\n",
       "    var theEl=document.getElementById(\"output\");    \n",
       "    ymaps.route([start_point, end_point], {\n",
       "            mapStateAutoApply: false,\n",
       "            avoidTrafficJams: false,\n",
       "            multiRoute: false,\n",
       "            routingMode: \"auto\",\n",
       "            viaIndexes: []\n",
       "        }).then(function (route) {\n",
       "            var points = route.getWayPoints();  \n",
       "            theEl.innerHTML = theEl.innerHTML+'48.0'+'|'+start_point+'; '+end_point+'|Расстояние --'+route.getHumanLength() + '|'+route.getLength()+'|'+ route.getJamsTime() + '|'+ route.getTime()+ '|'+1+'|'+202211131139+'\\r\\n';\n",
       "        }, function (error) {\n",
       "        theEl.innerHTML = theEl.innerHTML+'48.0'+'||||||' +1+'|'+202211131139+'\\r\\n';\n",
       "    });\n",
       "    });\n",
       "    "
      ],
      "text/plain": [
       "<IPython.core.display.Javascript object>"
      ]
     },
     "metadata": {},
     "output_type": "display_data"
    },
    {
     "data": {
      "application/javascript": [
       "\n",
       "    var start_point = [54.515377, 36.255241];\n",
       "    var end_point = [54.188228, 37.542392];\n",
       "    ymaps.ready(function () {\n",
       "    var theEl=document.getElementById(\"output\");    \n",
       "    ymaps.route([start_point, end_point], {\n",
       "            mapStateAutoApply: false,\n",
       "            avoidTrafficJams: false,\n",
       "            multiRoute: false,\n",
       "            routingMode: \"auto\",\n",
       "            viaIndexes: []\n",
       "        }).then(function (route) {\n",
       "            var points = route.getWayPoints();  \n",
       "            theEl.innerHTML = theEl.innerHTML+'49.0'+'|'+start_point+'; '+end_point+'|Расстояние --'+route.getHumanLength() + '|'+route.getLength()+'|'+ route.getJamsTime() + '|'+ route.getTime()+ '|'+1+'|'+202211131139+'\\r\\n';\n",
       "        }, function (error) {\n",
       "        theEl.innerHTML = theEl.innerHTML+'49.0'+'||||||' +1+'|'+202211131139+'\\r\\n';\n",
       "    });\n",
       "    });\n",
       "    "
      ],
      "text/plain": [
       "<IPython.core.display.Javascript object>"
      ]
     },
     "metadata": {},
     "output_type": "display_data"
    },
    {
     "data": {
      "application/javascript": [
       "\n",
       "    var start_point = [54.515377, 36.255241];\n",
       "    var end_point = [54.01129, 38.263784];\n",
       "    ymaps.ready(function () {\n",
       "    var theEl=document.getElementById(\"output\");    \n",
       "    ymaps.route([start_point, end_point], {\n",
       "            mapStateAutoApply: false,\n",
       "            avoidTrafficJams: false,\n",
       "            multiRoute: false,\n",
       "            routingMode: \"auto\",\n",
       "            viaIndexes: []\n",
       "        }).then(function (route) {\n",
       "            var points = route.getWayPoints();  \n",
       "            theEl.innerHTML = theEl.innerHTML+'50.0'+'|'+start_point+'; '+end_point+'|Расстояние --'+route.getHumanLength() + '|'+route.getLength()+'|'+ route.getJamsTime() + '|'+ route.getTime()+ '|'+1+'|'+202211131139+'\\r\\n';\n",
       "        }, function (error) {\n",
       "        theEl.innerHTML = theEl.innerHTML+'50.0'+'||||||' +1+'|'+202211131139+'\\r\\n';\n",
       "    });\n",
       "    });\n",
       "    "
      ],
      "text/plain": [
       "<IPython.core.display.Javascript object>"
      ]
     },
     "metadata": {},
     "output_type": "display_data"
    },
    {
     "data": {
      "application/javascript": [
       "\n",
       "    var start_point = [55.773373, 37.605786];\n",
       "    var end_point = [55.750282, 38.00683];\n",
       "    ymaps.ready(function () {\n",
       "    var theEl=document.getElementById(\"output\");    \n",
       "    ymaps.route([start_point, end_point], {\n",
       "            mapStateAutoApply: false,\n",
       "            avoidTrafficJams: false,\n",
       "            multiRoute: false,\n",
       "            routingMode: \"auto\",\n",
       "            viaIndexes: []\n",
       "        }).then(function (route) {\n",
       "            var points = route.getWayPoints();  \n",
       "            theEl.innerHTML = theEl.innerHTML+'51.0'+'|'+start_point+'; '+end_point+'|Расстояние --'+route.getHumanLength() + '|'+route.getLength()+'|'+ route.getJamsTime() + '|'+ route.getTime()+ '|'+1+'|'+202211131139+'\\r\\n';\n",
       "        }, function (error) {\n",
       "        theEl.innerHTML = theEl.innerHTML+'51.0'+'||||||' +1+'|'+202211131139+'\\r\\n';\n",
       "    });\n",
       "    });\n",
       "    "
      ],
      "text/plain": [
       "<IPython.core.display.Javascript object>"
      ]
     },
     "metadata": {},
     "output_type": "display_data"
    },
    {
     "data": {
      "application/javascript": [
       "\n",
       "    var start_point = [54.776482, 32.016091];\n",
       "    var end_point = [55.087007, 31.970565];\n",
       "    ymaps.ready(function () {\n",
       "    var theEl=document.getElementById(\"output\");    \n",
       "    ymaps.route([start_point, end_point], {\n",
       "            mapStateAutoApply: false,\n",
       "            avoidTrafficJams: false,\n",
       "            multiRoute: false,\n",
       "            routingMode: \"auto\",\n",
       "            viaIndexes: []\n",
       "        }).then(function (route) {\n",
       "            var points = route.getWayPoints();  \n",
       "            theEl.innerHTML = theEl.innerHTML+'52.0'+'|'+start_point+'; '+end_point+'|Расстояние --'+route.getHumanLength() + '|'+route.getLength()+'|'+ route.getJamsTime() + '|'+ route.getTime()+ '|'+1+'|'+202211131139+'\\r\\n';\n",
       "        }, function (error) {\n",
       "        theEl.innerHTML = theEl.innerHTML+'52.0'+'||||||' +1+'|'+202211131139+'\\r\\n';\n",
       "    });\n",
       "    });\n",
       "    "
      ],
      "text/plain": [
       "<IPython.core.display.Javascript object>"
      ]
     },
     "metadata": {},
     "output_type": "display_data"
    },
    {
     "data": {
      "application/javascript": [
       "\n",
       "    var start_point = [54.776482, 32.016091];\n",
       "    var end_point = [53.948448, 32.850941];\n",
       "    ymaps.ready(function () {\n",
       "    var theEl=document.getElementById(\"output\");    \n",
       "    ymaps.route([start_point, end_point], {\n",
       "            mapStateAutoApply: false,\n",
       "            avoidTrafficJams: false,\n",
       "            multiRoute: false,\n",
       "            routingMode: \"auto\",\n",
       "            viaIndexes: []\n",
       "        }).then(function (route) {\n",
       "            var points = route.getWayPoints();  \n",
       "            theEl.innerHTML = theEl.innerHTML+'53.0'+'|'+start_point+'; '+end_point+'|Расстояние --'+route.getHumanLength() + '|'+route.getLength()+'|'+ route.getJamsTime() + '|'+ route.getTime()+ '|'+1+'|'+202211131139+'\\r\\n';\n",
       "        }, function (error) {\n",
       "        theEl.innerHTML = theEl.innerHTML+'53.0'+'||||||' +1+'|'+202211131139+'\\r\\n';\n",
       "    });\n",
       "    });\n",
       "    "
      ],
      "text/plain": [
       "<IPython.core.display.Javascript object>"
      ]
     },
     "metadata": {},
     "output_type": "display_data"
    },
    {
     "data": {
      "application/javascript": [
       "\n",
       "    var start_point = [55.773373, 37.605786];\n",
       "    var end_point = [55.50493, 36.027941];\n",
       "    ymaps.ready(function () {\n",
       "    var theEl=document.getElementById(\"output\");    \n",
       "    ymaps.route([start_point, end_point], {\n",
       "            mapStateAutoApply: false,\n",
       "            avoidTrafficJams: false,\n",
       "            multiRoute: false,\n",
       "            routingMode: \"auto\",\n",
       "            viaIndexes: []\n",
       "        }).then(function (route) {\n",
       "            var points = route.getWayPoints();  \n",
       "            theEl.innerHTML = theEl.innerHTML+'54.0'+'|'+start_point+'; '+end_point+'|Расстояние --'+route.getHumanLength() + '|'+route.getLength()+'|'+ route.getJamsTime() + '|'+ route.getTime()+ '|'+1+'|'+202211131139+'\\r\\n';\n",
       "        }, function (error) {\n",
       "        theEl.innerHTML = theEl.innerHTML+'54.0'+'||||||' +1+'|'+202211131139+'\\r\\n';\n",
       "    });\n",
       "    });\n",
       "    "
      ],
      "text/plain": [
       "<IPython.core.display.Javascript object>"
      ]
     },
     "metadata": {},
     "output_type": "display_data"
    },
    {
     "data": {
      "application/javascript": [
       "\n",
       "    var start_point = [53.237014, 34.358826];\n",
       "    var end_point = [53.309683, 34.308727];\n",
       "    ymaps.ready(function () {\n",
       "    var theEl=document.getElementById(\"output\");    \n",
       "    ymaps.route([start_point, end_point], {\n",
       "            mapStateAutoApply: false,\n",
       "            avoidTrafficJams: false,\n",
       "            multiRoute: false,\n",
       "            routingMode: \"auto\",\n",
       "            viaIndexes: []\n",
       "        }).then(function (route) {\n",
       "            var points = route.getWayPoints();  \n",
       "            theEl.innerHTML = theEl.innerHTML+'55.0'+'|'+start_point+'; '+end_point+'|Расстояние --'+route.getHumanLength() + '|'+route.getLength()+'|'+ route.getJamsTime() + '|'+ route.getTime()+ '|'+1+'|'+202211131139+'\\r\\n';\n",
       "        }, function (error) {\n",
       "        theEl.innerHTML = theEl.innerHTML+'55.0'+'||||||' +1+'|'+202211131139+'\\r\\n';\n",
       "    });\n",
       "    });\n",
       "    "
      ],
      "text/plain": [
       "<IPython.core.display.Javascript object>"
      ]
     },
     "metadata": {},
     "output_type": "display_data"
    },
    {
     "data": {
      "application/javascript": [
       "\n",
       "    var start_point = [55.773373, 37.605786];\n",
       "    var end_point = [55.511185, 37.565219];\n",
       "    ymaps.ready(function () {\n",
       "    var theEl=document.getElementById(\"output\");    \n",
       "    ymaps.route([start_point, end_point], {\n",
       "            mapStateAutoApply: false,\n",
       "            avoidTrafficJams: false,\n",
       "            multiRoute: false,\n",
       "            routingMode: \"auto\",\n",
       "            viaIndexes: []\n",
       "        }).then(function (route) {\n",
       "            var points = route.getWayPoints();  \n",
       "            theEl.innerHTML = theEl.innerHTML+'56.0'+'|'+start_point+'; '+end_point+'|Расстояние --'+route.getHumanLength() + '|'+route.getLength()+'|'+ route.getJamsTime() + '|'+ route.getTime()+ '|'+1+'|'+202211131139+'\\r\\n';\n",
       "        }, function (error) {\n",
       "        theEl.innerHTML = theEl.innerHTML+'56.0'+'||||||' +1+'|'+202211131139+'\\r\\n';\n",
       "    });\n",
       "    });\n",
       "    "
      ],
      "text/plain": [
       "<IPython.core.display.Javascript object>"
      ]
     },
     "metadata": {},
     "output_type": "display_data"
    },
    {
     "data": {
      "application/javascript": [
       "\n",
       "    var start_point = [54.515377, 36.255241];\n",
       "    var end_point = [55.214804, 34.303436];\n",
       "    ymaps.ready(function () {\n",
       "    var theEl=document.getElementById(\"output\");    \n",
       "    ymaps.route([start_point, end_point], {\n",
       "            mapStateAutoApply: false,\n",
       "            avoidTrafficJams: false,\n",
       "            multiRoute: false,\n",
       "            routingMode: \"auto\",\n",
       "            viaIndexes: []\n",
       "        }).then(function (route) {\n",
       "            var points = route.getWayPoints();  \n",
       "            theEl.innerHTML = theEl.innerHTML+'57.0'+'|'+start_point+'; '+end_point+'|Расстояние --'+route.getHumanLength() + '|'+route.getLength()+'|'+ route.getJamsTime() + '|'+ route.getTime()+ '|'+1+'|'+202211131139+'\\r\\n';\n",
       "        }, function (error) {\n",
       "        theEl.innerHTML = theEl.innerHTML+'57.0'+'||||||' +1+'|'+202211131139+'\\r\\n';\n",
       "    });\n",
       "    });\n",
       "    "
      ],
      "text/plain": [
       "<IPython.core.display.Javascript object>"
      ]
     },
     "metadata": {},
     "output_type": "display_data"
    },
    {
     "data": {
      "application/javascript": [
       "\n",
       "    var start_point = [54.776482, 32.016091];\n",
       "    var end_point = [52.825797, 22.784465];\n",
       "    ymaps.ready(function () {\n",
       "    var theEl=document.getElementById(\"output\");    \n",
       "    ymaps.route([start_point, end_point], {\n",
       "            mapStateAutoApply: false,\n",
       "            avoidTrafficJams: false,\n",
       "            multiRoute: false,\n",
       "            routingMode: \"auto\",\n",
       "            viaIndexes: []\n",
       "        }).then(function (route) {\n",
       "            var points = route.getWayPoints();  \n",
       "            theEl.innerHTML = theEl.innerHTML+'58.0'+'|'+start_point+'; '+end_point+'|Расстояние --'+route.getHumanLength() + '|'+route.getLength()+'|'+ route.getJamsTime() + '|'+ route.getTime()+ '|'+1+'|'+202211131139+'\\r\\n';\n",
       "        }, function (error) {\n",
       "        theEl.innerHTML = theEl.innerHTML+'58.0'+'||||||' +1+'|'+202211131139+'\\r\\n';\n",
       "    });\n",
       "    });\n",
       "    "
      ],
      "text/plain": [
       "<IPython.core.display.Javascript object>"
      ]
     },
     "metadata": {},
     "output_type": "display_data"
    },
    {
     "name": "stdout",
     "output_type": "stream",
     "text": [
      "Выполняется шаг 3. Начало 2022-11-13 11:39:38.564862\n"
     ]
    },
    {
     "data": {
      "application/javascript": [
       "\n",
       "    var start_point = [57.635709, 39.882917];\n",
       "    var end_point = [57.465109, 40.552827];\n",
       "    ymaps.ready(function () {\n",
       "    var theEl=document.getElementById(\"output\");    \n",
       "    ymaps.route([start_point, end_point], {\n",
       "            mapStateAutoApply: false,\n",
       "            avoidTrafficJams: false,\n",
       "            multiRoute: false,\n",
       "            routingMode: \"auto\",\n",
       "            viaIndexes: []\n",
       "        }).then(function (route) {\n",
       "            var points = route.getWayPoints();  \n",
       "            theEl.innerHTML = theEl.innerHTML+'0.0'+'|'+start_point+'; '+end_point+'|Расстояние --'+route.getHumanLength() + '|'+route.getLength()+'|'+ route.getJamsTime() + '|'+ route.getTime()+ '|'+2+'|'+202211131139+'\\r\\n';\n",
       "        }, function (error) {\n",
       "        theEl.innerHTML = theEl.innerHTML+'0.0'+'||||||' +2+'|'+202211131139+'\\r\\n';\n",
       "    });\n",
       "    });\n",
       "    "
      ],
      "text/plain": [
       "<IPython.core.display.Javascript object>"
      ]
     },
     "metadata": {},
     "output_type": "display_data"
    },
    {
     "data": {
      "application/javascript": [
       "\n",
       "    var start_point = [54.515377, 36.255241];\n",
       "    var end_point = [55.754568, 37.609586];\n",
       "    ymaps.ready(function () {\n",
       "    var theEl=document.getElementById(\"output\");    \n",
       "    ymaps.route([start_point, end_point], {\n",
       "            mapStateAutoApply: false,\n",
       "            avoidTrafficJams: false,\n",
       "            multiRoute: false,\n",
       "            routingMode: \"auto\",\n",
       "            viaIndexes: []\n",
       "        }).then(function (route) {\n",
       "            var points = route.getWayPoints();  \n",
       "            theEl.innerHTML = theEl.innerHTML+'1.0'+'|'+start_point+'; '+end_point+'|Расстояние --'+route.getHumanLength() + '|'+route.getLength()+'|'+ route.getJamsTime() + '|'+ route.getTime()+ '|'+2+'|'+202211131139+'\\r\\n';\n",
       "        }, function (error) {\n",
       "        theEl.innerHTML = theEl.innerHTML+'1.0'+'||||||' +2+'|'+202211131139+'\\r\\n';\n",
       "    });\n",
       "    });\n",
       "    "
      ],
      "text/plain": [
       "<IPython.core.display.Javascript object>"
      ]
     },
     "metadata": {},
     "output_type": "display_data"
    },
    {
     "data": {
      "application/javascript": [
       "\n",
       "    var start_point = [56.11985, 40.361872];\n",
       "    var end_point = [56.824809, 41.400594];\n",
       "    ymaps.ready(function () {\n",
       "    var theEl=document.getElementById(\"output\");    \n",
       "    ymaps.route([start_point, end_point], {\n",
       "            mapStateAutoApply: false,\n",
       "            avoidTrafficJams: false,\n",
       "            multiRoute: false,\n",
       "            routingMode: \"auto\",\n",
       "            viaIndexes: []\n",
       "        }).then(function (route) {\n",
       "            var points = route.getWayPoints();  \n",
       "            theEl.innerHTML = theEl.innerHTML+'2.0'+'|'+start_point+'; '+end_point+'|Расстояние --'+route.getHumanLength() + '|'+route.getLength()+'|'+ route.getJamsTime() + '|'+ route.getTime()+ '|'+2+'|'+202211131139+'\\r\\n';\n",
       "        }, function (error) {\n",
       "        theEl.innerHTML = theEl.innerHTML+'2.0'+'||||||' +2+'|'+202211131139+'\\r\\n';\n",
       "    });\n",
       "    });\n",
       "    "
      ],
      "text/plain": [
       "<IPython.core.display.Javascript object>"
      ]
     },
     "metadata": {},
     "output_type": "display_data"
    },
    {
     "data": {
      "application/javascript": [
       "\n",
       "    var start_point = [56.11985, 40.361872];\n",
       "    var end_point = [56.828217, 41.408652];\n",
       "    ymaps.ready(function () {\n",
       "    var theEl=document.getElementById(\"output\");    \n",
       "    ymaps.route([start_point, end_point], {\n",
       "            mapStateAutoApply: false,\n",
       "            avoidTrafficJams: false,\n",
       "            multiRoute: false,\n",
       "            routingMode: \"auto\",\n",
       "            viaIndexes: []\n",
       "        }).then(function (route) {\n",
       "            var points = route.getWayPoints();  \n",
       "            theEl.innerHTML = theEl.innerHTML+'3.0'+'|'+start_point+'; '+end_point+'|Расстояние --'+route.getHumanLength() + '|'+route.getLength()+'|'+ route.getJamsTime() + '|'+ route.getTime()+ '|'+2+'|'+202211131139+'\\r\\n';\n",
       "        }, function (error) {\n",
       "        theEl.innerHTML = theEl.innerHTML+'3.0'+'||||||' +2+'|'+202211131139+'\\r\\n';\n",
       "    });\n",
       "    });\n",
       "    "
      ],
      "text/plain": [
       "<IPython.core.display.Javascript object>"
      ]
     },
     "metadata": {},
     "output_type": "display_data"
    },
    {
     "data": {
      "application/javascript": [
       "\n",
       "    var start_point = [57.76403, 40.957688];\n",
       "    var end_point = [56.965923, 41.018989];\n",
       "    ymaps.ready(function () {\n",
       "    var theEl=document.getElementById(\"output\");    \n",
       "    ymaps.route([start_point, end_point], {\n",
       "            mapStateAutoApply: false,\n",
       "            avoidTrafficJams: false,\n",
       "            multiRoute: false,\n",
       "            routingMode: \"auto\",\n",
       "            viaIndexes: []\n",
       "        }).then(function (route) {\n",
       "            var points = route.getWayPoints();  \n",
       "            theEl.innerHTML = theEl.innerHTML+'4.0'+'|'+start_point+'; '+end_point+'|Расстояние --'+route.getHumanLength() + '|'+route.getLength()+'|'+ route.getJamsTime() + '|'+ route.getTime()+ '|'+2+'|'+202211131139+'\\r\\n';\n",
       "        }, function (error) {\n",
       "        theEl.innerHTML = theEl.innerHTML+'4.0'+'||||||' +2+'|'+202211131139+'\\r\\n';\n",
       "    });\n",
       "    });\n",
       "    "
      ],
      "text/plain": [
       "<IPython.core.display.Javascript object>"
      ]
     },
     "metadata": {},
     "output_type": "display_data"
    },
    {
     "data": {
      "application/javascript": [
       "\n",
       "    var start_point = [56.11985, 40.361872];\n",
       "    var end_point = [55.531132, 38.874756];\n",
       "    ymaps.ready(function () {\n",
       "    var theEl=document.getElementById(\"output\");    \n",
       "    ymaps.route([start_point, end_point], {\n",
       "            mapStateAutoApply: false,\n",
       "            avoidTrafficJams: false,\n",
       "            multiRoute: false,\n",
       "            routingMode: \"auto\",\n",
       "            viaIndexes: []\n",
       "        }).then(function (route) {\n",
       "            var points = route.getWayPoints();  \n",
       "            theEl.innerHTML = theEl.innerHTML+'5.0'+'|'+start_point+'; '+end_point+'|Расстояние --'+route.getHumanLength() + '|'+route.getLength()+'|'+ route.getJamsTime() + '|'+ route.getTime()+ '|'+2+'|'+202211131139+'\\r\\n';\n",
       "        }, function (error) {\n",
       "        theEl.innerHTML = theEl.innerHTML+'5.0'+'||||||' +2+'|'+202211131139+'\\r\\n';\n",
       "    });\n",
       "    });\n",
       "    "
      ],
      "text/plain": [
       "<IPython.core.display.Javascript object>"
      ]
     },
     "metadata": {},
     "output_type": "display_data"
    },
    {
     "data": {
      "application/javascript": [
       "\n",
       "    var start_point = [54.515377, 36.255241];\n",
       "    var end_point = [55.083575, 33.071001];\n",
       "    ymaps.ready(function () {\n",
       "    var theEl=document.getElementById(\"output\");    \n",
       "    ymaps.route([start_point, end_point], {\n",
       "            mapStateAutoApply: false,\n",
       "            avoidTrafficJams: false,\n",
       "            multiRoute: false,\n",
       "            routingMode: \"auto\",\n",
       "            viaIndexes: []\n",
       "        }).then(function (route) {\n",
       "            var points = route.getWayPoints();  \n",
       "            theEl.innerHTML = theEl.innerHTML+'6.0'+'|'+start_point+'; '+end_point+'|Расстояние --'+route.getHumanLength() + '|'+route.getLength()+'|'+ route.getJamsTime() + '|'+ route.getTime()+ '|'+2+'|'+202211131139+'\\r\\n';\n",
       "        }, function (error) {\n",
       "        theEl.innerHTML = theEl.innerHTML+'6.0'+'||||||' +2+'|'+202211131139+'\\r\\n';\n",
       "    });\n",
       "    });\n",
       "    "
      ],
      "text/plain": [
       "<IPython.core.display.Javascript object>"
      ]
     },
     "metadata": {},
     "output_type": "display_data"
    },
    {
     "data": {
      "application/javascript": [
       "\n",
       "    var start_point = [53.237014, 34.358826];\n",
       "    var end_point = [54.811892, 32.024257];\n",
       "    ymaps.ready(function () {\n",
       "    var theEl=document.getElementById(\"output\");    \n",
       "    ymaps.route([start_point, end_point], {\n",
       "            mapStateAutoApply: false,\n",
       "            avoidTrafficJams: false,\n",
       "            multiRoute: false,\n",
       "            routingMode: \"auto\",\n",
       "            viaIndexes: []\n",
       "        }).then(function (route) {\n",
       "            var points = route.getWayPoints();  \n",
       "            theEl.innerHTML = theEl.innerHTML+'7.0'+'|'+start_point+'; '+end_point+'|Расстояние --'+route.getHumanLength() + '|'+route.getLength()+'|'+ route.getJamsTime() + '|'+ route.getTime()+ '|'+2+'|'+202211131139+'\\r\\n';\n",
       "        }, function (error) {\n",
       "        theEl.innerHTML = theEl.innerHTML+'7.0'+'||||||' +2+'|'+202211131139+'\\r\\n';\n",
       "    });\n",
       "    });\n",
       "    "
      ],
      "text/plain": [
       "<IPython.core.display.Javascript object>"
      ]
     },
     "metadata": {},
     "output_type": "display_data"
    },
    {
     "data": {
      "application/javascript": [
       "\n",
       "    var start_point = [52.603773, 39.598627];\n",
       "    var end_point = [54.009909, 38.27434];\n",
       "    ymaps.ready(function () {\n",
       "    var theEl=document.getElementById(\"output\");    \n",
       "    ymaps.route([start_point, end_point], {\n",
       "            mapStateAutoApply: false,\n",
       "            avoidTrafficJams: false,\n",
       "            multiRoute: false,\n",
       "            routingMode: \"auto\",\n",
       "            viaIndexes: []\n",
       "        }).then(function (route) {\n",
       "            var points = route.getWayPoints();  \n",
       "            theEl.innerHTML = theEl.innerHTML+'8.0'+'|'+start_point+'; '+end_point+'|Расстояние --'+route.getHumanLength() + '|'+route.getLength()+'|'+ route.getJamsTime() + '|'+ route.getTime()+ '|'+2+'|'+202211131139+'\\r\\n';\n",
       "        }, function (error) {\n",
       "        theEl.innerHTML = theEl.innerHTML+'8.0'+'||||||' +2+'|'+202211131139+'\\r\\n';\n",
       "    });\n",
       "    });\n",
       "    "
      ],
      "text/plain": [
       "<IPython.core.display.Javascript object>"
      ]
     },
     "metadata": {},
     "output_type": "display_data"
    },
    {
     "data": {
      "application/javascript": [
       "\n",
       "    var start_point = [54.515377, 36.255241];\n",
       "    var end_point = [55.818776, 37.521354];\n",
       "    ymaps.ready(function () {\n",
       "    var theEl=document.getElementById(\"output\");    \n",
       "    ymaps.route([start_point, end_point], {\n",
       "            mapStateAutoApply: false,\n",
       "            avoidTrafficJams: false,\n",
       "            multiRoute: false,\n",
       "            routingMode: \"auto\",\n",
       "            viaIndexes: []\n",
       "        }).then(function (route) {\n",
       "            var points = route.getWayPoints();  \n",
       "            theEl.innerHTML = theEl.innerHTML+'9.0'+'|'+start_point+'; '+end_point+'|Расстояние --'+route.getHumanLength() + '|'+route.getLength()+'|'+ route.getJamsTime() + '|'+ route.getTime()+ '|'+2+'|'+202211131139+'\\r\\n';\n",
       "        }, function (error) {\n",
       "        theEl.innerHTML = theEl.innerHTML+'9.0'+'||||||' +2+'|'+202211131139+'\\r\\n';\n",
       "    });\n",
       "    });\n",
       "    "
      ],
      "text/plain": [
       "<IPython.core.display.Javascript object>"
      ]
     },
     "metadata": {},
     "output_type": "display_data"
    },
    {
     "data": {
      "application/javascript": [
       "\n",
       "    var start_point = [55.773373, 37.605786];\n",
       "    var end_point = [54.157576, 37.582071];\n",
       "    ymaps.ready(function () {\n",
       "    var theEl=document.getElementById(\"output\");    \n",
       "    ymaps.route([start_point, end_point], {\n",
       "            mapStateAutoApply: false,\n",
       "            avoidTrafficJams: false,\n",
       "            multiRoute: false,\n",
       "            routingMode: \"auto\",\n",
       "            viaIndexes: []\n",
       "        }).then(function (route) {\n",
       "            var points = route.getWayPoints();  \n",
       "            theEl.innerHTML = theEl.innerHTML+'10.0'+'|'+start_point+'; '+end_point+'|Расстояние --'+route.getHumanLength() + '|'+route.getLength()+'|'+ route.getJamsTime() + '|'+ route.getTime()+ '|'+2+'|'+202211131139+'\\r\\n';\n",
       "        }, function (error) {\n",
       "        theEl.innerHTML = theEl.innerHTML+'10.0'+'||||||' +2+'|'+202211131139+'\\r\\n';\n",
       "    });\n",
       "    });\n",
       "    "
      ],
      "text/plain": [
       "<IPython.core.display.Javascript object>"
      ]
     },
     "metadata": {},
     "output_type": "display_data"
    },
    {
     "data": {
      "application/javascript": [
       "\n",
       "    var start_point = [54.515377, 36.255241];\n",
       "    var end_point = [55.568329, 37.596758];\n",
       "    ymaps.ready(function () {\n",
       "    var theEl=document.getElementById(\"output\");    \n",
       "    ymaps.route([start_point, end_point], {\n",
       "            mapStateAutoApply: false,\n",
       "            avoidTrafficJams: false,\n",
       "            multiRoute: false,\n",
       "            routingMode: \"auto\",\n",
       "            viaIndexes: []\n",
       "        }).then(function (route) {\n",
       "            var points = route.getWayPoints();  \n",
       "            theEl.innerHTML = theEl.innerHTML+'11.0'+'|'+start_point+'; '+end_point+'|Расстояние --'+route.getHumanLength() + '|'+route.getLength()+'|'+ route.getJamsTime() + '|'+ route.getTime()+ '|'+2+'|'+202211131139+'\\r\\n';\n",
       "        }, function (error) {\n",
       "        theEl.innerHTML = theEl.innerHTML+'11.0'+'||||||' +2+'|'+202211131139+'\\r\\n';\n",
       "    });\n",
       "    });\n",
       "    "
      ],
      "text/plain": [
       "<IPython.core.display.Javascript object>"
      ]
     },
     "metadata": {},
     "output_type": "display_data"
    },
    {
     "data": {
      "application/javascript": [
       "\n",
       "    var start_point = [55.773373, 37.605786];\n",
       "    var end_point = [54.781052, 35.926916];\n",
       "    ymaps.ready(function () {\n",
       "    var theEl=document.getElementById(\"output\");    \n",
       "    ymaps.route([start_point, end_point], {\n",
       "            mapStateAutoApply: false,\n",
       "            avoidTrafficJams: false,\n",
       "            multiRoute: false,\n",
       "            routingMode: \"auto\",\n",
       "            viaIndexes: []\n",
       "        }).then(function (route) {\n",
       "            var points = route.getWayPoints();  \n",
       "            theEl.innerHTML = theEl.innerHTML+'12.0'+'|'+start_point+'; '+end_point+'|Расстояние --'+route.getHumanLength() + '|'+route.getLength()+'|'+ route.getJamsTime() + '|'+ route.getTime()+ '|'+2+'|'+202211131139+'\\r\\n';\n",
       "        }, function (error) {\n",
       "        theEl.innerHTML = theEl.innerHTML+'12.0'+'||||||' +2+'|'+202211131139+'\\r\\n';\n",
       "    });\n",
       "    });\n",
       "    "
      ],
      "text/plain": [
       "<IPython.core.display.Javascript object>"
      ]
     },
     "metadata": {},
     "output_type": "display_data"
    },
    {
     "data": {
      "application/javascript": [
       "\n",
       "    var start_point = [53.237014, 34.358826];\n",
       "    var end_point = [54.76957, 32.070511];\n",
       "    ymaps.ready(function () {\n",
       "    var theEl=document.getElementById(\"output\");    \n",
       "    ymaps.route([start_point, end_point], {\n",
       "            mapStateAutoApply: false,\n",
       "            avoidTrafficJams: false,\n",
       "            multiRoute: false,\n",
       "            routingMode: \"auto\",\n",
       "            viaIndexes: []\n",
       "        }).then(function (route) {\n",
       "            var points = route.getWayPoints();  \n",
       "            theEl.innerHTML = theEl.innerHTML+'13.0'+'|'+start_point+'; '+end_point+'|Расстояние --'+route.getHumanLength() + '|'+route.getLength()+'|'+ route.getJamsTime() + '|'+ route.getTime()+ '|'+2+'|'+202211131139+'\\r\\n';\n",
       "        }, function (error) {\n",
       "        theEl.innerHTML = theEl.innerHTML+'13.0'+'||||||' +2+'|'+202211131139+'\\r\\n';\n",
       "    });\n",
       "    });\n",
       "    "
      ],
      "text/plain": [
       "<IPython.core.display.Javascript object>"
      ]
     },
     "metadata": {},
     "output_type": "display_data"
    },
    {
     "data": {
      "application/javascript": [
       "\n",
       "    var start_point = [56.11985, 40.361872];\n",
       "    var end_point = [55.916678, 37.759264];\n",
       "    ymaps.ready(function () {\n",
       "    var theEl=document.getElementById(\"output\");    \n",
       "    ymaps.route([start_point, end_point], {\n",
       "            mapStateAutoApply: false,\n",
       "            avoidTrafficJams: false,\n",
       "            multiRoute: false,\n",
       "            routingMode: \"auto\",\n",
       "            viaIndexes: []\n",
       "        }).then(function (route) {\n",
       "            var points = route.getWayPoints();  \n",
       "            theEl.innerHTML = theEl.innerHTML+'14.0'+'|'+start_point+'; '+end_point+'|Расстояние --'+route.getHumanLength() + '|'+route.getLength()+'|'+ route.getJamsTime() + '|'+ route.getTime()+ '|'+2+'|'+202211131139+'\\r\\n';\n",
       "        }, function (error) {\n",
       "        theEl.innerHTML = theEl.innerHTML+'14.0'+'||||||' +2+'|'+202211131139+'\\r\\n';\n",
       "    });\n",
       "    });\n",
       "    "
      ],
      "text/plain": [
       "<IPython.core.display.Javascript object>"
      ]
     },
     "metadata": {},
     "output_type": "display_data"
    },
    {
     "data": {
      "application/javascript": [
       "\n",
       "    var start_point = [57.635709, 39.882917];\n",
       "    var end_point = [56.816114, 35.989053];\n",
       "    ymaps.ready(function () {\n",
       "    var theEl=document.getElementById(\"output\");    \n",
       "    ymaps.route([start_point, end_point], {\n",
       "            mapStateAutoApply: false,\n",
       "            avoidTrafficJams: false,\n",
       "            multiRoute: false,\n",
       "            routingMode: \"auto\",\n",
       "            viaIndexes: []\n",
       "        }).then(function (route) {\n",
       "            var points = route.getWayPoints();  \n",
       "            theEl.innerHTML = theEl.innerHTML+'15.0'+'|'+start_point+'; '+end_point+'|Расстояние --'+route.getHumanLength() + '|'+route.getLength()+'|'+ route.getJamsTime() + '|'+ route.getTime()+ '|'+2+'|'+202211131139+'\\r\\n';\n",
       "        }, function (error) {\n",
       "        theEl.innerHTML = theEl.innerHTML+'15.0'+'||||||' +2+'|'+202211131139+'\\r\\n';\n",
       "    });\n",
       "    });\n",
       "    "
      ],
      "text/plain": [
       "<IPython.core.display.Javascript object>"
      ]
     },
     "metadata": {},
     "output_type": "display_data"
    },
    {
     "data": {
      "application/javascript": [
       "\n",
       "    var start_point = [57.76403, 40.957688];\n",
       "    var end_point = [56.997656, 41.013123];\n",
       "    ymaps.ready(function () {\n",
       "    var theEl=document.getElementById(\"output\");    \n",
       "    ymaps.route([start_point, end_point], {\n",
       "            mapStateAutoApply: false,\n",
       "            avoidTrafficJams: false,\n",
       "            multiRoute: false,\n",
       "            routingMode: \"auto\",\n",
       "            viaIndexes: []\n",
       "        }).then(function (route) {\n",
       "            var points = route.getWayPoints();  \n",
       "            theEl.innerHTML = theEl.innerHTML+'16.0'+'|'+start_point+'; '+end_point+'|Расстояние --'+route.getHumanLength() + '|'+route.getLength()+'|'+ route.getJamsTime() + '|'+ route.getTime()+ '|'+2+'|'+202211131139+'\\r\\n';\n",
       "        }, function (error) {\n",
       "        theEl.innerHTML = theEl.innerHTML+'16.0'+'||||||' +2+'|'+202211131139+'\\r\\n';\n",
       "    });\n",
       "    });\n",
       "    "
      ],
      "text/plain": [
       "<IPython.core.display.Javascript object>"
      ]
     },
     "metadata": {},
     "output_type": "display_data"
    },
    {
     "data": {
      "application/javascript": [
       "\n",
       "    var start_point = [55.773373, 37.605786];\n",
       "    var end_point = [54.589994, 39.541647];\n",
       "    ymaps.ready(function () {\n",
       "    var theEl=document.getElementById(\"output\");    \n",
       "    ymaps.route([start_point, end_point], {\n",
       "            mapStateAutoApply: false,\n",
       "            avoidTrafficJams: false,\n",
       "            multiRoute: false,\n",
       "            routingMode: \"auto\",\n",
       "            viaIndexes: []\n",
       "        }).then(function (route) {\n",
       "            var points = route.getWayPoints();  \n",
       "            theEl.innerHTML = theEl.innerHTML+'17.0'+'|'+start_point+'; '+end_point+'|Расстояние --'+route.getHumanLength() + '|'+route.getLength()+'|'+ route.getJamsTime() + '|'+ route.getTime()+ '|'+2+'|'+202211131139+'\\r\\n';\n",
       "        }, function (error) {\n",
       "        theEl.innerHTML = theEl.innerHTML+'17.0'+'||||||' +2+'|'+202211131139+'\\r\\n';\n",
       "    });\n",
       "    });\n",
       "    "
      ],
      "text/plain": [
       "<IPython.core.display.Javascript object>"
      ]
     },
     "metadata": {},
     "output_type": "display_data"
    },
    {
     "data": {
      "application/javascript": [
       "\n",
       "    var start_point = [53.237014, 34.358826];\n",
       "    var end_point = [52.129588, 34.497068];\n",
       "    ymaps.ready(function () {\n",
       "    var theEl=document.getElementById(\"output\");    \n",
       "    ymaps.route([start_point, end_point], {\n",
       "            mapStateAutoApply: false,\n",
       "            avoidTrafficJams: false,\n",
       "            multiRoute: false,\n",
       "            routingMode: \"auto\",\n",
       "            viaIndexes: []\n",
       "        }).then(function (route) {\n",
       "            var points = route.getWayPoints();  \n",
       "            theEl.innerHTML = theEl.innerHTML+'18.0'+'|'+start_point+'; '+end_point+'|Расстояние --'+route.getHumanLength() + '|'+route.getLength()+'|'+ route.getJamsTime() + '|'+ route.getTime()+ '|'+2+'|'+202211131139+'\\r\\n';\n",
       "        }, function (error) {\n",
       "        theEl.innerHTML = theEl.innerHTML+'18.0'+'||||||' +2+'|'+202211131139+'\\r\\n';\n",
       "    });\n",
       "    });\n",
       "    "
      ],
      "text/plain": [
       "<IPython.core.display.Javascript object>"
      ]
     },
     "metadata": {},
     "output_type": "display_data"
    },
    {
     "data": {
      "application/javascript": [
       "\n",
       "    var start_point = [54.515377, 36.255241];\n",
       "    var end_point = [54.898235, 38.078749];\n",
       "    ymaps.ready(function () {\n",
       "    var theEl=document.getElementById(\"output\");    \n",
       "    ymaps.route([start_point, end_point], {\n",
       "            mapStateAutoApply: false,\n",
       "            avoidTrafficJams: false,\n",
       "            multiRoute: false,\n",
       "            routingMode: \"auto\",\n",
       "            viaIndexes: []\n",
       "        }).then(function (route) {\n",
       "            var points = route.getWayPoints();  \n",
       "            theEl.innerHTML = theEl.innerHTML+'19.0'+'|'+start_point+'; '+end_point+'|Расстояние --'+route.getHumanLength() + '|'+route.getLength()+'|'+ route.getJamsTime() + '|'+ route.getTime()+ '|'+2+'|'+202211131139+'\\r\\n';\n",
       "        }, function (error) {\n",
       "        theEl.innerHTML = theEl.innerHTML+'19.0'+'||||||' +2+'|'+202211131139+'\\r\\n';\n",
       "    });\n",
       "    });\n",
       "    "
      ],
      "text/plain": [
       "<IPython.core.display.Javascript object>"
      ]
     },
     "metadata": {},
     "output_type": "display_data"
    },
    {
     "data": {
      "application/javascript": [
       "\n",
       "    var start_point = [57.76403, 40.957688];\n",
       "    var end_point = [56.967841, 41.966406];\n",
       "    ymaps.ready(function () {\n",
       "    var theEl=document.getElementById(\"output\");    \n",
       "    ymaps.route([start_point, end_point], {\n",
       "            mapStateAutoApply: false,\n",
       "            avoidTrafficJams: false,\n",
       "            multiRoute: false,\n",
       "            routingMode: \"auto\",\n",
       "            viaIndexes: []\n",
       "        }).then(function (route) {\n",
       "            var points = route.getWayPoints();  \n",
       "            theEl.innerHTML = theEl.innerHTML+'20.0'+'|'+start_point+'; '+end_point+'|Расстояние --'+route.getHumanLength() + '|'+route.getLength()+'|'+ route.getJamsTime() + '|'+ route.getTime()+ '|'+2+'|'+202211131139+'\\r\\n';\n",
       "        }, function (error) {\n",
       "        theEl.innerHTML = theEl.innerHTML+'20.0'+'||||||' +2+'|'+202211131139+'\\r\\n';\n",
       "    });\n",
       "    });\n",
       "    "
      ],
      "text/plain": [
       "<IPython.core.display.Javascript object>"
      ]
     },
     "metadata": {},
     "output_type": "display_data"
    },
    {
     "data": {
      "application/javascript": [
       "\n",
       "    var start_point = [55.773373, 37.605786];\n",
       "    var end_point = [54.193702, 37.612039];\n",
       "    ymaps.ready(function () {\n",
       "    var theEl=document.getElementById(\"output\");    \n",
       "    ymaps.route([start_point, end_point], {\n",
       "            mapStateAutoApply: false,\n",
       "            avoidTrafficJams: false,\n",
       "            multiRoute: false,\n",
       "            routingMode: \"auto\",\n",
       "            viaIndexes: []\n",
       "        }).then(function (route) {\n",
       "            var points = route.getWayPoints();  \n",
       "            theEl.innerHTML = theEl.innerHTML+'21.0'+'|'+start_point+'; '+end_point+'|Расстояние --'+route.getHumanLength() + '|'+route.getLength()+'|'+ route.getJamsTime() + '|'+ route.getTime()+ '|'+2+'|'+202211131139+'\\r\\n';\n",
       "        }, function (error) {\n",
       "        theEl.innerHTML = theEl.innerHTML+'21.0'+'||||||' +2+'|'+202211131139+'\\r\\n';\n",
       "    });\n",
       "    });\n",
       "    "
      ],
      "text/plain": [
       "<IPython.core.display.Javascript object>"
      ]
     },
     "metadata": {},
     "output_type": "display_data"
    },
    {
     "data": {
      "application/javascript": [
       "\n",
       "    var start_point = [55.773373, 37.605786];\n",
       "    var end_point = [54.203525, 37.590237];\n",
       "    ymaps.ready(function () {\n",
       "    var theEl=document.getElementById(\"output\");    \n",
       "    ymaps.route([start_point, end_point], {\n",
       "            mapStateAutoApply: false,\n",
       "            avoidTrafficJams: false,\n",
       "            multiRoute: false,\n",
       "            routingMode: \"auto\",\n",
       "            viaIndexes: []\n",
       "        }).then(function (route) {\n",
       "            var points = route.getWayPoints();  \n",
       "            theEl.innerHTML = theEl.innerHTML+'22.0'+'|'+start_point+'; '+end_point+'|Расстояние --'+route.getHumanLength() + '|'+route.getLength()+'|'+ route.getJamsTime() + '|'+ route.getTime()+ '|'+2+'|'+202211131139+'\\r\\n';\n",
       "        }, function (error) {\n",
       "        theEl.innerHTML = theEl.innerHTML+'22.0'+'||||||' +2+'|'+202211131139+'\\r\\n';\n",
       "    });\n",
       "    });\n",
       "    "
      ],
      "text/plain": [
       "<IPython.core.display.Javascript object>"
      ]
     },
     "metadata": {},
     "output_type": "display_data"
    },
    {
     "data": {
      "application/javascript": [
       "\n",
       "    var start_point = [55.773373, 37.605786];\n",
       "    var end_point = [54.203856, 37.515703];\n",
       "    ymaps.ready(function () {\n",
       "    var theEl=document.getElementById(\"output\");    \n",
       "    ymaps.route([start_point, end_point], {\n",
       "            mapStateAutoApply: false,\n",
       "            avoidTrafficJams: false,\n",
       "            multiRoute: false,\n",
       "            routingMode: \"auto\",\n",
       "            viaIndexes: []\n",
       "        }).then(function (route) {\n",
       "            var points = route.getWayPoints();  \n",
       "            theEl.innerHTML = theEl.innerHTML+'23.0'+'|'+start_point+'; '+end_point+'|Расстояние --'+route.getHumanLength() + '|'+route.getLength()+'|'+ route.getJamsTime() + '|'+ route.getTime()+ '|'+2+'|'+202211131139+'\\r\\n';\n",
       "        }, function (error) {\n",
       "        theEl.innerHTML = theEl.innerHTML+'23.0'+'||||||' +2+'|'+202211131139+'\\r\\n';\n",
       "    });\n",
       "    });\n",
       "    "
      ],
      "text/plain": [
       "<IPython.core.display.Javascript object>"
      ]
     },
     "metadata": {},
     "output_type": "display_data"
    },
    {
     "data": {
      "application/javascript": [
       "\n",
       "    var start_point = [55.773373, 37.605786];\n",
       "    var end_point = [54.474303, 38.727863];\n",
       "    ymaps.ready(function () {\n",
       "    var theEl=document.getElementById(\"output\");    \n",
       "    ymaps.route([start_point, end_point], {\n",
       "            mapStateAutoApply: false,\n",
       "            avoidTrafficJams: false,\n",
       "            multiRoute: false,\n",
       "            routingMode: \"auto\",\n",
       "            viaIndexes: []\n",
       "        }).then(function (route) {\n",
       "            var points = route.getWayPoints();  \n",
       "            theEl.innerHTML = theEl.innerHTML+'24.0'+'|'+start_point+'; '+end_point+'|Расстояние --'+route.getHumanLength() + '|'+route.getLength()+'|'+ route.getJamsTime() + '|'+ route.getTime()+ '|'+2+'|'+202211131139+'\\r\\n';\n",
       "        }, function (error) {\n",
       "        theEl.innerHTML = theEl.innerHTML+'24.0'+'||||||' +2+'|'+202211131139+'\\r\\n';\n",
       "    });\n",
       "    });\n",
       "    "
      ],
      "text/plain": [
       "<IPython.core.display.Javascript object>"
      ]
     },
     "metadata": {},
     "output_type": "display_data"
    },
    {
     "data": {
      "application/javascript": [
       "\n",
       "    var start_point = [55.773373, 37.605786];\n",
       "    var end_point = [54.47357, 38.727001];\n",
       "    ymaps.ready(function () {\n",
       "    var theEl=document.getElementById(\"output\");    \n",
       "    ymaps.route([start_point, end_point], {\n",
       "            mapStateAutoApply: false,\n",
       "            avoidTrafficJams: false,\n",
       "            multiRoute: false,\n",
       "            routingMode: \"auto\",\n",
       "            viaIndexes: []\n",
       "        }).then(function (route) {\n",
       "            var points = route.getWayPoints();  \n",
       "            theEl.innerHTML = theEl.innerHTML+'25.0'+'|'+start_point+'; '+end_point+'|Расстояние --'+route.getHumanLength() + '|'+route.getLength()+'|'+ route.getJamsTime() + '|'+ route.getTime()+ '|'+2+'|'+202211131139+'\\r\\n';\n",
       "        }, function (error) {\n",
       "        theEl.innerHTML = theEl.innerHTML+'25.0'+'||||||' +2+'|'+202211131139+'\\r\\n';\n",
       "    });\n",
       "    });\n",
       "    "
      ],
      "text/plain": [
       "<IPython.core.display.Javascript object>"
      ]
     },
     "metadata": {},
     "output_type": "display_data"
    },
    {
     "data": {
      "application/javascript": [
       "\n",
       "    var start_point = [52.603773, 39.598627];\n",
       "    var end_point = [54.043499, 38.250813];\n",
       "    ymaps.ready(function () {\n",
       "    var theEl=document.getElementById(\"output\");    \n",
       "    ymaps.route([start_point, end_point], {\n",
       "            mapStateAutoApply: false,\n",
       "            avoidTrafficJams: false,\n",
       "            multiRoute: false,\n",
       "            routingMode: \"auto\",\n",
       "            viaIndexes: []\n",
       "        }).then(function (route) {\n",
       "            var points = route.getWayPoints();  \n",
       "            theEl.innerHTML = theEl.innerHTML+'26.0'+'|'+start_point+'; '+end_point+'|Расстояние --'+route.getHumanLength() + '|'+route.getLength()+'|'+ route.getJamsTime() + '|'+ route.getTime()+ '|'+2+'|'+202211131139+'\\r\\n';\n",
       "        }, function (error) {\n",
       "        theEl.innerHTML = theEl.innerHTML+'26.0'+'||||||' +2+'|'+202211131139+'\\r\\n';\n",
       "    });\n",
       "    });\n",
       "    "
      ],
      "text/plain": [
       "<IPython.core.display.Javascript object>"
      ]
     },
     "metadata": {},
     "output_type": "display_data"
    },
    {
     "data": {
      "application/javascript": [
       "\n",
       "    var start_point = [52.603773, 39.598627];\n",
       "    var end_point = [54.042431, 38.248836];\n",
       "    ymaps.ready(function () {\n",
       "    var theEl=document.getElementById(\"output\");    \n",
       "    ymaps.route([start_point, end_point], {\n",
       "            mapStateAutoApply: false,\n",
       "            avoidTrafficJams: false,\n",
       "            multiRoute: false,\n",
       "            routingMode: \"auto\",\n",
       "            viaIndexes: []\n",
       "        }).then(function (route) {\n",
       "            var points = route.getWayPoints();  \n",
       "            theEl.innerHTML = theEl.innerHTML+'27.0'+'|'+start_point+'; '+end_point+'|Расстояние --'+route.getHumanLength() + '|'+route.getLength()+'|'+ route.getJamsTime() + '|'+ route.getTime()+ '|'+2+'|'+202211131139+'\\r\\n';\n",
       "        }, function (error) {\n",
       "        theEl.innerHTML = theEl.innerHTML+'27.0'+'||||||' +2+'|'+202211131139+'\\r\\n';\n",
       "    });\n",
       "    });\n",
       "    "
      ],
      "text/plain": [
       "<IPython.core.display.Javascript object>"
      ]
     },
     "metadata": {},
     "output_type": "display_data"
    },
    {
     "data": {
      "application/javascript": [
       "\n",
       "    var start_point = [52.603773, 39.598627];\n",
       "    var end_point = [53.708027, 37.300997];\n",
       "    ymaps.ready(function () {\n",
       "    var theEl=document.getElementById(\"output\");    \n",
       "    ymaps.route([start_point, end_point], {\n",
       "            mapStateAutoApply: false,\n",
       "            avoidTrafficJams: false,\n",
       "            multiRoute: false,\n",
       "            routingMode: \"auto\",\n",
       "            viaIndexes: []\n",
       "        }).then(function (route) {\n",
       "            var points = route.getWayPoints();  \n",
       "            theEl.innerHTML = theEl.innerHTML+'28.0'+'|'+start_point+'; '+end_point+'|Расстояние --'+route.getHumanLength() + '|'+route.getLength()+'|'+ route.getJamsTime() + '|'+ route.getTime()+ '|'+2+'|'+202211131139+'\\r\\n';\n",
       "        }, function (error) {\n",
       "        theEl.innerHTML = theEl.innerHTML+'28.0'+'||||||' +2+'|'+202211131139+'\\r\\n';\n",
       "    });\n",
       "    });\n",
       "    "
      ],
      "text/plain": [
       "<IPython.core.display.Javascript object>"
      ]
     },
     "metadata": {},
     "output_type": "display_data"
    },
    {
     "data": {
      "application/javascript": [
       "\n",
       "    var start_point = [56.11985, 40.361872];\n",
       "    var end_point = [55.728398, 38.034382];\n",
       "    ymaps.ready(function () {\n",
       "    var theEl=document.getElementById(\"output\");    \n",
       "    ymaps.route([start_point, end_point], {\n",
       "            mapStateAutoApply: false,\n",
       "            avoidTrafficJams: false,\n",
       "            multiRoute: false,\n",
       "            routingMode: \"auto\",\n",
       "            viaIndexes: []\n",
       "        }).then(function (route) {\n",
       "            var points = route.getWayPoints();  \n",
       "            theEl.innerHTML = theEl.innerHTML+'29.0'+'|'+start_point+'; '+end_point+'|Расстояние --'+route.getHumanLength() + '|'+route.getLength()+'|'+ route.getJamsTime() + '|'+ route.getTime()+ '|'+2+'|'+202211131139+'\\r\\n';\n",
       "        }, function (error) {\n",
       "        theEl.innerHTML = theEl.innerHTML+'29.0'+'||||||' +2+'|'+202211131139+'\\r\\n';\n",
       "    });\n",
       "    });\n",
       "    "
      ],
      "text/plain": [
       "<IPython.core.display.Javascript object>"
      ]
     },
     "metadata": {},
     "output_type": "display_data"
    },
    {
     "data": {
      "application/javascript": [
       "\n",
       "    var start_point = [57.76403, 40.957688];\n",
       "    var end_point = [56.969038, 40.939479];\n",
       "    ymaps.ready(function () {\n",
       "    var theEl=document.getElementById(\"output\");    \n",
       "    ymaps.route([start_point, end_point], {\n",
       "            mapStateAutoApply: false,\n",
       "            avoidTrafficJams: false,\n",
       "            multiRoute: false,\n",
       "            routingMode: \"auto\",\n",
       "            viaIndexes: []\n",
       "        }).then(function (route) {\n",
       "            var points = route.getWayPoints();  \n",
       "            theEl.innerHTML = theEl.innerHTML+'30.0'+'|'+start_point+'; '+end_point+'|Расстояние --'+route.getHumanLength() + '|'+route.getLength()+'|'+ route.getJamsTime() + '|'+ route.getTime()+ '|'+2+'|'+202211131139+'\\r\\n';\n",
       "        }, function (error) {\n",
       "        theEl.innerHTML = theEl.innerHTML+'30.0'+'||||||' +2+'|'+202211131139+'\\r\\n';\n",
       "    });\n",
       "    });\n",
       "    "
      ],
      "text/plain": [
       "<IPython.core.display.Javascript object>"
      ]
     },
     "metadata": {},
     "output_type": "display_data"
    },
    {
     "data": {
      "application/javascript": [
       "\n",
       "    var start_point = [57.76403, 40.957688];\n",
       "    var end_point = [56.974003, 40.929697];\n",
       "    ymaps.ready(function () {\n",
       "    var theEl=document.getElementById(\"output\");    \n",
       "    ymaps.route([start_point, end_point], {\n",
       "            mapStateAutoApply: false,\n",
       "            avoidTrafficJams: false,\n",
       "            multiRoute: false,\n",
       "            routingMode: \"auto\",\n",
       "            viaIndexes: []\n",
       "        }).then(function (route) {\n",
       "            var points = route.getWayPoints();  \n",
       "            theEl.innerHTML = theEl.innerHTML+'31.0'+'|'+start_point+'; '+end_point+'|Расстояние --'+route.getHumanLength() + '|'+route.getLength()+'|'+ route.getJamsTime() + '|'+ route.getTime()+ '|'+2+'|'+202211131139+'\\r\\n';\n",
       "        }, function (error) {\n",
       "        theEl.innerHTML = theEl.innerHTML+'31.0'+'||||||' +2+'|'+202211131139+'\\r\\n';\n",
       "    });\n",
       "    });\n",
       "    "
      ],
      "text/plain": [
       "<IPython.core.display.Javascript object>"
      ]
     },
     "metadata": {},
     "output_type": "display_data"
    },
    {
     "data": {
      "application/javascript": [
       "\n",
       "    var start_point = [55.773373, 37.605786];\n",
       "    var end_point = [55.121216, 36.571421];\n",
       "    ymaps.ready(function () {\n",
       "    var theEl=document.getElementById(\"output\");    \n",
       "    ymaps.route([start_point, end_point], {\n",
       "            mapStateAutoApply: false,\n",
       "            avoidTrafficJams: false,\n",
       "            multiRoute: false,\n",
       "            routingMode: \"auto\",\n",
       "            viaIndexes: []\n",
       "        }).then(function (route) {\n",
       "            var points = route.getWayPoints();  \n",
       "            theEl.innerHTML = theEl.innerHTML+'32.0'+'|'+start_point+'; '+end_point+'|Расстояние --'+route.getHumanLength() + '|'+route.getLength()+'|'+ route.getJamsTime() + '|'+ route.getTime()+ '|'+2+'|'+202211131139+'\\r\\n';\n",
       "        }, function (error) {\n",
       "        theEl.innerHTML = theEl.innerHTML+'32.0'+'||||||' +2+'|'+202211131139+'\\r\\n';\n",
       "    });\n",
       "    });\n",
       "    "
      ],
      "text/plain": [
       "<IPython.core.display.Javascript object>"
      ]
     },
     "metadata": {},
     "output_type": "display_data"
    },
    {
     "data": {
      "application/javascript": [
       "\n",
       "    var start_point = [56.11985, 40.361872];\n",
       "    var end_point = [55.923942, 38.001405];\n",
       "    ymaps.ready(function () {\n",
       "    var theEl=document.getElementById(\"output\");    \n",
       "    ymaps.route([start_point, end_point], {\n",
       "            mapStateAutoApply: false,\n",
       "            avoidTrafficJams: false,\n",
       "            multiRoute: false,\n",
       "            routingMode: \"auto\",\n",
       "            viaIndexes: []\n",
       "        }).then(function (route) {\n",
       "            var points = route.getWayPoints();  \n",
       "            theEl.innerHTML = theEl.innerHTML+'33.0'+'|'+start_point+'; '+end_point+'|Расстояние --'+route.getHumanLength() + '|'+route.getLength()+'|'+ route.getJamsTime() + '|'+ route.getTime()+ '|'+2+'|'+202211131139+'\\r\\n';\n",
       "        }, function (error) {\n",
       "        theEl.innerHTML = theEl.innerHTML+'33.0'+'||||||' +2+'|'+202211131139+'\\r\\n';\n",
       "    });\n",
       "    });\n",
       "    "
      ],
      "text/plain": [
       "<IPython.core.display.Javascript object>"
      ]
     },
     "metadata": {},
     "output_type": "display_data"
    },
    {
     "data": {
      "application/javascript": [
       "\n",
       "    var start_point = [54.515377, 36.255241];\n",
       "    var end_point = [55.950539, 37.106413];\n",
       "    ymaps.ready(function () {\n",
       "    var theEl=document.getElementById(\"output\");    \n",
       "    ymaps.route([start_point, end_point], {\n",
       "            mapStateAutoApply: false,\n",
       "            avoidTrafficJams: false,\n",
       "            multiRoute: false,\n",
       "            routingMode: \"auto\",\n",
       "            viaIndexes: []\n",
       "        }).then(function (route) {\n",
       "            var points = route.getWayPoints();  \n",
       "            theEl.innerHTML = theEl.innerHTML+'34.0'+'|'+start_point+'; '+end_point+'|Расстояние --'+route.getHumanLength() + '|'+route.getLength()+'|'+ route.getJamsTime() + '|'+ route.getTime()+ '|'+2+'|'+202211131139+'\\r\\n';\n",
       "        }, function (error) {\n",
       "        theEl.innerHTML = theEl.innerHTML+'34.0'+'||||||' +2+'|'+202211131139+'\\r\\n';\n",
       "    });\n",
       "    });\n",
       "    "
      ],
      "text/plain": [
       "<IPython.core.display.Javascript object>"
      ]
     },
     "metadata": {},
     "output_type": "display_data"
    },
    {
     "data": {
      "application/javascript": [
       "\n",
       "    var start_point = [56.11985, 40.361872];\n",
       "    var end_point = [55.531132, 38.874756];\n",
       "    ymaps.ready(function () {\n",
       "    var theEl=document.getElementById(\"output\");    \n",
       "    ymaps.route([start_point, end_point], {\n",
       "            mapStateAutoApply: false,\n",
       "            avoidTrafficJams: false,\n",
       "            multiRoute: false,\n",
       "            routingMode: \"auto\",\n",
       "            viaIndexes: []\n",
       "        }).then(function (route) {\n",
       "            var points = route.getWayPoints();  \n",
       "            theEl.innerHTML = theEl.innerHTML+'35.0'+'|'+start_point+'; '+end_point+'|Расстояние --'+route.getHumanLength() + '|'+route.getLength()+'|'+ route.getJamsTime() + '|'+ route.getTime()+ '|'+2+'|'+202211131139+'\\r\\n';\n",
       "        }, function (error) {\n",
       "        theEl.innerHTML = theEl.innerHTML+'35.0'+'||||||' +2+'|'+202211131139+'\\r\\n';\n",
       "    });\n",
       "    });\n",
       "    "
      ],
      "text/plain": [
       "<IPython.core.display.Javascript object>"
      ]
     },
     "metadata": {},
     "output_type": "display_data"
    },
    {
     "data": {
      "application/javascript": [
       "\n",
       "    var start_point = [57.635709, 39.882917];\n",
       "    var end_point = [56.821814, 35.976656];\n",
       "    ymaps.ready(function () {\n",
       "    var theEl=document.getElementById(\"output\");    \n",
       "    ymaps.route([start_point, end_point], {\n",
       "            mapStateAutoApply: false,\n",
       "            avoidTrafficJams: false,\n",
       "            multiRoute: false,\n",
       "            routingMode: \"auto\",\n",
       "            viaIndexes: []\n",
       "        }).then(function (route) {\n",
       "            var points = route.getWayPoints();  \n",
       "            theEl.innerHTML = theEl.innerHTML+'36.0'+'|'+start_point+'; '+end_point+'|Расстояние --'+route.getHumanLength() + '|'+route.getLength()+'|'+ route.getJamsTime() + '|'+ route.getTime()+ '|'+2+'|'+202211131139+'\\r\\n';\n",
       "        }, function (error) {\n",
       "        theEl.innerHTML = theEl.innerHTML+'36.0'+'||||||' +2+'|'+202211131139+'\\r\\n';\n",
       "    });\n",
       "    });\n",
       "    "
      ],
      "text/plain": [
       "<IPython.core.display.Javascript object>"
      ]
     },
     "metadata": {},
     "output_type": "display_data"
    },
    {
     "data": {
      "application/javascript": [
       "\n",
       "    var start_point = [45.120885, 39.046585];\n",
       "    var end_point = [47.291017, 39.852814];\n",
       "    ymaps.ready(function () {\n",
       "    var theEl=document.getElementById(\"output\");    \n",
       "    ymaps.route([start_point, end_point], {\n",
       "            mapStateAutoApply: false,\n",
       "            avoidTrafficJams: false,\n",
       "            multiRoute: false,\n",
       "            routingMode: \"auto\",\n",
       "            viaIndexes: []\n",
       "        }).then(function (route) {\n",
       "            var points = route.getWayPoints();  \n",
       "            theEl.innerHTML = theEl.innerHTML+'37.0'+'|'+start_point+'; '+end_point+'|Расстояние --'+route.getHumanLength() + '|'+route.getLength()+'|'+ route.getJamsTime() + '|'+ route.getTime()+ '|'+2+'|'+202211131139+'\\r\\n';\n",
       "        }, function (error) {\n",
       "        theEl.innerHTML = theEl.innerHTML+'37.0'+'||||||' +2+'|'+202211131139+'\\r\\n';\n",
       "    });\n",
       "    });\n",
       "    "
      ],
      "text/plain": [
       "<IPython.core.display.Javascript object>"
      ]
     },
     "metadata": {},
     "output_type": "display_data"
    },
    {
     "data": {
      "application/javascript": [
       "\n",
       "    var start_point = [54.319039, 48.398766];\n",
       "    var end_point = [53.231031, 50.59512];\n",
       "    ymaps.ready(function () {\n",
       "    var theEl=document.getElementById(\"output\");    \n",
       "    ymaps.route([start_point, end_point], {\n",
       "            mapStateAutoApply: false,\n",
       "            avoidTrafficJams: false,\n",
       "            multiRoute: false,\n",
       "            routingMode: \"auto\",\n",
       "            viaIndexes: []\n",
       "        }).then(function (route) {\n",
       "            var points = route.getWayPoints();  \n",
       "            theEl.innerHTML = theEl.innerHTML+'38.0'+'|'+start_point+'; '+end_point+'|Расстояние --'+route.getHumanLength() + '|'+route.getLength()+'|'+ route.getJamsTime() + '|'+ route.getTime()+ '|'+2+'|'+202211131139+'\\r\\n';\n",
       "        }, function (error) {\n",
       "        theEl.innerHTML = theEl.innerHTML+'38.0'+'||||||' +2+'|'+202211131139+'\\r\\n';\n",
       "    });\n",
       "    });\n",
       "    "
      ],
      "text/plain": [
       "<IPython.core.display.Javascript object>"
      ]
     },
     "metadata": {},
     "output_type": "display_data"
    },
    {
     "data": {
      "application/javascript": [
       "\n",
       "    var start_point = [53.349209, 83.784816];\n",
       "    var end_point = [54.941901, 82.916459];\n",
       "    ymaps.ready(function () {\n",
       "    var theEl=document.getElementById(\"output\");    \n",
       "    ymaps.route([start_point, end_point], {\n",
       "            mapStateAutoApply: false,\n",
       "            avoidTrafficJams: false,\n",
       "            multiRoute: false,\n",
       "            routingMode: \"auto\",\n",
       "            viaIndexes: []\n",
       "        }).then(function (route) {\n",
       "            var points = route.getWayPoints();  \n",
       "            theEl.innerHTML = theEl.innerHTML+'39.0'+'|'+start_point+'; '+end_point+'|Расстояние --'+route.getHumanLength() + '|'+route.getLength()+'|'+ route.getJamsTime() + '|'+ route.getTime()+ '|'+2+'|'+202211131139+'\\r\\n';\n",
       "        }, function (error) {\n",
       "        theEl.innerHTML = theEl.innerHTML+'39.0'+'||||||' +2+'|'+202211131139+'\\r\\n';\n",
       "    });\n",
       "    });\n",
       "    "
      ],
      "text/plain": [
       "<IPython.core.display.Javascript object>"
      ]
     },
     "metadata": {},
     "output_type": "display_data"
    },
    {
     "data": {
      "application/javascript": [
       "\n",
       "    var start_point = [57.635709, 39.882917];\n",
       "    var end_point = [56.835446, 35.945287];\n",
       "    ymaps.ready(function () {\n",
       "    var theEl=document.getElementById(\"output\");    \n",
       "    ymaps.route([start_point, end_point], {\n",
       "            mapStateAutoApply: false,\n",
       "            avoidTrafficJams: false,\n",
       "            multiRoute: false,\n",
       "            routingMode: \"auto\",\n",
       "            viaIndexes: []\n",
       "        }).then(function (route) {\n",
       "            var points = route.getWayPoints();  \n",
       "            theEl.innerHTML = theEl.innerHTML+'40.0'+'|'+start_point+'; '+end_point+'|Расстояние --'+route.getHumanLength() + '|'+route.getLength()+'|'+ route.getJamsTime() + '|'+ route.getTime()+ '|'+2+'|'+202211131139+'\\r\\n';\n",
       "        }, function (error) {\n",
       "        theEl.innerHTML = theEl.innerHTML+'40.0'+'||||||' +2+'|'+202211131139+'\\r\\n';\n",
       "    });\n",
       "    });\n",
       "    "
      ],
      "text/plain": [
       "<IPython.core.display.Javascript object>"
      ]
     },
     "metadata": {},
     "output_type": "display_data"
    },
    {
     "data": {
      "application/javascript": [
       "\n",
       "    var start_point = [56.971192, 40.974487];\n",
       "    var end_point = [57.440839, 42.136745];\n",
       "    ymaps.ready(function () {\n",
       "    var theEl=document.getElementById(\"output\");    \n",
       "    ymaps.route([start_point, end_point], {\n",
       "            mapStateAutoApply: false,\n",
       "            avoidTrafficJams: false,\n",
       "            multiRoute: false,\n",
       "            routingMode: \"auto\",\n",
       "            viaIndexes: []\n",
       "        }).then(function (route) {\n",
       "            var points = route.getWayPoints();  \n",
       "            theEl.innerHTML = theEl.innerHTML+'41.0'+'|'+start_point+'; '+end_point+'|Расстояние --'+route.getHumanLength() + '|'+route.getLength()+'|'+ route.getJamsTime() + '|'+ route.getTime()+ '|'+2+'|'+202211131139+'\\r\\n';\n",
       "        }, function (error) {\n",
       "        theEl.innerHTML = theEl.innerHTML+'41.0'+'||||||' +2+'|'+202211131139+'\\r\\n';\n",
       "    });\n",
       "    });\n",
       "    "
      ],
      "text/plain": [
       "<IPython.core.display.Javascript object>"
      ]
     },
     "metadata": {},
     "output_type": "display_data"
    },
    {
     "data": {
      "application/javascript": [
       "\n",
       "    var start_point = [55.773373, 37.605786];\n",
       "    var end_point = [54.188228, 37.542392];\n",
       "    ymaps.ready(function () {\n",
       "    var theEl=document.getElementById(\"output\");    \n",
       "    ymaps.route([start_point, end_point], {\n",
       "            mapStateAutoApply: false,\n",
       "            avoidTrafficJams: false,\n",
       "            multiRoute: false,\n",
       "            routingMode: \"auto\",\n",
       "            viaIndexes: []\n",
       "        }).then(function (route) {\n",
       "            var points = route.getWayPoints();  \n",
       "            theEl.innerHTML = theEl.innerHTML+'42.0'+'|'+start_point+'; '+end_point+'|Расстояние --'+route.getHumanLength() + '|'+route.getLength()+'|'+ route.getJamsTime() + '|'+ route.getTime()+ '|'+2+'|'+202211131139+'\\r\\n';\n",
       "        }, function (error) {\n",
       "        theEl.innerHTML = theEl.innerHTML+'42.0'+'||||||' +2+'|'+202211131139+'\\r\\n';\n",
       "    });\n",
       "    });\n",
       "    "
      ],
      "text/plain": [
       "<IPython.core.display.Javascript object>"
      ]
     },
     "metadata": {},
     "output_type": "display_data"
    },
    {
     "data": {
      "application/javascript": [
       "\n",
       "    var start_point = [54.515377, 36.255241];\n",
       "    var end_point = [55.598217, 36.46984];\n",
       "    ymaps.ready(function () {\n",
       "    var theEl=document.getElementById(\"output\");    \n",
       "    ymaps.route([start_point, end_point], {\n",
       "            mapStateAutoApply: false,\n",
       "            avoidTrafficJams: false,\n",
       "            multiRoute: false,\n",
       "            routingMode: \"auto\",\n",
       "            viaIndexes: []\n",
       "        }).then(function (route) {\n",
       "            var points = route.getWayPoints();  \n",
       "            theEl.innerHTML = theEl.innerHTML+'43.0'+'|'+start_point+'; '+end_point+'|Расстояние --'+route.getHumanLength() + '|'+route.getLength()+'|'+ route.getJamsTime() + '|'+ route.getTime()+ '|'+2+'|'+202211131139+'\\r\\n';\n",
       "        }, function (error) {\n",
       "        theEl.innerHTML = theEl.innerHTML+'43.0'+'||||||' +2+'|'+202211131139+'\\r\\n';\n",
       "    });\n",
       "    });\n",
       "    "
      ],
      "text/plain": [
       "<IPython.core.display.Javascript object>"
      ]
     },
     "metadata": {},
     "output_type": "display_data"
    },
    {
     "data": {
      "application/javascript": [
       "\n",
       "    var start_point = [53.237014, 34.358826];\n",
       "    var end_point = [54.33941, 34.548056];\n",
       "    ymaps.ready(function () {\n",
       "    var theEl=document.getElementById(\"output\");    \n",
       "    ymaps.route([start_point, end_point], {\n",
       "            mapStateAutoApply: false,\n",
       "            avoidTrafficJams: false,\n",
       "            multiRoute: false,\n",
       "            routingMode: \"auto\",\n",
       "            viaIndexes: []\n",
       "        }).then(function (route) {\n",
       "            var points = route.getWayPoints();  \n",
       "            theEl.innerHTML = theEl.innerHTML+'44.0'+'|'+start_point+'; '+end_point+'|Расстояние --'+route.getHumanLength() + '|'+route.getLength()+'|'+ route.getJamsTime() + '|'+ route.getTime()+ '|'+2+'|'+202211131139+'\\r\\n';\n",
       "        }, function (error) {\n",
       "        theEl.innerHTML = theEl.innerHTML+'44.0'+'||||||' +2+'|'+202211131139+'\\r\\n';\n",
       "    });\n",
       "    });\n",
       "    "
      ],
      "text/plain": [
       "<IPython.core.display.Javascript object>"
      ]
     },
     "metadata": {},
     "output_type": "display_data"
    },
    {
     "data": {
      "application/javascript": [
       "\n",
       "    var start_point = [54.515377, 36.255241];\n",
       "    var end_point = [53.928148, 34.556698];\n",
       "    ymaps.ready(function () {\n",
       "    var theEl=document.getElementById(\"output\");    \n",
       "    ymaps.route([start_point, end_point], {\n",
       "            mapStateAutoApply: false,\n",
       "            avoidTrafficJams: false,\n",
       "            multiRoute: false,\n",
       "            routingMode: \"auto\",\n",
       "            viaIndexes: []\n",
       "        }).then(function (route) {\n",
       "            var points = route.getWayPoints();  \n",
       "            theEl.innerHTML = theEl.innerHTML+'45.0'+'|'+start_point+'; '+end_point+'|Расстояние --'+route.getHumanLength() + '|'+route.getLength()+'|'+ route.getJamsTime() + '|'+ route.getTime()+ '|'+2+'|'+202211131139+'\\r\\n';\n",
       "        }, function (error) {\n",
       "        theEl.innerHTML = theEl.innerHTML+'45.0'+'||||||' +2+'|'+202211131139+'\\r\\n';\n",
       "    });\n",
       "    });\n",
       "    "
      ],
      "text/plain": [
       "<IPython.core.display.Javascript object>"
      ]
     },
     "metadata": {},
     "output_type": "display_data"
    },
    {
     "data": {
      "application/javascript": [
       "\n",
       "    var start_point = [53.237014, 34.358826];\n",
       "    var end_point = [54.33941, 34.548056];\n",
       "    ymaps.ready(function () {\n",
       "    var theEl=document.getElementById(\"output\");    \n",
       "    ymaps.route([start_point, end_point], {\n",
       "            mapStateAutoApply: false,\n",
       "            avoidTrafficJams: false,\n",
       "            multiRoute: false,\n",
       "            routingMode: \"auto\",\n",
       "            viaIndexes: []\n",
       "        }).then(function (route) {\n",
       "            var points = route.getWayPoints();  \n",
       "            theEl.innerHTML = theEl.innerHTML+'46.0'+'|'+start_point+'; '+end_point+'|Расстояние --'+route.getHumanLength() + '|'+route.getLength()+'|'+ route.getJamsTime() + '|'+ route.getTime()+ '|'+2+'|'+202211131139+'\\r\\n';\n",
       "        }, function (error) {\n",
       "        theEl.innerHTML = theEl.innerHTML+'46.0'+'||||||' +2+'|'+202211131139+'\\r\\n';\n",
       "    });\n",
       "    });\n",
       "    "
      ],
      "text/plain": [
       "<IPython.core.display.Javascript object>"
      ]
     },
     "metadata": {},
     "output_type": "display_data"
    },
    {
     "data": {
      "application/javascript": [
       "\n",
       "    var start_point = [54.515377, 36.255241];\n",
       "    var end_point = [54.069022, 34.228489];\n",
       "    ymaps.ready(function () {\n",
       "    var theEl=document.getElementById(\"output\");    \n",
       "    ymaps.route([start_point, end_point], {\n",
       "            mapStateAutoApply: false,\n",
       "            avoidTrafficJams: false,\n",
       "            multiRoute: false,\n",
       "            routingMode: \"auto\",\n",
       "            viaIndexes: []\n",
       "        }).then(function (route) {\n",
       "            var points = route.getWayPoints();  \n",
       "            theEl.innerHTML = theEl.innerHTML+'47.0'+'|'+start_point+'; '+end_point+'|Расстояние --'+route.getHumanLength() + '|'+route.getLength()+'|'+ route.getJamsTime() + '|'+ route.getTime()+ '|'+2+'|'+202211131139+'\\r\\n';\n",
       "        }, function (error) {\n",
       "        theEl.innerHTML = theEl.innerHTML+'47.0'+'||||||' +2+'|'+202211131139+'\\r\\n';\n",
       "    });\n",
       "    });\n",
       "    "
      ],
      "text/plain": [
       "<IPython.core.display.Javascript object>"
      ]
     },
     "metadata": {},
     "output_type": "display_data"
    },
    {
     "data": {
      "application/javascript": [
       "\n",
       "    var start_point = [56.11985, 40.361872];\n",
       "    var end_point = [56.316129, 38.132532];\n",
       "    ymaps.ready(function () {\n",
       "    var theEl=document.getElementById(\"output\");    \n",
       "    ymaps.route([start_point, end_point], {\n",
       "            mapStateAutoApply: false,\n",
       "            avoidTrafficJams: false,\n",
       "            multiRoute: false,\n",
       "            routingMode: \"auto\",\n",
       "            viaIndexes: []\n",
       "        }).then(function (route) {\n",
       "            var points = route.getWayPoints();  \n",
       "            theEl.innerHTML = theEl.innerHTML+'48.0'+'|'+start_point+'; '+end_point+'|Расстояние --'+route.getHumanLength() + '|'+route.getLength()+'|'+ route.getJamsTime() + '|'+ route.getTime()+ '|'+2+'|'+202211131139+'\\r\\n';\n",
       "        }, function (error) {\n",
       "        theEl.innerHTML = theEl.innerHTML+'48.0'+'||||||' +2+'|'+202211131139+'\\r\\n';\n",
       "    });\n",
       "    });\n",
       "    "
      ],
      "text/plain": [
       "<IPython.core.display.Javascript object>"
      ]
     },
     "metadata": {},
     "output_type": "display_data"
    },
    {
     "data": {
      "application/javascript": [
       "\n",
       "    var start_point = [55.773373, 37.605786];\n",
       "    var end_point = [54.188228, 37.542392];\n",
       "    ymaps.ready(function () {\n",
       "    var theEl=document.getElementById(\"output\");    \n",
       "    ymaps.route([start_point, end_point], {\n",
       "            mapStateAutoApply: false,\n",
       "            avoidTrafficJams: false,\n",
       "            multiRoute: false,\n",
       "            routingMode: \"auto\",\n",
       "            viaIndexes: []\n",
       "        }).then(function (route) {\n",
       "            var points = route.getWayPoints();  \n",
       "            theEl.innerHTML = theEl.innerHTML+'49.0'+'|'+start_point+'; '+end_point+'|Расстояние --'+route.getHumanLength() + '|'+route.getLength()+'|'+ route.getJamsTime() + '|'+ route.getTime()+ '|'+2+'|'+202211131139+'\\r\\n';\n",
       "        }, function (error) {\n",
       "        theEl.innerHTML = theEl.innerHTML+'49.0'+'||||||' +2+'|'+202211131139+'\\r\\n';\n",
       "    });\n",
       "    });\n",
       "    "
      ],
      "text/plain": [
       "<IPython.core.display.Javascript object>"
      ]
     },
     "metadata": {},
     "output_type": "display_data"
    },
    {
     "data": {
      "application/javascript": [
       "\n",
       "    var start_point = [52.603773, 39.598627];\n",
       "    var end_point = [54.01129, 38.263784];\n",
       "    ymaps.ready(function () {\n",
       "    var theEl=document.getElementById(\"output\");    \n",
       "    ymaps.route([start_point, end_point], {\n",
       "            mapStateAutoApply: false,\n",
       "            avoidTrafficJams: false,\n",
       "            multiRoute: false,\n",
       "            routingMode: \"auto\",\n",
       "            viaIndexes: []\n",
       "        }).then(function (route) {\n",
       "            var points = route.getWayPoints();  \n",
       "            theEl.innerHTML = theEl.innerHTML+'50.0'+'|'+start_point+'; '+end_point+'|Расстояние --'+route.getHumanLength() + '|'+route.getLength()+'|'+ route.getJamsTime() + '|'+ route.getTime()+ '|'+2+'|'+202211131139+'\\r\\n';\n",
       "        }, function (error) {\n",
       "        theEl.innerHTML = theEl.innerHTML+'50.0'+'||||||' +2+'|'+202211131139+'\\r\\n';\n",
       "    });\n",
       "    });\n",
       "    "
      ],
      "text/plain": [
       "<IPython.core.display.Javascript object>"
      ]
     },
     "metadata": {},
     "output_type": "display_data"
    },
    {
     "data": {
      "application/javascript": [
       "\n",
       "    var start_point = [56.11985, 40.361872];\n",
       "    var end_point = [55.750282, 38.00683];\n",
       "    ymaps.ready(function () {\n",
       "    var theEl=document.getElementById(\"output\");    \n",
       "    ymaps.route([start_point, end_point], {\n",
       "            mapStateAutoApply: false,\n",
       "            avoidTrafficJams: false,\n",
       "            multiRoute: false,\n",
       "            routingMode: \"auto\",\n",
       "            viaIndexes: []\n",
       "        }).then(function (route) {\n",
       "            var points = route.getWayPoints();  \n",
       "            theEl.innerHTML = theEl.innerHTML+'51.0'+'|'+start_point+'; '+end_point+'|Расстояние --'+route.getHumanLength() + '|'+route.getLength()+'|'+ route.getJamsTime() + '|'+ route.getTime()+ '|'+2+'|'+202211131139+'\\r\\n';\n",
       "        }, function (error) {\n",
       "        theEl.innerHTML = theEl.innerHTML+'51.0'+'||||||' +2+'|'+202211131139+'\\r\\n';\n",
       "    });\n",
       "    });\n",
       "    "
      ],
      "text/plain": [
       "<IPython.core.display.Javascript object>"
      ]
     },
     "metadata": {},
     "output_type": "display_data"
    },
    {
     "data": {
      "application/javascript": [
       "\n",
       "    var start_point = [53.237014, 34.358826];\n",
       "    var end_point = [55.087007, 31.970565];\n",
       "    ymaps.ready(function () {\n",
       "    var theEl=document.getElementById(\"output\");    \n",
       "    ymaps.route([start_point, end_point], {\n",
       "            mapStateAutoApply: false,\n",
       "            avoidTrafficJams: false,\n",
       "            multiRoute: false,\n",
       "            routingMode: \"auto\",\n",
       "            viaIndexes: []\n",
       "        }).then(function (route) {\n",
       "            var points = route.getWayPoints();  \n",
       "            theEl.innerHTML = theEl.innerHTML+'52.0'+'|'+start_point+'; '+end_point+'|Расстояние --'+route.getHumanLength() + '|'+route.getLength()+'|'+ route.getJamsTime() + '|'+ route.getTime()+ '|'+2+'|'+202211131139+'\\r\\n';\n",
       "        }, function (error) {\n",
       "        theEl.innerHTML = theEl.innerHTML+'52.0'+'||||||' +2+'|'+202211131139+'\\r\\n';\n",
       "    });\n",
       "    });\n",
       "    "
      ],
      "text/plain": [
       "<IPython.core.display.Javascript object>"
      ]
     },
     "metadata": {},
     "output_type": "display_data"
    },
    {
     "data": {
      "application/javascript": [
       "\n",
       "    var start_point = [53.237014, 34.358826];\n",
       "    var end_point = [53.948448, 32.850941];\n",
       "    ymaps.ready(function () {\n",
       "    var theEl=document.getElementById(\"output\");    \n",
       "    ymaps.route([start_point, end_point], {\n",
       "            mapStateAutoApply: false,\n",
       "            avoidTrafficJams: false,\n",
       "            multiRoute: false,\n",
       "            routingMode: \"auto\",\n",
       "            viaIndexes: []\n",
       "        }).then(function (route) {\n",
       "            var points = route.getWayPoints();  \n",
       "            theEl.innerHTML = theEl.innerHTML+'53.0'+'|'+start_point+'; '+end_point+'|Расстояние --'+route.getHumanLength() + '|'+route.getLength()+'|'+ route.getJamsTime() + '|'+ route.getTime()+ '|'+2+'|'+202211131139+'\\r\\n';\n",
       "        }, function (error) {\n",
       "        theEl.innerHTML = theEl.innerHTML+'53.0'+'||||||' +2+'|'+202211131139+'\\r\\n';\n",
       "    });\n",
       "    });\n",
       "    "
      ],
      "text/plain": [
       "<IPython.core.display.Javascript object>"
      ]
     },
     "metadata": {},
     "output_type": "display_data"
    },
    {
     "data": {
      "application/javascript": [
       "\n",
       "    var start_point = [54.515377, 36.255241];\n",
       "    var end_point = [55.50493, 36.027941];\n",
       "    ymaps.ready(function () {\n",
       "    var theEl=document.getElementById(\"output\");    \n",
       "    ymaps.route([start_point, end_point], {\n",
       "            mapStateAutoApply: false,\n",
       "            avoidTrafficJams: false,\n",
       "            multiRoute: false,\n",
       "            routingMode: \"auto\",\n",
       "            viaIndexes: []\n",
       "        }).then(function (route) {\n",
       "            var points = route.getWayPoints();  \n",
       "            theEl.innerHTML = theEl.innerHTML+'54.0'+'|'+start_point+'; '+end_point+'|Расстояние --'+route.getHumanLength() + '|'+route.getLength()+'|'+ route.getJamsTime() + '|'+ route.getTime()+ '|'+2+'|'+202211131139+'\\r\\n';\n",
       "        }, function (error) {\n",
       "        theEl.innerHTML = theEl.innerHTML+'54.0'+'||||||' +2+'|'+202211131139+'\\r\\n';\n",
       "    });\n",
       "    });\n",
       "    "
      ],
      "text/plain": [
       "<IPython.core.display.Javascript object>"
      ]
     },
     "metadata": {},
     "output_type": "display_data"
    },
    {
     "data": {
      "application/javascript": [
       "\n",
       "    var start_point = [54.515377, 36.255241];\n",
       "    var end_point = [53.309683, 34.308727];\n",
       "    ymaps.ready(function () {\n",
       "    var theEl=document.getElementById(\"output\");    \n",
       "    ymaps.route([start_point, end_point], {\n",
       "            mapStateAutoApply: false,\n",
       "            avoidTrafficJams: false,\n",
       "            multiRoute: false,\n",
       "            routingMode: \"auto\",\n",
       "            viaIndexes: []\n",
       "        }).then(function (route) {\n",
       "            var points = route.getWayPoints();  \n",
       "            theEl.innerHTML = theEl.innerHTML+'55.0'+'|'+start_point+'; '+end_point+'|Расстояние --'+route.getHumanLength() + '|'+route.getLength()+'|'+ route.getJamsTime() + '|'+ route.getTime()+ '|'+2+'|'+202211131139+'\\r\\n';\n",
       "        }, function (error) {\n",
       "        theEl.innerHTML = theEl.innerHTML+'55.0'+'||||||' +2+'|'+202211131139+'\\r\\n';\n",
       "    });\n",
       "    });\n",
       "    "
      ],
      "text/plain": [
       "<IPython.core.display.Javascript object>"
      ]
     },
     "metadata": {},
     "output_type": "display_data"
    },
    {
     "data": {
      "application/javascript": [
       "\n",
       "    var start_point = [54.515377, 36.255241];\n",
       "    var end_point = [55.511185, 37.565219];\n",
       "    ymaps.ready(function () {\n",
       "    var theEl=document.getElementById(\"output\");    \n",
       "    ymaps.route([start_point, end_point], {\n",
       "            mapStateAutoApply: false,\n",
       "            avoidTrafficJams: false,\n",
       "            multiRoute: false,\n",
       "            routingMode: \"auto\",\n",
       "            viaIndexes: []\n",
       "        }).then(function (route) {\n",
       "            var points = route.getWayPoints();  \n",
       "            theEl.innerHTML = theEl.innerHTML+'56.0'+'|'+start_point+'; '+end_point+'|Расстояние --'+route.getHumanLength() + '|'+route.getLength()+'|'+ route.getJamsTime() + '|'+ route.getTime()+ '|'+2+'|'+202211131139+'\\r\\n';\n",
       "        }, function (error) {\n",
       "        theEl.innerHTML = theEl.innerHTML+'56.0'+'||||||' +2+'|'+202211131139+'\\r\\n';\n",
       "    });\n",
       "    });\n",
       "    "
      ],
      "text/plain": [
       "<IPython.core.display.Javascript object>"
      ]
     },
     "metadata": {},
     "output_type": "display_data"
    },
    {
     "data": {
      "application/javascript": [
       "\n",
       "    var start_point = [54.776482, 32.016091];\n",
       "    var end_point = [55.214804, 34.303436];\n",
       "    ymaps.ready(function () {\n",
       "    var theEl=document.getElementById(\"output\");    \n",
       "    ymaps.route([start_point, end_point], {\n",
       "            mapStateAutoApply: false,\n",
       "            avoidTrafficJams: false,\n",
       "            multiRoute: false,\n",
       "            routingMode: \"auto\",\n",
       "            viaIndexes: []\n",
       "        }).then(function (route) {\n",
       "            var points = route.getWayPoints();  \n",
       "            theEl.innerHTML = theEl.innerHTML+'57.0'+'|'+start_point+'; '+end_point+'|Расстояние --'+route.getHumanLength() + '|'+route.getLength()+'|'+ route.getJamsTime() + '|'+ route.getTime()+ '|'+2+'|'+202211131139+'\\r\\n';\n",
       "        }, function (error) {\n",
       "        theEl.innerHTML = theEl.innerHTML+'57.0'+'||||||' +2+'|'+202211131139+'\\r\\n';\n",
       "    });\n",
       "    });\n",
       "    "
      ],
      "text/plain": [
       "<IPython.core.display.Javascript object>"
      ]
     },
     "metadata": {},
     "output_type": "display_data"
    },
    {
     "data": {
      "application/javascript": [
       "\n",
       "    var start_point = [53.237014, 34.358826];\n",
       "    var end_point = [52.825797, 22.784465];\n",
       "    ymaps.ready(function () {\n",
       "    var theEl=document.getElementById(\"output\");    \n",
       "    ymaps.route([start_point, end_point], {\n",
       "            mapStateAutoApply: false,\n",
       "            avoidTrafficJams: false,\n",
       "            multiRoute: false,\n",
       "            routingMode: \"auto\",\n",
       "            viaIndexes: []\n",
       "        }).then(function (route) {\n",
       "            var points = route.getWayPoints();  \n",
       "            theEl.innerHTML = theEl.innerHTML+'58.0'+'|'+start_point+'; '+end_point+'|Расстояние --'+route.getHumanLength() + '|'+route.getLength()+'|'+ route.getJamsTime() + '|'+ route.getTime()+ '|'+2+'|'+202211131139+'\\r\\n';\n",
       "        }, function (error) {\n",
       "        theEl.innerHTML = theEl.innerHTML+'58.0'+'||||||' +2+'|'+202211131139+'\\r\\n';\n",
       "    });\n",
       "    });\n",
       "    "
      ],
      "text/plain": [
       "<IPython.core.display.Javascript object>"
      ]
     },
     "metadata": {},
     "output_type": "display_data"
    },
    {
     "name": "stdout",
     "output_type": "stream",
     "text": [
      "Выполняется шаг 4. Начало 2022-11-13 11:39:47.372931\n"
     ]
    },
    {
     "data": {
      "application/javascript": [
       "\n",
       "    var start_point = [56.971192, 40.974487];\n",
       "    var end_point = [57.465109, 40.552827];\n",
       "    ymaps.ready(function () {\n",
       "    var theEl=document.getElementById(\"output\");    \n",
       "    ymaps.route([start_point, end_point], {\n",
       "            mapStateAutoApply: false,\n",
       "            avoidTrafficJams: false,\n",
       "            multiRoute: false,\n",
       "            routingMode: \"auto\",\n",
       "            viaIndexes: []\n",
       "        }).then(function (route) {\n",
       "            var points = route.getWayPoints();  \n",
       "            theEl.innerHTML = theEl.innerHTML+'0.0'+'|'+start_point+'; '+end_point+'|Расстояние --'+route.getHumanLength() + '|'+route.getLength()+'|'+ route.getJamsTime() + '|'+ route.getTime()+ '|'+3+'|'+202211131139+'\\r\\n';\n",
       "        }, function (error) {\n",
       "        theEl.innerHTML = theEl.innerHTML+'0.0'+'||||||' +3+'|'+202211131139+'\\r\\n';\n",
       "    });\n",
       "    });\n",
       "    "
      ],
      "text/plain": [
       "<IPython.core.display.Javascript object>"
      ]
     },
     "metadata": {},
     "output_type": "display_data"
    },
    {
     "data": {
      "application/javascript": [
       "\n",
       "    var start_point = [56.11985, 40.361872];\n",
       "    var end_point = [55.754568, 37.609586];\n",
       "    ymaps.ready(function () {\n",
       "    var theEl=document.getElementById(\"output\");    \n",
       "    ymaps.route([start_point, end_point], {\n",
       "            mapStateAutoApply: false,\n",
       "            avoidTrafficJams: false,\n",
       "            multiRoute: false,\n",
       "            routingMode: \"auto\",\n",
       "            viaIndexes: []\n",
       "        }).then(function (route) {\n",
       "            var points = route.getWayPoints();  \n",
       "            theEl.innerHTML = theEl.innerHTML+'1.0'+'|'+start_point+'; '+end_point+'|Расстояние --'+route.getHumanLength() + '|'+route.getLength()+'|'+ route.getJamsTime() + '|'+ route.getTime()+ '|'+3+'|'+202211131139+'\\r\\n';\n",
       "        }, function (error) {\n",
       "        theEl.innerHTML = theEl.innerHTML+'1.0'+'||||||' +3+'|'+202211131139+'\\r\\n';\n",
       "    });\n",
       "    });\n",
       "    "
      ],
      "text/plain": [
       "<IPython.core.display.Javascript object>"
      ]
     },
     "metadata": {},
     "output_type": "display_data"
    },
    {
     "data": {
      "application/javascript": [
       "\n",
       "    var start_point = [57.76403, 40.957688];\n",
       "    var end_point = [56.824809, 41.400594];\n",
       "    ymaps.ready(function () {\n",
       "    var theEl=document.getElementById(\"output\");    \n",
       "    ymaps.route([start_point, end_point], {\n",
       "            mapStateAutoApply: false,\n",
       "            avoidTrafficJams: false,\n",
       "            multiRoute: false,\n",
       "            routingMode: \"auto\",\n",
       "            viaIndexes: []\n",
       "        }).then(function (route) {\n",
       "            var points = route.getWayPoints();  \n",
       "            theEl.innerHTML = theEl.innerHTML+'2.0'+'|'+start_point+'; '+end_point+'|Расстояние --'+route.getHumanLength() + '|'+route.getLength()+'|'+ route.getJamsTime() + '|'+ route.getTime()+ '|'+3+'|'+202211131139+'\\r\\n';\n",
       "        }, function (error) {\n",
       "        theEl.innerHTML = theEl.innerHTML+'2.0'+'||||||' +3+'|'+202211131139+'\\r\\n';\n",
       "    });\n",
       "    });\n",
       "    "
      ],
      "text/plain": [
       "<IPython.core.display.Javascript object>"
      ]
     },
     "metadata": {},
     "output_type": "display_data"
    },
    {
     "data": {
      "application/javascript": [
       "\n",
       "    var start_point = [57.76403, 40.957688];\n",
       "    var end_point = [56.828217, 41.408652];\n",
       "    ymaps.ready(function () {\n",
       "    var theEl=document.getElementById(\"output\");    \n",
       "    ymaps.route([start_point, end_point], {\n",
       "            mapStateAutoApply: false,\n",
       "            avoidTrafficJams: false,\n",
       "            multiRoute: false,\n",
       "            routingMode: \"auto\",\n",
       "            viaIndexes: []\n",
       "        }).then(function (route) {\n",
       "            var points = route.getWayPoints();  \n",
       "            theEl.innerHTML = theEl.innerHTML+'3.0'+'|'+start_point+'; '+end_point+'|Расстояние --'+route.getHumanLength() + '|'+route.getLength()+'|'+ route.getJamsTime() + '|'+ route.getTime()+ '|'+3+'|'+202211131139+'\\r\\n';\n",
       "        }, function (error) {\n",
       "        theEl.innerHTML = theEl.innerHTML+'3.0'+'||||||' +3+'|'+202211131139+'\\r\\n';\n",
       "    });\n",
       "    });\n",
       "    "
      ],
      "text/plain": [
       "<IPython.core.display.Javascript object>"
      ]
     },
     "metadata": {},
     "output_type": "display_data"
    },
    {
     "data": {
      "application/javascript": [
       "\n",
       "    var start_point = [57.635709, 39.882917];\n",
       "    var end_point = [56.965923, 41.018989];\n",
       "    ymaps.ready(function () {\n",
       "    var theEl=document.getElementById(\"output\");    \n",
       "    ymaps.route([start_point, end_point], {\n",
       "            mapStateAutoApply: false,\n",
       "            avoidTrafficJams: false,\n",
       "            multiRoute: false,\n",
       "            routingMode: \"auto\",\n",
       "            viaIndexes: []\n",
       "        }).then(function (route) {\n",
       "            var points = route.getWayPoints();  \n",
       "            theEl.innerHTML = theEl.innerHTML+'4.0'+'|'+start_point+'; '+end_point+'|Расстояние --'+route.getHumanLength() + '|'+route.getLength()+'|'+ route.getJamsTime() + '|'+ route.getTime()+ '|'+3+'|'+202211131139+'\\r\\n';\n",
       "        }, function (error) {\n",
       "        theEl.innerHTML = theEl.innerHTML+'4.0'+'||||||' +3+'|'+202211131139+'\\r\\n';\n",
       "    });\n",
       "    });\n",
       "    "
      ],
      "text/plain": [
       "<IPython.core.display.Javascript object>"
      ]
     },
     "metadata": {},
     "output_type": "display_data"
    },
    {
     "data": {
      "application/javascript": [
       "\n",
       "    var start_point = [54.515377, 36.255241];\n",
       "    var end_point = [55.531132, 38.874756];\n",
       "    ymaps.ready(function () {\n",
       "    var theEl=document.getElementById(\"output\");    \n",
       "    ymaps.route([start_point, end_point], {\n",
       "            mapStateAutoApply: false,\n",
       "            avoidTrafficJams: false,\n",
       "            multiRoute: false,\n",
       "            routingMode: \"auto\",\n",
       "            viaIndexes: []\n",
       "        }).then(function (route) {\n",
       "            var points = route.getWayPoints();  \n",
       "            theEl.innerHTML = theEl.innerHTML+'5.0'+'|'+start_point+'; '+end_point+'|Расстояние --'+route.getHumanLength() + '|'+route.getLength()+'|'+ route.getJamsTime() + '|'+ route.getTime()+ '|'+3+'|'+202211131139+'\\r\\n';\n",
       "        }, function (error) {\n",
       "        theEl.innerHTML = theEl.innerHTML+'5.0'+'||||||' +3+'|'+202211131139+'\\r\\n';\n",
       "    });\n",
       "    });\n",
       "    "
      ],
      "text/plain": [
       "<IPython.core.display.Javascript object>"
      ]
     },
     "metadata": {},
     "output_type": "display_data"
    },
    {
     "data": {
      "application/javascript": [
       "\n",
       "    var start_point = [53.237014, 34.358826];\n",
       "    var end_point = [55.083575, 33.071001];\n",
       "    ymaps.ready(function () {\n",
       "    var theEl=document.getElementById(\"output\");    \n",
       "    ymaps.route([start_point, end_point], {\n",
       "            mapStateAutoApply: false,\n",
       "            avoidTrafficJams: false,\n",
       "            multiRoute: false,\n",
       "            routingMode: \"auto\",\n",
       "            viaIndexes: []\n",
       "        }).then(function (route) {\n",
       "            var points = route.getWayPoints();  \n",
       "            theEl.innerHTML = theEl.innerHTML+'6.0'+'|'+start_point+'; '+end_point+'|Расстояние --'+route.getHumanLength() + '|'+route.getLength()+'|'+ route.getJamsTime() + '|'+ route.getTime()+ '|'+3+'|'+202211131139+'\\r\\n';\n",
       "        }, function (error) {\n",
       "        theEl.innerHTML = theEl.innerHTML+'6.0'+'||||||' +3+'|'+202211131139+'\\r\\n';\n",
       "    });\n",
       "    });\n",
       "    "
      ],
      "text/plain": [
       "<IPython.core.display.Javascript object>"
      ]
     },
     "metadata": {},
     "output_type": "display_data"
    },
    {
     "data": {
      "application/javascript": [
       "\n",
       "    var start_point = [54.515377, 36.255241];\n",
       "    var end_point = [54.811892, 32.024257];\n",
       "    ymaps.ready(function () {\n",
       "    var theEl=document.getElementById(\"output\");    \n",
       "    ymaps.route([start_point, end_point], {\n",
       "            mapStateAutoApply: false,\n",
       "            avoidTrafficJams: false,\n",
       "            multiRoute: false,\n",
       "            routingMode: \"auto\",\n",
       "            viaIndexes: []\n",
       "        }).then(function (route) {\n",
       "            var points = route.getWayPoints();  \n",
       "            theEl.innerHTML = theEl.innerHTML+'7.0'+'|'+start_point+'; '+end_point+'|Расстояние --'+route.getHumanLength() + '|'+route.getLength()+'|'+ route.getJamsTime() + '|'+ route.getTime()+ '|'+3+'|'+202211131139+'\\r\\n';\n",
       "        }, function (error) {\n",
       "        theEl.innerHTML = theEl.innerHTML+'7.0'+'||||||' +3+'|'+202211131139+'\\r\\n';\n",
       "    });\n",
       "    });\n",
       "    "
      ],
      "text/plain": [
       "<IPython.core.display.Javascript object>"
      ]
     },
     "metadata": {},
     "output_type": "display_data"
    },
    {
     "data": {
      "application/javascript": [
       "\n",
       "    var start_point = [55.773373, 37.605786];\n",
       "    var end_point = [54.009909, 38.27434];\n",
       "    ymaps.ready(function () {\n",
       "    var theEl=document.getElementById(\"output\");    \n",
       "    ymaps.route([start_point, end_point], {\n",
       "            mapStateAutoApply: false,\n",
       "            avoidTrafficJams: false,\n",
       "            multiRoute: false,\n",
       "            routingMode: \"auto\",\n",
       "            viaIndexes: []\n",
       "        }).then(function (route) {\n",
       "            var points = route.getWayPoints();  \n",
       "            theEl.innerHTML = theEl.innerHTML+'8.0'+'|'+start_point+'; '+end_point+'|Расстояние --'+route.getHumanLength() + '|'+route.getLength()+'|'+ route.getJamsTime() + '|'+ route.getTime()+ '|'+3+'|'+202211131139+'\\r\\n';\n",
       "        }, function (error) {\n",
       "        theEl.innerHTML = theEl.innerHTML+'8.0'+'||||||' +3+'|'+202211131139+'\\r\\n';\n",
       "    });\n",
       "    });\n",
       "    "
      ],
      "text/plain": [
       "<IPython.core.display.Javascript object>"
      ]
     },
     "metadata": {},
     "output_type": "display_data"
    },
    {
     "data": {
      "application/javascript": [
       "\n",
       "    var start_point = [56.11985, 40.361872];\n",
       "    var end_point = [55.818776, 37.521354];\n",
       "    ymaps.ready(function () {\n",
       "    var theEl=document.getElementById(\"output\");    \n",
       "    ymaps.route([start_point, end_point], {\n",
       "            mapStateAutoApply: false,\n",
       "            avoidTrafficJams: false,\n",
       "            multiRoute: false,\n",
       "            routingMode: \"auto\",\n",
       "            viaIndexes: []\n",
       "        }).then(function (route) {\n",
       "            var points = route.getWayPoints();  \n",
       "            theEl.innerHTML = theEl.innerHTML+'9.0'+'|'+start_point+'; '+end_point+'|Расстояние --'+route.getHumanLength() + '|'+route.getLength()+'|'+ route.getJamsTime() + '|'+ route.getTime()+ '|'+3+'|'+202211131139+'\\r\\n';\n",
       "        }, function (error) {\n",
       "        theEl.innerHTML = theEl.innerHTML+'9.0'+'||||||' +3+'|'+202211131139+'\\r\\n';\n",
       "    });\n",
       "    });\n",
       "    "
      ],
      "text/plain": [
       "<IPython.core.display.Javascript object>"
      ]
     },
     "metadata": {},
     "output_type": "display_data"
    },
    {
     "data": {
      "application/javascript": [
       "\n",
       "    var start_point = [52.603773, 39.598627];\n",
       "    var end_point = [54.157576, 37.582071];\n",
       "    ymaps.ready(function () {\n",
       "    var theEl=document.getElementById(\"output\");    \n",
       "    ymaps.route([start_point, end_point], {\n",
       "            mapStateAutoApply: false,\n",
       "            avoidTrafficJams: false,\n",
       "            multiRoute: false,\n",
       "            routingMode: \"auto\",\n",
       "            viaIndexes: []\n",
       "        }).then(function (route) {\n",
       "            var points = route.getWayPoints();  \n",
       "            theEl.innerHTML = theEl.innerHTML+'10.0'+'|'+start_point+'; '+end_point+'|Расстояние --'+route.getHumanLength() + '|'+route.getLength()+'|'+ route.getJamsTime() + '|'+ route.getTime()+ '|'+3+'|'+202211131139+'\\r\\n';\n",
       "        }, function (error) {\n",
       "        theEl.innerHTML = theEl.innerHTML+'10.0'+'||||||' +3+'|'+202211131139+'\\r\\n';\n",
       "    });\n",
       "    });\n",
       "    "
      ],
      "text/plain": [
       "<IPython.core.display.Javascript object>"
      ]
     },
     "metadata": {},
     "output_type": "display_data"
    },
    {
     "data": {
      "application/javascript": [
       "\n",
       "    var start_point = [56.11985, 40.361872];\n",
       "    var end_point = [55.568329, 37.596758];\n",
       "    ymaps.ready(function () {\n",
       "    var theEl=document.getElementById(\"output\");    \n",
       "    ymaps.route([start_point, end_point], {\n",
       "            mapStateAutoApply: false,\n",
       "            avoidTrafficJams: false,\n",
       "            multiRoute: false,\n",
       "            routingMode: \"auto\",\n",
       "            viaIndexes: []\n",
       "        }).then(function (route) {\n",
       "            var points = route.getWayPoints();  \n",
       "            theEl.innerHTML = theEl.innerHTML+'11.0'+'|'+start_point+'; '+end_point+'|Расстояние --'+route.getHumanLength() + '|'+route.getLength()+'|'+ route.getJamsTime() + '|'+ route.getTime()+ '|'+3+'|'+202211131139+'\\r\\n';\n",
       "        }, function (error) {\n",
       "        theEl.innerHTML = theEl.innerHTML+'11.0'+'||||||' +3+'|'+202211131139+'\\r\\n';\n",
       "    });\n",
       "    });\n",
       "    "
      ],
      "text/plain": [
       "<IPython.core.display.Javascript object>"
      ]
     },
     "metadata": {},
     "output_type": "display_data"
    },
    {
     "data": {
      "application/javascript": [
       "\n",
       "    var start_point = [53.237014, 34.358826];\n",
       "    var end_point = [54.781052, 35.926916];\n",
       "    ymaps.ready(function () {\n",
       "    var theEl=document.getElementById(\"output\");    \n",
       "    ymaps.route([start_point, end_point], {\n",
       "            mapStateAutoApply: false,\n",
       "            avoidTrafficJams: false,\n",
       "            multiRoute: false,\n",
       "            routingMode: \"auto\",\n",
       "            viaIndexes: []\n",
       "        }).then(function (route) {\n",
       "            var points = route.getWayPoints();  \n",
       "            theEl.innerHTML = theEl.innerHTML+'12.0'+'|'+start_point+'; '+end_point+'|Расстояние --'+route.getHumanLength() + '|'+route.getLength()+'|'+ route.getJamsTime() + '|'+ route.getTime()+ '|'+3+'|'+202211131139+'\\r\\n';\n",
       "        }, function (error) {\n",
       "        theEl.innerHTML = theEl.innerHTML+'12.0'+'||||||' +3+'|'+202211131139+'\\r\\n';\n",
       "    });\n",
       "    });\n",
       "    "
      ],
      "text/plain": [
       "<IPython.core.display.Javascript object>"
      ]
     },
     "metadata": {},
     "output_type": "display_data"
    },
    {
     "data": {
      "application/javascript": [
       "\n",
       "    var start_point = [54.515377, 36.255241];\n",
       "    var end_point = [54.76957, 32.070511];\n",
       "    ymaps.ready(function () {\n",
       "    var theEl=document.getElementById(\"output\");    \n",
       "    ymaps.route([start_point, end_point], {\n",
       "            mapStateAutoApply: false,\n",
       "            avoidTrafficJams: false,\n",
       "            multiRoute: false,\n",
       "            routingMode: \"auto\",\n",
       "            viaIndexes: []\n",
       "        }).then(function (route) {\n",
       "            var points = route.getWayPoints();  \n",
       "            theEl.innerHTML = theEl.innerHTML+'13.0'+'|'+start_point+'; '+end_point+'|Расстояние --'+route.getHumanLength() + '|'+route.getLength()+'|'+ route.getJamsTime() + '|'+ route.getTime()+ '|'+3+'|'+202211131139+'\\r\\n';\n",
       "        }, function (error) {\n",
       "        theEl.innerHTML = theEl.innerHTML+'13.0'+'||||||' +3+'|'+202211131139+'\\r\\n';\n",
       "    });\n",
       "    });\n",
       "    "
      ],
      "text/plain": [
       "<IPython.core.display.Javascript object>"
      ]
     },
     "metadata": {},
     "output_type": "display_data"
    },
    {
     "data": {
      "application/javascript": [
       "\n",
       "    var start_point = [54.515377, 36.255241];\n",
       "    var end_point = [55.916678, 37.759264];\n",
       "    ymaps.ready(function () {\n",
       "    var theEl=document.getElementById(\"output\");    \n",
       "    ymaps.route([start_point, end_point], {\n",
       "            mapStateAutoApply: false,\n",
       "            avoidTrafficJams: false,\n",
       "            multiRoute: false,\n",
       "            routingMode: \"auto\",\n",
       "            viaIndexes: []\n",
       "        }).then(function (route) {\n",
       "            var points = route.getWayPoints();  \n",
       "            theEl.innerHTML = theEl.innerHTML+'14.0'+'|'+start_point+'; '+end_point+'|Расстояние --'+route.getHumanLength() + '|'+route.getLength()+'|'+ route.getJamsTime() + '|'+ route.getTime()+ '|'+3+'|'+202211131139+'\\r\\n';\n",
       "        }, function (error) {\n",
       "        theEl.innerHTML = theEl.innerHTML+'14.0'+'||||||' +3+'|'+202211131139+'\\r\\n';\n",
       "    });\n",
       "    });\n",
       "    "
      ],
      "text/plain": [
       "<IPython.core.display.Javascript object>"
      ]
     },
     "metadata": {},
     "output_type": "display_data"
    },
    {
     "data": {
      "application/javascript": [
       "\n",
       "    var start_point = [54.515377, 36.255241];\n",
       "    var end_point = [56.816114, 35.989053];\n",
       "    ymaps.ready(function () {\n",
       "    var theEl=document.getElementById(\"output\");    \n",
       "    ymaps.route([start_point, end_point], {\n",
       "            mapStateAutoApply: false,\n",
       "            avoidTrafficJams: false,\n",
       "            multiRoute: false,\n",
       "            routingMode: \"auto\",\n",
       "            viaIndexes: []\n",
       "        }).then(function (route) {\n",
       "            var points = route.getWayPoints();  \n",
       "            theEl.innerHTML = theEl.innerHTML+'15.0'+'|'+start_point+'; '+end_point+'|Расстояние --'+route.getHumanLength() + '|'+route.getLength()+'|'+ route.getJamsTime() + '|'+ route.getTime()+ '|'+3+'|'+202211131139+'\\r\\n';\n",
       "        }, function (error) {\n",
       "        theEl.innerHTML = theEl.innerHTML+'15.0'+'||||||' +3+'|'+202211131139+'\\r\\n';\n",
       "    });\n",
       "    });\n",
       "    "
      ],
      "text/plain": [
       "<IPython.core.display.Javascript object>"
      ]
     },
     "metadata": {},
     "output_type": "display_data"
    },
    {
     "data": {
      "application/javascript": [
       "\n",
       "    var start_point = [57.635709, 39.882917];\n",
       "    var end_point = [56.997656, 41.013123];\n",
       "    ymaps.ready(function () {\n",
       "    var theEl=document.getElementById(\"output\");    \n",
       "    ymaps.route([start_point, end_point], {\n",
       "            mapStateAutoApply: false,\n",
       "            avoidTrafficJams: false,\n",
       "            multiRoute: false,\n",
       "            routingMode: \"auto\",\n",
       "            viaIndexes: []\n",
       "        }).then(function (route) {\n",
       "            var points = route.getWayPoints();  \n",
       "            theEl.innerHTML = theEl.innerHTML+'16.0'+'|'+start_point+'; '+end_point+'|Расстояние --'+route.getHumanLength() + '|'+route.getLength()+'|'+ route.getJamsTime() + '|'+ route.getTime()+ '|'+3+'|'+202211131139+'\\r\\n';\n",
       "        }, function (error) {\n",
       "        theEl.innerHTML = theEl.innerHTML+'16.0'+'||||||' +3+'|'+202211131139+'\\r\\n';\n",
       "    });\n",
       "    });\n",
       "    "
      ],
      "text/plain": [
       "<IPython.core.display.Javascript object>"
      ]
     },
     "metadata": {},
     "output_type": "display_data"
    },
    {
     "data": {
      "application/javascript": [
       "\n",
       "    var start_point = [54.515377, 36.255241];\n",
       "    var end_point = [54.589994, 39.541647];\n",
       "    ymaps.ready(function () {\n",
       "    var theEl=document.getElementById(\"output\");    \n",
       "    ymaps.route([start_point, end_point], {\n",
       "            mapStateAutoApply: false,\n",
       "            avoidTrafficJams: false,\n",
       "            multiRoute: false,\n",
       "            routingMode: \"auto\",\n",
       "            viaIndexes: []\n",
       "        }).then(function (route) {\n",
       "            var points = route.getWayPoints();  \n",
       "            theEl.innerHTML = theEl.innerHTML+'17.0'+'|'+start_point+'; '+end_point+'|Расстояние --'+route.getHumanLength() + '|'+route.getLength()+'|'+ route.getJamsTime() + '|'+ route.getTime()+ '|'+3+'|'+202211131139+'\\r\\n';\n",
       "        }, function (error) {\n",
       "        theEl.innerHTML = theEl.innerHTML+'17.0'+'||||||' +3+'|'+202211131139+'\\r\\n';\n",
       "    });\n",
       "    });\n",
       "    "
      ],
      "text/plain": [
       "<IPython.core.display.Javascript object>"
      ]
     },
     "metadata": {},
     "output_type": "display_data"
    },
    {
     "data": {
      "application/javascript": [
       "\n",
       "    var start_point = [50.595386, 36.59158];\n",
       "    var end_point = [52.129588, 34.497068];\n",
       "    ymaps.ready(function () {\n",
       "    var theEl=document.getElementById(\"output\");    \n",
       "    ymaps.route([start_point, end_point], {\n",
       "            mapStateAutoApply: false,\n",
       "            avoidTrafficJams: false,\n",
       "            multiRoute: false,\n",
       "            routingMode: \"auto\",\n",
       "            viaIndexes: []\n",
       "        }).then(function (route) {\n",
       "            var points = route.getWayPoints();  \n",
       "            theEl.innerHTML = theEl.innerHTML+'18.0'+'|'+start_point+'; '+end_point+'|Расстояние --'+route.getHumanLength() + '|'+route.getLength()+'|'+ route.getJamsTime() + '|'+ route.getTime()+ '|'+3+'|'+202211131139+'\\r\\n';\n",
       "        }, function (error) {\n",
       "        theEl.innerHTML = theEl.innerHTML+'18.0'+'||||||' +3+'|'+202211131139+'\\r\\n';\n",
       "    });\n",
       "    });\n",
       "    "
      ],
      "text/plain": [
       "<IPython.core.display.Javascript object>"
      ]
     },
     "metadata": {},
     "output_type": "display_data"
    },
    {
     "data": {
      "application/javascript": [
       "\n",
       "    var start_point = [56.11985, 40.361872];\n",
       "    var end_point = [54.898235, 38.078749];\n",
       "    ymaps.ready(function () {\n",
       "    var theEl=document.getElementById(\"output\");    \n",
       "    ymaps.route([start_point, end_point], {\n",
       "            mapStateAutoApply: false,\n",
       "            avoidTrafficJams: false,\n",
       "            multiRoute: false,\n",
       "            routingMode: \"auto\",\n",
       "            viaIndexes: []\n",
       "        }).then(function (route) {\n",
       "            var points = route.getWayPoints();  \n",
       "            theEl.innerHTML = theEl.innerHTML+'19.0'+'|'+start_point+'; '+end_point+'|Расстояние --'+route.getHumanLength() + '|'+route.getLength()+'|'+ route.getJamsTime() + '|'+ route.getTime()+ '|'+3+'|'+202211131139+'\\r\\n';\n",
       "        }, function (error) {\n",
       "        theEl.innerHTML = theEl.innerHTML+'19.0'+'||||||' +3+'|'+202211131139+'\\r\\n';\n",
       "    });\n",
       "    });\n",
       "    "
      ],
      "text/plain": [
       "<IPython.core.display.Javascript object>"
      ]
     },
     "metadata": {},
     "output_type": "display_data"
    },
    {
     "data": {
      "application/javascript": [
       "\n",
       "    var start_point = [56.11985, 40.361872];\n",
       "    var end_point = [56.967841, 41.966406];\n",
       "    ymaps.ready(function () {\n",
       "    var theEl=document.getElementById(\"output\");    \n",
       "    ymaps.route([start_point, end_point], {\n",
       "            mapStateAutoApply: false,\n",
       "            avoidTrafficJams: false,\n",
       "            multiRoute: false,\n",
       "            routingMode: \"auto\",\n",
       "            viaIndexes: []\n",
       "        }).then(function (route) {\n",
       "            var points = route.getWayPoints();  \n",
       "            theEl.innerHTML = theEl.innerHTML+'20.0'+'|'+start_point+'; '+end_point+'|Расстояние --'+route.getHumanLength() + '|'+route.getLength()+'|'+ route.getJamsTime() + '|'+ route.getTime()+ '|'+3+'|'+202211131139+'\\r\\n';\n",
       "        }, function (error) {\n",
       "        theEl.innerHTML = theEl.innerHTML+'20.0'+'||||||' +3+'|'+202211131139+'\\r\\n';\n",
       "    });\n",
       "    });\n",
       "    "
      ],
      "text/plain": [
       "<IPython.core.display.Javascript object>"
      ]
     },
     "metadata": {},
     "output_type": "display_data"
    },
    {
     "data": {
      "application/javascript": [
       "\n",
       "    var start_point = [52.603773, 39.598627];\n",
       "    var end_point = [54.193702, 37.612039];\n",
       "    ymaps.ready(function () {\n",
       "    var theEl=document.getElementById(\"output\");    \n",
       "    ymaps.route([start_point, end_point], {\n",
       "            mapStateAutoApply: false,\n",
       "            avoidTrafficJams: false,\n",
       "            multiRoute: false,\n",
       "            routingMode: \"auto\",\n",
       "            viaIndexes: []\n",
       "        }).then(function (route) {\n",
       "            var points = route.getWayPoints();  \n",
       "            theEl.innerHTML = theEl.innerHTML+'21.0'+'|'+start_point+'; '+end_point+'|Расстояние --'+route.getHumanLength() + '|'+route.getLength()+'|'+ route.getJamsTime() + '|'+ route.getTime()+ '|'+3+'|'+202211131139+'\\r\\n';\n",
       "        }, function (error) {\n",
       "        theEl.innerHTML = theEl.innerHTML+'21.0'+'||||||' +3+'|'+202211131139+'\\r\\n';\n",
       "    });\n",
       "    });\n",
       "    "
      ],
      "text/plain": [
       "<IPython.core.display.Javascript object>"
      ]
     },
     "metadata": {},
     "output_type": "display_data"
    },
    {
     "data": {
      "application/javascript": [
       "\n",
       "    var start_point = [52.603773, 39.598627];\n",
       "    var end_point = [54.203525, 37.590237];\n",
       "    ymaps.ready(function () {\n",
       "    var theEl=document.getElementById(\"output\");    \n",
       "    ymaps.route([start_point, end_point], {\n",
       "            mapStateAutoApply: false,\n",
       "            avoidTrafficJams: false,\n",
       "            multiRoute: false,\n",
       "            routingMode: \"auto\",\n",
       "            viaIndexes: []\n",
       "        }).then(function (route) {\n",
       "            var points = route.getWayPoints();  \n",
       "            theEl.innerHTML = theEl.innerHTML+'22.0'+'|'+start_point+'; '+end_point+'|Расстояние --'+route.getHumanLength() + '|'+route.getLength()+'|'+ route.getJamsTime() + '|'+ route.getTime()+ '|'+3+'|'+202211131139+'\\r\\n';\n",
       "        }, function (error) {\n",
       "        theEl.innerHTML = theEl.innerHTML+'22.0'+'||||||' +3+'|'+202211131139+'\\r\\n';\n",
       "    });\n",
       "    });\n",
       "    "
      ],
      "text/plain": [
       "<IPython.core.display.Javascript object>"
      ]
     },
     "metadata": {},
     "output_type": "display_data"
    },
    {
     "data": {
      "application/javascript": [
       "\n",
       "    var start_point = [52.603773, 39.598627];\n",
       "    var end_point = [54.203856, 37.515703];\n",
       "    ymaps.ready(function () {\n",
       "    var theEl=document.getElementById(\"output\");    \n",
       "    ymaps.route([start_point, end_point], {\n",
       "            mapStateAutoApply: false,\n",
       "            avoidTrafficJams: false,\n",
       "            multiRoute: false,\n",
       "            routingMode: \"auto\",\n",
       "            viaIndexes: []\n",
       "        }).then(function (route) {\n",
       "            var points = route.getWayPoints();  \n",
       "            theEl.innerHTML = theEl.innerHTML+'23.0'+'|'+start_point+'; '+end_point+'|Расстояние --'+route.getHumanLength() + '|'+route.getLength()+'|'+ route.getJamsTime() + '|'+ route.getTime()+ '|'+3+'|'+202211131139+'\\r\\n';\n",
       "        }, function (error) {\n",
       "        theEl.innerHTML = theEl.innerHTML+'23.0'+'||||||' +3+'|'+202211131139+'\\r\\n';\n",
       "    });\n",
       "    });\n",
       "    "
      ],
      "text/plain": [
       "<IPython.core.display.Javascript object>"
      ]
     },
     "metadata": {},
     "output_type": "display_data"
    },
    {
     "data": {
      "application/javascript": [
       "\n",
       "    var start_point = [56.11985, 40.361872];\n",
       "    var end_point = [54.474303, 38.727863];\n",
       "    ymaps.ready(function () {\n",
       "    var theEl=document.getElementById(\"output\");    \n",
       "    ymaps.route([start_point, end_point], {\n",
       "            mapStateAutoApply: false,\n",
       "            avoidTrafficJams: false,\n",
       "            multiRoute: false,\n",
       "            routingMode: \"auto\",\n",
       "            viaIndexes: []\n",
       "        }).then(function (route) {\n",
       "            var points = route.getWayPoints();  \n",
       "            theEl.innerHTML = theEl.innerHTML+'24.0'+'|'+start_point+'; '+end_point+'|Расстояние --'+route.getHumanLength() + '|'+route.getLength()+'|'+ route.getJamsTime() + '|'+ route.getTime()+ '|'+3+'|'+202211131139+'\\r\\n';\n",
       "        }, function (error) {\n",
       "        theEl.innerHTML = theEl.innerHTML+'24.0'+'||||||' +3+'|'+202211131139+'\\r\\n';\n",
       "    });\n",
       "    });\n",
       "    "
      ],
      "text/plain": [
       "<IPython.core.display.Javascript object>"
      ]
     },
     "metadata": {},
     "output_type": "display_data"
    },
    {
     "data": {
      "application/javascript": [
       "\n",
       "    var start_point = [56.11985, 40.361872];\n",
       "    var end_point = [54.47357, 38.727001];\n",
       "    ymaps.ready(function () {\n",
       "    var theEl=document.getElementById(\"output\");    \n",
       "    ymaps.route([start_point, end_point], {\n",
       "            mapStateAutoApply: false,\n",
       "            avoidTrafficJams: false,\n",
       "            multiRoute: false,\n",
       "            routingMode: \"auto\",\n",
       "            viaIndexes: []\n",
       "        }).then(function (route) {\n",
       "            var points = route.getWayPoints();  \n",
       "            theEl.innerHTML = theEl.innerHTML+'25.0'+'|'+start_point+'; '+end_point+'|Расстояние --'+route.getHumanLength() + '|'+route.getLength()+'|'+ route.getJamsTime() + '|'+ route.getTime()+ '|'+3+'|'+202211131139+'\\r\\n';\n",
       "        }, function (error) {\n",
       "        theEl.innerHTML = theEl.innerHTML+'25.0'+'||||||' +3+'|'+202211131139+'\\r\\n';\n",
       "    });\n",
       "    });\n",
       "    "
      ],
      "text/plain": [
       "<IPython.core.display.Javascript object>"
      ]
     },
     "metadata": {},
     "output_type": "display_data"
    },
    {
     "data": {
      "application/javascript": [
       "\n",
       "    var start_point = [55.773373, 37.605786];\n",
       "    var end_point = [54.043499, 38.250813];\n",
       "    ymaps.ready(function () {\n",
       "    var theEl=document.getElementById(\"output\");    \n",
       "    ymaps.route([start_point, end_point], {\n",
       "            mapStateAutoApply: false,\n",
       "            avoidTrafficJams: false,\n",
       "            multiRoute: false,\n",
       "            routingMode: \"auto\",\n",
       "            viaIndexes: []\n",
       "        }).then(function (route) {\n",
       "            var points = route.getWayPoints();  \n",
       "            theEl.innerHTML = theEl.innerHTML+'26.0'+'|'+start_point+'; '+end_point+'|Расстояние --'+route.getHumanLength() + '|'+route.getLength()+'|'+ route.getJamsTime() + '|'+ route.getTime()+ '|'+3+'|'+202211131139+'\\r\\n';\n",
       "        }, function (error) {\n",
       "        theEl.innerHTML = theEl.innerHTML+'26.0'+'||||||' +3+'|'+202211131139+'\\r\\n';\n",
       "    });\n",
       "    });\n",
       "    "
      ],
      "text/plain": [
       "<IPython.core.display.Javascript object>"
      ]
     },
     "metadata": {},
     "output_type": "display_data"
    },
    {
     "data": {
      "application/javascript": [
       "\n",
       "    var start_point = [55.773373, 37.605786];\n",
       "    var end_point = [54.042431, 38.248836];\n",
       "    ymaps.ready(function () {\n",
       "    var theEl=document.getElementById(\"output\");    \n",
       "    ymaps.route([start_point, end_point], {\n",
       "            mapStateAutoApply: false,\n",
       "            avoidTrafficJams: false,\n",
       "            multiRoute: false,\n",
       "            routingMode: \"auto\",\n",
       "            viaIndexes: []\n",
       "        }).then(function (route) {\n",
       "            var points = route.getWayPoints();  \n",
       "            theEl.innerHTML = theEl.innerHTML+'27.0'+'|'+start_point+'; '+end_point+'|Расстояние --'+route.getHumanLength() + '|'+route.getLength()+'|'+ route.getJamsTime() + '|'+ route.getTime()+ '|'+3+'|'+202211131139+'\\r\\n';\n",
       "        }, function (error) {\n",
       "        theEl.innerHTML = theEl.innerHTML+'27.0'+'||||||' +3+'|'+202211131139+'\\r\\n';\n",
       "    });\n",
       "    });\n",
       "    "
      ],
      "text/plain": [
       "<IPython.core.display.Javascript object>"
      ]
     },
     "metadata": {},
     "output_type": "display_data"
    },
    {
     "data": {
      "application/javascript": [
       "\n",
       "    var start_point = [53.237014, 34.358826];\n",
       "    var end_point = [53.708027, 37.300997];\n",
       "    ymaps.ready(function () {\n",
       "    var theEl=document.getElementById(\"output\");    \n",
       "    ymaps.route([start_point, end_point], {\n",
       "            mapStateAutoApply: false,\n",
       "            avoidTrafficJams: false,\n",
       "            multiRoute: false,\n",
       "            routingMode: \"auto\",\n",
       "            viaIndexes: []\n",
       "        }).then(function (route) {\n",
       "            var points = route.getWayPoints();  \n",
       "            theEl.innerHTML = theEl.innerHTML+'28.0'+'|'+start_point+'; '+end_point+'|Расстояние --'+route.getHumanLength() + '|'+route.getLength()+'|'+ route.getJamsTime() + '|'+ route.getTime()+ '|'+3+'|'+202211131139+'\\r\\n';\n",
       "        }, function (error) {\n",
       "        theEl.innerHTML = theEl.innerHTML+'28.0'+'||||||' +3+'|'+202211131139+'\\r\\n';\n",
       "    });\n",
       "    });\n",
       "    "
      ],
      "text/plain": [
       "<IPython.core.display.Javascript object>"
      ]
     },
     "metadata": {},
     "output_type": "display_data"
    },
    {
     "data": {
      "application/javascript": [
       "\n",
       "    var start_point = [54.515377, 36.255241];\n",
       "    var end_point = [55.728398, 38.034382];\n",
       "    ymaps.ready(function () {\n",
       "    var theEl=document.getElementById(\"output\");    \n",
       "    ymaps.route([start_point, end_point], {\n",
       "            mapStateAutoApply: false,\n",
       "            avoidTrafficJams: false,\n",
       "            multiRoute: false,\n",
       "            routingMode: \"auto\",\n",
       "            viaIndexes: []\n",
       "        }).then(function (route) {\n",
       "            var points = route.getWayPoints();  \n",
       "            theEl.innerHTML = theEl.innerHTML+'29.0'+'|'+start_point+'; '+end_point+'|Расстояние --'+route.getHumanLength() + '|'+route.getLength()+'|'+ route.getJamsTime() + '|'+ route.getTime()+ '|'+3+'|'+202211131139+'\\r\\n';\n",
       "        }, function (error) {\n",
       "        theEl.innerHTML = theEl.innerHTML+'29.0'+'||||||' +3+'|'+202211131139+'\\r\\n';\n",
       "    });\n",
       "    });\n",
       "    "
      ],
      "text/plain": [
       "<IPython.core.display.Javascript object>"
      ]
     },
     "metadata": {},
     "output_type": "display_data"
    },
    {
     "data": {
      "application/javascript": [
       "\n",
       "    var start_point = [57.635709, 39.882917];\n",
       "    var end_point = [56.969038, 40.939479];\n",
       "    ymaps.ready(function () {\n",
       "    var theEl=document.getElementById(\"output\");    \n",
       "    ymaps.route([start_point, end_point], {\n",
       "            mapStateAutoApply: false,\n",
       "            avoidTrafficJams: false,\n",
       "            multiRoute: false,\n",
       "            routingMode: \"auto\",\n",
       "            viaIndexes: []\n",
       "        }).then(function (route) {\n",
       "            var points = route.getWayPoints();  \n",
       "            theEl.innerHTML = theEl.innerHTML+'30.0'+'|'+start_point+'; '+end_point+'|Расстояние --'+route.getHumanLength() + '|'+route.getLength()+'|'+ route.getJamsTime() + '|'+ route.getTime()+ '|'+3+'|'+202211131139+'\\r\\n';\n",
       "        }, function (error) {\n",
       "        theEl.innerHTML = theEl.innerHTML+'30.0'+'||||||' +3+'|'+202211131139+'\\r\\n';\n",
       "    });\n",
       "    });\n",
       "    "
      ],
      "text/plain": [
       "<IPython.core.display.Javascript object>"
      ]
     },
     "metadata": {},
     "output_type": "display_data"
    },
    {
     "data": {
      "application/javascript": [
       "\n",
       "    var start_point = [57.635709, 39.882917];\n",
       "    var end_point = [56.974003, 40.929697];\n",
       "    ymaps.ready(function () {\n",
       "    var theEl=document.getElementById(\"output\");    \n",
       "    ymaps.route([start_point, end_point], {\n",
       "            mapStateAutoApply: false,\n",
       "            avoidTrafficJams: false,\n",
       "            multiRoute: false,\n",
       "            routingMode: \"auto\",\n",
       "            viaIndexes: []\n",
       "        }).then(function (route) {\n",
       "            var points = route.getWayPoints();  \n",
       "            theEl.innerHTML = theEl.innerHTML+'31.0'+'|'+start_point+'; '+end_point+'|Расстояние --'+route.getHumanLength() + '|'+route.getLength()+'|'+ route.getJamsTime() + '|'+ route.getTime()+ '|'+3+'|'+202211131139+'\\r\\n';\n",
       "        }, function (error) {\n",
       "        theEl.innerHTML = theEl.innerHTML+'31.0'+'||||||' +3+'|'+202211131139+'\\r\\n';\n",
       "    });\n",
       "    });\n",
       "    "
      ],
      "text/plain": [
       "<IPython.core.display.Javascript object>"
      ]
     },
     "metadata": {},
     "output_type": "display_data"
    },
    {
     "data": {
      "application/javascript": [
       "\n",
       "    var start_point = [53.237014, 34.358826];\n",
       "    var end_point = [55.121216, 36.571421];\n",
       "    ymaps.ready(function () {\n",
       "    var theEl=document.getElementById(\"output\");    \n",
       "    ymaps.route([start_point, end_point], {\n",
       "            mapStateAutoApply: false,\n",
       "            avoidTrafficJams: false,\n",
       "            multiRoute: false,\n",
       "            routingMode: \"auto\",\n",
       "            viaIndexes: []\n",
       "        }).then(function (route) {\n",
       "            var points = route.getWayPoints();  \n",
       "            theEl.innerHTML = theEl.innerHTML+'32.0'+'|'+start_point+'; '+end_point+'|Расстояние --'+route.getHumanLength() + '|'+route.getLength()+'|'+ route.getJamsTime() + '|'+ route.getTime()+ '|'+3+'|'+202211131139+'\\r\\n';\n",
       "        }, function (error) {\n",
       "        theEl.innerHTML = theEl.innerHTML+'32.0'+'||||||' +3+'|'+202211131139+'\\r\\n';\n",
       "    });\n",
       "    });\n",
       "    "
      ],
      "text/plain": [
       "<IPython.core.display.Javascript object>"
      ]
     },
     "metadata": {},
     "output_type": "display_data"
    },
    {
     "data": {
      "application/javascript": [
       "\n",
       "    var start_point = [54.515377, 36.255241];\n",
       "    var end_point = [55.923942, 38.001405];\n",
       "    ymaps.ready(function () {\n",
       "    var theEl=document.getElementById(\"output\");    \n",
       "    ymaps.route([start_point, end_point], {\n",
       "            mapStateAutoApply: false,\n",
       "            avoidTrafficJams: false,\n",
       "            multiRoute: false,\n",
       "            routingMode: \"auto\",\n",
       "            viaIndexes: []\n",
       "        }).then(function (route) {\n",
       "            var points = route.getWayPoints();  \n",
       "            theEl.innerHTML = theEl.innerHTML+'33.0'+'|'+start_point+'; '+end_point+'|Расстояние --'+route.getHumanLength() + '|'+route.getLength()+'|'+ route.getJamsTime() + '|'+ route.getTime()+ '|'+3+'|'+202211131139+'\\r\\n';\n",
       "        }, function (error) {\n",
       "        theEl.innerHTML = theEl.innerHTML+'33.0'+'||||||' +3+'|'+202211131139+'\\r\\n';\n",
       "    });\n",
       "    });\n",
       "    "
      ],
      "text/plain": [
       "<IPython.core.display.Javascript object>"
      ]
     },
     "metadata": {},
     "output_type": "display_data"
    },
    {
     "data": {
      "application/javascript": [
       "\n",
       "    var start_point = [56.11985, 40.361872];\n",
       "    var end_point = [55.950539, 37.106413];\n",
       "    ymaps.ready(function () {\n",
       "    var theEl=document.getElementById(\"output\");    \n",
       "    ymaps.route([start_point, end_point], {\n",
       "            mapStateAutoApply: false,\n",
       "            avoidTrafficJams: false,\n",
       "            multiRoute: false,\n",
       "            routingMode: \"auto\",\n",
       "            viaIndexes: []\n",
       "        }).then(function (route) {\n",
       "            var points = route.getWayPoints();  \n",
       "            theEl.innerHTML = theEl.innerHTML+'34.0'+'|'+start_point+'; '+end_point+'|Расстояние --'+route.getHumanLength() + '|'+route.getLength()+'|'+ route.getJamsTime() + '|'+ route.getTime()+ '|'+3+'|'+202211131139+'\\r\\n';\n",
       "        }, function (error) {\n",
       "        theEl.innerHTML = theEl.innerHTML+'34.0'+'||||||' +3+'|'+202211131139+'\\r\\n';\n",
       "    });\n",
       "    });\n",
       "    "
      ],
      "text/plain": [
       "<IPython.core.display.Javascript object>"
      ]
     },
     "metadata": {},
     "output_type": "display_data"
    },
    {
     "data": {
      "application/javascript": [
       "\n",
       "    var start_point = [54.515377, 36.255241];\n",
       "    var end_point = [55.531132, 38.874756];\n",
       "    ymaps.ready(function () {\n",
       "    var theEl=document.getElementById(\"output\");    \n",
       "    ymaps.route([start_point, end_point], {\n",
       "            mapStateAutoApply: false,\n",
       "            avoidTrafficJams: false,\n",
       "            multiRoute: false,\n",
       "            routingMode: \"auto\",\n",
       "            viaIndexes: []\n",
       "        }).then(function (route) {\n",
       "            var points = route.getWayPoints();  \n",
       "            theEl.innerHTML = theEl.innerHTML+'35.0'+'|'+start_point+'; '+end_point+'|Расстояние --'+route.getHumanLength() + '|'+route.getLength()+'|'+ route.getJamsTime() + '|'+ route.getTime()+ '|'+3+'|'+202211131139+'\\r\\n';\n",
       "        }, function (error) {\n",
       "        theEl.innerHTML = theEl.innerHTML+'35.0'+'||||||' +3+'|'+202211131139+'\\r\\n';\n",
       "    });\n",
       "    });\n",
       "    "
      ],
      "text/plain": [
       "<IPython.core.display.Javascript object>"
      ]
     },
     "metadata": {},
     "output_type": "display_data"
    },
    {
     "data": {
      "application/javascript": [
       "\n",
       "    var start_point = [54.515377, 36.255241];\n",
       "    var end_point = [56.821814, 35.976656];\n",
       "    ymaps.ready(function () {\n",
       "    var theEl=document.getElementById(\"output\");    \n",
       "    ymaps.route([start_point, end_point], {\n",
       "            mapStateAutoApply: false,\n",
       "            avoidTrafficJams: false,\n",
       "            multiRoute: false,\n",
       "            routingMode: \"auto\",\n",
       "            viaIndexes: []\n",
       "        }).then(function (route) {\n",
       "            var points = route.getWayPoints();  \n",
       "            theEl.innerHTML = theEl.innerHTML+'36.0'+'|'+start_point+'; '+end_point+'|Расстояние --'+route.getHumanLength() + '|'+route.getLength()+'|'+ route.getJamsTime() + '|'+ route.getTime()+ '|'+3+'|'+202211131139+'\\r\\n';\n",
       "        }, function (error) {\n",
       "        theEl.innerHTML = theEl.innerHTML+'36.0'+'||||||' +3+'|'+202211131139+'\\r\\n';\n",
       "    });\n",
       "    });\n",
       "    "
      ],
      "text/plain": [
       "<IPython.core.display.Javascript object>"
      ]
     },
     "metadata": {},
     "output_type": "display_data"
    },
    {
     "data": {
      "application/javascript": [
       "\n",
       "    var start_point = [45.037356, 41.942107];\n",
       "    var end_point = [47.291017, 39.852814];\n",
       "    ymaps.ready(function () {\n",
       "    var theEl=document.getElementById(\"output\");    \n",
       "    ymaps.route([start_point, end_point], {\n",
       "            mapStateAutoApply: false,\n",
       "            avoidTrafficJams: false,\n",
       "            multiRoute: false,\n",
       "            routingMode: \"auto\",\n",
       "            viaIndexes: []\n",
       "        }).then(function (route) {\n",
       "            var points = route.getWayPoints();  \n",
       "            theEl.innerHTML = theEl.innerHTML+'37.0'+'|'+start_point+'; '+end_point+'|Расстояние --'+route.getHumanLength() + '|'+route.getLength()+'|'+ route.getJamsTime() + '|'+ route.getTime()+ '|'+3+'|'+202211131139+'\\r\\n';\n",
       "        }, function (error) {\n",
       "        theEl.innerHTML = theEl.innerHTML+'37.0'+'||||||' +3+'|'+202211131139+'\\r\\n';\n",
       "    });\n",
       "    });\n",
       "    "
      ],
      "text/plain": [
       "<IPython.core.display.Javascript object>"
      ]
     },
     "metadata": {},
     "output_type": "display_data"
    },
    {
     "data": {
      "application/javascript": [
       "\n",
       "    var start_point = [55.789482, 49.138726];\n",
       "    var end_point = [53.231031, 50.59512];\n",
       "    ymaps.ready(function () {\n",
       "    var theEl=document.getElementById(\"output\");    \n",
       "    ymaps.route([start_point, end_point], {\n",
       "            mapStateAutoApply: false,\n",
       "            avoidTrafficJams: false,\n",
       "            multiRoute: false,\n",
       "            routingMode: \"auto\",\n",
       "            viaIndexes: []\n",
       "        }).then(function (route) {\n",
       "            var points = route.getWayPoints();  \n",
       "            theEl.innerHTML = theEl.innerHTML+'38.0'+'|'+start_point+'; '+end_point+'|Расстояние --'+route.getHumanLength() + '|'+route.getLength()+'|'+ route.getJamsTime() + '|'+ route.getTime()+ '|'+3+'|'+202211131139+'\\r\\n';\n",
       "        }, function (error) {\n",
       "        theEl.innerHTML = theEl.innerHTML+'38.0'+'||||||' +3+'|'+202211131139+'\\r\\n';\n",
       "    });\n",
       "    });\n",
       "    "
      ],
      "text/plain": [
       "<IPython.core.display.Javascript object>"
      ]
     },
     "metadata": {},
     "output_type": "display_data"
    },
    {
     "data": {
      "application/javascript": [
       "\n",
       "    var start_point = [55.347408, 86.12764];\n",
       "    var end_point = [54.941901, 82.916459];\n",
       "    ymaps.ready(function () {\n",
       "    var theEl=document.getElementById(\"output\");    \n",
       "    ymaps.route([start_point, end_point], {\n",
       "            mapStateAutoApply: false,\n",
       "            avoidTrafficJams: false,\n",
       "            multiRoute: false,\n",
       "            routingMode: \"auto\",\n",
       "            viaIndexes: []\n",
       "        }).then(function (route) {\n",
       "            var points = route.getWayPoints();  \n",
       "            theEl.innerHTML = theEl.innerHTML+'39.0'+'|'+start_point+'; '+end_point+'|Расстояние --'+route.getHumanLength() + '|'+route.getLength()+'|'+ route.getJamsTime() + '|'+ route.getTime()+ '|'+3+'|'+202211131139+'\\r\\n';\n",
       "        }, function (error) {\n",
       "        theEl.innerHTML = theEl.innerHTML+'39.0'+'||||||' +3+'|'+202211131139+'\\r\\n';\n",
       "    });\n",
       "    });\n",
       "    "
      ],
      "text/plain": [
       "<IPython.core.display.Javascript object>"
      ]
     },
     "metadata": {},
     "output_type": "display_data"
    },
    {
     "data": {
      "application/javascript": [
       "\n",
       "    var start_point = [54.515377, 36.255241];\n",
       "    var end_point = [56.835446, 35.945287];\n",
       "    ymaps.ready(function () {\n",
       "    var theEl=document.getElementById(\"output\");    \n",
       "    ymaps.route([start_point, end_point], {\n",
       "            mapStateAutoApply: false,\n",
       "            avoidTrafficJams: false,\n",
       "            multiRoute: false,\n",
       "            routingMode: \"auto\",\n",
       "            viaIndexes: []\n",
       "        }).then(function (route) {\n",
       "            var points = route.getWayPoints();  \n",
       "            theEl.innerHTML = theEl.innerHTML+'40.0'+'|'+start_point+'; '+end_point+'|Расстояние --'+route.getHumanLength() + '|'+route.getLength()+'|'+ route.getJamsTime() + '|'+ route.getTime()+ '|'+3+'|'+202211131139+'\\r\\n';\n",
       "        }, function (error) {\n",
       "        theEl.innerHTML = theEl.innerHTML+'40.0'+'||||||' +3+'|'+202211131139+'\\r\\n';\n",
       "    });\n",
       "    });\n",
       "    "
      ],
      "text/plain": [
       "<IPython.core.display.Javascript object>"
      ]
     },
     "metadata": {},
     "output_type": "display_data"
    },
    {
     "data": {
      "application/javascript": [
       "\n",
       "    var start_point = [57.635709, 39.882917];\n",
       "    var end_point = [57.440839, 42.136745];\n",
       "    ymaps.ready(function () {\n",
       "    var theEl=document.getElementById(\"output\");    \n",
       "    ymaps.route([start_point, end_point], {\n",
       "            mapStateAutoApply: false,\n",
       "            avoidTrafficJams: false,\n",
       "            multiRoute: false,\n",
       "            routingMode: \"auto\",\n",
       "            viaIndexes: []\n",
       "        }).then(function (route) {\n",
       "            var points = route.getWayPoints();  \n",
       "            theEl.innerHTML = theEl.innerHTML+'41.0'+'|'+start_point+'; '+end_point+'|Расстояние --'+route.getHumanLength() + '|'+route.getLength()+'|'+ route.getJamsTime() + '|'+ route.getTime()+ '|'+3+'|'+202211131139+'\\r\\n';\n",
       "        }, function (error) {\n",
       "        theEl.innerHTML = theEl.innerHTML+'41.0'+'||||||' +3+'|'+202211131139+'\\r\\n';\n",
       "    });\n",
       "    });\n",
       "    "
      ],
      "text/plain": [
       "<IPython.core.display.Javascript object>"
      ]
     },
     "metadata": {},
     "output_type": "display_data"
    },
    {
     "data": {
      "application/javascript": [
       "\n",
       "    var start_point = [52.603773, 39.598627];\n",
       "    var end_point = [54.188228, 37.542392];\n",
       "    ymaps.ready(function () {\n",
       "    var theEl=document.getElementById(\"output\");    \n",
       "    ymaps.route([start_point, end_point], {\n",
       "            mapStateAutoApply: false,\n",
       "            avoidTrafficJams: false,\n",
       "            multiRoute: false,\n",
       "            routingMode: \"auto\",\n",
       "            viaIndexes: []\n",
       "        }).then(function (route) {\n",
       "            var points = route.getWayPoints();  \n",
       "            theEl.innerHTML = theEl.innerHTML+'42.0'+'|'+start_point+'; '+end_point+'|Расстояние --'+route.getHumanLength() + '|'+route.getLength()+'|'+ route.getJamsTime() + '|'+ route.getTime()+ '|'+3+'|'+202211131139+'\\r\\n';\n",
       "        }, function (error) {\n",
       "        theEl.innerHTML = theEl.innerHTML+'42.0'+'||||||' +3+'|'+202211131139+'\\r\\n';\n",
       "    });\n",
       "    });\n",
       "    "
      ],
      "text/plain": [
       "<IPython.core.display.Javascript object>"
      ]
     },
     "metadata": {},
     "output_type": "display_data"
    },
    {
     "data": {
      "application/javascript": [
       "\n",
       "    var start_point = [56.11985, 40.361872];\n",
       "    var end_point = [55.598217, 36.46984];\n",
       "    ymaps.ready(function () {\n",
       "    var theEl=document.getElementById(\"output\");    \n",
       "    ymaps.route([start_point, end_point], {\n",
       "            mapStateAutoApply: false,\n",
       "            avoidTrafficJams: false,\n",
       "            multiRoute: false,\n",
       "            routingMode: \"auto\",\n",
       "            viaIndexes: []\n",
       "        }).then(function (route) {\n",
       "            var points = route.getWayPoints();  \n",
       "            theEl.innerHTML = theEl.innerHTML+'43.0'+'|'+start_point+'; '+end_point+'|Расстояние --'+route.getHumanLength() + '|'+route.getLength()+'|'+ route.getJamsTime() + '|'+ route.getTime()+ '|'+3+'|'+202211131139+'\\r\\n';\n",
       "        }, function (error) {\n",
       "        theEl.innerHTML = theEl.innerHTML+'43.0'+'||||||' +3+'|'+202211131139+'\\r\\n';\n",
       "    });\n",
       "    });\n",
       "    "
      ],
      "text/plain": [
       "<IPython.core.display.Javascript object>"
      ]
     },
     "metadata": {},
     "output_type": "display_data"
    },
    {
     "data": {
      "application/javascript": [
       "\n",
       "    var start_point = [54.776482, 32.016091];\n",
       "    var end_point = [54.33941, 34.548056];\n",
       "    ymaps.ready(function () {\n",
       "    var theEl=document.getElementById(\"output\");    \n",
       "    ymaps.route([start_point, end_point], {\n",
       "            mapStateAutoApply: false,\n",
       "            avoidTrafficJams: false,\n",
       "            multiRoute: false,\n",
       "            routingMode: \"auto\",\n",
       "            viaIndexes: []\n",
       "        }).then(function (route) {\n",
       "            var points = route.getWayPoints();  \n",
       "            theEl.innerHTML = theEl.innerHTML+'44.0'+'|'+start_point+'; '+end_point+'|Расстояние --'+route.getHumanLength() + '|'+route.getLength()+'|'+ route.getJamsTime() + '|'+ route.getTime()+ '|'+3+'|'+202211131139+'\\r\\n';\n",
       "        }, function (error) {\n",
       "        theEl.innerHTML = theEl.innerHTML+'44.0'+'||||||' +3+'|'+202211131139+'\\r\\n';\n",
       "    });\n",
       "    });\n",
       "    "
      ],
      "text/plain": [
       "<IPython.core.display.Javascript object>"
      ]
     },
     "metadata": {},
     "output_type": "display_data"
    },
    {
     "data": {
      "application/javascript": [
       "\n",
       "    var start_point = [54.776482, 32.016091];\n",
       "    var end_point = [53.928148, 34.556698];\n",
       "    ymaps.ready(function () {\n",
       "    var theEl=document.getElementById(\"output\");    \n",
       "    ymaps.route([start_point, end_point], {\n",
       "            mapStateAutoApply: false,\n",
       "            avoidTrafficJams: false,\n",
       "            multiRoute: false,\n",
       "            routingMode: \"auto\",\n",
       "            viaIndexes: []\n",
       "        }).then(function (route) {\n",
       "            var points = route.getWayPoints();  \n",
       "            theEl.innerHTML = theEl.innerHTML+'45.0'+'|'+start_point+'; '+end_point+'|Расстояние --'+route.getHumanLength() + '|'+route.getLength()+'|'+ route.getJamsTime() + '|'+ route.getTime()+ '|'+3+'|'+202211131139+'\\r\\n';\n",
       "        }, function (error) {\n",
       "        theEl.innerHTML = theEl.innerHTML+'45.0'+'||||||' +3+'|'+202211131139+'\\r\\n';\n",
       "    });\n",
       "    });\n",
       "    "
      ],
      "text/plain": [
       "<IPython.core.display.Javascript object>"
      ]
     },
     "metadata": {},
     "output_type": "display_data"
    },
    {
     "data": {
      "application/javascript": [
       "\n",
       "    var start_point = [54.776482, 32.016091];\n",
       "    var end_point = [54.33941, 34.548056];\n",
       "    ymaps.ready(function () {\n",
       "    var theEl=document.getElementById(\"output\");    \n",
       "    ymaps.route([start_point, end_point], {\n",
       "            mapStateAutoApply: false,\n",
       "            avoidTrafficJams: false,\n",
       "            multiRoute: false,\n",
       "            routingMode: \"auto\",\n",
       "            viaIndexes: []\n",
       "        }).then(function (route) {\n",
       "            var points = route.getWayPoints();  \n",
       "            theEl.innerHTML = theEl.innerHTML+'46.0'+'|'+start_point+'; '+end_point+'|Расстояние --'+route.getHumanLength() + '|'+route.getLength()+'|'+ route.getJamsTime() + '|'+ route.getTime()+ '|'+3+'|'+202211131139+'\\r\\n';\n",
       "        }, function (error) {\n",
       "        theEl.innerHTML = theEl.innerHTML+'46.0'+'||||||' +3+'|'+202211131139+'\\r\\n';\n",
       "    });\n",
       "    });\n",
       "    "
      ],
      "text/plain": [
       "<IPython.core.display.Javascript object>"
      ]
     },
     "metadata": {},
     "output_type": "display_data"
    },
    {
     "data": {
      "application/javascript": [
       "\n",
       "    var start_point = [54.776482, 32.016091];\n",
       "    var end_point = [54.069022, 34.228489];\n",
       "    ymaps.ready(function () {\n",
       "    var theEl=document.getElementById(\"output\");    \n",
       "    ymaps.route([start_point, end_point], {\n",
       "            mapStateAutoApply: false,\n",
       "            avoidTrafficJams: false,\n",
       "            multiRoute: false,\n",
       "            routingMode: \"auto\",\n",
       "            viaIndexes: []\n",
       "        }).then(function (route) {\n",
       "            var points = route.getWayPoints();  \n",
       "            theEl.innerHTML = theEl.innerHTML+'47.0'+'|'+start_point+'; '+end_point+'|Расстояние --'+route.getHumanLength() + '|'+route.getLength()+'|'+ route.getJamsTime() + '|'+ route.getTime()+ '|'+3+'|'+202211131139+'\\r\\n';\n",
       "        }, function (error) {\n",
       "        theEl.innerHTML = theEl.innerHTML+'47.0'+'||||||' +3+'|'+202211131139+'\\r\\n';\n",
       "    });\n",
       "    });\n",
       "    "
      ],
      "text/plain": [
       "<IPython.core.display.Javascript object>"
      ]
     },
     "metadata": {},
     "output_type": "display_data"
    },
    {
     "data": {
      "application/javascript": [
       "\n",
       "    var start_point = [57.635709, 39.882917];\n",
       "    var end_point = [56.316129, 38.132532];\n",
       "    ymaps.ready(function () {\n",
       "    var theEl=document.getElementById(\"output\");    \n",
       "    ymaps.route([start_point, end_point], {\n",
       "            mapStateAutoApply: false,\n",
       "            avoidTrafficJams: false,\n",
       "            multiRoute: false,\n",
       "            routingMode: \"auto\",\n",
       "            viaIndexes: []\n",
       "        }).then(function (route) {\n",
       "            var points = route.getWayPoints();  \n",
       "            theEl.innerHTML = theEl.innerHTML+'48.0'+'|'+start_point+'; '+end_point+'|Расстояние --'+route.getHumanLength() + '|'+route.getLength()+'|'+ route.getJamsTime() + '|'+ route.getTime()+ '|'+3+'|'+202211131139+'\\r\\n';\n",
       "        }, function (error) {\n",
       "        theEl.innerHTML = theEl.innerHTML+'48.0'+'||||||' +3+'|'+202211131139+'\\r\\n';\n",
       "    });\n",
       "    });\n",
       "    "
      ],
      "text/plain": [
       "<IPython.core.display.Javascript object>"
      ]
     },
     "metadata": {},
     "output_type": "display_data"
    },
    {
     "data": {
      "application/javascript": [
       "\n",
       "    var start_point = [52.603773, 39.598627];\n",
       "    var end_point = [54.188228, 37.542392];\n",
       "    ymaps.ready(function () {\n",
       "    var theEl=document.getElementById(\"output\");    \n",
       "    ymaps.route([start_point, end_point], {\n",
       "            mapStateAutoApply: false,\n",
       "            avoidTrafficJams: false,\n",
       "            multiRoute: false,\n",
       "            routingMode: \"auto\",\n",
       "            viaIndexes: []\n",
       "        }).then(function (route) {\n",
       "            var points = route.getWayPoints();  \n",
       "            theEl.innerHTML = theEl.innerHTML+'49.0'+'|'+start_point+'; '+end_point+'|Расстояние --'+route.getHumanLength() + '|'+route.getLength()+'|'+ route.getJamsTime() + '|'+ route.getTime()+ '|'+3+'|'+202211131139+'\\r\\n';\n",
       "        }, function (error) {\n",
       "        theEl.innerHTML = theEl.innerHTML+'49.0'+'||||||' +3+'|'+202211131139+'\\r\\n';\n",
       "    });\n",
       "    });\n",
       "    "
      ],
      "text/plain": [
       "<IPython.core.display.Javascript object>"
      ]
     },
     "metadata": {},
     "output_type": "display_data"
    },
    {
     "data": {
      "application/javascript": [
       "\n",
       "    var start_point = [55.773373, 37.605786];\n",
       "    var end_point = [54.01129, 38.263784];\n",
       "    ymaps.ready(function () {\n",
       "    var theEl=document.getElementById(\"output\");    \n",
       "    ymaps.route([start_point, end_point], {\n",
       "            mapStateAutoApply: false,\n",
       "            avoidTrafficJams: false,\n",
       "            multiRoute: false,\n",
       "            routingMode: \"auto\",\n",
       "            viaIndexes: []\n",
       "        }).then(function (route) {\n",
       "            var points = route.getWayPoints();  \n",
       "            theEl.innerHTML = theEl.innerHTML+'50.0'+'|'+start_point+'; '+end_point+'|Расстояние --'+route.getHumanLength() + '|'+route.getLength()+'|'+ route.getJamsTime() + '|'+ route.getTime()+ '|'+3+'|'+202211131139+'\\r\\n';\n",
       "        }, function (error) {\n",
       "        theEl.innerHTML = theEl.innerHTML+'50.0'+'||||||' +3+'|'+202211131139+'\\r\\n';\n",
       "    });\n",
       "    });\n",
       "    "
      ],
      "text/plain": [
       "<IPython.core.display.Javascript object>"
      ]
     },
     "metadata": {},
     "output_type": "display_data"
    },
    {
     "data": {
      "application/javascript": [
       "\n",
       "    var start_point = [54.515377, 36.255241];\n",
       "    var end_point = [55.750282, 38.00683];\n",
       "    ymaps.ready(function () {\n",
       "    var theEl=document.getElementById(\"output\");    \n",
       "    ymaps.route([start_point, end_point], {\n",
       "            mapStateAutoApply: false,\n",
       "            avoidTrafficJams: false,\n",
       "            multiRoute: false,\n",
       "            routingMode: \"auto\",\n",
       "            viaIndexes: []\n",
       "        }).then(function (route) {\n",
       "            var points = route.getWayPoints();  \n",
       "            theEl.innerHTML = theEl.innerHTML+'51.0'+'|'+start_point+'; '+end_point+'|Расстояние --'+route.getHumanLength() + '|'+route.getLength()+'|'+ route.getJamsTime() + '|'+ route.getTime()+ '|'+3+'|'+202211131139+'\\r\\n';\n",
       "        }, function (error) {\n",
       "        theEl.innerHTML = theEl.innerHTML+'51.0'+'||||||' +3+'|'+202211131139+'\\r\\n';\n",
       "    });\n",
       "    });\n",
       "    "
      ],
      "text/plain": [
       "<IPython.core.display.Javascript object>"
      ]
     },
     "metadata": {},
     "output_type": "display_data"
    },
    {
     "data": {
      "application/javascript": [
       "\n",
       "    var start_point = [54.515377, 36.255241];\n",
       "    var end_point = [55.087007, 31.970565];\n",
       "    ymaps.ready(function () {\n",
       "    var theEl=document.getElementById(\"output\");    \n",
       "    ymaps.route([start_point, end_point], {\n",
       "            mapStateAutoApply: false,\n",
       "            avoidTrafficJams: false,\n",
       "            multiRoute: false,\n",
       "            routingMode: \"auto\",\n",
       "            viaIndexes: []\n",
       "        }).then(function (route) {\n",
       "            var points = route.getWayPoints();  \n",
       "            theEl.innerHTML = theEl.innerHTML+'52.0'+'|'+start_point+'; '+end_point+'|Расстояние --'+route.getHumanLength() + '|'+route.getLength()+'|'+ route.getJamsTime() + '|'+ route.getTime()+ '|'+3+'|'+202211131139+'\\r\\n';\n",
       "        }, function (error) {\n",
       "        theEl.innerHTML = theEl.innerHTML+'52.0'+'||||||' +3+'|'+202211131139+'\\r\\n';\n",
       "    });\n",
       "    });\n",
       "    "
      ],
      "text/plain": [
       "<IPython.core.display.Javascript object>"
      ]
     },
     "metadata": {},
     "output_type": "display_data"
    },
    {
     "data": {
      "application/javascript": [
       "\n",
       "    var start_point = [54.515377, 36.255241];\n",
       "    var end_point = [53.948448, 32.850941];\n",
       "    ymaps.ready(function () {\n",
       "    var theEl=document.getElementById(\"output\");    \n",
       "    ymaps.route([start_point, end_point], {\n",
       "            mapStateAutoApply: false,\n",
       "            avoidTrafficJams: false,\n",
       "            multiRoute: false,\n",
       "            routingMode: \"auto\",\n",
       "            viaIndexes: []\n",
       "        }).then(function (route) {\n",
       "            var points = route.getWayPoints();  \n",
       "            theEl.innerHTML = theEl.innerHTML+'53.0'+'|'+start_point+'; '+end_point+'|Расстояние --'+route.getHumanLength() + '|'+route.getLength()+'|'+ route.getJamsTime() + '|'+ route.getTime()+ '|'+3+'|'+202211131139+'\\r\\n';\n",
       "        }, function (error) {\n",
       "        theEl.innerHTML = theEl.innerHTML+'53.0'+'||||||' +3+'|'+202211131139+'\\r\\n';\n",
       "    });\n",
       "    });\n",
       "    "
      ],
      "text/plain": [
       "<IPython.core.display.Javascript object>"
      ]
     },
     "metadata": {},
     "output_type": "display_data"
    },
    {
     "data": {
      "application/javascript": [
       "\n",
       "    var start_point = [54.776482, 32.016091];\n",
       "    var end_point = [55.50493, 36.027941];\n",
       "    ymaps.ready(function () {\n",
       "    var theEl=document.getElementById(\"output\");    \n",
       "    ymaps.route([start_point, end_point], {\n",
       "            mapStateAutoApply: false,\n",
       "            avoidTrafficJams: false,\n",
       "            multiRoute: false,\n",
       "            routingMode: \"auto\",\n",
       "            viaIndexes: []\n",
       "        }).then(function (route) {\n",
       "            var points = route.getWayPoints();  \n",
       "            theEl.innerHTML = theEl.innerHTML+'54.0'+'|'+start_point+'; '+end_point+'|Расстояние --'+route.getHumanLength() + '|'+route.getLength()+'|'+ route.getJamsTime() + '|'+ route.getTime()+ '|'+3+'|'+202211131139+'\\r\\n';\n",
       "        }, function (error) {\n",
       "        theEl.innerHTML = theEl.innerHTML+'54.0'+'||||||' +3+'|'+202211131139+'\\r\\n';\n",
       "    });\n",
       "    });\n",
       "    "
      ],
      "text/plain": [
       "<IPython.core.display.Javascript object>"
      ]
     },
     "metadata": {},
     "output_type": "display_data"
    },
    {
     "data": {
      "application/javascript": [
       "\n",
       "    var start_point = [51.718076, 36.132226];\n",
       "    var end_point = [53.309683, 34.308727];\n",
       "    ymaps.ready(function () {\n",
       "    var theEl=document.getElementById(\"output\");    \n",
       "    ymaps.route([start_point, end_point], {\n",
       "            mapStateAutoApply: false,\n",
       "            avoidTrafficJams: false,\n",
       "            multiRoute: false,\n",
       "            routingMode: \"auto\",\n",
       "            viaIndexes: []\n",
       "        }).then(function (route) {\n",
       "            var points = route.getWayPoints();  \n",
       "            theEl.innerHTML = theEl.innerHTML+'55.0'+'|'+start_point+'; '+end_point+'|Расстояние --'+route.getHumanLength() + '|'+route.getLength()+'|'+ route.getJamsTime() + '|'+ route.getTime()+ '|'+3+'|'+202211131139+'\\r\\n';\n",
       "        }, function (error) {\n",
       "        theEl.innerHTML = theEl.innerHTML+'55.0'+'||||||' +3+'|'+202211131139+'\\r\\n';\n",
       "    });\n",
       "    });\n",
       "    "
      ],
      "text/plain": [
       "<IPython.core.display.Javascript object>"
      ]
     },
     "metadata": {},
     "output_type": "display_data"
    },
    {
     "data": {
      "application/javascript": [
       "\n",
       "    var start_point = [56.11985, 40.361872];\n",
       "    var end_point = [55.511185, 37.565219];\n",
       "    ymaps.ready(function () {\n",
       "    var theEl=document.getElementById(\"output\");    \n",
       "    ymaps.route([start_point, end_point], {\n",
       "            mapStateAutoApply: false,\n",
       "            avoidTrafficJams: false,\n",
       "            multiRoute: false,\n",
       "            routingMode: \"auto\",\n",
       "            viaIndexes: []\n",
       "        }).then(function (route) {\n",
       "            var points = route.getWayPoints();  \n",
       "            theEl.innerHTML = theEl.innerHTML+'56.0'+'|'+start_point+'; '+end_point+'|Расстояние --'+route.getHumanLength() + '|'+route.getLength()+'|'+ route.getJamsTime() + '|'+ route.getTime()+ '|'+3+'|'+202211131139+'\\r\\n';\n",
       "        }, function (error) {\n",
       "        theEl.innerHTML = theEl.innerHTML+'56.0'+'||||||' +3+'|'+202211131139+'\\r\\n';\n",
       "    });\n",
       "    });\n",
       "    "
      ],
      "text/plain": [
       "<IPython.core.display.Javascript object>"
      ]
     },
     "metadata": {},
     "output_type": "display_data"
    },
    {
     "data": {
      "application/javascript": [
       "\n",
       "    var start_point = [55.773373, 37.605786];\n",
       "    var end_point = [55.214804, 34.303436];\n",
       "    ymaps.ready(function () {\n",
       "    var theEl=document.getElementById(\"output\");    \n",
       "    ymaps.route([start_point, end_point], {\n",
       "            mapStateAutoApply: false,\n",
       "            avoidTrafficJams: false,\n",
       "            multiRoute: false,\n",
       "            routingMode: \"auto\",\n",
       "            viaIndexes: []\n",
       "        }).then(function (route) {\n",
       "            var points = route.getWayPoints();  \n",
       "            theEl.innerHTML = theEl.innerHTML+'57.0'+'|'+start_point+'; '+end_point+'|Расстояние --'+route.getHumanLength() + '|'+route.getLength()+'|'+ route.getJamsTime() + '|'+ route.getTime()+ '|'+3+'|'+202211131139+'\\r\\n';\n",
       "        }, function (error) {\n",
       "        theEl.innerHTML = theEl.innerHTML+'57.0'+'||||||' +3+'|'+202211131139+'\\r\\n';\n",
       "    });\n",
       "    });\n",
       "    "
      ],
      "text/plain": [
       "<IPython.core.display.Javascript object>"
      ]
     },
     "metadata": {},
     "output_type": "display_data"
    },
    {
     "data": {
      "application/javascript": [
       "\n",
       "    var start_point = [54.515377, 36.255241];\n",
       "    var end_point = [52.825797, 22.784465];\n",
       "    ymaps.ready(function () {\n",
       "    var theEl=document.getElementById(\"output\");    \n",
       "    ymaps.route([start_point, end_point], {\n",
       "            mapStateAutoApply: false,\n",
       "            avoidTrafficJams: false,\n",
       "            multiRoute: false,\n",
       "            routingMode: \"auto\",\n",
       "            viaIndexes: []\n",
       "        }).then(function (route) {\n",
       "            var points = route.getWayPoints();  \n",
       "            theEl.innerHTML = theEl.innerHTML+'58.0'+'|'+start_point+'; '+end_point+'|Расстояние --'+route.getHumanLength() + '|'+route.getLength()+'|'+ route.getJamsTime() + '|'+ route.getTime()+ '|'+3+'|'+202211131139+'\\r\\n';\n",
       "        }, function (error) {\n",
       "        theEl.innerHTML = theEl.innerHTML+'58.0'+'||||||' +3+'|'+202211131139+'\\r\\n';\n",
       "    });\n",
       "    });\n",
       "    "
      ],
      "text/plain": [
       "<IPython.core.display.Javascript object>"
      ]
     },
     "metadata": {},
     "output_type": "display_data"
    },
    {
     "name": "stdout",
     "output_type": "stream",
     "text": [
      "Выполняется шаг 5. Начало 2022-11-13 11:39:56.163337\n"
     ]
    },
    {
     "data": {
      "application/javascript": [
       "\n",
       "    var start_point = [56.11985, 40.361872];\n",
       "    var end_point = [57.465109, 40.552827];\n",
       "    ymaps.ready(function () {\n",
       "    var theEl=document.getElementById(\"output\");    \n",
       "    ymaps.route([start_point, end_point], {\n",
       "            mapStateAutoApply: false,\n",
       "            avoidTrafficJams: false,\n",
       "            multiRoute: false,\n",
       "            routingMode: \"auto\",\n",
       "            viaIndexes: []\n",
       "        }).then(function (route) {\n",
       "            var points = route.getWayPoints();  \n",
       "            theEl.innerHTML = theEl.innerHTML+'0.0'+'|'+start_point+'; '+end_point+'|Расстояние --'+route.getHumanLength() + '|'+route.getLength()+'|'+ route.getJamsTime() + '|'+ route.getTime()+ '|'+4+'|'+202211131139+'\\r\\n';\n",
       "        }, function (error) {\n",
       "        theEl.innerHTML = theEl.innerHTML+'0.0'+'||||||' +4+'|'+202211131139+'\\r\\n';\n",
       "    });\n",
       "    });\n",
       "    "
      ],
      "text/plain": [
       "<IPython.core.display.Javascript object>"
      ]
     },
     "metadata": {},
     "output_type": "display_data"
    },
    {
     "data": {
      "application/javascript": [
       "\n",
       "    var start_point = [56.971192, 40.974487];\n",
       "    var end_point = [55.754568, 37.609586];\n",
       "    ymaps.ready(function () {\n",
       "    var theEl=document.getElementById(\"output\");    \n",
       "    ymaps.route([start_point, end_point], {\n",
       "            mapStateAutoApply: false,\n",
       "            avoidTrafficJams: false,\n",
       "            multiRoute: false,\n",
       "            routingMode: \"auto\",\n",
       "            viaIndexes: []\n",
       "        }).then(function (route) {\n",
       "            var points = route.getWayPoints();  \n",
       "            theEl.innerHTML = theEl.innerHTML+'1.0'+'|'+start_point+'; '+end_point+'|Расстояние --'+route.getHumanLength() + '|'+route.getLength()+'|'+ route.getJamsTime() + '|'+ route.getTime()+ '|'+4+'|'+202211131139+'\\r\\n';\n",
       "        }, function (error) {\n",
       "        theEl.innerHTML = theEl.innerHTML+'1.0'+'||||||' +4+'|'+202211131139+'\\r\\n';\n",
       "    });\n",
       "    });\n",
       "    "
      ],
      "text/plain": [
       "<IPython.core.display.Javascript object>"
      ]
     },
     "metadata": {},
     "output_type": "display_data"
    },
    {
     "data": {
      "application/javascript": [
       "\n",
       "    var start_point = [57.635709, 39.882917];\n",
       "    var end_point = [56.824809, 41.400594];\n",
       "    ymaps.ready(function () {\n",
       "    var theEl=document.getElementById(\"output\");    \n",
       "    ymaps.route([start_point, end_point], {\n",
       "            mapStateAutoApply: false,\n",
       "            avoidTrafficJams: false,\n",
       "            multiRoute: false,\n",
       "            routingMode: \"auto\",\n",
       "            viaIndexes: []\n",
       "        }).then(function (route) {\n",
       "            var points = route.getWayPoints();  \n",
       "            theEl.innerHTML = theEl.innerHTML+'2.0'+'|'+start_point+'; '+end_point+'|Расстояние --'+route.getHumanLength() + '|'+route.getLength()+'|'+ route.getJamsTime() + '|'+ route.getTime()+ '|'+4+'|'+202211131139+'\\r\\n';\n",
       "        }, function (error) {\n",
       "        theEl.innerHTML = theEl.innerHTML+'2.0'+'||||||' +4+'|'+202211131139+'\\r\\n';\n",
       "    });\n",
       "    });\n",
       "    "
      ],
      "text/plain": [
       "<IPython.core.display.Javascript object>"
      ]
     },
     "metadata": {},
     "output_type": "display_data"
    },
    {
     "data": {
      "application/javascript": [
       "\n",
       "    var start_point = [57.635709, 39.882917];\n",
       "    var end_point = [56.828217, 41.408652];\n",
       "    ymaps.ready(function () {\n",
       "    var theEl=document.getElementById(\"output\");    \n",
       "    ymaps.route([start_point, end_point], {\n",
       "            mapStateAutoApply: false,\n",
       "            avoidTrafficJams: false,\n",
       "            multiRoute: false,\n",
       "            routingMode: \"auto\",\n",
       "            viaIndexes: []\n",
       "        }).then(function (route) {\n",
       "            var points = route.getWayPoints();  \n",
       "            theEl.innerHTML = theEl.innerHTML+'3.0'+'|'+start_point+'; '+end_point+'|Расстояние --'+route.getHumanLength() + '|'+route.getLength()+'|'+ route.getJamsTime() + '|'+ route.getTime()+ '|'+4+'|'+202211131139+'\\r\\n';\n",
       "        }, function (error) {\n",
       "        theEl.innerHTML = theEl.innerHTML+'3.0'+'||||||' +4+'|'+202211131139+'\\r\\n';\n",
       "    });\n",
       "    });\n",
       "    "
      ],
      "text/plain": [
       "<IPython.core.display.Javascript object>"
      ]
     },
     "metadata": {},
     "output_type": "display_data"
    },
    {
     "data": {
      "application/javascript": [
       "\n",
       "    var start_point = [56.11985, 40.361872];\n",
       "    var end_point = [56.965923, 41.018989];\n",
       "    ymaps.ready(function () {\n",
       "    var theEl=document.getElementById(\"output\");    \n",
       "    ymaps.route([start_point, end_point], {\n",
       "            mapStateAutoApply: false,\n",
       "            avoidTrafficJams: false,\n",
       "            multiRoute: false,\n",
       "            routingMode: \"auto\",\n",
       "            viaIndexes: []\n",
       "        }).then(function (route) {\n",
       "            var points = route.getWayPoints();  \n",
       "            theEl.innerHTML = theEl.innerHTML+'4.0'+'|'+start_point+'; '+end_point+'|Расстояние --'+route.getHumanLength() + '|'+route.getLength()+'|'+ route.getJamsTime() + '|'+ route.getTime()+ '|'+4+'|'+202211131139+'\\r\\n';\n",
       "        }, function (error) {\n",
       "        theEl.innerHTML = theEl.innerHTML+'4.0'+'||||||' +4+'|'+202211131139+'\\r\\n';\n",
       "    });\n",
       "    });\n",
       "    "
      ],
      "text/plain": [
       "<IPython.core.display.Javascript object>"
      ]
     },
     "metadata": {},
     "output_type": "display_data"
    },
    {
     "data": {
      "application/javascript": [
       "\n",
       "    var start_point = [56.971192, 40.974487];\n",
       "    var end_point = [55.531132, 38.874756];\n",
       "    ymaps.ready(function () {\n",
       "    var theEl=document.getElementById(\"output\");    \n",
       "    ymaps.route([start_point, end_point], {\n",
       "            mapStateAutoApply: false,\n",
       "            avoidTrafficJams: false,\n",
       "            multiRoute: false,\n",
       "            routingMode: \"auto\",\n",
       "            viaIndexes: []\n",
       "        }).then(function (route) {\n",
       "            var points = route.getWayPoints();  \n",
       "            theEl.innerHTML = theEl.innerHTML+'5.0'+'|'+start_point+'; '+end_point+'|Расстояние --'+route.getHumanLength() + '|'+route.getLength()+'|'+ route.getJamsTime() + '|'+ route.getTime()+ '|'+4+'|'+202211131139+'\\r\\n';\n",
       "        }, function (error) {\n",
       "        theEl.innerHTML = theEl.innerHTML+'5.0'+'||||||' +4+'|'+202211131139+'\\r\\n';\n",
       "    });\n",
       "    });\n",
       "    "
      ],
      "text/plain": [
       "<IPython.core.display.Javascript object>"
      ]
     },
     "metadata": {},
     "output_type": "display_data"
    },
    {
     "data": {
      "application/javascript": [
       "\n",
       "    var start_point = [55.773373, 37.605786];\n",
       "    var end_point = [55.083575, 33.071001];\n",
       "    ymaps.ready(function () {\n",
       "    var theEl=document.getElementById(\"output\");    \n",
       "    ymaps.route([start_point, end_point], {\n",
       "            mapStateAutoApply: false,\n",
       "            avoidTrafficJams: false,\n",
       "            multiRoute: false,\n",
       "            routingMode: \"auto\",\n",
       "            viaIndexes: []\n",
       "        }).then(function (route) {\n",
       "            var points = route.getWayPoints();  \n",
       "            theEl.innerHTML = theEl.innerHTML+'6.0'+'|'+start_point+'; '+end_point+'|Расстояние --'+route.getHumanLength() + '|'+route.getLength()+'|'+ route.getJamsTime() + '|'+ route.getTime()+ '|'+4+'|'+202211131139+'\\r\\n';\n",
       "        }, function (error) {\n",
       "        theEl.innerHTML = theEl.innerHTML+'6.0'+'||||||' +4+'|'+202211131139+'\\r\\n';\n",
       "    });\n",
       "    });\n",
       "    "
      ],
      "text/plain": [
       "<IPython.core.display.Javascript object>"
      ]
     },
     "metadata": {},
     "output_type": "display_data"
    },
    {
     "data": {
      "application/javascript": [
       "\n",
       "    var start_point = [55.773373, 37.605786];\n",
       "    var end_point = [54.811892, 32.024257];\n",
       "    ymaps.ready(function () {\n",
       "    var theEl=document.getElementById(\"output\");    \n",
       "    ymaps.route([start_point, end_point], {\n",
       "            mapStateAutoApply: false,\n",
       "            avoidTrafficJams: false,\n",
       "            multiRoute: false,\n",
       "            routingMode: \"auto\",\n",
       "            viaIndexes: []\n",
       "        }).then(function (route) {\n",
       "            var points = route.getWayPoints();  \n",
       "            theEl.innerHTML = theEl.innerHTML+'7.0'+'|'+start_point+'; '+end_point+'|Расстояние --'+route.getHumanLength() + '|'+route.getLength()+'|'+ route.getJamsTime() + '|'+ route.getTime()+ '|'+4+'|'+202211131139+'\\r\\n';\n",
       "        }, function (error) {\n",
       "        theEl.innerHTML = theEl.innerHTML+'7.0'+'||||||' +4+'|'+202211131139+'\\r\\n';\n",
       "    });\n",
       "    });\n",
       "    "
      ],
      "text/plain": [
       "<IPython.core.display.Javascript object>"
      ]
     },
     "metadata": {},
     "output_type": "display_data"
    },
    {
     "data": {
      "application/javascript": [
       "\n",
       "    var start_point = [52.719005, 41.451483];\n",
       "    var end_point = [54.009909, 38.27434];\n",
       "    ymaps.ready(function () {\n",
       "    var theEl=document.getElementById(\"output\");    \n",
       "    ymaps.route([start_point, end_point], {\n",
       "            mapStateAutoApply: false,\n",
       "            avoidTrafficJams: false,\n",
       "            multiRoute: false,\n",
       "            routingMode: \"auto\",\n",
       "            viaIndexes: []\n",
       "        }).then(function (route) {\n",
       "            var points = route.getWayPoints();  \n",
       "            theEl.innerHTML = theEl.innerHTML+'8.0'+'|'+start_point+'; '+end_point+'|Расстояние --'+route.getHumanLength() + '|'+route.getLength()+'|'+ route.getJamsTime() + '|'+ route.getTime()+ '|'+4+'|'+202211131139+'\\r\\n';\n",
       "        }, function (error) {\n",
       "        theEl.innerHTML = theEl.innerHTML+'8.0'+'||||||' +4+'|'+202211131139+'\\r\\n';\n",
       "    });\n",
       "    });\n",
       "    "
      ],
      "text/plain": [
       "<IPython.core.display.Javascript object>"
      ]
     },
     "metadata": {},
     "output_type": "display_data"
    },
    {
     "data": {
      "application/javascript": [
       "\n",
       "    var start_point = [57.635709, 39.882917];\n",
       "    var end_point = [55.818776, 37.521354];\n",
       "    ymaps.ready(function () {\n",
       "    var theEl=document.getElementById(\"output\");    \n",
       "    ymaps.route([start_point, end_point], {\n",
       "            mapStateAutoApply: false,\n",
       "            avoidTrafficJams: false,\n",
       "            multiRoute: false,\n",
       "            routingMode: \"auto\",\n",
       "            viaIndexes: []\n",
       "        }).then(function (route) {\n",
       "            var points = route.getWayPoints();  \n",
       "            theEl.innerHTML = theEl.innerHTML+'9.0'+'|'+start_point+'; '+end_point+'|Расстояние --'+route.getHumanLength() + '|'+route.getLength()+'|'+ route.getJamsTime() + '|'+ route.getTime()+ '|'+4+'|'+202211131139+'\\r\\n';\n",
       "        }, function (error) {\n",
       "        theEl.innerHTML = theEl.innerHTML+'9.0'+'||||||' +4+'|'+202211131139+'\\r\\n';\n",
       "    });\n",
       "    });\n",
       "    "
      ],
      "text/plain": [
       "<IPython.core.display.Javascript object>"
      ]
     },
     "metadata": {},
     "output_type": "display_data"
    },
    {
     "data": {
      "application/javascript": [
       "\n",
       "    var start_point = [53.237014, 34.358826];\n",
       "    var end_point = [54.157576, 37.582071];\n",
       "    ymaps.ready(function () {\n",
       "    var theEl=document.getElementById(\"output\");    \n",
       "    ymaps.route([start_point, end_point], {\n",
       "            mapStateAutoApply: false,\n",
       "            avoidTrafficJams: false,\n",
       "            multiRoute: false,\n",
       "            routingMode: \"auto\",\n",
       "            viaIndexes: []\n",
       "        }).then(function (route) {\n",
       "            var points = route.getWayPoints();  \n",
       "            theEl.innerHTML = theEl.innerHTML+'10.0'+'|'+start_point+'; '+end_point+'|Расстояние --'+route.getHumanLength() + '|'+route.getLength()+'|'+ route.getJamsTime() + '|'+ route.getTime()+ '|'+4+'|'+202211131139+'\\r\\n';\n",
       "        }, function (error) {\n",
       "        theEl.innerHTML = theEl.innerHTML+'10.0'+'||||||' +4+'|'+202211131139+'\\r\\n';\n",
       "    });\n",
       "    });\n",
       "    "
      ],
      "text/plain": [
       "<IPython.core.display.Javascript object>"
      ]
     },
     "metadata": {},
     "output_type": "display_data"
    },
    {
     "data": {
      "application/javascript": [
       "\n",
       "    var start_point = [56.971192, 40.974487];\n",
       "    var end_point = [55.568329, 37.596758];\n",
       "    ymaps.ready(function () {\n",
       "    var theEl=document.getElementById(\"output\");    \n",
       "    ymaps.route([start_point, end_point], {\n",
       "            mapStateAutoApply: false,\n",
       "            avoidTrafficJams: false,\n",
       "            multiRoute: false,\n",
       "            routingMode: \"auto\",\n",
       "            viaIndexes: []\n",
       "        }).then(function (route) {\n",
       "            var points = route.getWayPoints();  \n",
       "            theEl.innerHTML = theEl.innerHTML+'11.0'+'|'+start_point+'; '+end_point+'|Расстояние --'+route.getHumanLength() + '|'+route.getLength()+'|'+ route.getJamsTime() + '|'+ route.getTime()+ '|'+4+'|'+202211131139+'\\r\\n';\n",
       "        }, function (error) {\n",
       "        theEl.innerHTML = theEl.innerHTML+'11.0'+'||||||' +4+'|'+202211131139+'\\r\\n';\n",
       "    });\n",
       "    });\n",
       "    "
      ],
      "text/plain": [
       "<IPython.core.display.Javascript object>"
      ]
     },
     "metadata": {},
     "output_type": "display_data"
    },
    {
     "data": {
      "application/javascript": [
       "\n",
       "    var start_point = [54.776482, 32.016091];\n",
       "    var end_point = [54.781052, 35.926916];\n",
       "    ymaps.ready(function () {\n",
       "    var theEl=document.getElementById(\"output\");    \n",
       "    ymaps.route([start_point, end_point], {\n",
       "            mapStateAutoApply: false,\n",
       "            avoidTrafficJams: false,\n",
       "            multiRoute: false,\n",
       "            routingMode: \"auto\",\n",
       "            viaIndexes: []\n",
       "        }).then(function (route) {\n",
       "            var points = route.getWayPoints();  \n",
       "            theEl.innerHTML = theEl.innerHTML+'12.0'+'|'+start_point+'; '+end_point+'|Расстояние --'+route.getHumanLength() + '|'+route.getLength()+'|'+ route.getJamsTime() + '|'+ route.getTime()+ '|'+4+'|'+202211131139+'\\r\\n';\n",
       "        }, function (error) {\n",
       "        theEl.innerHTML = theEl.innerHTML+'12.0'+'||||||' +4+'|'+202211131139+'\\r\\n';\n",
       "    });\n",
       "    });\n",
       "    "
      ],
      "text/plain": [
       "<IPython.core.display.Javascript object>"
      ]
     },
     "metadata": {},
     "output_type": "display_data"
    },
    {
     "data": {
      "application/javascript": [
       "\n",
       "    var start_point = [55.773373, 37.605786];\n",
       "    var end_point = [54.76957, 32.070511];\n",
       "    ymaps.ready(function () {\n",
       "    var theEl=document.getElementById(\"output\");    \n",
       "    ymaps.route([start_point, end_point], {\n",
       "            mapStateAutoApply: false,\n",
       "            avoidTrafficJams: false,\n",
       "            multiRoute: false,\n",
       "            routingMode: \"auto\",\n",
       "            viaIndexes: []\n",
       "        }).then(function (route) {\n",
       "            var points = route.getWayPoints();  \n",
       "            theEl.innerHTML = theEl.innerHTML+'13.0'+'|'+start_point+'; '+end_point+'|Расстояние --'+route.getHumanLength() + '|'+route.getLength()+'|'+ route.getJamsTime() + '|'+ route.getTime()+ '|'+4+'|'+202211131139+'\\r\\n';\n",
       "        }, function (error) {\n",
       "        theEl.innerHTML = theEl.innerHTML+'13.0'+'||||||' +4+'|'+202211131139+'\\r\\n';\n",
       "    });\n",
       "    });\n",
       "    "
      ],
      "text/plain": [
       "<IPython.core.display.Javascript object>"
      ]
     },
     "metadata": {},
     "output_type": "display_data"
    },
    {
     "data": {
      "application/javascript": [
       "\n",
       "    var start_point = [56.971192, 40.974487];\n",
       "    var end_point = [55.916678, 37.759264];\n",
       "    ymaps.ready(function () {\n",
       "    var theEl=document.getElementById(\"output\");    \n",
       "    ymaps.route([start_point, end_point], {\n",
       "            mapStateAutoApply: false,\n",
       "            avoidTrafficJams: false,\n",
       "            multiRoute: false,\n",
       "            routingMode: \"auto\",\n",
       "            viaIndexes: []\n",
       "        }).then(function (route) {\n",
       "            var points = route.getWayPoints();  \n",
       "            theEl.innerHTML = theEl.innerHTML+'14.0'+'|'+start_point+'; '+end_point+'|Расстояние --'+route.getHumanLength() + '|'+route.getLength()+'|'+ route.getJamsTime() + '|'+ route.getTime()+ '|'+4+'|'+202211131139+'\\r\\n';\n",
       "        }, function (error) {\n",
       "        theEl.innerHTML = theEl.innerHTML+'14.0'+'||||||' +4+'|'+202211131139+'\\r\\n';\n",
       "    });\n",
       "    });\n",
       "    "
      ],
      "text/plain": [
       "<IPython.core.display.Javascript object>"
      ]
     },
     "metadata": {},
     "output_type": "display_data"
    },
    {
     "data": {
      "application/javascript": [
       "\n",
       "    var start_point = [56.11985, 40.361872];\n",
       "    var end_point = [56.816114, 35.989053];\n",
       "    ymaps.ready(function () {\n",
       "    var theEl=document.getElementById(\"output\");    \n",
       "    ymaps.route([start_point, end_point], {\n",
       "            mapStateAutoApply: false,\n",
       "            avoidTrafficJams: false,\n",
       "            multiRoute: false,\n",
       "            routingMode: \"auto\",\n",
       "            viaIndexes: []\n",
       "        }).then(function (route) {\n",
       "            var points = route.getWayPoints();  \n",
       "            theEl.innerHTML = theEl.innerHTML+'15.0'+'|'+start_point+'; '+end_point+'|Расстояние --'+route.getHumanLength() + '|'+route.getLength()+'|'+ route.getJamsTime() + '|'+ route.getTime()+ '|'+4+'|'+202211131139+'\\r\\n';\n",
       "        }, function (error) {\n",
       "        theEl.innerHTML = theEl.innerHTML+'15.0'+'||||||' +4+'|'+202211131139+'\\r\\n';\n",
       "    });\n",
       "    });\n",
       "    "
      ],
      "text/plain": [
       "<IPython.core.display.Javascript object>"
      ]
     },
     "metadata": {},
     "output_type": "display_data"
    },
    {
     "data": {
      "application/javascript": [
       "\n",
       "    var start_point = [56.11985, 40.361872];\n",
       "    var end_point = [56.997656, 41.013123];\n",
       "    ymaps.ready(function () {\n",
       "    var theEl=document.getElementById(\"output\");    \n",
       "    ymaps.route([start_point, end_point], {\n",
       "            mapStateAutoApply: false,\n",
       "            avoidTrafficJams: false,\n",
       "            multiRoute: false,\n",
       "            routingMode: \"auto\",\n",
       "            viaIndexes: []\n",
       "        }).then(function (route) {\n",
       "            var points = route.getWayPoints();  \n",
       "            theEl.innerHTML = theEl.innerHTML+'16.0'+'|'+start_point+'; '+end_point+'|Расстояние --'+route.getHumanLength() + '|'+route.getLength()+'|'+ route.getJamsTime() + '|'+ route.getTime()+ '|'+4+'|'+202211131139+'\\r\\n';\n",
       "        }, function (error) {\n",
       "        theEl.innerHTML = theEl.innerHTML+'16.0'+'||||||' +4+'|'+202211131139+'\\r\\n';\n",
       "    });\n",
       "    });\n",
       "    "
      ],
      "text/plain": [
       "<IPython.core.display.Javascript object>"
      ]
     },
     "metadata": {},
     "output_type": "display_data"
    },
    {
     "data": {
      "application/javascript": [
       "\n",
       "    var start_point = [52.603773, 39.598627];\n",
       "    var end_point = [54.589994, 39.541647];\n",
       "    ymaps.ready(function () {\n",
       "    var theEl=document.getElementById(\"output\");    \n",
       "    ymaps.route([start_point, end_point], {\n",
       "            mapStateAutoApply: false,\n",
       "            avoidTrafficJams: false,\n",
       "            multiRoute: false,\n",
       "            routingMode: \"auto\",\n",
       "            viaIndexes: []\n",
       "        }).then(function (route) {\n",
       "            var points = route.getWayPoints();  \n",
       "            theEl.innerHTML = theEl.innerHTML+'17.0'+'|'+start_point+'; '+end_point+'|Расстояние --'+route.getHumanLength() + '|'+route.getLength()+'|'+ route.getJamsTime() + '|'+ route.getTime()+ '|'+4+'|'+202211131139+'\\r\\n';\n",
       "        }, function (error) {\n",
       "        theEl.innerHTML = theEl.innerHTML+'17.0'+'||||||' +4+'|'+202211131139+'\\r\\n';\n",
       "    });\n",
       "    });\n",
       "    "
      ],
      "text/plain": [
       "<IPython.core.display.Javascript object>"
      ]
     },
     "metadata": {},
     "output_type": "display_data"
    },
    {
     "data": {
      "application/javascript": [
       "\n",
       "    var start_point = [54.515377, 36.255241];\n",
       "    var end_point = [52.129588, 34.497068];\n",
       "    ymaps.ready(function () {\n",
       "    var theEl=document.getElementById(\"output\");    \n",
       "    ymaps.route([start_point, end_point], {\n",
       "            mapStateAutoApply: false,\n",
       "            avoidTrafficJams: false,\n",
       "            multiRoute: false,\n",
       "            routingMode: \"auto\",\n",
       "            viaIndexes: []\n",
       "        }).then(function (route) {\n",
       "            var points = route.getWayPoints();  \n",
       "            theEl.innerHTML = theEl.innerHTML+'18.0'+'|'+start_point+'; '+end_point+'|Расстояние --'+route.getHumanLength() + '|'+route.getLength()+'|'+ route.getJamsTime() + '|'+ route.getTime()+ '|'+4+'|'+202211131139+'\\r\\n';\n",
       "        }, function (error) {\n",
       "        theEl.innerHTML = theEl.innerHTML+'18.0'+'||||||' +4+'|'+202211131139+'\\r\\n';\n",
       "    });\n",
       "    });\n",
       "    "
      ],
      "text/plain": [
       "<IPython.core.display.Javascript object>"
      ]
     },
     "metadata": {},
     "output_type": "display_data"
    },
    {
     "data": {
      "application/javascript": [
       "\n",
       "    var start_point = [52.603773, 39.598627];\n",
       "    var end_point = [54.898235, 38.078749];\n",
       "    ymaps.ready(function () {\n",
       "    var theEl=document.getElementById(\"output\");    \n",
       "    ymaps.route([start_point, end_point], {\n",
       "            mapStateAutoApply: false,\n",
       "            avoidTrafficJams: false,\n",
       "            multiRoute: false,\n",
       "            routingMode: \"auto\",\n",
       "            viaIndexes: []\n",
       "        }).then(function (route) {\n",
       "            var points = route.getWayPoints();  \n",
       "            theEl.innerHTML = theEl.innerHTML+'19.0'+'|'+start_point+'; '+end_point+'|Расстояние --'+route.getHumanLength() + '|'+route.getLength()+'|'+ route.getJamsTime() + '|'+ route.getTime()+ '|'+4+'|'+202211131139+'\\r\\n';\n",
       "        }, function (error) {\n",
       "        theEl.innerHTML = theEl.innerHTML+'19.0'+'||||||' +4+'|'+202211131139+'\\r\\n';\n",
       "    });\n",
       "    });\n",
       "    "
      ],
      "text/plain": [
       "<IPython.core.display.Javascript object>"
      ]
     },
     "metadata": {},
     "output_type": "display_data"
    },
    {
     "data": {
      "application/javascript": [
       "\n",
       "    var start_point = [56.322075, 44.009966];\n",
       "    var end_point = [56.967841, 41.966406];\n",
       "    ymaps.ready(function () {\n",
       "    var theEl=document.getElementById(\"output\");    \n",
       "    ymaps.route([start_point, end_point], {\n",
       "            mapStateAutoApply: false,\n",
       "            avoidTrafficJams: false,\n",
       "            multiRoute: false,\n",
       "            routingMode: \"auto\",\n",
       "            viaIndexes: []\n",
       "        }).then(function (route) {\n",
       "            var points = route.getWayPoints();  \n",
       "            theEl.innerHTML = theEl.innerHTML+'20.0'+'|'+start_point+'; '+end_point+'|Расстояние --'+route.getHumanLength() + '|'+route.getLength()+'|'+ route.getJamsTime() + '|'+ route.getTime()+ '|'+4+'|'+202211131139+'\\r\\n';\n",
       "        }, function (error) {\n",
       "        theEl.innerHTML = theEl.innerHTML+'20.0'+'||||||' +4+'|'+202211131139+'\\r\\n';\n",
       "    });\n",
       "    });\n",
       "    "
      ],
      "text/plain": [
       "<IPython.core.display.Javascript object>"
      ]
     },
     "metadata": {},
     "output_type": "display_data"
    },
    {
     "data": {
      "application/javascript": [
       "\n",
       "    var start_point = [53.237014, 34.358826];\n",
       "    var end_point = [54.193702, 37.612039];\n",
       "    ymaps.ready(function () {\n",
       "    var theEl=document.getElementById(\"output\");    \n",
       "    ymaps.route([start_point, end_point], {\n",
       "            mapStateAutoApply: false,\n",
       "            avoidTrafficJams: false,\n",
       "            multiRoute: false,\n",
       "            routingMode: \"auto\",\n",
       "            viaIndexes: []\n",
       "        }).then(function (route) {\n",
       "            var points = route.getWayPoints();  \n",
       "            theEl.innerHTML = theEl.innerHTML+'21.0'+'|'+start_point+'; '+end_point+'|Расстояние --'+route.getHumanLength() + '|'+route.getLength()+'|'+ route.getJamsTime() + '|'+ route.getTime()+ '|'+4+'|'+202211131139+'\\r\\n';\n",
       "        }, function (error) {\n",
       "        theEl.innerHTML = theEl.innerHTML+'21.0'+'||||||' +4+'|'+202211131139+'\\r\\n';\n",
       "    });\n",
       "    });\n",
       "    "
      ],
      "text/plain": [
       "<IPython.core.display.Javascript object>"
      ]
     },
     "metadata": {},
     "output_type": "display_data"
    },
    {
     "data": {
      "application/javascript": [
       "\n",
       "    var start_point = [53.237014, 34.358826];\n",
       "    var end_point = [54.203525, 37.590237];\n",
       "    ymaps.ready(function () {\n",
       "    var theEl=document.getElementById(\"output\");    \n",
       "    ymaps.route([start_point, end_point], {\n",
       "            mapStateAutoApply: false,\n",
       "            avoidTrafficJams: false,\n",
       "            multiRoute: false,\n",
       "            routingMode: \"auto\",\n",
       "            viaIndexes: []\n",
       "        }).then(function (route) {\n",
       "            var points = route.getWayPoints();  \n",
       "            theEl.innerHTML = theEl.innerHTML+'22.0'+'|'+start_point+'; '+end_point+'|Расстояние --'+route.getHumanLength() + '|'+route.getLength()+'|'+ route.getJamsTime() + '|'+ route.getTime()+ '|'+4+'|'+202211131139+'\\r\\n';\n",
       "        }, function (error) {\n",
       "        theEl.innerHTML = theEl.innerHTML+'22.0'+'||||||' +4+'|'+202211131139+'\\r\\n';\n",
       "    });\n",
       "    });\n",
       "    "
      ],
      "text/plain": [
       "<IPython.core.display.Javascript object>"
      ]
     },
     "metadata": {},
     "output_type": "display_data"
    },
    {
     "data": {
      "application/javascript": [
       "\n",
       "    var start_point = [53.237014, 34.358826];\n",
       "    var end_point = [54.203856, 37.515703];\n",
       "    ymaps.ready(function () {\n",
       "    var theEl=document.getElementById(\"output\");    \n",
       "    ymaps.route([start_point, end_point], {\n",
       "            mapStateAutoApply: false,\n",
       "            avoidTrafficJams: false,\n",
       "            multiRoute: false,\n",
       "            routingMode: \"auto\",\n",
       "            viaIndexes: []\n",
       "        }).then(function (route) {\n",
       "            var points = route.getWayPoints();  \n",
       "            theEl.innerHTML = theEl.innerHTML+'23.0'+'|'+start_point+'; '+end_point+'|Расстояние --'+route.getHumanLength() + '|'+route.getLength()+'|'+ route.getJamsTime() + '|'+ route.getTime()+ '|'+4+'|'+202211131139+'\\r\\n';\n",
       "        }, function (error) {\n",
       "        theEl.innerHTML = theEl.innerHTML+'23.0'+'||||||' +4+'|'+202211131139+'\\r\\n';\n",
       "    });\n",
       "    });\n",
       "    "
      ],
      "text/plain": [
       "<IPython.core.display.Javascript object>"
      ]
     },
     "metadata": {},
     "output_type": "display_data"
    },
    {
     "data": {
      "application/javascript": [
       "\n",
       "    var start_point = [52.603773, 39.598627];\n",
       "    var end_point = [54.474303, 38.727863];\n",
       "    ymaps.ready(function () {\n",
       "    var theEl=document.getElementById(\"output\");    \n",
       "    ymaps.route([start_point, end_point], {\n",
       "            mapStateAutoApply: false,\n",
       "            avoidTrafficJams: false,\n",
       "            multiRoute: false,\n",
       "            routingMode: \"auto\",\n",
       "            viaIndexes: []\n",
       "        }).then(function (route) {\n",
       "            var points = route.getWayPoints();  \n",
       "            theEl.innerHTML = theEl.innerHTML+'24.0'+'|'+start_point+'; '+end_point+'|Расстояние --'+route.getHumanLength() + '|'+route.getLength()+'|'+ route.getJamsTime() + '|'+ route.getTime()+ '|'+4+'|'+202211131139+'\\r\\n';\n",
       "        }, function (error) {\n",
       "        theEl.innerHTML = theEl.innerHTML+'24.0'+'||||||' +4+'|'+202211131139+'\\r\\n';\n",
       "    });\n",
       "    });\n",
       "    "
      ],
      "text/plain": [
       "<IPython.core.display.Javascript object>"
      ]
     },
     "metadata": {},
     "output_type": "display_data"
    },
    {
     "data": {
      "application/javascript": [
       "\n",
       "    var start_point = [52.603773, 39.598627];\n",
       "    var end_point = [54.47357, 38.727001];\n",
       "    ymaps.ready(function () {\n",
       "    var theEl=document.getElementById(\"output\");    \n",
       "    ymaps.route([start_point, end_point], {\n",
       "            mapStateAutoApply: false,\n",
       "            avoidTrafficJams: false,\n",
       "            multiRoute: false,\n",
       "            routingMode: \"auto\",\n",
       "            viaIndexes: []\n",
       "        }).then(function (route) {\n",
       "            var points = route.getWayPoints();  \n",
       "            theEl.innerHTML = theEl.innerHTML+'25.0'+'|'+start_point+'; '+end_point+'|Расстояние --'+route.getHumanLength() + '|'+route.getLength()+'|'+ route.getJamsTime() + '|'+ route.getTime()+ '|'+4+'|'+202211131140+'\\r\\n';\n",
       "        }, function (error) {\n",
       "        theEl.innerHTML = theEl.innerHTML+'25.0'+'||||||' +4+'|'+202211131140+'\\r\\n';\n",
       "    });\n",
       "    });\n",
       "    "
      ],
      "text/plain": [
       "<IPython.core.display.Javascript object>"
      ]
     },
     "metadata": {},
     "output_type": "display_data"
    },
    {
     "data": {
      "application/javascript": [
       "\n",
       "    var start_point = [52.719005, 41.451483];\n",
       "    var end_point = [54.043499, 38.250813];\n",
       "    ymaps.ready(function () {\n",
       "    var theEl=document.getElementById(\"output\");    \n",
       "    ymaps.route([start_point, end_point], {\n",
       "            mapStateAutoApply: false,\n",
       "            avoidTrafficJams: false,\n",
       "            multiRoute: false,\n",
       "            routingMode: \"auto\",\n",
       "            viaIndexes: []\n",
       "        }).then(function (route) {\n",
       "            var points = route.getWayPoints();  \n",
       "            theEl.innerHTML = theEl.innerHTML+'26.0'+'|'+start_point+'; '+end_point+'|Расстояние --'+route.getHumanLength() + '|'+route.getLength()+'|'+ route.getJamsTime() + '|'+ route.getTime()+ '|'+4+'|'+202211131140+'\\r\\n';\n",
       "        }, function (error) {\n",
       "        theEl.innerHTML = theEl.innerHTML+'26.0'+'||||||' +4+'|'+202211131140+'\\r\\n';\n",
       "    });\n",
       "    });\n",
       "    "
      ],
      "text/plain": [
       "<IPython.core.display.Javascript object>"
      ]
     },
     "metadata": {},
     "output_type": "display_data"
    },
    {
     "data": {
      "application/javascript": [
       "\n",
       "    var start_point = [52.719005, 41.451483];\n",
       "    var end_point = [54.042431, 38.248836];\n",
       "    ymaps.ready(function () {\n",
       "    var theEl=document.getElementById(\"output\");    \n",
       "    ymaps.route([start_point, end_point], {\n",
       "            mapStateAutoApply: false,\n",
       "            avoidTrafficJams: false,\n",
       "            multiRoute: false,\n",
       "            routingMode: \"auto\",\n",
       "            viaIndexes: []\n",
       "        }).then(function (route) {\n",
       "            var points = route.getWayPoints();  \n",
       "            theEl.innerHTML = theEl.innerHTML+'27.0'+'|'+start_point+'; '+end_point+'|Расстояние --'+route.getHumanLength() + '|'+route.getLength()+'|'+ route.getJamsTime() + '|'+ route.getTime()+ '|'+4+'|'+202211131140+'\\r\\n';\n",
       "        }, function (error) {\n",
       "        theEl.innerHTML = theEl.innerHTML+'27.0'+'||||||' +4+'|'+202211131140+'\\r\\n';\n",
       "    });\n",
       "    });\n",
       "    "
      ],
      "text/plain": [
       "<IPython.core.display.Javascript object>"
      ]
     },
     "metadata": {},
     "output_type": "display_data"
    },
    {
     "data": {
      "application/javascript": [
       "\n",
       "    var start_point = [55.773373, 37.605786];\n",
       "    var end_point = [53.708027, 37.300997];\n",
       "    ymaps.ready(function () {\n",
       "    var theEl=document.getElementById(\"output\");    \n",
       "    ymaps.route([start_point, end_point], {\n",
       "            mapStateAutoApply: false,\n",
       "            avoidTrafficJams: false,\n",
       "            multiRoute: false,\n",
       "            routingMode: \"auto\",\n",
       "            viaIndexes: []\n",
       "        }).then(function (route) {\n",
       "            var points = route.getWayPoints();  \n",
       "            theEl.innerHTML = theEl.innerHTML+'28.0'+'|'+start_point+'; '+end_point+'|Расстояние --'+route.getHumanLength() + '|'+route.getLength()+'|'+ route.getJamsTime() + '|'+ route.getTime()+ '|'+4+'|'+202211131140+'\\r\\n';\n",
       "        }, function (error) {\n",
       "        theEl.innerHTML = theEl.innerHTML+'28.0'+'||||||' +4+'|'+202211131140+'\\r\\n';\n",
       "    });\n",
       "    });\n",
       "    "
      ],
      "text/plain": [
       "<IPython.core.display.Javascript object>"
      ]
     },
     "metadata": {},
     "output_type": "display_data"
    },
    {
     "data": {
      "application/javascript": [
       "\n",
       "    var start_point = [56.971192, 40.974487];\n",
       "    var end_point = [55.728398, 38.034382];\n",
       "    ymaps.ready(function () {\n",
       "    var theEl=document.getElementById(\"output\");    \n",
       "    ymaps.route([start_point, end_point], {\n",
       "            mapStateAutoApply: false,\n",
       "            avoidTrafficJams: false,\n",
       "            multiRoute: false,\n",
       "            routingMode: \"auto\",\n",
       "            viaIndexes: []\n",
       "        }).then(function (route) {\n",
       "            var points = route.getWayPoints();  \n",
       "            theEl.innerHTML = theEl.innerHTML+'29.0'+'|'+start_point+'; '+end_point+'|Расстояние --'+route.getHumanLength() + '|'+route.getLength()+'|'+ route.getJamsTime() + '|'+ route.getTime()+ '|'+4+'|'+202211131140+'\\r\\n';\n",
       "        }, function (error) {\n",
       "        theEl.innerHTML = theEl.innerHTML+'29.0'+'||||||' +4+'|'+202211131140+'\\r\\n';\n",
       "    });\n",
       "    });\n",
       "    "
      ],
      "text/plain": [
       "<IPython.core.display.Javascript object>"
      ]
     },
     "metadata": {},
     "output_type": "display_data"
    },
    {
     "data": {
      "application/javascript": [
       "\n",
       "    var start_point = [56.11985, 40.361872];\n",
       "    var end_point = [56.969038, 40.939479];\n",
       "    ymaps.ready(function () {\n",
       "    var theEl=document.getElementById(\"output\");    \n",
       "    ymaps.route([start_point, end_point], {\n",
       "            mapStateAutoApply: false,\n",
       "            avoidTrafficJams: false,\n",
       "            multiRoute: false,\n",
       "            routingMode: \"auto\",\n",
       "            viaIndexes: []\n",
       "        }).then(function (route) {\n",
       "            var points = route.getWayPoints();  \n",
       "            theEl.innerHTML = theEl.innerHTML+'30.0'+'|'+start_point+'; '+end_point+'|Расстояние --'+route.getHumanLength() + '|'+route.getLength()+'|'+ route.getJamsTime() + '|'+ route.getTime()+ '|'+4+'|'+202211131140+'\\r\\n';\n",
       "        }, function (error) {\n",
       "        theEl.innerHTML = theEl.innerHTML+'30.0'+'||||||' +4+'|'+202211131140+'\\r\\n';\n",
       "    });\n",
       "    });\n",
       "    "
      ],
      "text/plain": [
       "<IPython.core.display.Javascript object>"
      ]
     },
     "metadata": {},
     "output_type": "display_data"
    },
    {
     "data": {
      "application/javascript": [
       "\n",
       "    var start_point = [56.11985, 40.361872];\n",
       "    var end_point = [56.974003, 40.929697];\n",
       "    ymaps.ready(function () {\n",
       "    var theEl=document.getElementById(\"output\");    \n",
       "    ymaps.route([start_point, end_point], {\n",
       "            mapStateAutoApply: false,\n",
       "            avoidTrafficJams: false,\n",
       "            multiRoute: false,\n",
       "            routingMode: \"auto\",\n",
       "            viaIndexes: []\n",
       "        }).then(function (route) {\n",
       "            var points = route.getWayPoints();  \n",
       "            theEl.innerHTML = theEl.innerHTML+'31.0'+'|'+start_point+'; '+end_point+'|Расстояние --'+route.getHumanLength() + '|'+route.getLength()+'|'+ route.getJamsTime() + '|'+ route.getTime()+ '|'+4+'|'+202211131140+'\\r\\n';\n",
       "        }, function (error) {\n",
       "        theEl.innerHTML = theEl.innerHTML+'31.0'+'||||||' +4+'|'+202211131140+'\\r\\n';\n",
       "    });\n",
       "    });\n",
       "    "
      ],
      "text/plain": [
       "<IPython.core.display.Javascript object>"
      ]
     },
     "metadata": {},
     "output_type": "display_data"
    },
    {
     "data": {
      "application/javascript": [
       "\n",
       "    var start_point = [56.11985, 40.361872];\n",
       "    var end_point = [55.121216, 36.571421];\n",
       "    ymaps.ready(function () {\n",
       "    var theEl=document.getElementById(\"output\");    \n",
       "    ymaps.route([start_point, end_point], {\n",
       "            mapStateAutoApply: false,\n",
       "            avoidTrafficJams: false,\n",
       "            multiRoute: false,\n",
       "            routingMode: \"auto\",\n",
       "            viaIndexes: []\n",
       "        }).then(function (route) {\n",
       "            var points = route.getWayPoints();  \n",
       "            theEl.innerHTML = theEl.innerHTML+'32.0'+'|'+start_point+'; '+end_point+'|Расстояние --'+route.getHumanLength() + '|'+route.getLength()+'|'+ route.getJamsTime() + '|'+ route.getTime()+ '|'+4+'|'+202211131140+'\\r\\n';\n",
       "        }, function (error) {\n",
       "        theEl.innerHTML = theEl.innerHTML+'32.0'+'||||||' +4+'|'+202211131140+'\\r\\n';\n",
       "    });\n",
       "    });\n",
       "    "
      ],
      "text/plain": [
       "<IPython.core.display.Javascript object>"
      ]
     },
     "metadata": {},
     "output_type": "display_data"
    },
    {
     "data": {
      "application/javascript": [
       "\n",
       "    var start_point = [56.971192, 40.974487];\n",
       "    var end_point = [55.923942, 38.001405];\n",
       "    ymaps.ready(function () {\n",
       "    var theEl=document.getElementById(\"output\");    \n",
       "    ymaps.route([start_point, end_point], {\n",
       "            mapStateAutoApply: false,\n",
       "            avoidTrafficJams: false,\n",
       "            multiRoute: false,\n",
       "            routingMode: \"auto\",\n",
       "            viaIndexes: []\n",
       "        }).then(function (route) {\n",
       "            var points = route.getWayPoints();  \n",
       "            theEl.innerHTML = theEl.innerHTML+'33.0'+'|'+start_point+'; '+end_point+'|Расстояние --'+route.getHumanLength() + '|'+route.getLength()+'|'+ route.getJamsTime() + '|'+ route.getTime()+ '|'+4+'|'+202211131140+'\\r\\n';\n",
       "        }, function (error) {\n",
       "        theEl.innerHTML = theEl.innerHTML+'33.0'+'||||||' +4+'|'+202211131140+'\\r\\n';\n",
       "    });\n",
       "    });\n",
       "    "
      ],
      "text/plain": [
       "<IPython.core.display.Javascript object>"
      ]
     },
     "metadata": {},
     "output_type": "display_data"
    },
    {
     "data": {
      "application/javascript": [
       "\n",
       "    var start_point = [57.635709, 39.882917];\n",
       "    var end_point = [55.950539, 37.106413];\n",
       "    ymaps.ready(function () {\n",
       "    var theEl=document.getElementById(\"output\");    \n",
       "    ymaps.route([start_point, end_point], {\n",
       "            mapStateAutoApply: false,\n",
       "            avoidTrafficJams: false,\n",
       "            multiRoute: false,\n",
       "            routingMode: \"auto\",\n",
       "            viaIndexes: []\n",
       "        }).then(function (route) {\n",
       "            var points = route.getWayPoints();  \n",
       "            theEl.innerHTML = theEl.innerHTML+'34.0'+'|'+start_point+'; '+end_point+'|Расстояние --'+route.getHumanLength() + '|'+route.getLength()+'|'+ route.getJamsTime() + '|'+ route.getTime()+ '|'+4+'|'+202211131140+'\\r\\n';\n",
       "        }, function (error) {\n",
       "        theEl.innerHTML = theEl.innerHTML+'34.0'+'||||||' +4+'|'+202211131140+'\\r\\n';\n",
       "    });\n",
       "    });\n",
       "    "
      ],
      "text/plain": [
       "<IPython.core.display.Javascript object>"
      ]
     },
     "metadata": {},
     "output_type": "display_data"
    },
    {
     "data": {
      "application/javascript": [
       "\n",
       "    var start_point = [56.971192, 40.974487];\n",
       "    var end_point = [55.531132, 38.874756];\n",
       "    ymaps.ready(function () {\n",
       "    var theEl=document.getElementById(\"output\");    \n",
       "    ymaps.route([start_point, end_point], {\n",
       "            mapStateAutoApply: false,\n",
       "            avoidTrafficJams: false,\n",
       "            multiRoute: false,\n",
       "            routingMode: \"auto\",\n",
       "            viaIndexes: []\n",
       "        }).then(function (route) {\n",
       "            var points = route.getWayPoints();  \n",
       "            theEl.innerHTML = theEl.innerHTML+'35.0'+'|'+start_point+'; '+end_point+'|Расстояние --'+route.getHumanLength() + '|'+route.getLength()+'|'+ route.getJamsTime() + '|'+ route.getTime()+ '|'+4+'|'+202211131140+'\\r\\n';\n",
       "        }, function (error) {\n",
       "        theEl.innerHTML = theEl.innerHTML+'35.0'+'||||||' +4+'|'+202211131140+'\\r\\n';\n",
       "    });\n",
       "    });\n",
       "    "
      ],
      "text/plain": [
       "<IPython.core.display.Javascript object>"
      ]
     },
     "metadata": {},
     "output_type": "display_data"
    },
    {
     "data": {
      "application/javascript": [
       "\n",
       "    var start_point = [56.11985, 40.361872];\n",
       "    var end_point = [56.821814, 35.976656];\n",
       "    ymaps.ready(function () {\n",
       "    var theEl=document.getElementById(\"output\");    \n",
       "    ymaps.route([start_point, end_point], {\n",
       "            mapStateAutoApply: false,\n",
       "            avoidTrafficJams: false,\n",
       "            multiRoute: false,\n",
       "            routingMode: \"auto\",\n",
       "            viaIndexes: []\n",
       "        }).then(function (route) {\n",
       "            var points = route.getWayPoints();  \n",
       "            theEl.innerHTML = theEl.innerHTML+'36.0'+'|'+start_point+'; '+end_point+'|Расстояние --'+route.getHumanLength() + '|'+route.getLength()+'|'+ route.getJamsTime() + '|'+ route.getTime()+ '|'+4+'|'+202211131140+'\\r\\n';\n",
       "        }, function (error) {\n",
       "        theEl.innerHTML = theEl.innerHTML+'36.0'+'||||||' +4+'|'+202211131140+'\\r\\n';\n",
       "    });\n",
       "    });\n",
       "    "
      ],
      "text/plain": [
       "<IPython.core.display.Javascript object>"
      ]
     },
     "metadata": {},
     "output_type": "display_data"
    },
    {
     "data": {
      "application/javascript": [
       "\n",
       "    var start_point = [48.71753, 44.526803];\n",
       "    var end_point = [47.291017, 39.852814];\n",
       "    ymaps.ready(function () {\n",
       "    var theEl=document.getElementById(\"output\");    \n",
       "    ymaps.route([start_point, end_point], {\n",
       "            mapStateAutoApply: false,\n",
       "            avoidTrafficJams: false,\n",
       "            multiRoute: false,\n",
       "            routingMode: \"auto\",\n",
       "            viaIndexes: []\n",
       "        }).then(function (route) {\n",
       "            var points = route.getWayPoints();  \n",
       "            theEl.innerHTML = theEl.innerHTML+'37.0'+'|'+start_point+'; '+end_point+'|Расстояние --'+route.getHumanLength() + '|'+route.getLength()+'|'+ route.getJamsTime() + '|'+ route.getTime()+ '|'+4+'|'+202211131140+'\\r\\n';\n",
       "        }, function (error) {\n",
       "        theEl.innerHTML = theEl.innerHTML+'37.0'+'||||||' +4+'|'+202211131140+'\\r\\n';\n",
       "    });\n",
       "    });\n",
       "    "
      ],
      "text/plain": [
       "<IPython.core.display.Javascript object>"
      ]
     },
     "metadata": {},
     "output_type": "display_data"
    },
    {
     "data": {
      "application/javascript": [
       "\n",
       "    var start_point = [51.768188, 55.101788];\n",
       "    var end_point = [53.231031, 50.59512];\n",
       "    ymaps.ready(function () {\n",
       "    var theEl=document.getElementById(\"output\");    \n",
       "    ymaps.route([start_point, end_point], {\n",
       "            mapStateAutoApply: false,\n",
       "            avoidTrafficJams: false,\n",
       "            multiRoute: false,\n",
       "            routingMode: \"auto\",\n",
       "            viaIndexes: []\n",
       "        }).then(function (route) {\n",
       "            var points = route.getWayPoints();  \n",
       "            theEl.innerHTML = theEl.innerHTML+'38.0'+'|'+start_point+'; '+end_point+'|Расстояние --'+route.getHumanLength() + '|'+route.getLength()+'|'+ route.getJamsTime() + '|'+ route.getTime()+ '|'+4+'|'+202211131140+'\\r\\n';\n",
       "        }, function (error) {\n",
       "        theEl.innerHTML = theEl.innerHTML+'38.0'+'||||||' +4+'|'+202211131140+'\\r\\n';\n",
       "    });\n",
       "    });\n",
       "    "
      ],
      "text/plain": [
       "<IPython.core.display.Javascript object>"
      ]
     },
     "metadata": {},
     "output_type": "display_data"
    },
    {
     "data": {
      "application/javascript": [
       "\n",
       "    var start_point = [56.023193, 92.793157];\n",
       "    var end_point = [54.941901, 82.916459];\n",
       "    ymaps.ready(function () {\n",
       "    var theEl=document.getElementById(\"output\");    \n",
       "    ymaps.route([start_point, end_point], {\n",
       "            mapStateAutoApply: false,\n",
       "            avoidTrafficJams: false,\n",
       "            multiRoute: false,\n",
       "            routingMode: \"auto\",\n",
       "            viaIndexes: []\n",
       "        }).then(function (route) {\n",
       "            var points = route.getWayPoints();  \n",
       "            theEl.innerHTML = theEl.innerHTML+'39.0'+'|'+start_point+'; '+end_point+'|Расстояние --'+route.getHumanLength() + '|'+route.getLength()+'|'+ route.getJamsTime() + '|'+ route.getTime()+ '|'+4+'|'+202211131140+'\\r\\n';\n",
       "        }, function (error) {\n",
       "        theEl.innerHTML = theEl.innerHTML+'39.0'+'||||||' +4+'|'+202211131140+'\\r\\n';\n",
       "    });\n",
       "    });\n",
       "    "
      ],
      "text/plain": [
       "<IPython.core.display.Javascript object>"
      ]
     },
     "metadata": {},
     "output_type": "display_data"
    },
    {
     "data": {
      "application/javascript": [
       "\n",
       "    var start_point = [56.11985, 40.361872];\n",
       "    var end_point = [56.835446, 35.945287];\n",
       "    ymaps.ready(function () {\n",
       "    var theEl=document.getElementById(\"output\");    \n",
       "    ymaps.route([start_point, end_point], {\n",
       "            mapStateAutoApply: false,\n",
       "            avoidTrafficJams: false,\n",
       "            multiRoute: false,\n",
       "            routingMode: \"auto\",\n",
       "            viaIndexes: []\n",
       "        }).then(function (route) {\n",
       "            var points = route.getWayPoints();  \n",
       "            theEl.innerHTML = theEl.innerHTML+'40.0'+'|'+start_point+'; '+end_point+'|Расстояние --'+route.getHumanLength() + '|'+route.getLength()+'|'+ route.getJamsTime() + '|'+ route.getTime()+ '|'+4+'|'+202211131140+'\\r\\n';\n",
       "        }, function (error) {\n",
       "        theEl.innerHTML = theEl.innerHTML+'40.0'+'||||||' +4+'|'+202211131140+'\\r\\n';\n",
       "    });\n",
       "    });\n",
       "    "
      ],
      "text/plain": [
       "<IPython.core.display.Javascript object>"
      ]
     },
     "metadata": {},
     "output_type": "display_data"
    },
    {
     "data": {
      "application/javascript": [
       "\n",
       "    var start_point = [56.322075, 44.009966];\n",
       "    var end_point = [57.440839, 42.136745];\n",
       "    ymaps.ready(function () {\n",
       "    var theEl=document.getElementById(\"output\");    \n",
       "    ymaps.route([start_point, end_point], {\n",
       "            mapStateAutoApply: false,\n",
       "            avoidTrafficJams: false,\n",
       "            multiRoute: false,\n",
       "            routingMode: \"auto\",\n",
       "            viaIndexes: []\n",
       "        }).then(function (route) {\n",
       "            var points = route.getWayPoints();  \n",
       "            theEl.innerHTML = theEl.innerHTML+'41.0'+'|'+start_point+'; '+end_point+'|Расстояние --'+route.getHumanLength() + '|'+route.getLength()+'|'+ route.getJamsTime() + '|'+ route.getTime()+ '|'+4+'|'+202211131140+'\\r\\n';\n",
       "        }, function (error) {\n",
       "        theEl.innerHTML = theEl.innerHTML+'41.0'+'||||||' +4+'|'+202211131140+'\\r\\n';\n",
       "    });\n",
       "    });\n",
       "    "
      ],
      "text/plain": [
       "<IPython.core.display.Javascript object>"
      ]
     },
     "metadata": {},
     "output_type": "display_data"
    },
    {
     "data": {
      "application/javascript": [
       "\n",
       "    var start_point = [53.237014, 34.358826];\n",
       "    var end_point = [54.188228, 37.542392];\n",
       "    ymaps.ready(function () {\n",
       "    var theEl=document.getElementById(\"output\");    \n",
       "    ymaps.route([start_point, end_point], {\n",
       "            mapStateAutoApply: false,\n",
       "            avoidTrafficJams: false,\n",
       "            multiRoute: false,\n",
       "            routingMode: \"auto\",\n",
       "            viaIndexes: []\n",
       "        }).then(function (route) {\n",
       "            var points = route.getWayPoints();  \n",
       "            theEl.innerHTML = theEl.innerHTML+'42.0'+'|'+start_point+'; '+end_point+'|Расстояние --'+route.getHumanLength() + '|'+route.getLength()+'|'+ route.getJamsTime() + '|'+ route.getTime()+ '|'+4+'|'+202211131140+'\\r\\n';\n",
       "        }, function (error) {\n",
       "        theEl.innerHTML = theEl.innerHTML+'42.0'+'||||||' +4+'|'+202211131140+'\\r\\n';\n",
       "    });\n",
       "    });\n",
       "    "
      ],
      "text/plain": [
       "<IPython.core.display.Javascript object>"
      ]
     },
     "metadata": {},
     "output_type": "display_data"
    },
    {
     "data": {
      "application/javascript": [
       "\n",
       "    var start_point = [53.237014, 34.358826];\n",
       "    var end_point = [55.598217, 36.46984];\n",
       "    ymaps.ready(function () {\n",
       "    var theEl=document.getElementById(\"output\");    \n",
       "    ymaps.route([start_point, end_point], {\n",
       "            mapStateAutoApply: false,\n",
       "            avoidTrafficJams: false,\n",
       "            multiRoute: false,\n",
       "            routingMode: \"auto\",\n",
       "            viaIndexes: []\n",
       "        }).then(function (route) {\n",
       "            var points = route.getWayPoints();  \n",
       "            theEl.innerHTML = theEl.innerHTML+'43.0'+'|'+start_point+'; '+end_point+'|Расстояние --'+route.getHumanLength() + '|'+route.getLength()+'|'+ route.getJamsTime() + '|'+ route.getTime()+ '|'+4+'|'+202211131140+'\\r\\n';\n",
       "        }, function (error) {\n",
       "        theEl.innerHTML = theEl.innerHTML+'43.0'+'||||||' +4+'|'+202211131140+'\\r\\n';\n",
       "    });\n",
       "    });\n",
       "    "
      ],
      "text/plain": [
       "<IPython.core.display.Javascript object>"
      ]
     },
     "metadata": {},
     "output_type": "display_data"
    },
    {
     "data": {
      "application/javascript": [
       "\n",
       "    var start_point = [55.773373, 37.605786];\n",
       "    var end_point = [54.33941, 34.548056];\n",
       "    ymaps.ready(function () {\n",
       "    var theEl=document.getElementById(\"output\");    \n",
       "    ymaps.route([start_point, end_point], {\n",
       "            mapStateAutoApply: false,\n",
       "            avoidTrafficJams: false,\n",
       "            multiRoute: false,\n",
       "            routingMode: \"auto\",\n",
       "            viaIndexes: []\n",
       "        }).then(function (route) {\n",
       "            var points = route.getWayPoints();  \n",
       "            theEl.innerHTML = theEl.innerHTML+'44.0'+'|'+start_point+'; '+end_point+'|Расстояние --'+route.getHumanLength() + '|'+route.getLength()+'|'+ route.getJamsTime() + '|'+ route.getTime()+ '|'+4+'|'+202211131140+'\\r\\n';\n",
       "        }, function (error) {\n",
       "        theEl.innerHTML = theEl.innerHTML+'44.0'+'||||||' +4+'|'+202211131140+'\\r\\n';\n",
       "    });\n",
       "    });\n",
       "    "
      ],
      "text/plain": [
       "<IPython.core.display.Javascript object>"
      ]
     },
     "metadata": {},
     "output_type": "display_data"
    },
    {
     "data": {
      "application/javascript": [
       "\n",
       "    var start_point = [51.718076, 36.132226];\n",
       "    var end_point = [53.928148, 34.556698];\n",
       "    ymaps.ready(function () {\n",
       "    var theEl=document.getElementById(\"output\");    \n",
       "    ymaps.route([start_point, end_point], {\n",
       "            mapStateAutoApply: false,\n",
       "            avoidTrafficJams: false,\n",
       "            multiRoute: false,\n",
       "            routingMode: \"auto\",\n",
       "            viaIndexes: []\n",
       "        }).then(function (route) {\n",
       "            var points = route.getWayPoints();  \n",
       "            theEl.innerHTML = theEl.innerHTML+'45.0'+'|'+start_point+'; '+end_point+'|Расстояние --'+route.getHumanLength() + '|'+route.getLength()+'|'+ route.getJamsTime() + '|'+ route.getTime()+ '|'+4+'|'+202211131140+'\\r\\n';\n",
       "        }, function (error) {\n",
       "        theEl.innerHTML = theEl.innerHTML+'45.0'+'||||||' +4+'|'+202211131140+'\\r\\n';\n",
       "    });\n",
       "    });\n",
       "    "
      ],
      "text/plain": [
       "<IPython.core.display.Javascript object>"
      ]
     },
     "metadata": {},
     "output_type": "display_data"
    },
    {
     "data": {
      "application/javascript": [
       "\n",
       "    var start_point = [55.773373, 37.605786];\n",
       "    var end_point = [54.33941, 34.548056];\n",
       "    ymaps.ready(function () {\n",
       "    var theEl=document.getElementById(\"output\");    \n",
       "    ymaps.route([start_point, end_point], {\n",
       "            mapStateAutoApply: false,\n",
       "            avoidTrafficJams: false,\n",
       "            multiRoute: false,\n",
       "            routingMode: \"auto\",\n",
       "            viaIndexes: []\n",
       "        }).then(function (route) {\n",
       "            var points = route.getWayPoints();  \n",
       "            theEl.innerHTML = theEl.innerHTML+'46.0'+'|'+start_point+'; '+end_point+'|Расстояние --'+route.getHumanLength() + '|'+route.getLength()+'|'+ route.getJamsTime() + '|'+ route.getTime()+ '|'+4+'|'+202211131140+'\\r\\n';\n",
       "        }, function (error) {\n",
       "        theEl.innerHTML = theEl.innerHTML+'46.0'+'||||||' +4+'|'+202211131140+'\\r\\n';\n",
       "    });\n",
       "    });\n",
       "    "
      ],
      "text/plain": [
       "<IPython.core.display.Javascript object>"
      ]
     },
     "metadata": {},
     "output_type": "display_data"
    },
    {
     "data": {
      "application/javascript": [
       "\n",
       "    var start_point = [55.773373, 37.605786];\n",
       "    var end_point = [54.069022, 34.228489];\n",
       "    ymaps.ready(function () {\n",
       "    var theEl=document.getElementById(\"output\");    \n",
       "    ymaps.route([start_point, end_point], {\n",
       "            mapStateAutoApply: false,\n",
       "            avoidTrafficJams: false,\n",
       "            multiRoute: false,\n",
       "            routingMode: \"auto\",\n",
       "            viaIndexes: []\n",
       "        }).then(function (route) {\n",
       "            var points = route.getWayPoints();  \n",
       "            theEl.innerHTML = theEl.innerHTML+'47.0'+'|'+start_point+'; '+end_point+'|Расстояние --'+route.getHumanLength() + '|'+route.getLength()+'|'+ route.getJamsTime() + '|'+ route.getTime()+ '|'+4+'|'+202211131140+'\\r\\n';\n",
       "        }, function (error) {\n",
       "        theEl.innerHTML = theEl.innerHTML+'47.0'+'||||||' +4+'|'+202211131140+'\\r\\n';\n",
       "    });\n",
       "    });\n",
       "    "
      ],
      "text/plain": [
       "<IPython.core.display.Javascript object>"
      ]
     },
     "metadata": {},
     "output_type": "display_data"
    },
    {
     "data": {
      "application/javascript": [
       "\n",
       "    var start_point = [56.971192, 40.974487];\n",
       "    var end_point = [56.316129, 38.132532];\n",
       "    ymaps.ready(function () {\n",
       "    var theEl=document.getElementById(\"output\");    \n",
       "    ymaps.route([start_point, end_point], {\n",
       "            mapStateAutoApply: false,\n",
       "            avoidTrafficJams: false,\n",
       "            multiRoute: false,\n",
       "            routingMode: \"auto\",\n",
       "            viaIndexes: []\n",
       "        }).then(function (route) {\n",
       "            var points = route.getWayPoints();  \n",
       "            theEl.innerHTML = theEl.innerHTML+'48.0'+'|'+start_point+'; '+end_point+'|Расстояние --'+route.getHumanLength() + '|'+route.getLength()+'|'+ route.getJamsTime() + '|'+ route.getTime()+ '|'+4+'|'+202211131140+'\\r\\n';\n",
       "        }, function (error) {\n",
       "        theEl.innerHTML = theEl.innerHTML+'48.0'+'||||||' +4+'|'+202211131140+'\\r\\n';\n",
       "    });\n",
       "    });\n",
       "    "
      ],
      "text/plain": [
       "<IPython.core.display.Javascript object>"
      ]
     },
     "metadata": {},
     "output_type": "display_data"
    },
    {
     "data": {
      "application/javascript": [
       "\n",
       "    var start_point = [53.237014, 34.358826];\n",
       "    var end_point = [54.188228, 37.542392];\n",
       "    ymaps.ready(function () {\n",
       "    var theEl=document.getElementById(\"output\");    \n",
       "    ymaps.route([start_point, end_point], {\n",
       "            mapStateAutoApply: false,\n",
       "            avoidTrafficJams: false,\n",
       "            multiRoute: false,\n",
       "            routingMode: \"auto\",\n",
       "            viaIndexes: []\n",
       "        }).then(function (route) {\n",
       "            var points = route.getWayPoints();  \n",
       "            theEl.innerHTML = theEl.innerHTML+'49.0'+'|'+start_point+'; '+end_point+'|Расстояние --'+route.getHumanLength() + '|'+route.getLength()+'|'+ route.getJamsTime() + '|'+ route.getTime()+ '|'+4+'|'+202211131140+'\\r\\n';\n",
       "        }, function (error) {\n",
       "        theEl.innerHTML = theEl.innerHTML+'49.0'+'||||||' +4+'|'+202211131140+'\\r\\n';\n",
       "    });\n",
       "    });\n",
       "    "
      ],
      "text/plain": [
       "<IPython.core.display.Javascript object>"
      ]
     },
     "metadata": {},
     "output_type": "display_data"
    },
    {
     "data": {
      "application/javascript": [
       "\n",
       "    var start_point = [52.719005, 41.451483];\n",
       "    var end_point = [54.01129, 38.263784];\n",
       "    ymaps.ready(function () {\n",
       "    var theEl=document.getElementById(\"output\");    \n",
       "    ymaps.route([start_point, end_point], {\n",
       "            mapStateAutoApply: false,\n",
       "            avoidTrafficJams: false,\n",
       "            multiRoute: false,\n",
       "            routingMode: \"auto\",\n",
       "            viaIndexes: []\n",
       "        }).then(function (route) {\n",
       "            var points = route.getWayPoints();  \n",
       "            theEl.innerHTML = theEl.innerHTML+'50.0'+'|'+start_point+'; '+end_point+'|Расстояние --'+route.getHumanLength() + '|'+route.getLength()+'|'+ route.getJamsTime() + '|'+ route.getTime()+ '|'+4+'|'+202211131140+'\\r\\n';\n",
       "        }, function (error) {\n",
       "        theEl.innerHTML = theEl.innerHTML+'50.0'+'||||||' +4+'|'+202211131140+'\\r\\n';\n",
       "    });\n",
       "    });\n",
       "    "
      ],
      "text/plain": [
       "<IPython.core.display.Javascript object>"
      ]
     },
     "metadata": {},
     "output_type": "display_data"
    },
    {
     "data": {
      "application/javascript": [
       "\n",
       "    var start_point = [56.971192, 40.974487];\n",
       "    var end_point = [55.750282, 38.00683];\n",
       "    ymaps.ready(function () {\n",
       "    var theEl=document.getElementById(\"output\");    \n",
       "    ymaps.route([start_point, end_point], {\n",
       "            mapStateAutoApply: false,\n",
       "            avoidTrafficJams: false,\n",
       "            multiRoute: false,\n",
       "            routingMode: \"auto\",\n",
       "            viaIndexes: []\n",
       "        }).then(function (route) {\n",
       "            var points = route.getWayPoints();  \n",
       "            theEl.innerHTML = theEl.innerHTML+'51.0'+'|'+start_point+'; '+end_point+'|Расстояние --'+route.getHumanLength() + '|'+route.getLength()+'|'+ route.getJamsTime() + '|'+ route.getTime()+ '|'+4+'|'+202211131140+'\\r\\n';\n",
       "        }, function (error) {\n",
       "        theEl.innerHTML = theEl.innerHTML+'51.0'+'||||||' +4+'|'+202211131140+'\\r\\n';\n",
       "    });\n",
       "    });\n",
       "    "
      ],
      "text/plain": [
       "<IPython.core.display.Javascript object>"
      ]
     },
     "metadata": {},
     "output_type": "display_data"
    },
    {
     "data": {
      "application/javascript": [
       "\n",
       "    var start_point = [55.773373, 37.605786];\n",
       "    var end_point = [55.087007, 31.970565];\n",
       "    ymaps.ready(function () {\n",
       "    var theEl=document.getElementById(\"output\");    \n",
       "    ymaps.route([start_point, end_point], {\n",
       "            mapStateAutoApply: false,\n",
       "            avoidTrafficJams: false,\n",
       "            multiRoute: false,\n",
       "            routingMode: \"auto\",\n",
       "            viaIndexes: []\n",
       "        }).then(function (route) {\n",
       "            var points = route.getWayPoints();  \n",
       "            theEl.innerHTML = theEl.innerHTML+'52.0'+'|'+start_point+'; '+end_point+'|Расстояние --'+route.getHumanLength() + '|'+route.getLength()+'|'+ route.getJamsTime() + '|'+ route.getTime()+ '|'+4+'|'+202211131140+'\\r\\n';\n",
       "        }, function (error) {\n",
       "        theEl.innerHTML = theEl.innerHTML+'52.0'+'||||||' +4+'|'+202211131140+'\\r\\n';\n",
       "    });\n",
       "    });\n",
       "    "
      ],
      "text/plain": [
       "<IPython.core.display.Javascript object>"
      ]
     },
     "metadata": {},
     "output_type": "display_data"
    },
    {
     "data": {
      "application/javascript": [
       "\n",
       "    var start_point = [51.718076, 36.132226];\n",
       "    var end_point = [53.948448, 32.850941];\n",
       "    ymaps.ready(function () {\n",
       "    var theEl=document.getElementById(\"output\");    \n",
       "    ymaps.route([start_point, end_point], {\n",
       "            mapStateAutoApply: false,\n",
       "            avoidTrafficJams: false,\n",
       "            multiRoute: false,\n",
       "            routingMode: \"auto\",\n",
       "            viaIndexes: []\n",
       "        }).then(function (route) {\n",
       "            var points = route.getWayPoints();  \n",
       "            theEl.innerHTML = theEl.innerHTML+'53.0'+'|'+start_point+'; '+end_point+'|Расстояние --'+route.getHumanLength() + '|'+route.getLength()+'|'+ route.getJamsTime() + '|'+ route.getTime()+ '|'+4+'|'+202211131140+'\\r\\n';\n",
       "        }, function (error) {\n",
       "        theEl.innerHTML = theEl.innerHTML+'53.0'+'||||||' +4+'|'+202211131140+'\\r\\n';\n",
       "    });\n",
       "    });\n",
       "    "
      ],
      "text/plain": [
       "<IPython.core.display.Javascript object>"
      ]
     },
     "metadata": {},
     "output_type": "display_data"
    },
    {
     "data": {
      "application/javascript": [
       "\n",
       "    var start_point = [53.237014, 34.358826];\n",
       "    var end_point = [55.50493, 36.027941];\n",
       "    ymaps.ready(function () {\n",
       "    var theEl=document.getElementById(\"output\");    \n",
       "    ymaps.route([start_point, end_point], {\n",
       "            mapStateAutoApply: false,\n",
       "            avoidTrafficJams: false,\n",
       "            multiRoute: false,\n",
       "            routingMode: \"auto\",\n",
       "            viaIndexes: []\n",
       "        }).then(function (route) {\n",
       "            var points = route.getWayPoints();  \n",
       "            theEl.innerHTML = theEl.innerHTML+'54.0'+'|'+start_point+'; '+end_point+'|Расстояние --'+route.getHumanLength() + '|'+route.getLength()+'|'+ route.getJamsTime() + '|'+ route.getTime()+ '|'+4+'|'+202211131140+'\\r\\n';\n",
       "        }, function (error) {\n",
       "        theEl.innerHTML = theEl.innerHTML+'54.0'+'||||||' +4+'|'+202211131140+'\\r\\n';\n",
       "    });\n",
       "    });\n",
       "    "
      ],
      "text/plain": [
       "<IPython.core.display.Javascript object>"
      ]
     },
     "metadata": {},
     "output_type": "display_data"
    },
    {
     "data": {
      "application/javascript": [
       "\n",
       "    var start_point = [54.776482, 32.016091];\n",
       "    var end_point = [53.309683, 34.308727];\n",
       "    ymaps.ready(function () {\n",
       "    var theEl=document.getElementById(\"output\");    \n",
       "    ymaps.route([start_point, end_point], {\n",
       "            mapStateAutoApply: false,\n",
       "            avoidTrafficJams: false,\n",
       "            multiRoute: false,\n",
       "            routingMode: \"auto\",\n",
       "            viaIndexes: []\n",
       "        }).then(function (route) {\n",
       "            var points = route.getWayPoints();  \n",
       "            theEl.innerHTML = theEl.innerHTML+'55.0'+'|'+start_point+'; '+end_point+'|Расстояние --'+route.getHumanLength() + '|'+route.getLength()+'|'+ route.getJamsTime() + '|'+ route.getTime()+ '|'+4+'|'+202211131140+'\\r\\n';\n",
       "        }, function (error) {\n",
       "        theEl.innerHTML = theEl.innerHTML+'55.0'+'||||||' +4+'|'+202211131140+'\\r\\n';\n",
       "    });\n",
       "    });\n",
       "    "
      ],
      "text/plain": [
       "<IPython.core.display.Javascript object>"
      ]
     },
     "metadata": {},
     "output_type": "display_data"
    },
    {
     "data": {
      "application/javascript": [
       "\n",
       "    var start_point = [56.971192, 40.974487];\n",
       "    var end_point = [55.511185, 37.565219];\n",
       "    ymaps.ready(function () {\n",
       "    var theEl=document.getElementById(\"output\");    \n",
       "    ymaps.route([start_point, end_point], {\n",
       "            mapStateAutoApply: false,\n",
       "            avoidTrafficJams: false,\n",
       "            multiRoute: false,\n",
       "            routingMode: \"auto\",\n",
       "            viaIndexes: []\n",
       "        }).then(function (route) {\n",
       "            var points = route.getWayPoints();  \n",
       "            theEl.innerHTML = theEl.innerHTML+'56.0'+'|'+start_point+'; '+end_point+'|Расстояние --'+route.getHumanLength() + '|'+route.getLength()+'|'+ route.getJamsTime() + '|'+ route.getTime()+ '|'+4+'|'+202211131140+'\\r\\n';\n",
       "        }, function (error) {\n",
       "        theEl.innerHTML = theEl.innerHTML+'56.0'+'||||||' +4+'|'+202211131140+'\\r\\n';\n",
       "    });\n",
       "    });\n",
       "    "
      ],
      "text/plain": [
       "<IPython.core.display.Javascript object>"
      ]
     },
     "metadata": {},
     "output_type": "display_data"
    },
    {
     "data": {
      "application/javascript": [
       "\n",
       "    var start_point = [53.237014, 34.358826];\n",
       "    var end_point = [55.214804, 34.303436];\n",
       "    ymaps.ready(function () {\n",
       "    var theEl=document.getElementById(\"output\");    \n",
       "    ymaps.route([start_point, end_point], {\n",
       "            mapStateAutoApply: false,\n",
       "            avoidTrafficJams: false,\n",
       "            multiRoute: false,\n",
       "            routingMode: \"auto\",\n",
       "            viaIndexes: []\n",
       "        }).then(function (route) {\n",
       "            var points = route.getWayPoints();  \n",
       "            theEl.innerHTML = theEl.innerHTML+'57.0'+'|'+start_point+'; '+end_point+'|Расстояние --'+route.getHumanLength() + '|'+route.getLength()+'|'+ route.getJamsTime() + '|'+ route.getTime()+ '|'+4+'|'+202211131140+'\\r\\n';\n",
       "        }, function (error) {\n",
       "        theEl.innerHTML = theEl.innerHTML+'57.0'+'||||||' +4+'|'+202211131140+'\\r\\n';\n",
       "    });\n",
       "    });\n",
       "    "
      ],
      "text/plain": [
       "<IPython.core.display.Javascript object>"
      ]
     },
     "metadata": {},
     "output_type": "display_data"
    },
    {
     "data": {
      "application/javascript": [
       "\n",
       "    var start_point = [59.874621, 30.329091];\n",
       "    var end_point = [52.825797, 22.784465];\n",
       "    ymaps.ready(function () {\n",
       "    var theEl=document.getElementById(\"output\");    \n",
       "    ymaps.route([start_point, end_point], {\n",
       "            mapStateAutoApply: false,\n",
       "            avoidTrafficJams: false,\n",
       "            multiRoute: false,\n",
       "            routingMode: \"auto\",\n",
       "            viaIndexes: []\n",
       "        }).then(function (route) {\n",
       "            var points = route.getWayPoints();  \n",
       "            theEl.innerHTML = theEl.innerHTML+'58.0'+'|'+start_point+'; '+end_point+'|Расстояние --'+route.getHumanLength() + '|'+route.getLength()+'|'+ route.getJamsTime() + '|'+ route.getTime()+ '|'+4+'|'+202211131140+'\\r\\n';\n",
       "        }, function (error) {\n",
       "        theEl.innerHTML = theEl.innerHTML+'58.0'+'||||||' +4+'|'+202211131140+'\\r\\n';\n",
       "    });\n",
       "    });\n",
       "    "
      ],
      "text/plain": [
       "<IPython.core.display.Javascript object>"
      ]
     },
     "metadata": {},
     "output_type": "display_data"
    },
    {
     "name": "stdout",
     "output_type": "stream",
     "text": [
      "Выполняется шаг 6. Начало 2022-11-13 11:40:04.948094\n"
     ]
    },
    {
     "data": {
      "application/javascript": [
       "\n",
       "    var start_point = [59.203573, 39.844137];\n",
       "    var end_point = [57.465109, 40.552827];\n",
       "    ymaps.ready(function () {\n",
       "    var theEl=document.getElementById(\"output\");    \n",
       "    ymaps.route([start_point, end_point], {\n",
       "            mapStateAutoApply: false,\n",
       "            avoidTrafficJams: false,\n",
       "            multiRoute: false,\n",
       "            routingMode: \"auto\",\n",
       "            viaIndexes: []\n",
       "        }).then(function (route) {\n",
       "            var points = route.getWayPoints();  \n",
       "            theEl.innerHTML = theEl.innerHTML+'0.0'+'|'+start_point+'; '+end_point+'|Расстояние --'+route.getHumanLength() + '|'+route.getLength()+'|'+ route.getJamsTime() + '|'+ route.getTime()+ '|'+5+'|'+202211131140+'\\r\\n';\n",
       "        }, function (error) {\n",
       "        theEl.innerHTML = theEl.innerHTML+'0.0'+'||||||' +5+'|'+202211131140+'\\r\\n';\n",
       "    });\n",
       "    });\n",
       "    "
      ],
      "text/plain": [
       "<IPython.core.display.Javascript object>"
      ]
     },
     "metadata": {},
     "output_type": "display_data"
    },
    {
     "data": {
      "application/javascript": [
       "\n",
       "    var start_point = [57.635709, 39.882917];\n",
       "    var end_point = [55.754568, 37.609586];\n",
       "    ymaps.ready(function () {\n",
       "    var theEl=document.getElementById(\"output\");    \n",
       "    ymaps.route([start_point, end_point], {\n",
       "            mapStateAutoApply: false,\n",
       "            avoidTrafficJams: false,\n",
       "            multiRoute: false,\n",
       "            routingMode: \"auto\",\n",
       "            viaIndexes: []\n",
       "        }).then(function (route) {\n",
       "            var points = route.getWayPoints();  \n",
       "            theEl.innerHTML = theEl.innerHTML+'1.0'+'|'+start_point+'; '+end_point+'|Расстояние --'+route.getHumanLength() + '|'+route.getLength()+'|'+ route.getJamsTime() + '|'+ route.getTime()+ '|'+5+'|'+202211131140+'\\r\\n';\n",
       "        }, function (error) {\n",
       "        theEl.innerHTML = theEl.innerHTML+'1.0'+'||||||' +5+'|'+202211131140+'\\r\\n';\n",
       "    });\n",
       "    });\n",
       "    "
      ],
      "text/plain": [
       "<IPython.core.display.Javascript object>"
      ]
     },
     "metadata": {},
     "output_type": "display_data"
    },
    {
     "data": {
      "application/javascript": [
       "\n",
       "    var start_point = [56.322075, 44.009966];\n",
       "    var end_point = [56.824809, 41.400594];\n",
       "    ymaps.ready(function () {\n",
       "    var theEl=document.getElementById(\"output\");    \n",
       "    ymaps.route([start_point, end_point], {\n",
       "            mapStateAutoApply: false,\n",
       "            avoidTrafficJams: false,\n",
       "            multiRoute: false,\n",
       "            routingMode: \"auto\",\n",
       "            viaIndexes: []\n",
       "        }).then(function (route) {\n",
       "            var points = route.getWayPoints();  \n",
       "            theEl.innerHTML = theEl.innerHTML+'2.0'+'|'+start_point+'; '+end_point+'|Расстояние --'+route.getHumanLength() + '|'+route.getLength()+'|'+ route.getJamsTime() + '|'+ route.getTime()+ '|'+5+'|'+202211131140+'\\r\\n';\n",
       "        }, function (error) {\n",
       "        theEl.innerHTML = theEl.innerHTML+'2.0'+'||||||' +5+'|'+202211131140+'\\r\\n';\n",
       "    });\n",
       "    });\n",
       "    "
      ],
      "text/plain": [
       "<IPython.core.display.Javascript object>"
      ]
     },
     "metadata": {},
     "output_type": "display_data"
    },
    {
     "data": {
      "application/javascript": [
       "\n",
       "    var start_point = [56.322075, 44.009966];\n",
       "    var end_point = [56.828217, 41.408652];\n",
       "    ymaps.ready(function () {\n",
       "    var theEl=document.getElementById(\"output\");    \n",
       "    ymaps.route([start_point, end_point], {\n",
       "            mapStateAutoApply: false,\n",
       "            avoidTrafficJams: false,\n",
       "            multiRoute: false,\n",
       "            routingMode: \"auto\",\n",
       "            viaIndexes: []\n",
       "        }).then(function (route) {\n",
       "            var points = route.getWayPoints();  \n",
       "            theEl.innerHTML = theEl.innerHTML+'3.0'+'|'+start_point+'; '+end_point+'|Расстояние --'+route.getHumanLength() + '|'+route.getLength()+'|'+ route.getJamsTime() + '|'+ route.getTime()+ '|'+5+'|'+202211131140+'\\r\\n';\n",
       "        }, function (error) {\n",
       "        theEl.innerHTML = theEl.innerHTML+'3.0'+'||||||' +5+'|'+202211131140+'\\r\\n';\n",
       "    });\n",
       "    });\n",
       "    "
      ],
      "text/plain": [
       "<IPython.core.display.Javascript object>"
      ]
     },
     "metadata": {},
     "output_type": "display_data"
    },
    {
     "data": {
      "application/javascript": [
       "\n",
       "    var start_point = [56.322075, 44.009966];\n",
       "    var end_point = [56.965923, 41.018989];\n",
       "    ymaps.ready(function () {\n",
       "    var theEl=document.getElementById(\"output\");    \n",
       "    ymaps.route([start_point, end_point], {\n",
       "            mapStateAutoApply: false,\n",
       "            avoidTrafficJams: false,\n",
       "            multiRoute: false,\n",
       "            routingMode: \"auto\",\n",
       "            viaIndexes: []\n",
       "        }).then(function (route) {\n",
       "            var points = route.getWayPoints();  \n",
       "            theEl.innerHTML = theEl.innerHTML+'4.0'+'|'+start_point+'; '+end_point+'|Расстояние --'+route.getHumanLength() + '|'+route.getLength()+'|'+ route.getJamsTime() + '|'+ route.getTime()+ '|'+5+'|'+202211131140+'\\r\\n';\n",
       "        }, function (error) {\n",
       "        theEl.innerHTML = theEl.innerHTML+'4.0'+'||||||' +5+'|'+202211131140+'\\r\\n';\n",
       "    });\n",
       "    });\n",
       "    "
      ],
      "text/plain": [
       "<IPython.core.display.Javascript object>"
      ]
     },
     "metadata": {},
     "output_type": "display_data"
    },
    {
     "data": {
      "application/javascript": [
       "\n",
       "    var start_point = [57.635709, 39.882917];\n",
       "    var end_point = [55.531132, 38.874756];\n",
       "    ymaps.ready(function () {\n",
       "    var theEl=document.getElementById(\"output\");    \n",
       "    ymaps.route([start_point, end_point], {\n",
       "            mapStateAutoApply: false,\n",
       "            avoidTrafficJams: false,\n",
       "            multiRoute: false,\n",
       "            routingMode: \"auto\",\n",
       "            viaIndexes: []\n",
       "        }).then(function (route) {\n",
       "            var points = route.getWayPoints();  \n",
       "            theEl.innerHTML = theEl.innerHTML+'5.0'+'|'+start_point+'; '+end_point+'|Расстояние --'+route.getHumanLength() + '|'+route.getLength()+'|'+ route.getJamsTime() + '|'+ route.getTime()+ '|'+5+'|'+202211131140+'\\r\\n';\n",
       "        }, function (error) {\n",
       "        theEl.innerHTML = theEl.innerHTML+'5.0'+'||||||' +5+'|'+202211131140+'\\r\\n';\n",
       "    });\n",
       "    });\n",
       "    "
      ],
      "text/plain": [
       "<IPython.core.display.Javascript object>"
      ]
     },
     "metadata": {},
     "output_type": "display_data"
    },
    {
     "data": {
      "application/javascript": [
       "\n",
       "    var start_point = [51.718076, 36.132226];\n",
       "    var end_point = [55.083575, 33.071001];\n",
       "    ymaps.ready(function () {\n",
       "    var theEl=document.getElementById(\"output\");    \n",
       "    ymaps.route([start_point, end_point], {\n",
       "            mapStateAutoApply: false,\n",
       "            avoidTrafficJams: false,\n",
       "            multiRoute: false,\n",
       "            routingMode: \"auto\",\n",
       "            viaIndexes: []\n",
       "        }).then(function (route) {\n",
       "            var points = route.getWayPoints();  \n",
       "            theEl.innerHTML = theEl.innerHTML+'6.0'+'|'+start_point+'; '+end_point+'|Расстояние --'+route.getHumanLength() + '|'+route.getLength()+'|'+ route.getJamsTime() + '|'+ route.getTime()+ '|'+5+'|'+202211131140+'\\r\\n';\n",
       "        }, function (error) {\n",
       "        theEl.innerHTML = theEl.innerHTML+'6.0'+'||||||' +5+'|'+202211131140+'\\r\\n';\n",
       "    });\n",
       "    });\n",
       "    "
      ],
      "text/plain": [
       "<IPython.core.display.Javascript object>"
      ]
     },
     "metadata": {},
     "output_type": "display_data"
    },
    {
     "data": {
      "application/javascript": [
       "\n",
       "    var start_point = [51.718076, 36.132226];\n",
       "    var end_point = [54.811892, 32.024257];\n",
       "    ymaps.ready(function () {\n",
       "    var theEl=document.getElementById(\"output\");    \n",
       "    ymaps.route([start_point, end_point], {\n",
       "            mapStateAutoApply: false,\n",
       "            avoidTrafficJams: false,\n",
       "            multiRoute: false,\n",
       "            routingMode: \"auto\",\n",
       "            viaIndexes: []\n",
       "        }).then(function (route) {\n",
       "            var points = route.getWayPoints();  \n",
       "            theEl.innerHTML = theEl.innerHTML+'7.0'+'|'+start_point+'; '+end_point+'|Расстояние --'+route.getHumanLength() + '|'+route.getLength()+'|'+ route.getJamsTime() + '|'+ route.getTime()+ '|'+5+'|'+202211131140+'\\r\\n';\n",
       "        }, function (error) {\n",
       "        theEl.innerHTML = theEl.innerHTML+'7.0'+'||||||' +5+'|'+202211131140+'\\r\\n';\n",
       "    });\n",
       "    });\n",
       "    "
      ],
      "text/plain": [
       "<IPython.core.display.Javascript object>"
      ]
     },
     "metadata": {},
     "output_type": "display_data"
    },
    {
     "data": {
      "application/javascript": [
       "\n",
       "    var start_point = [56.11985, 40.361872];\n",
       "    var end_point = [54.009909, 38.27434];\n",
       "    ymaps.ready(function () {\n",
       "    var theEl=document.getElementById(\"output\");    \n",
       "    ymaps.route([start_point, end_point], {\n",
       "            mapStateAutoApply: false,\n",
       "            avoidTrafficJams: false,\n",
       "            multiRoute: false,\n",
       "            routingMode: \"auto\",\n",
       "            viaIndexes: []\n",
       "        }).then(function (route) {\n",
       "            var points = route.getWayPoints();  \n",
       "            theEl.innerHTML = theEl.innerHTML+'8.0'+'|'+start_point+'; '+end_point+'|Расстояние --'+route.getHumanLength() + '|'+route.getLength()+'|'+ route.getJamsTime() + '|'+ route.getTime()+ '|'+5+'|'+202211131140+'\\r\\n';\n",
       "        }, function (error) {\n",
       "        theEl.innerHTML = theEl.innerHTML+'8.0'+'||||||' +5+'|'+202211131140+'\\r\\n';\n",
       "    });\n",
       "    });\n",
       "    "
      ],
      "text/plain": [
       "<IPython.core.display.Javascript object>"
      ]
     },
     "metadata": {},
     "output_type": "display_data"
    },
    {
     "data": {
      "application/javascript": [
       "\n",
       "    var start_point = [56.971192, 40.974487];\n",
       "    var end_point = [55.818776, 37.521354];\n",
       "    ymaps.ready(function () {\n",
       "    var theEl=document.getElementById(\"output\");    \n",
       "    ymaps.route([start_point, end_point], {\n",
       "            mapStateAutoApply: false,\n",
       "            avoidTrafficJams: false,\n",
       "            multiRoute: false,\n",
       "            routingMode: \"auto\",\n",
       "            viaIndexes: []\n",
       "        }).then(function (route) {\n",
       "            var points = route.getWayPoints();  \n",
       "            theEl.innerHTML = theEl.innerHTML+'9.0'+'|'+start_point+'; '+end_point+'|Расстояние --'+route.getHumanLength() + '|'+route.getLength()+'|'+ route.getJamsTime() + '|'+ route.getTime()+ '|'+5+'|'+202211131140+'\\r\\n';\n",
       "        }, function (error) {\n",
       "        theEl.innerHTML = theEl.innerHTML+'9.0'+'||||||' +5+'|'+202211131140+'\\r\\n';\n",
       "    });\n",
       "    });\n",
       "    "
      ],
      "text/plain": [
       "<IPython.core.display.Javascript object>"
      ]
     },
     "metadata": {},
     "output_type": "display_data"
    },
    {
     "data": {
      "application/javascript": [
       "\n",
       "    var start_point = [56.11985, 40.361872];\n",
       "    var end_point = [54.157576, 37.582071];\n",
       "    ymaps.ready(function () {\n",
       "    var theEl=document.getElementById(\"output\");    \n",
       "    ymaps.route([start_point, end_point], {\n",
       "            mapStateAutoApply: false,\n",
       "            avoidTrafficJams: false,\n",
       "            multiRoute: false,\n",
       "            routingMode: \"auto\",\n",
       "            viaIndexes: []\n",
       "        }).then(function (route) {\n",
       "            var points = route.getWayPoints();  \n",
       "            theEl.innerHTML = theEl.innerHTML+'10.0'+'|'+start_point+'; '+end_point+'|Расстояние --'+route.getHumanLength() + '|'+route.getLength()+'|'+ route.getJamsTime() + '|'+ route.getTime()+ '|'+5+'|'+202211131140+'\\r\\n';\n",
       "        }, function (error) {\n",
       "        theEl.innerHTML = theEl.innerHTML+'10.0'+'||||||' +5+'|'+202211131140+'\\r\\n';\n",
       "    });\n",
       "    });\n",
       "    "
      ],
      "text/plain": [
       "<IPython.core.display.Javascript object>"
      ]
     },
     "metadata": {},
     "output_type": "display_data"
    },
    {
     "data": {
      "application/javascript": [
       "\n",
       "    var start_point = [57.635709, 39.882917];\n",
       "    var end_point = [55.568329, 37.596758];\n",
       "    ymaps.ready(function () {\n",
       "    var theEl=document.getElementById(\"output\");    \n",
       "    ymaps.route([start_point, end_point], {\n",
       "            mapStateAutoApply: false,\n",
       "            avoidTrafficJams: false,\n",
       "            multiRoute: false,\n",
       "            routingMode: \"auto\",\n",
       "            viaIndexes: []\n",
       "        }).then(function (route) {\n",
       "            var points = route.getWayPoints();  \n",
       "            theEl.innerHTML = theEl.innerHTML+'11.0'+'|'+start_point+'; '+end_point+'|Расстояние --'+route.getHumanLength() + '|'+route.getLength()+'|'+ route.getJamsTime() + '|'+ route.getTime()+ '|'+5+'|'+202211131140+'\\r\\n';\n",
       "        }, function (error) {\n",
       "        theEl.innerHTML = theEl.innerHTML+'11.0'+'||||||' +5+'|'+202211131140+'\\r\\n';\n",
       "    });\n",
       "    });\n",
       "    "
      ],
      "text/plain": [
       "<IPython.core.display.Javascript object>"
      ]
     },
     "metadata": {},
     "output_type": "display_data"
    },
    {
     "data": {
      "application/javascript": [
       "\n",
       "    var start_point = [56.11985, 40.361872];\n",
       "    var end_point = [54.781052, 35.926916];\n",
       "    ymaps.ready(function () {\n",
       "    var theEl=document.getElementById(\"output\");    \n",
       "    ymaps.route([start_point, end_point], {\n",
       "            mapStateAutoApply: false,\n",
       "            avoidTrafficJams: false,\n",
       "            multiRoute: false,\n",
       "            routingMode: \"auto\",\n",
       "            viaIndexes: []\n",
       "        }).then(function (route) {\n",
       "            var points = route.getWayPoints();  \n",
       "            theEl.innerHTML = theEl.innerHTML+'12.0'+'|'+start_point+'; '+end_point+'|Расстояние --'+route.getHumanLength() + '|'+route.getLength()+'|'+ route.getJamsTime() + '|'+ route.getTime()+ '|'+5+'|'+202211131140+'\\r\\n';\n",
       "        }, function (error) {\n",
       "        theEl.innerHTML = theEl.innerHTML+'12.0'+'||||||' +5+'|'+202211131140+'\\r\\n';\n",
       "    });\n",
       "    });\n",
       "    "
      ],
      "text/plain": [
       "<IPython.core.display.Javascript object>"
      ]
     },
     "metadata": {},
     "output_type": "display_data"
    },
    {
     "data": {
      "application/javascript": [
       "\n",
       "    var start_point = [51.718076, 36.132226];\n",
       "    var end_point = [54.76957, 32.070511];\n",
       "    ymaps.ready(function () {\n",
       "    var theEl=document.getElementById(\"output\");    \n",
       "    ymaps.route([start_point, end_point], {\n",
       "            mapStateAutoApply: false,\n",
       "            avoidTrafficJams: false,\n",
       "            multiRoute: false,\n",
       "            routingMode: \"auto\",\n",
       "            viaIndexes: []\n",
       "        }).then(function (route) {\n",
       "            var points = route.getWayPoints();  \n",
       "            theEl.innerHTML = theEl.innerHTML+'13.0'+'|'+start_point+'; '+end_point+'|Расстояние --'+route.getHumanLength() + '|'+route.getLength()+'|'+ route.getJamsTime() + '|'+ route.getTime()+ '|'+5+'|'+202211131140+'\\r\\n';\n",
       "        }, function (error) {\n",
       "        theEl.innerHTML = theEl.innerHTML+'13.0'+'||||||' +5+'|'+202211131140+'\\r\\n';\n",
       "    });\n",
       "    });\n",
       "    "
      ],
      "text/plain": [
       "<IPython.core.display.Javascript object>"
      ]
     },
     "metadata": {},
     "output_type": "display_data"
    },
    {
     "data": {
      "application/javascript": [
       "\n",
       "    var start_point = [57.635709, 39.882917];\n",
       "    var end_point = [55.916678, 37.759264];\n",
       "    ymaps.ready(function () {\n",
       "    var theEl=document.getElementById(\"output\");    \n",
       "    ymaps.route([start_point, end_point], {\n",
       "            mapStateAutoApply: false,\n",
       "            avoidTrafficJams: false,\n",
       "            multiRoute: false,\n",
       "            routingMode: \"auto\",\n",
       "            viaIndexes: []\n",
       "        }).then(function (route) {\n",
       "            var points = route.getWayPoints();  \n",
       "            theEl.innerHTML = theEl.innerHTML+'14.0'+'|'+start_point+'; '+end_point+'|Расстояние --'+route.getHumanLength() + '|'+route.getLength()+'|'+ route.getJamsTime() + '|'+ route.getTime()+ '|'+5+'|'+202211131140+'\\r\\n';\n",
       "        }, function (error) {\n",
       "        theEl.innerHTML = theEl.innerHTML+'14.0'+'||||||' +5+'|'+202211131140+'\\r\\n';\n",
       "    });\n",
       "    });\n",
       "    "
      ],
      "text/plain": [
       "<IPython.core.display.Javascript object>"
      ]
     },
     "metadata": {},
     "output_type": "display_data"
    },
    {
     "data": {
      "application/javascript": [
       "\n",
       "    var start_point = [56.971192, 40.974487];\n",
       "    var end_point = [56.816114, 35.989053];\n",
       "    ymaps.ready(function () {\n",
       "    var theEl=document.getElementById(\"output\");    \n",
       "    ymaps.route([start_point, end_point], {\n",
       "            mapStateAutoApply: false,\n",
       "            avoidTrafficJams: false,\n",
       "            multiRoute: false,\n",
       "            routingMode: \"auto\",\n",
       "            viaIndexes: []\n",
       "        }).then(function (route) {\n",
       "            var points = route.getWayPoints();  \n",
       "            theEl.innerHTML = theEl.innerHTML+'15.0'+'|'+start_point+'; '+end_point+'|Расстояние --'+route.getHumanLength() + '|'+route.getLength()+'|'+ route.getJamsTime() + '|'+ route.getTime()+ '|'+5+'|'+202211131140+'\\r\\n';\n",
       "        }, function (error) {\n",
       "        theEl.innerHTML = theEl.innerHTML+'15.0'+'||||||' +5+'|'+202211131140+'\\r\\n';\n",
       "    });\n",
       "    });\n",
       "    "
      ],
      "text/plain": [
       "<IPython.core.display.Javascript object>"
      ]
     },
     "metadata": {},
     "output_type": "display_data"
    },
    {
     "data": {
      "application/javascript": [
       "\n",
       "    var start_point = [56.322075, 44.009966];\n",
       "    var end_point = [56.997656, 41.013123];\n",
       "    ymaps.ready(function () {\n",
       "    var theEl=document.getElementById(\"output\");    \n",
       "    ymaps.route([start_point, end_point], {\n",
       "            mapStateAutoApply: false,\n",
       "            avoidTrafficJams: false,\n",
       "            multiRoute: false,\n",
       "            routingMode: \"auto\",\n",
       "            viaIndexes: []\n",
       "        }).then(function (route) {\n",
       "            var points = route.getWayPoints();  \n",
       "            theEl.innerHTML = theEl.innerHTML+'16.0'+'|'+start_point+'; '+end_point+'|Расстояние --'+route.getHumanLength() + '|'+route.getLength()+'|'+ route.getJamsTime() + '|'+ route.getTime()+ '|'+5+'|'+202211131140+'\\r\\n';\n",
       "        }, function (error) {\n",
       "        theEl.innerHTML = theEl.innerHTML+'16.0'+'||||||' +5+'|'+202211131140+'\\r\\n';\n",
       "    });\n",
       "    });\n",
       "    "
      ],
      "text/plain": [
       "<IPython.core.display.Javascript object>"
      ]
     },
     "metadata": {},
     "output_type": "display_data"
    },
    {
     "data": {
      "application/javascript": [
       "\n",
       "    var start_point = [52.719005, 41.451483];\n",
       "    var end_point = [54.589994, 39.541647];\n",
       "    ymaps.ready(function () {\n",
       "    var theEl=document.getElementById(\"output\");    \n",
       "    ymaps.route([start_point, end_point], {\n",
       "            mapStateAutoApply: false,\n",
       "            avoidTrafficJams: false,\n",
       "            multiRoute: false,\n",
       "            routingMode: \"auto\",\n",
       "            viaIndexes: []\n",
       "        }).then(function (route) {\n",
       "            var points = route.getWayPoints();  \n",
       "            theEl.innerHTML = theEl.innerHTML+'17.0'+'|'+start_point+'; '+end_point+'|Расстояние --'+route.getHumanLength() + '|'+route.getLength()+'|'+ route.getJamsTime() + '|'+ route.getTime()+ '|'+5+'|'+202211131140+'\\r\\n';\n",
       "        }, function (error) {\n",
       "        theEl.innerHTML = theEl.innerHTML+'17.0'+'||||||' +5+'|'+202211131140+'\\r\\n';\n",
       "    });\n",
       "    });\n",
       "    "
      ],
      "text/plain": [
       "<IPython.core.display.Javascript object>"
      ]
     },
     "metadata": {},
     "output_type": "display_data"
    },
    {
     "data": {
      "application/javascript": [
       "\n",
       "    var start_point = [54.776482, 32.016091];\n",
       "    var end_point = [52.129588, 34.497068];\n",
       "    ymaps.ready(function () {\n",
       "    var theEl=document.getElementById(\"output\");    \n",
       "    ymaps.route([start_point, end_point], {\n",
       "            mapStateAutoApply: false,\n",
       "            avoidTrafficJams: false,\n",
       "            multiRoute: false,\n",
       "            routingMode: \"auto\",\n",
       "            viaIndexes: []\n",
       "        }).then(function (route) {\n",
       "            var points = route.getWayPoints();  \n",
       "            theEl.innerHTML = theEl.innerHTML+'18.0'+'|'+start_point+'; '+end_point+'|Расстояние --'+route.getHumanLength() + '|'+route.getLength()+'|'+ route.getJamsTime() + '|'+ route.getTime()+ '|'+5+'|'+202211131140+'\\r\\n';\n",
       "        }, function (error) {\n",
       "        theEl.innerHTML = theEl.innerHTML+'18.0'+'||||||' +5+'|'+202211131140+'\\r\\n';\n",
       "    });\n",
       "    });\n",
       "    "
      ],
      "text/plain": [
       "<IPython.core.display.Javascript object>"
      ]
     },
     "metadata": {},
     "output_type": "display_data"
    },
    {
     "data": {
      "application/javascript": [
       "\n",
       "    var start_point = [56.971192, 40.974487];\n",
       "    var end_point = [54.898235, 38.078749];\n",
       "    ymaps.ready(function () {\n",
       "    var theEl=document.getElementById(\"output\");    \n",
       "    ymaps.route([start_point, end_point], {\n",
       "            mapStateAutoApply: false,\n",
       "            avoidTrafficJams: false,\n",
       "            multiRoute: false,\n",
       "            routingMode: \"auto\",\n",
       "            viaIndexes: []\n",
       "        }).then(function (route) {\n",
       "            var points = route.getWayPoints();  \n",
       "            theEl.innerHTML = theEl.innerHTML+'19.0'+'|'+start_point+'; '+end_point+'|Расстояние --'+route.getHumanLength() + '|'+route.getLength()+'|'+ route.getJamsTime() + '|'+ route.getTime()+ '|'+5+'|'+202211131140+'\\r\\n';\n",
       "        }, function (error) {\n",
       "        theEl.innerHTML = theEl.innerHTML+'19.0'+'||||||' +5+'|'+202211131140+'\\r\\n';\n",
       "    });\n",
       "    });\n",
       "    "
      ],
      "text/plain": [
       "<IPython.core.display.Javascript object>"
      ]
     },
     "metadata": {},
     "output_type": "display_data"
    },
    {
     "data": {
      "application/javascript": [
       "\n",
       "    var start_point = [57.635709, 39.882917];\n",
       "    var end_point = [56.967841, 41.966406];\n",
       "    ymaps.ready(function () {\n",
       "    var theEl=document.getElementById(\"output\");    \n",
       "    ymaps.route([start_point, end_point], {\n",
       "            mapStateAutoApply: false,\n",
       "            avoidTrafficJams: false,\n",
       "            multiRoute: false,\n",
       "            routingMode: \"auto\",\n",
       "            viaIndexes: []\n",
       "        }).then(function (route) {\n",
       "            var points = route.getWayPoints();  \n",
       "            theEl.innerHTML = theEl.innerHTML+'20.0'+'|'+start_point+'; '+end_point+'|Расстояние --'+route.getHumanLength() + '|'+route.getLength()+'|'+ route.getJamsTime() + '|'+ route.getTime()+ '|'+5+'|'+202211131140+'\\r\\n';\n",
       "        }, function (error) {\n",
       "        theEl.innerHTML = theEl.innerHTML+'20.0'+'||||||' +5+'|'+202211131140+'\\r\\n';\n",
       "    });\n",
       "    });\n",
       "    "
      ],
      "text/plain": [
       "<IPython.core.display.Javascript object>"
      ]
     },
     "metadata": {},
     "output_type": "display_data"
    },
    {
     "data": {
      "application/javascript": [
       "\n",
       "    var start_point = [56.11985, 40.361872];\n",
       "    var end_point = [54.193702, 37.612039];\n",
       "    ymaps.ready(function () {\n",
       "    var theEl=document.getElementById(\"output\");    \n",
       "    ymaps.route([start_point, end_point], {\n",
       "            mapStateAutoApply: false,\n",
       "            avoidTrafficJams: false,\n",
       "            multiRoute: false,\n",
       "            routingMode: \"auto\",\n",
       "            viaIndexes: []\n",
       "        }).then(function (route) {\n",
       "            var points = route.getWayPoints();  \n",
       "            theEl.innerHTML = theEl.innerHTML+'21.0'+'|'+start_point+'; '+end_point+'|Расстояние --'+route.getHumanLength() + '|'+route.getLength()+'|'+ route.getJamsTime() + '|'+ route.getTime()+ '|'+5+'|'+202211131140+'\\r\\n';\n",
       "        }, function (error) {\n",
       "        theEl.innerHTML = theEl.innerHTML+'21.0'+'||||||' +5+'|'+202211131140+'\\r\\n';\n",
       "    });\n",
       "    });\n",
       "    "
      ],
      "text/plain": [
       "<IPython.core.display.Javascript object>"
      ]
     },
     "metadata": {},
     "output_type": "display_data"
    },
    {
     "data": {
      "application/javascript": [
       "\n",
       "    var start_point = [56.11985, 40.361872];\n",
       "    var end_point = [54.203525, 37.590237];\n",
       "    ymaps.ready(function () {\n",
       "    var theEl=document.getElementById(\"output\");    \n",
       "    ymaps.route([start_point, end_point], {\n",
       "            mapStateAutoApply: false,\n",
       "            avoidTrafficJams: false,\n",
       "            multiRoute: false,\n",
       "            routingMode: \"auto\",\n",
       "            viaIndexes: []\n",
       "        }).then(function (route) {\n",
       "            var points = route.getWayPoints();  \n",
       "            theEl.innerHTML = theEl.innerHTML+'22.0'+'|'+start_point+'; '+end_point+'|Расстояние --'+route.getHumanLength() + '|'+route.getLength()+'|'+ route.getJamsTime() + '|'+ route.getTime()+ '|'+5+'|'+202211131140+'\\r\\n';\n",
       "        }, function (error) {\n",
       "        theEl.innerHTML = theEl.innerHTML+'22.0'+'||||||' +5+'|'+202211131140+'\\r\\n';\n",
       "    });\n",
       "    });\n",
       "    "
      ],
      "text/plain": [
       "<IPython.core.display.Javascript object>"
      ]
     },
     "metadata": {},
     "output_type": "display_data"
    },
    {
     "data": {
      "application/javascript": [
       "\n",
       "    var start_point = [56.11985, 40.361872];\n",
       "    var end_point = [54.203856, 37.515703];\n",
       "    ymaps.ready(function () {\n",
       "    var theEl=document.getElementById(\"output\");    \n",
       "    ymaps.route([start_point, end_point], {\n",
       "            mapStateAutoApply: false,\n",
       "            avoidTrafficJams: false,\n",
       "            multiRoute: false,\n",
       "            routingMode: \"auto\",\n",
       "            viaIndexes: []\n",
       "        }).then(function (route) {\n",
       "            var points = route.getWayPoints();  \n",
       "            theEl.innerHTML = theEl.innerHTML+'23.0'+'|'+start_point+'; '+end_point+'|Расстояние --'+route.getHumanLength() + '|'+route.getLength()+'|'+ route.getJamsTime() + '|'+ route.getTime()+ '|'+5+'|'+202211131140+'\\r\\n';\n",
       "        }, function (error) {\n",
       "        theEl.innerHTML = theEl.innerHTML+'23.0'+'||||||' +5+'|'+202211131140+'\\r\\n';\n",
       "    });\n",
       "    });\n",
       "    "
      ],
      "text/plain": [
       "<IPython.core.display.Javascript object>"
      ]
     },
     "metadata": {},
     "output_type": "display_data"
    },
    {
     "data": {
      "application/javascript": [
       "\n",
       "    var start_point = [52.719005, 41.451483];\n",
       "    var end_point = [54.474303, 38.727863];\n",
       "    ymaps.ready(function () {\n",
       "    var theEl=document.getElementById(\"output\");    \n",
       "    ymaps.route([start_point, end_point], {\n",
       "            mapStateAutoApply: false,\n",
       "            avoidTrafficJams: false,\n",
       "            multiRoute: false,\n",
       "            routingMode: \"auto\",\n",
       "            viaIndexes: []\n",
       "        }).then(function (route) {\n",
       "            var points = route.getWayPoints();  \n",
       "            theEl.innerHTML = theEl.innerHTML+'24.0'+'|'+start_point+'; '+end_point+'|Расстояние --'+route.getHumanLength() + '|'+route.getLength()+'|'+ route.getJamsTime() + '|'+ route.getTime()+ '|'+5+'|'+202211131140+'\\r\\n';\n",
       "        }, function (error) {\n",
       "        theEl.innerHTML = theEl.innerHTML+'24.0'+'||||||' +5+'|'+202211131140+'\\r\\n';\n",
       "    });\n",
       "    });\n",
       "    "
      ],
      "text/plain": [
       "<IPython.core.display.Javascript object>"
      ]
     },
     "metadata": {},
     "output_type": "display_data"
    },
    {
     "data": {
      "application/javascript": [
       "\n",
       "    var start_point = [52.719005, 41.451483];\n",
       "    var end_point = [54.47357, 38.727001];\n",
       "    ymaps.ready(function () {\n",
       "    var theEl=document.getElementById(\"output\");    \n",
       "    ymaps.route([start_point, end_point], {\n",
       "            mapStateAutoApply: false,\n",
       "            avoidTrafficJams: false,\n",
       "            multiRoute: false,\n",
       "            routingMode: \"auto\",\n",
       "            viaIndexes: []\n",
       "        }).then(function (route) {\n",
       "            var points = route.getWayPoints();  \n",
       "            theEl.innerHTML = theEl.innerHTML+'25.0'+'|'+start_point+'; '+end_point+'|Расстояние --'+route.getHumanLength() + '|'+route.getLength()+'|'+ route.getJamsTime() + '|'+ route.getTime()+ '|'+5+'|'+202211131140+'\\r\\n';\n",
       "        }, function (error) {\n",
       "        theEl.innerHTML = theEl.innerHTML+'25.0'+'||||||' +5+'|'+202211131140+'\\r\\n';\n",
       "    });\n",
       "    });\n",
       "    "
      ],
      "text/plain": [
       "<IPython.core.display.Javascript object>"
      ]
     },
     "metadata": {},
     "output_type": "display_data"
    },
    {
     "data": {
      "application/javascript": [
       "\n",
       "    var start_point = [56.11985, 40.361872];\n",
       "    var end_point = [54.043499, 38.250813];\n",
       "    ymaps.ready(function () {\n",
       "    var theEl=document.getElementById(\"output\");    \n",
       "    ymaps.route([start_point, end_point], {\n",
       "            mapStateAutoApply: false,\n",
       "            avoidTrafficJams: false,\n",
       "            multiRoute: false,\n",
       "            routingMode: \"auto\",\n",
       "            viaIndexes: []\n",
       "        }).then(function (route) {\n",
       "            var points = route.getWayPoints();  \n",
       "            theEl.innerHTML = theEl.innerHTML+'26.0'+'|'+start_point+'; '+end_point+'|Расстояние --'+route.getHumanLength() + '|'+route.getLength()+'|'+ route.getJamsTime() + '|'+ route.getTime()+ '|'+5+'|'+202211131140+'\\r\\n';\n",
       "        }, function (error) {\n",
       "        theEl.innerHTML = theEl.innerHTML+'26.0'+'||||||' +5+'|'+202211131140+'\\r\\n';\n",
       "    });\n",
       "    });\n",
       "    "
      ],
      "text/plain": [
       "<IPython.core.display.Javascript object>"
      ]
     },
     "metadata": {},
     "output_type": "display_data"
    },
    {
     "data": {
      "application/javascript": [
       "\n",
       "    var start_point = [56.11985, 40.361872];\n",
       "    var end_point = [54.042431, 38.248836];\n",
       "    ymaps.ready(function () {\n",
       "    var theEl=document.getElementById(\"output\");    \n",
       "    ymaps.route([start_point, end_point], {\n",
       "            mapStateAutoApply: false,\n",
       "            avoidTrafficJams: false,\n",
       "            multiRoute: false,\n",
       "            routingMode: \"auto\",\n",
       "            viaIndexes: []\n",
       "        }).then(function (route) {\n",
       "            var points = route.getWayPoints();  \n",
       "            theEl.innerHTML = theEl.innerHTML+'27.0'+'|'+start_point+'; '+end_point+'|Расстояние --'+route.getHumanLength() + '|'+route.getLength()+'|'+ route.getJamsTime() + '|'+ route.getTime()+ '|'+5+'|'+202211131140+'\\r\\n';\n",
       "        }, function (error) {\n",
       "        theEl.innerHTML = theEl.innerHTML+'27.0'+'||||||' +5+'|'+202211131140+'\\r\\n';\n",
       "    });\n",
       "    });\n",
       "    "
      ],
      "text/plain": [
       "<IPython.core.display.Javascript object>"
      ]
     },
     "metadata": {},
     "output_type": "display_data"
    },
    {
     "data": {
      "application/javascript": [
       "\n",
       "    var start_point = [51.718076, 36.132226];\n",
       "    var end_point = [53.708027, 37.300997];\n",
       "    ymaps.ready(function () {\n",
       "    var theEl=document.getElementById(\"output\");    \n",
       "    ymaps.route([start_point, end_point], {\n",
       "            mapStateAutoApply: false,\n",
       "            avoidTrafficJams: false,\n",
       "            multiRoute: false,\n",
       "            routingMode: \"auto\",\n",
       "            viaIndexes: []\n",
       "        }).then(function (route) {\n",
       "            var points = route.getWayPoints();  \n",
       "            theEl.innerHTML = theEl.innerHTML+'28.0'+'|'+start_point+'; '+end_point+'|Расстояние --'+route.getHumanLength() + '|'+route.getLength()+'|'+ route.getJamsTime() + '|'+ route.getTime()+ '|'+5+'|'+202211131140+'\\r\\n';\n",
       "        }, function (error) {\n",
       "        theEl.innerHTML = theEl.innerHTML+'28.0'+'||||||' +5+'|'+202211131140+'\\r\\n';\n",
       "    });\n",
       "    });\n",
       "    "
      ],
      "text/plain": [
       "<IPython.core.display.Javascript object>"
      ]
     },
     "metadata": {},
     "output_type": "display_data"
    },
    {
     "data": {
      "application/javascript": [
       "\n",
       "    var start_point = [57.635709, 39.882917];\n",
       "    var end_point = [55.728398, 38.034382];\n",
       "    ymaps.ready(function () {\n",
       "    var theEl=document.getElementById(\"output\");    \n",
       "    ymaps.route([start_point, end_point], {\n",
       "            mapStateAutoApply: false,\n",
       "            avoidTrafficJams: false,\n",
       "            multiRoute: false,\n",
       "            routingMode: \"auto\",\n",
       "            viaIndexes: []\n",
       "        }).then(function (route) {\n",
       "            var points = route.getWayPoints();  \n",
       "            theEl.innerHTML = theEl.innerHTML+'29.0'+'|'+start_point+'; '+end_point+'|Расстояние --'+route.getHumanLength() + '|'+route.getLength()+'|'+ route.getJamsTime() + '|'+ route.getTime()+ '|'+5+'|'+202211131140+'\\r\\n';\n",
       "        }, function (error) {\n",
       "        theEl.innerHTML = theEl.innerHTML+'29.0'+'||||||' +5+'|'+202211131140+'\\r\\n';\n",
       "    });\n",
       "    });\n",
       "    "
      ],
      "text/plain": [
       "<IPython.core.display.Javascript object>"
      ]
     },
     "metadata": {},
     "output_type": "display_data"
    },
    {
     "data": {
      "application/javascript": [
       "\n",
       "    var start_point = [56.322075, 44.009966];\n",
       "    var end_point = [56.969038, 40.939479];\n",
       "    ymaps.ready(function () {\n",
       "    var theEl=document.getElementById(\"output\");    \n",
       "    ymaps.route([start_point, end_point], {\n",
       "            mapStateAutoApply: false,\n",
       "            avoidTrafficJams: false,\n",
       "            multiRoute: false,\n",
       "            routingMode: \"auto\",\n",
       "            viaIndexes: []\n",
       "        }).then(function (route) {\n",
       "            var points = route.getWayPoints();  \n",
       "            theEl.innerHTML = theEl.innerHTML+'30.0'+'|'+start_point+'; '+end_point+'|Расстояние --'+route.getHumanLength() + '|'+route.getLength()+'|'+ route.getJamsTime() + '|'+ route.getTime()+ '|'+5+'|'+202211131140+'\\r\\n';\n",
       "        }, function (error) {\n",
       "        theEl.innerHTML = theEl.innerHTML+'30.0'+'||||||' +5+'|'+202211131140+'\\r\\n';\n",
       "    });\n",
       "    });\n",
       "    "
      ],
      "text/plain": [
       "<IPython.core.display.Javascript object>"
      ]
     },
     "metadata": {},
     "output_type": "display_data"
    },
    {
     "data": {
      "application/javascript": [
       "\n",
       "    var start_point = [56.322075, 44.009966];\n",
       "    var end_point = [56.974003, 40.929697];\n",
       "    ymaps.ready(function () {\n",
       "    var theEl=document.getElementById(\"output\");    \n",
       "    ymaps.route([start_point, end_point], {\n",
       "            mapStateAutoApply: false,\n",
       "            avoidTrafficJams: false,\n",
       "            multiRoute: false,\n",
       "            routingMode: \"auto\",\n",
       "            viaIndexes: []\n",
       "        }).then(function (route) {\n",
       "            var points = route.getWayPoints();  \n",
       "            theEl.innerHTML = theEl.innerHTML+'31.0'+'|'+start_point+'; '+end_point+'|Расстояние --'+route.getHumanLength() + '|'+route.getLength()+'|'+ route.getJamsTime() + '|'+ route.getTime()+ '|'+5+'|'+202211131140+'\\r\\n';\n",
       "        }, function (error) {\n",
       "        theEl.innerHTML = theEl.innerHTML+'31.0'+'||||||' +5+'|'+202211131140+'\\r\\n';\n",
       "    });\n",
       "    });\n",
       "    "
      ],
      "text/plain": [
       "<IPython.core.display.Javascript object>"
      ]
     },
     "metadata": {},
     "output_type": "display_data"
    },
    {
     "data": {
      "application/javascript": [
       "\n",
       "    var start_point = [54.776482, 32.016091];\n",
       "    var end_point = [55.121216, 36.571421];\n",
       "    ymaps.ready(function () {\n",
       "    var theEl=document.getElementById(\"output\");    \n",
       "    ymaps.route([start_point, end_point], {\n",
       "            mapStateAutoApply: false,\n",
       "            avoidTrafficJams: false,\n",
       "            multiRoute: false,\n",
       "            routingMode: \"auto\",\n",
       "            viaIndexes: []\n",
       "        }).then(function (route) {\n",
       "            var points = route.getWayPoints();  \n",
       "            theEl.innerHTML = theEl.innerHTML+'32.0'+'|'+start_point+'; '+end_point+'|Расстояние --'+route.getHumanLength() + '|'+route.getLength()+'|'+ route.getJamsTime() + '|'+ route.getTime()+ '|'+5+'|'+202211131140+'\\r\\n';\n",
       "        }, function (error) {\n",
       "        theEl.innerHTML = theEl.innerHTML+'32.0'+'||||||' +5+'|'+202211131140+'\\r\\n';\n",
       "    });\n",
       "    });\n",
       "    "
      ],
      "text/plain": [
       "<IPython.core.display.Javascript object>"
      ]
     },
     "metadata": {},
     "output_type": "display_data"
    },
    {
     "data": {
      "application/javascript": [
       "\n",
       "    var start_point = [57.635709, 39.882917];\n",
       "    var end_point = [55.923942, 38.001405];\n",
       "    ymaps.ready(function () {\n",
       "    var theEl=document.getElementById(\"output\");    \n",
       "    ymaps.route([start_point, end_point], {\n",
       "            mapStateAutoApply: false,\n",
       "            avoidTrafficJams: false,\n",
       "            multiRoute: false,\n",
       "            routingMode: \"auto\",\n",
       "            viaIndexes: []\n",
       "        }).then(function (route) {\n",
       "            var points = route.getWayPoints();  \n",
       "            theEl.innerHTML = theEl.innerHTML+'33.0'+'|'+start_point+'; '+end_point+'|Расстояние --'+route.getHumanLength() + '|'+route.getLength()+'|'+ route.getJamsTime() + '|'+ route.getTime()+ '|'+5+'|'+202211131140+'\\r\\n';\n",
       "        }, function (error) {\n",
       "        theEl.innerHTML = theEl.innerHTML+'33.0'+'||||||' +5+'|'+202211131140+'\\r\\n';\n",
       "    });\n",
       "    });\n",
       "    "
      ],
      "text/plain": [
       "<IPython.core.display.Javascript object>"
      ]
     },
     "metadata": {},
     "output_type": "display_data"
    },
    {
     "data": {
      "application/javascript": [
       "\n",
       "    var start_point = [56.971192, 40.974487];\n",
       "    var end_point = [55.950539, 37.106413];\n",
       "    ymaps.ready(function () {\n",
       "    var theEl=document.getElementById(\"output\");    \n",
       "    ymaps.route([start_point, end_point], {\n",
       "            mapStateAutoApply: false,\n",
       "            avoidTrafficJams: false,\n",
       "            multiRoute: false,\n",
       "            routingMode: \"auto\",\n",
       "            viaIndexes: []\n",
       "        }).then(function (route) {\n",
       "            var points = route.getWayPoints();  \n",
       "            theEl.innerHTML = theEl.innerHTML+'34.0'+'|'+start_point+'; '+end_point+'|Расстояние --'+route.getHumanLength() + '|'+route.getLength()+'|'+ route.getJamsTime() + '|'+ route.getTime()+ '|'+5+'|'+202211131140+'\\r\\n';\n",
       "        }, function (error) {\n",
       "        theEl.innerHTML = theEl.innerHTML+'34.0'+'||||||' +5+'|'+202211131140+'\\r\\n';\n",
       "    });\n",
       "    });\n",
       "    "
      ],
      "text/plain": [
       "<IPython.core.display.Javascript object>"
      ]
     },
     "metadata": {},
     "output_type": "display_data"
    },
    {
     "data": {
      "application/javascript": [
       "\n",
       "    var start_point = [57.635709, 39.882917];\n",
       "    var end_point = [55.531132, 38.874756];\n",
       "    ymaps.ready(function () {\n",
       "    var theEl=document.getElementById(\"output\");    \n",
       "    ymaps.route([start_point, end_point], {\n",
       "            mapStateAutoApply: false,\n",
       "            avoidTrafficJams: false,\n",
       "            multiRoute: false,\n",
       "            routingMode: \"auto\",\n",
       "            viaIndexes: []\n",
       "        }).then(function (route) {\n",
       "            var points = route.getWayPoints();  \n",
       "            theEl.innerHTML = theEl.innerHTML+'35.0'+'|'+start_point+'; '+end_point+'|Расстояние --'+route.getHumanLength() + '|'+route.getLength()+'|'+ route.getJamsTime() + '|'+ route.getTime()+ '|'+5+'|'+202211131140+'\\r\\n';\n",
       "        }, function (error) {\n",
       "        theEl.innerHTML = theEl.innerHTML+'35.0'+'||||||' +5+'|'+202211131140+'\\r\\n';\n",
       "    });\n",
       "    });\n",
       "    "
      ],
      "text/plain": [
       "<IPython.core.display.Javascript object>"
      ]
     },
     "metadata": {},
     "output_type": "display_data"
    },
    {
     "data": {
      "application/javascript": [
       "\n",
       "    var start_point = [56.971192, 40.974487];\n",
       "    var end_point = [56.821814, 35.976656];\n",
       "    ymaps.ready(function () {\n",
       "    var theEl=document.getElementById(\"output\");    \n",
       "    ymaps.route([start_point, end_point], {\n",
       "            mapStateAutoApply: false,\n",
       "            avoidTrafficJams: false,\n",
       "            multiRoute: false,\n",
       "            routingMode: \"auto\",\n",
       "            viaIndexes: []\n",
       "        }).then(function (route) {\n",
       "            var points = route.getWayPoints();  \n",
       "            theEl.innerHTML = theEl.innerHTML+'36.0'+'|'+start_point+'; '+end_point+'|Расстояние --'+route.getHumanLength() + '|'+route.getLength()+'|'+ route.getJamsTime() + '|'+ route.getTime()+ '|'+5+'|'+202211131140+'\\r\\n';\n",
       "        }, function (error) {\n",
       "        theEl.innerHTML = theEl.innerHTML+'36.0'+'||||||' +5+'|'+202211131140+'\\r\\n';\n",
       "    });\n",
       "    });\n",
       "    "
      ],
      "text/plain": [
       "<IPython.core.display.Javascript object>"
      ]
     },
     "metadata": {},
     "output_type": "display_data"
    },
    {
     "data": {
      "application/javascript": [
       "\n",
       "    var start_point = [50.994147, 39.502786];\n",
       "    var end_point = [47.291017, 39.852814];\n",
       "    ymaps.ready(function () {\n",
       "    var theEl=document.getElementById(\"output\");    \n",
       "    ymaps.route([start_point, end_point], {\n",
       "            mapStateAutoApply: false,\n",
       "            avoidTrafficJams: false,\n",
       "            multiRoute: false,\n",
       "            routingMode: \"auto\",\n",
       "            viaIndexes: []\n",
       "        }).then(function (route) {\n",
       "            var points = route.getWayPoints();  \n",
       "            theEl.innerHTML = theEl.innerHTML+'37.0'+'|'+start_point+'; '+end_point+'|Расстояние --'+route.getHumanLength() + '|'+route.getLength()+'|'+ route.getJamsTime() + '|'+ route.getTime()+ '|'+5+'|'+202211131140+'\\r\\n';\n",
       "        }, function (error) {\n",
       "        theEl.innerHTML = theEl.innerHTML+'37.0'+'||||||' +5+'|'+202211131140+'\\r\\n';\n",
       "    });\n",
       "    });\n",
       "    "
      ],
      "text/plain": [
       "<IPython.core.display.Javascript object>"
      ]
     },
     "metadata": {},
     "output_type": "display_data"
    },
    {
     "data": {
      "application/javascript": [
       "\n",
       "    var start_point = [51.53317, 46.016039];\n",
       "    var end_point = [53.231031, 50.59512];\n",
       "    ymaps.ready(function () {\n",
       "    var theEl=document.getElementById(\"output\");    \n",
       "    ymaps.route([start_point, end_point], {\n",
       "            mapStateAutoApply: false,\n",
       "            avoidTrafficJams: false,\n",
       "            multiRoute: false,\n",
       "            routingMode: \"auto\",\n",
       "            viaIndexes: []\n",
       "        }).then(function (route) {\n",
       "            var points = route.getWayPoints();  \n",
       "            theEl.innerHTML = theEl.innerHTML+'38.0'+'|'+start_point+'; '+end_point+'|Расстояние --'+route.getHumanLength() + '|'+route.getLength()+'|'+ route.getJamsTime() + '|'+ route.getTime()+ '|'+5+'|'+202211131140+'\\r\\n';\n",
       "        }, function (error) {\n",
       "        theEl.innerHTML = theEl.innerHTML+'38.0'+'||||||' +5+'|'+202211131140+'\\r\\n';\n",
       "    });\n",
       "    });\n",
       "    "
      ],
      "text/plain": [
       "<IPython.core.display.Javascript object>"
      ]
     },
     "metadata": {},
     "output_type": "display_data"
    },
    {
     "data": {
      "application/javascript": [
       "\n",
       "    var start_point = [55.159912, 61.398951];\n",
       "    var end_point = [54.941901, 82.916459];\n",
       "    ymaps.ready(function () {\n",
       "    var theEl=document.getElementById(\"output\");    \n",
       "    ymaps.route([start_point, end_point], {\n",
       "            mapStateAutoApply: false,\n",
       "            avoidTrafficJams: false,\n",
       "            multiRoute: false,\n",
       "            routingMode: \"auto\",\n",
       "            viaIndexes: []\n",
       "        }).then(function (route) {\n",
       "            var points = route.getWayPoints();  \n",
       "            theEl.innerHTML = theEl.innerHTML+'39.0'+'|'+start_point+'; '+end_point+'|Расстояние --'+route.getHumanLength() + '|'+route.getLength()+'|'+ route.getJamsTime() + '|'+ route.getTime()+ '|'+5+'|'+202211131140+'\\r\\n';\n",
       "        }, function (error) {\n",
       "        theEl.innerHTML = theEl.innerHTML+'39.0'+'||||||' +5+'|'+202211131140+'\\r\\n';\n",
       "    });\n",
       "    });\n",
       "    "
      ],
      "text/plain": [
       "<IPython.core.display.Javascript object>"
      ]
     },
     "metadata": {},
     "output_type": "display_data"
    },
    {
     "data": {
      "application/javascript": [
       "\n",
       "    var start_point = [56.971192, 40.974487];\n",
       "    var end_point = [56.835446, 35.945287];\n",
       "    ymaps.ready(function () {\n",
       "    var theEl=document.getElementById(\"output\");    \n",
       "    ymaps.route([start_point, end_point], {\n",
       "            mapStateAutoApply: false,\n",
       "            avoidTrafficJams: false,\n",
       "            multiRoute: false,\n",
       "            routingMode: \"auto\",\n",
       "            viaIndexes: []\n",
       "        }).then(function (route) {\n",
       "            var points = route.getWayPoints();  \n",
       "            theEl.innerHTML = theEl.innerHTML+'40.0'+'|'+start_point+'; '+end_point+'|Расстояние --'+route.getHumanLength() + '|'+route.getLength()+'|'+ route.getJamsTime() + '|'+ route.getTime()+ '|'+5+'|'+202211131140+'\\r\\n';\n",
       "        }, function (error) {\n",
       "        theEl.innerHTML = theEl.innerHTML+'40.0'+'||||||' +5+'|'+202211131140+'\\r\\n';\n",
       "    });\n",
       "    });\n",
       "    "
      ],
      "text/plain": [
       "<IPython.core.display.Javascript object>"
      ]
     },
     "metadata": {},
     "output_type": "display_data"
    },
    {
     "data": {
      "application/javascript": [
       "\n",
       "    var start_point = [56.11985, 40.361872];\n",
       "    var end_point = [57.440839, 42.136745];\n",
       "    ymaps.ready(function () {\n",
       "    var theEl=document.getElementById(\"output\");    \n",
       "    ymaps.route([start_point, end_point], {\n",
       "            mapStateAutoApply: false,\n",
       "            avoidTrafficJams: false,\n",
       "            multiRoute: false,\n",
       "            routingMode: \"auto\",\n",
       "            viaIndexes: []\n",
       "        }).then(function (route) {\n",
       "            var points = route.getWayPoints();  \n",
       "            theEl.innerHTML = theEl.innerHTML+'41.0'+'|'+start_point+'; '+end_point+'|Расстояние --'+route.getHumanLength() + '|'+route.getLength()+'|'+ route.getJamsTime() + '|'+ route.getTime()+ '|'+5+'|'+202211131140+'\\r\\n';\n",
       "        }, function (error) {\n",
       "        theEl.innerHTML = theEl.innerHTML+'41.0'+'||||||' +5+'|'+202211131140+'\\r\\n';\n",
       "    });\n",
       "    });\n",
       "    "
      ],
      "text/plain": [
       "<IPython.core.display.Javascript object>"
      ]
     },
     "metadata": {},
     "output_type": "display_data"
    },
    {
     "data": {
      "application/javascript": [
       "\n",
       "    var start_point = [56.11985, 40.361872];\n",
       "    var end_point = [54.188228, 37.542392];\n",
       "    ymaps.ready(function () {\n",
       "    var theEl=document.getElementById(\"output\");    \n",
       "    ymaps.route([start_point, end_point], {\n",
       "            mapStateAutoApply: false,\n",
       "            avoidTrafficJams: false,\n",
       "            multiRoute: false,\n",
       "            routingMode: \"auto\",\n",
       "            viaIndexes: []\n",
       "        }).then(function (route) {\n",
       "            var points = route.getWayPoints();  \n",
       "            theEl.innerHTML = theEl.innerHTML+'42.0'+'|'+start_point+'; '+end_point+'|Расстояние --'+route.getHumanLength() + '|'+route.getLength()+'|'+ route.getJamsTime() + '|'+ route.getTime()+ '|'+5+'|'+202211131140+'\\r\\n';\n",
       "        }, function (error) {\n",
       "        theEl.innerHTML = theEl.innerHTML+'42.0'+'||||||' +5+'|'+202211131140+'\\r\\n';\n",
       "    });\n",
       "    });\n",
       "    "
      ],
      "text/plain": [
       "<IPython.core.display.Javascript object>"
      ]
     },
     "metadata": {},
     "output_type": "display_data"
    },
    {
     "data": {
      "application/javascript": [
       "\n",
       "    var start_point = [54.776482, 32.016091];\n",
       "    var end_point = [55.598217, 36.46984];\n",
       "    ymaps.ready(function () {\n",
       "    var theEl=document.getElementById(\"output\");    \n",
       "    ymaps.route([start_point, end_point], {\n",
       "            mapStateAutoApply: false,\n",
       "            avoidTrafficJams: false,\n",
       "            multiRoute: false,\n",
       "            routingMode: \"auto\",\n",
       "            viaIndexes: []\n",
       "        }).then(function (route) {\n",
       "            var points = route.getWayPoints();  \n",
       "            theEl.innerHTML = theEl.innerHTML+'43.0'+'|'+start_point+'; '+end_point+'|Расстояние --'+route.getHumanLength() + '|'+route.getLength()+'|'+ route.getJamsTime() + '|'+ route.getTime()+ '|'+5+'|'+202211131140+'\\r\\n';\n",
       "        }, function (error) {\n",
       "        theEl.innerHTML = theEl.innerHTML+'43.0'+'||||||' +5+'|'+202211131140+'\\r\\n';\n",
       "    });\n",
       "    });\n",
       "    "
      ],
      "text/plain": [
       "<IPython.core.display.Javascript object>"
      ]
     },
     "metadata": {},
     "output_type": "display_data"
    },
    {
     "data": {
      "application/javascript": [
       "\n",
       "    var start_point = [51.718076, 36.132226];\n",
       "    var end_point = [54.33941, 34.548056];\n",
       "    ymaps.ready(function () {\n",
       "    var theEl=document.getElementById(\"output\");    \n",
       "    ymaps.route([start_point, end_point], {\n",
       "            mapStateAutoApply: false,\n",
       "            avoidTrafficJams: false,\n",
       "            multiRoute: false,\n",
       "            routingMode: \"auto\",\n",
       "            viaIndexes: []\n",
       "        }).then(function (route) {\n",
       "            var points = route.getWayPoints();  \n",
       "            theEl.innerHTML = theEl.innerHTML+'44.0'+'|'+start_point+'; '+end_point+'|Расстояние --'+route.getHumanLength() + '|'+route.getLength()+'|'+ route.getJamsTime() + '|'+ route.getTime()+ '|'+5+'|'+202211131140+'\\r\\n';\n",
       "        }, function (error) {\n",
       "        theEl.innerHTML = theEl.innerHTML+'44.0'+'||||||' +5+'|'+202211131140+'\\r\\n';\n",
       "    });\n",
       "    });\n",
       "    "
      ],
      "text/plain": [
       "<IPython.core.display.Javascript object>"
      ]
     },
     "metadata": {},
     "output_type": "display_data"
    },
    {
     "data": {
      "application/javascript": [
       "\n",
       "    var start_point = [55.773373, 37.605786];\n",
       "    var end_point = [53.928148, 34.556698];\n",
       "    ymaps.ready(function () {\n",
       "    var theEl=document.getElementById(\"output\");    \n",
       "    ymaps.route([start_point, end_point], {\n",
       "            mapStateAutoApply: false,\n",
       "            avoidTrafficJams: false,\n",
       "            multiRoute: false,\n",
       "            routingMode: \"auto\",\n",
       "            viaIndexes: []\n",
       "        }).then(function (route) {\n",
       "            var points = route.getWayPoints();  \n",
       "            theEl.innerHTML = theEl.innerHTML+'45.0'+'|'+start_point+'; '+end_point+'|Расстояние --'+route.getHumanLength() + '|'+route.getLength()+'|'+ route.getJamsTime() + '|'+ route.getTime()+ '|'+5+'|'+202211131140+'\\r\\n';\n",
       "        }, function (error) {\n",
       "        theEl.innerHTML = theEl.innerHTML+'45.0'+'||||||' +5+'|'+202211131140+'\\r\\n';\n",
       "    });\n",
       "    });\n",
       "    "
      ],
      "text/plain": [
       "<IPython.core.display.Javascript object>"
      ]
     },
     "metadata": {},
     "output_type": "display_data"
    },
    {
     "data": {
      "application/javascript": [
       "\n",
       "    var start_point = [51.718076, 36.132226];\n",
       "    var end_point = [54.33941, 34.548056];\n",
       "    ymaps.ready(function () {\n",
       "    var theEl=document.getElementById(\"output\");    \n",
       "    ymaps.route([start_point, end_point], {\n",
       "            mapStateAutoApply: false,\n",
       "            avoidTrafficJams: false,\n",
       "            multiRoute: false,\n",
       "            routingMode: \"auto\",\n",
       "            viaIndexes: []\n",
       "        }).then(function (route) {\n",
       "            var points = route.getWayPoints();  \n",
       "            theEl.innerHTML = theEl.innerHTML+'46.0'+'|'+start_point+'; '+end_point+'|Расстояние --'+route.getHumanLength() + '|'+route.getLength()+'|'+ route.getJamsTime() + '|'+ route.getTime()+ '|'+5+'|'+202211131140+'\\r\\n';\n",
       "        }, function (error) {\n",
       "        theEl.innerHTML = theEl.innerHTML+'46.0'+'||||||' +5+'|'+202211131140+'\\r\\n';\n",
       "    });\n",
       "    });\n",
       "    "
      ],
      "text/plain": [
       "<IPython.core.display.Javascript object>"
      ]
     },
     "metadata": {},
     "output_type": "display_data"
    },
    {
     "data": {
      "application/javascript": [
       "\n",
       "    var start_point = [51.718076, 36.132226];\n",
       "    var end_point = [54.069022, 34.228489];\n",
       "    ymaps.ready(function () {\n",
       "    var theEl=document.getElementById(\"output\");    \n",
       "    ymaps.route([start_point, end_point], {\n",
       "            mapStateAutoApply: false,\n",
       "            avoidTrafficJams: false,\n",
       "            multiRoute: false,\n",
       "            routingMode: \"auto\",\n",
       "            viaIndexes: []\n",
       "        }).then(function (route) {\n",
       "            var points = route.getWayPoints();  \n",
       "            theEl.innerHTML = theEl.innerHTML+'47.0'+'|'+start_point+'; '+end_point+'|Расстояние --'+route.getHumanLength() + '|'+route.getLength()+'|'+ route.getJamsTime() + '|'+ route.getTime()+ '|'+5+'|'+202211131140+'\\r\\n';\n",
       "        }, function (error) {\n",
       "        theEl.innerHTML = theEl.innerHTML+'47.0'+'||||||' +5+'|'+202211131140+'\\r\\n';\n",
       "    });\n",
       "    });\n",
       "    "
      ],
      "text/plain": [
       "<IPython.core.display.Javascript object>"
      ]
     },
     "metadata": {},
     "output_type": "display_data"
    },
    {
     "data": {
      "application/javascript": [
       "\n",
       "    var start_point = [54.515377, 36.255241];\n",
       "    var end_point = [56.316129, 38.132532];\n",
       "    ymaps.ready(function () {\n",
       "    var theEl=document.getElementById(\"output\");    \n",
       "    ymaps.route([start_point, end_point], {\n",
       "            mapStateAutoApply: false,\n",
       "            avoidTrafficJams: false,\n",
       "            multiRoute: false,\n",
       "            routingMode: \"auto\",\n",
       "            viaIndexes: []\n",
       "        }).then(function (route) {\n",
       "            var points = route.getWayPoints();  \n",
       "            theEl.innerHTML = theEl.innerHTML+'48.0'+'|'+start_point+'; '+end_point+'|Расстояние --'+route.getHumanLength() + '|'+route.getLength()+'|'+ route.getJamsTime() + '|'+ route.getTime()+ '|'+5+'|'+202211131140+'\\r\\n';\n",
       "        }, function (error) {\n",
       "        theEl.innerHTML = theEl.innerHTML+'48.0'+'||||||' +5+'|'+202211131140+'\\r\\n';\n",
       "    });\n",
       "    });\n",
       "    "
      ],
      "text/plain": [
       "<IPython.core.display.Javascript object>"
      ]
     },
     "metadata": {},
     "output_type": "display_data"
    },
    {
     "data": {
      "application/javascript": [
       "\n",
       "    var start_point = [56.11985, 40.361872];\n",
       "    var end_point = [54.188228, 37.542392];\n",
       "    ymaps.ready(function () {\n",
       "    var theEl=document.getElementById(\"output\");    \n",
       "    ymaps.route([start_point, end_point], {\n",
       "            mapStateAutoApply: false,\n",
       "            avoidTrafficJams: false,\n",
       "            multiRoute: false,\n",
       "            routingMode: \"auto\",\n",
       "            viaIndexes: []\n",
       "        }).then(function (route) {\n",
       "            var points = route.getWayPoints();  \n",
       "            theEl.innerHTML = theEl.innerHTML+'49.0'+'|'+start_point+'; '+end_point+'|Расстояние --'+route.getHumanLength() + '|'+route.getLength()+'|'+ route.getJamsTime() + '|'+ route.getTime()+ '|'+5+'|'+202211131140+'\\r\\n';\n",
       "        }, function (error) {\n",
       "        theEl.innerHTML = theEl.innerHTML+'49.0'+'||||||' +5+'|'+202211131140+'\\r\\n';\n",
       "    });\n",
       "    });\n",
       "    "
      ],
      "text/plain": [
       "<IPython.core.display.Javascript object>"
      ]
     },
     "metadata": {},
     "output_type": "display_data"
    },
    {
     "data": {
      "application/javascript": [
       "\n",
       "    var start_point = [56.11985, 40.361872];\n",
       "    var end_point = [54.01129, 38.263784];\n",
       "    ymaps.ready(function () {\n",
       "    var theEl=document.getElementById(\"output\");    \n",
       "    ymaps.route([start_point, end_point], {\n",
       "            mapStateAutoApply: false,\n",
       "            avoidTrafficJams: false,\n",
       "            multiRoute: false,\n",
       "            routingMode: \"auto\",\n",
       "            viaIndexes: []\n",
       "        }).then(function (route) {\n",
       "            var points = route.getWayPoints();  \n",
       "            theEl.innerHTML = theEl.innerHTML+'50.0'+'|'+start_point+'; '+end_point+'|Расстояние --'+route.getHumanLength() + '|'+route.getLength()+'|'+ route.getJamsTime() + '|'+ route.getTime()+ '|'+5+'|'+202211131140+'\\r\\n';\n",
       "        }, function (error) {\n",
       "        theEl.innerHTML = theEl.innerHTML+'50.0'+'||||||' +5+'|'+202211131140+'\\r\\n';\n",
       "    });\n",
       "    });\n",
       "    "
      ],
      "text/plain": [
       "<IPython.core.display.Javascript object>"
      ]
     },
     "metadata": {},
     "output_type": "display_data"
    },
    {
     "data": {
      "application/javascript": [
       "\n",
       "    var start_point = [57.635709, 39.882917];\n",
       "    var end_point = [55.750282, 38.00683];\n",
       "    ymaps.ready(function () {\n",
       "    var theEl=document.getElementById(\"output\");    \n",
       "    ymaps.route([start_point, end_point], {\n",
       "            mapStateAutoApply: false,\n",
       "            avoidTrafficJams: false,\n",
       "            multiRoute: false,\n",
       "            routingMode: \"auto\",\n",
       "            viaIndexes: []\n",
       "        }).then(function (route) {\n",
       "            var points = route.getWayPoints();  \n",
       "            theEl.innerHTML = theEl.innerHTML+'51.0'+'|'+start_point+'; '+end_point+'|Расстояние --'+route.getHumanLength() + '|'+route.getLength()+'|'+ route.getJamsTime() + '|'+ route.getTime()+ '|'+5+'|'+202211131140+'\\r\\n';\n",
       "        }, function (error) {\n",
       "        theEl.innerHTML = theEl.innerHTML+'51.0'+'||||||' +5+'|'+202211131140+'\\r\\n';\n",
       "    });\n",
       "    });\n",
       "    "
      ],
      "text/plain": [
       "<IPython.core.display.Javascript object>"
      ]
     },
     "metadata": {},
     "output_type": "display_data"
    },
    {
     "data": {
      "application/javascript": [
       "\n",
       "    var start_point = [51.718076, 36.132226];\n",
       "    var end_point = [55.087007, 31.970565];\n",
       "    ymaps.ready(function () {\n",
       "    var theEl=document.getElementById(\"output\");    \n",
       "    ymaps.route([start_point, end_point], {\n",
       "            mapStateAutoApply: false,\n",
       "            avoidTrafficJams: false,\n",
       "            multiRoute: false,\n",
       "            routingMode: \"auto\",\n",
       "            viaIndexes: []\n",
       "        }).then(function (route) {\n",
       "            var points = route.getWayPoints();  \n",
       "            theEl.innerHTML = theEl.innerHTML+'52.0'+'|'+start_point+'; '+end_point+'|Расстояние --'+route.getHumanLength() + '|'+route.getLength()+'|'+ route.getJamsTime() + '|'+ route.getTime()+ '|'+5+'|'+202211131140+'\\r\\n';\n",
       "        }, function (error) {\n",
       "        theEl.innerHTML = theEl.innerHTML+'52.0'+'||||||' +5+'|'+202211131140+'\\r\\n';\n",
       "    });\n",
       "    });\n",
       "    "
      ],
      "text/plain": [
       "<IPython.core.display.Javascript object>"
      ]
     },
     "metadata": {},
     "output_type": "display_data"
    },
    {
     "data": {
      "application/javascript": [
       "\n",
       "    var start_point = [55.773373, 37.605786];\n",
       "    var end_point = [53.948448, 32.850941];\n",
       "    ymaps.ready(function () {\n",
       "    var theEl=document.getElementById(\"output\");    \n",
       "    ymaps.route([start_point, end_point], {\n",
       "            mapStateAutoApply: false,\n",
       "            avoidTrafficJams: false,\n",
       "            multiRoute: false,\n",
       "            routingMode: \"auto\",\n",
       "            viaIndexes: []\n",
       "        }).then(function (route) {\n",
       "            var points = route.getWayPoints();  \n",
       "            theEl.innerHTML = theEl.innerHTML+'53.0'+'|'+start_point+'; '+end_point+'|Расстояние --'+route.getHumanLength() + '|'+route.getLength()+'|'+ route.getJamsTime() + '|'+ route.getTime()+ '|'+5+'|'+202211131140+'\\r\\n';\n",
       "        }, function (error) {\n",
       "        theEl.innerHTML = theEl.innerHTML+'53.0'+'||||||' +5+'|'+202211131140+'\\r\\n';\n",
       "    });\n",
       "    });\n",
       "    "
      ],
      "text/plain": [
       "<IPython.core.display.Javascript object>"
      ]
     },
     "metadata": {},
     "output_type": "display_data"
    },
    {
     "data": {
      "application/javascript": [
       "\n",
       "    var start_point = [56.11985, 40.361872];\n",
       "    var end_point = [55.50493, 36.027941];\n",
       "    ymaps.ready(function () {\n",
       "    var theEl=document.getElementById(\"output\");    \n",
       "    ymaps.route([start_point, end_point], {\n",
       "            mapStateAutoApply: false,\n",
       "            avoidTrafficJams: false,\n",
       "            multiRoute: false,\n",
       "            routingMode: \"auto\",\n",
       "            viaIndexes: []\n",
       "        }).then(function (route) {\n",
       "            var points = route.getWayPoints();  \n",
       "            theEl.innerHTML = theEl.innerHTML+'54.0'+'|'+start_point+'; '+end_point+'|Расстояние --'+route.getHumanLength() + '|'+route.getLength()+'|'+ route.getJamsTime() + '|'+ route.getTime()+ '|'+5+'|'+202211131140+'\\r\\n';\n",
       "        }, function (error) {\n",
       "        theEl.innerHTML = theEl.innerHTML+'54.0'+'||||||' +5+'|'+202211131140+'\\r\\n';\n",
       "    });\n",
       "    });\n",
       "    "
      ],
      "text/plain": [
       "<IPython.core.display.Javascript object>"
      ]
     },
     "metadata": {},
     "output_type": "display_data"
    },
    {
     "data": {
      "application/javascript": [
       "\n",
       "    var start_point = [50.595386, 36.59158];\n",
       "    var end_point = [53.309683, 34.308727];\n",
       "    ymaps.ready(function () {\n",
       "    var theEl=document.getElementById(\"output\");    \n",
       "    ymaps.route([start_point, end_point], {\n",
       "            mapStateAutoApply: false,\n",
       "            avoidTrafficJams: false,\n",
       "            multiRoute: false,\n",
       "            routingMode: \"auto\",\n",
       "            viaIndexes: []\n",
       "        }).then(function (route) {\n",
       "            var points = route.getWayPoints();  \n",
       "            theEl.innerHTML = theEl.innerHTML+'55.0'+'|'+start_point+'; '+end_point+'|Расстояние --'+route.getHumanLength() + '|'+route.getLength()+'|'+ route.getJamsTime() + '|'+ route.getTime()+ '|'+5+'|'+202211131140+'\\r\\n';\n",
       "        }, function (error) {\n",
       "        theEl.innerHTML = theEl.innerHTML+'55.0'+'||||||' +5+'|'+202211131140+'\\r\\n';\n",
       "    });\n",
       "    });\n",
       "    "
      ],
      "text/plain": [
       "<IPython.core.display.Javascript object>"
      ]
     },
     "metadata": {},
     "output_type": "display_data"
    },
    {
     "data": {
      "application/javascript": [
       "\n",
       "    var start_point = [57.635709, 39.882917];\n",
       "    var end_point = [55.511185, 37.565219];\n",
       "    ymaps.ready(function () {\n",
       "    var theEl=document.getElementById(\"output\");    \n",
       "    ymaps.route([start_point, end_point], {\n",
       "            mapStateAutoApply: false,\n",
       "            avoidTrafficJams: false,\n",
       "            multiRoute: false,\n",
       "            routingMode: \"auto\",\n",
       "            viaIndexes: []\n",
       "        }).then(function (route) {\n",
       "            var points = route.getWayPoints();  \n",
       "            theEl.innerHTML = theEl.innerHTML+'56.0'+'|'+start_point+'; '+end_point+'|Расстояние --'+route.getHumanLength() + '|'+route.getLength()+'|'+ route.getJamsTime() + '|'+ route.getTime()+ '|'+5+'|'+202211131140+'\\r\\n';\n",
       "        }, function (error) {\n",
       "        theEl.innerHTML = theEl.innerHTML+'56.0'+'||||||' +5+'|'+202211131140+'\\r\\n';\n",
       "    });\n",
       "    });\n",
       "    "
      ],
      "text/plain": [
       "<IPython.core.display.Javascript object>"
      ]
     },
     "metadata": {},
     "output_type": "display_data"
    },
    {
     "data": {
      "application/javascript": [
       "\n",
       "    var start_point = [56.11985, 40.361872];\n",
       "    var end_point = [55.214804, 34.303436];\n",
       "    ymaps.ready(function () {\n",
       "    var theEl=document.getElementById(\"output\");    \n",
       "    ymaps.route([start_point, end_point], {\n",
       "            mapStateAutoApply: false,\n",
       "            avoidTrafficJams: false,\n",
       "            multiRoute: false,\n",
       "            routingMode: \"auto\",\n",
       "            viaIndexes: []\n",
       "        }).then(function (route) {\n",
       "            var points = route.getWayPoints();  \n",
       "            theEl.innerHTML = theEl.innerHTML+'57.0'+'|'+start_point+'; '+end_point+'|Расстояние --'+route.getHumanLength() + '|'+route.getLength()+'|'+ route.getJamsTime() + '|'+ route.getTime()+ '|'+5+'|'+202211131140+'\\r\\n';\n",
       "        }, function (error) {\n",
       "        theEl.innerHTML = theEl.innerHTML+'57.0'+'||||||' +5+'|'+202211131140+'\\r\\n';\n",
       "    });\n",
       "    });\n",
       "    "
      ],
      "text/plain": [
       "<IPython.core.display.Javascript object>"
      ]
     },
     "metadata": {},
     "output_type": "display_data"
    },
    {
     "data": {
      "application/javascript": [
       "\n",
       "    var start_point = [51.718076, 36.132226];\n",
       "    var end_point = [52.825797, 22.784465];\n",
       "    ymaps.ready(function () {\n",
       "    var theEl=document.getElementById(\"output\");    \n",
       "    ymaps.route([start_point, end_point], {\n",
       "            mapStateAutoApply: false,\n",
       "            avoidTrafficJams: false,\n",
       "            multiRoute: false,\n",
       "            routingMode: \"auto\",\n",
       "            viaIndexes: []\n",
       "        }).then(function (route) {\n",
       "            var points = route.getWayPoints();  \n",
       "            theEl.innerHTML = theEl.innerHTML+'58.0'+'|'+start_point+'; '+end_point+'|Расстояние --'+route.getHumanLength() + '|'+route.getLength()+'|'+ route.getJamsTime() + '|'+ route.getTime()+ '|'+5+'|'+202211131140+'\\r\\n';\n",
       "        }, function (error) {\n",
       "        theEl.innerHTML = theEl.innerHTML+'58.0'+'||||||' +5+'|'+202211131140+'\\r\\n';\n",
       "    });\n",
       "    });\n",
       "    "
      ],
      "text/plain": [
       "<IPython.core.display.Javascript object>"
      ]
     },
     "metadata": {},
     "output_type": "display_data"
    },
    {
     "name": "stdout",
     "output_type": "stream",
     "text": [
      "Спасибо что ждали. Время выполнения:  0:00:52.851869\n",
      "Данные будут сохранены в файл: Route_95743581040773.txt\n"
     ]
    }
   ],
   "source": [
    "start = datetime.datetime.now()\n",
    "timesleep=0.14\n",
    "print ('Подождите, пожалуйста. Анализ маршрутов займет примерно '+str((timesleep*6*frame['num'].count()+timesleep*0.05)/60.0)+' мин...')\n",
    "\n",
    "print ('Выполняется шаг 1. Начало '+str(datetime.datetime.now())) \n",
    "for latSB,lngSB,latZ,lngZ,index in zip(frame['latSB'],frame['lngSB'],frame['latZ'],frame['lngZ'],frame['index']):\n",
    "    time.sleep(timesleep) #Пауза полсекунды \n",
    "    Way(str(latSB),str(lngSB),str(latZ),str(lngZ),str(index),0,str(datetime.datetime.today().strftime(\"%Y%m%d%H%M\")))\n",
    "\n",
    "print ('Выполняется шаг 2. Начало '+str(datetime.datetime.now())) \n",
    "for latSB,lngSB,latZ,lngZ,index in zip(near['lat_s1'],near['lng_s1'],near['latZ'],near['lngZ'],near['index']):\n",
    "    time.sleep(timesleep) #Пауза полсекунды \n",
    "    Way(str(latSB),str(lngSB),str(latZ),str(lngZ),str(index),1,str(datetime.datetime.today().strftime(\"%Y%m%d%H%M\")))\n",
    "\n",
    "print ('Выполняется шаг 3. Начало '+str(datetime.datetime.now())) \n",
    "for latSB,lngSB,latZ,lngZ,index in zip(near['lat_s2'],near['lng_s2'],near['latZ'],near['lngZ'],near['index']):\n",
    "    time.sleep(timesleep) #Пауза полсекунды \n",
    "    Way(str(latSB),str(lngSB),str(latZ),str(lngZ),str(index),2,str(datetime.datetime.today().strftime(\"%Y%m%d%H%M\")))   \n",
    "\n",
    "print ('Выполняется шаг 4. Начало '+str(datetime.datetime.now()))     \n",
    "for latSB,lngSB,latZ,lngZ,index in zip(near['lat_s3'],near['lng_s3'],near['latZ'],near['lngZ'],near['index']):\n",
    "    time.sleep(timesleep) #Пауза полсекунды \n",
    "    Way(str(latSB),str(lngSB),str(latZ),str(lngZ),str(index),3,str(datetime.datetime.today().strftime(\"%Y%m%d%H%M\")))\n",
    "\n",
    "print ('Выполняется шаг 5. Начало '+str(datetime.datetime.now()))     \n",
    "for latSB,lngSB,latZ,lngZ,index in zip(near['lat_s4'],near['lng_s4'],near['latZ'],near['lngZ'],near['index']):\n",
    "    time.sleep(timesleep) #Пауза полсекунды \n",
    "    Way(str(latSB),str(lngSB),str(latZ),str(lngZ),str(index),4,str(datetime.datetime.today().strftime(\"%Y%m%d%H%M\")))\n",
    "\n",
    "print ('Выполняется шаг 6. Начало '+str(datetime.datetime.now()))     \n",
    "for latSB,lngSB,latZ,lngZ,index in zip(near['lat_s5'],near['lng_s5'],near['latZ'],near['lngZ'],near['index']):\n",
    "    time.sleep(timesleep) #Пауза полсекунды \n",
    "    Way(str(latSB),str(lngSB),str(latZ),str(lngZ),str(index),5,str(datetime.datetime.today().strftime(\"%Y%m%d%H%M\")))  \n",
    "\n",
    "    \n",
    "finish = datetime.datetime.now()\n",
    "RandomName=int(np.random.uniform(0,1)*100000000000000)\n",
    "print ('Спасибо что ждали. Время выполнения: ', (finish-start))\n",
    "print ('Данные будут сохранены в файл: '+'Route_'+str(RandomName)+'.txt')\n",
    "winsound.Beep(1000, 940) #Звуковой сигнал при завершении"
   ]
  },
  {
   "cell_type": "markdown",
   "metadata": {},
   "source": [
    " <font color=\"#8b0000\" face=\"Segoe UI Semibold\" size=\"7\">STOP</font>"
   ]
  },
  {
   "cell_type": "code",
   "execution_count": 12,
   "metadata": {},
   "outputs": [
    {
     "data": {
      "text/html": [
       "\n",
       "<script>\n",
       "function OutText(text) { \n",
       "    myOutput.innerHTML='<a href=\"data:text/plain;charset=utf-8,%EF%BB%BF'+$(output).html()+'\" download=\"Route_95743581040773.txt\">Сохранить в файл <b>Route_95743581040773.txt</a>'  \n",
       "}\n",
       "</script>\n",
       "            \n",
       "<input onclick=\"OutText('вообще хорошо')\" type=\"button\" value=\"Подготовить сохранение: Route_95743581040773.txt\">  \n",
       "\n",
       " "
      ],
      "text/plain": [
       "<IPython.core.display.HTML object>"
      ]
     },
     "metadata": {},
     "output_type": "display_data"
    }
   ],
   "source": [
    "#Подготовка ссылки в Jupyter для сохранения найденных расстояний в файл\n",
    "s10 =  \"\"\"\n",
    "<script>\n",
    "function OutText(text) { \n",
    "    myOutput.innerHTML='<a href=\"data:text/plain;charset=utf-8,%EF%BB%BF'+$(output).html()+'\" download=\"Route_\"\"\"+str(RandomName)+\"\"\".txt\">Сохранить в файл <b>Route_\"\"\"+str(RandomName)+\"\"\".txt</a>'  \n",
    "}\n",
    "</script>\n",
    "            \n",
    "<input onclick=\"OutText('вообще хорошо')\" type=\"button\" value=\"Подготовить сохранение: Route_\"\"\"+str(RandomName)+\"\"\".txt\">  \n",
    "\n",
    " \"\"\"\n",
    "h10 = HTML(s10)\n",
    "display(h10)"
   ]
  },
  {
   "cell_type": "code",
   "execution_count": 13,
   "metadata": {},
   "outputs": [
    {
     "name": "stdout",
     "output_type": "stream",
     "text": [
      "95743581040773\n"
     ]
    }
   ],
   "source": [
    "print (RandomName)\n",
    "frame_html = pd.read_csv(r'Route_'+str(RandomName)+'.txt', header=None, sep='|')\n",
    "frame_html.rename(columns={0: 'ID', 1: 'latlng',2:'route-km',3:'route-m',4:'time-jam',5:'time-wo-jam',6:'step',7:'_time'}, inplace=True)"
   ]
  },
  {
   "cell_type": "code",
   "execution_count": 14,
   "metadata": {},
   "outputs": [
    {
     "name": "stdout",
     "output_type": "stream",
     "text": [
      "Ближайшие рабочие адреса сотрудников ПМЗ определены\n",
      "Обработано 59 Объектов залога (строк в исходном файле)\n"
     ]
    }
   ],
   "source": [
    "#if (frame_html['ID'].nunique()<=near['num'].nunique()):\n",
    "merged_inner = pd.merge(left=near, right=frame_html[['ID','route-m','time-jam']].loc[frame_html['step']==0], left_on='index', right_on='ID', how='left')\n",
    "merged_inner = merged_inner.rename(columns={'ID': 'ID_now', 'route-m': 'route-m_now','time-jam':'time-jam_now'})\n",
    "    \n",
    "merged_inner1 = pd.merge(left=merged_inner, right=frame_html[['ID','route-m','time-jam']].loc[frame_html['step']==1], left_on='index', right_on='ID', how='left')\n",
    "merged_inner1 = merged_inner1.rename(columns={'ID': 'ID_1', 'route-m': 'route-m_1','time-jam':'time-jam_1'})\n",
    "    \n",
    "merged_inner2 = pd.merge(left=merged_inner1, right=frame_html[['ID','route-m','time-jam']].loc[frame_html['step']==2], left_on='index', right_on='ID', how='left')\n",
    "merged_inner2 = merged_inner2.rename(columns={'ID': 'ID_2', 'route-m': 'route-m_2','time-jam':'time-jam_2'})\n",
    "    \n",
    "merged_inner3 = pd.merge(left=merged_inner2, right=frame_html[['ID','route-m','time-jam']].loc[frame_html['step']==3], left_on='index', right_on='ID', how='left')\n",
    "merged_inner3 = merged_inner3.rename(columns={'ID': 'ID_3', 'route-m': 'route-m_3','time-jam':'time-jam_3'})\n",
    "    \n",
    "merged_inner4 = pd.merge(left=merged_inner3, right=frame_html[['ID','route-m','time-jam']].loc[frame_html['step']==4], left_on='index', right_on='ID', how='left')\n",
    "merged_inner4 = merged_inner4.rename(columns={'ID': 'ID_4', 'route-m': 'route-m_4','time-jam':'time-jam_4'})\n",
    "    \n",
    "merged_inner5 = pd.merge(left=merged_inner4, right=frame_html[['ID','route-m','time-jam']].loc[frame_html['step']==5], left_on='index', right_on='ID', how='left')\n",
    "merged_inner5 = merged_inner5.rename(columns={'ID': 'ID_5', 'route-m': 'route-m_5','time-jam':'time-jam_5'})\n",
    "merged_inner5.drop(['ID_1', 'ID_2','ID_3','ID_4','ID_5'], axis='columns', inplace=True)\n",
    "\n",
    "RESULT=pd.merge(left=frame, right=merged_inner5, left_on='index', right_on='index')\n",
    "u=RESULT[['route-m_1','route-m_2','route-m_3','route-m_4','route-m_5']].idxmin(skipna=True,axis=1)\n",
    "for i in range(u.shape[0]):\n",
    "    if not(pd.isna(u[i])):\n",
    "        if u[i] == 'route-m_1': col='localaddress1';\n",
    "        if u[i] == 'route-m_2': col='localaddress2';\n",
    "        if u[i] == 'route-m_3': col='localaddress3';\n",
    "        if u[i] == 'route-m_4': col='localaddress4';\n",
    "        if u[i] == 'route-m_5': col='localaddress5';\n",
    "        RESULT.loc[i,'min_route']=RESULT.loc[i,u[i]]\n",
    "        RESULT.loc[i,'min_address']=RESULT.loc[i,col]\n",
    "print('Ближайшие рабочие адреса сотрудников ПМЗ определены')\n",
    "print('Обработано '+str(RESULT.shape[0])+ ' Объектов залога (строк в исходном файле)')\n",
    "#else: print('Есть дубликаты или ошибка в обработке данных')    "
   ]
  },
  {
   "cell_type": "markdown",
   "metadata": {
    "scrolled": true
   },
   "source": [
    "<font color=\"#339966\" face=\"Segoe UI\" size=\"4\">Расчет Лотов</font> "
   ]
  },
  {
   "cell_type": "code",
   "execution_count": 15,
   "metadata": {},
   "outputs": [],
   "source": [
    "frame = RESULT[['index','num','sb','stateSB','zalog','zalogstate','zalogaddress','accuracy','quality','ok','route-m_now','time-jam_now','min_route','min_address','localaddress1','route-m_1','time-jam_1','localaddress2','route-m_2','time-jam_2','localaddress3','route-m_3','time-jam_3','localaddress4','route-m_4','time-jam_4','localaddress5','route-m_5','time-jam_5']].copy(deep=True)\n",
    "frame[['lngZ','latZ']]=frame['ok'].str.split(' ',expand=True)\n",
    "frame[['latZ','lngZ']] = frame[['latZ','lngZ']].fillna(0)"
   ]
  },
  {
   "cell_type": "code",
   "execution_count": 16,
   "metadata": {},
   "outputs": [],
   "source": [
    "#Расстояние между объектами\n",
    "eps_local=10"
   ]
  },
  {
   "cell_type": "code",
   "execution_count": 17,
   "metadata": {},
   "outputs": [
    {
     "name": "stdout",
     "output_type": "stream",
     "text": [
      "Найдено уникальных Объектов: 56\n"
     ]
    }
   ],
   "source": [
    "PolygonM = pd.DataFrame([])\n",
    "PolygonM['ok']=PolygonM['lat']=PolygonM['lng']=0\n",
    "PolygonM[['ok','lat','lng']]=frame.loc[frame['latZ']!=0][['ok','latZ','lngZ']].reset_index(drop=True)\n",
    "PolygonM.dropna(inplace=True)\n",
    "PolygonM.drop_duplicates(inplace=True)\n",
    "PolygonM.reset_index(drop=True,inplace=True) \n",
    "PolygonM['lat'] = PolygonM['lat'].astype(float)\n",
    "PolygonM['lng'] = PolygonM['lng'].astype(float)\n",
    "print ('Найдено уникальных Объектов:',PolygonM.shape[0])"
   ]
  },
  {
   "cell_type": "code",
   "execution_count": 18,
   "metadata": {},
   "outputs": [],
   "source": [
    "#Строим матрицу с прямыми расстояниями между объектов\n",
    "distance_matrix = squareform(pdist(PolygonM[['lat','lng']], (lambda u,v: haversine(u,v))))"
   ]
  },
  {
   "cell_type": "code",
   "execution_count": 19,
   "metadata": {},
   "outputs": [],
   "source": [
    "# Объединяем в кластеры\n",
    "db = DBSCAN(eps=eps_local, min_samples=2, metric='precomputed')\n",
    "y_db = db.fit_predict(distance_matrix)\n",
    "PolygonM['cluster'] = y_db"
   ]
  },
  {
   "cell_type": "code",
   "execution_count": 20,
   "metadata": {},
   "outputs": [],
   "source": [
    "for i in range (PolygonM.shape[0]):\n",
    "    filter_count = PolygonM['cluster'] == PolygonM.loc[i,'cluster']\n",
    "    PolygonM.loc[i,'uniq_in_cluster']=PolygonM['cluster'].loc[filter_count].count()\n",
    "if 'uniq_in_cluster' in frame.columns: print ('day is True'); frame.drop(['uniq_in_cluster', 'cluster'], axis='columns', inplace=True)\n",
    "frame=frame.merge(PolygonM[['ok','cluster','uniq_in_cluster']], how='left',left_on='ok', right_on='ok',indicator=False)"
   ]
  },
  {
   "cell_type": "markdown",
   "metadata": {},
   "source": [
    "<font color=\"#339966\" face=\"Segoe UI\" size=\"4\">Проверка адресов</font> "
   ]
  },
  {
   "cell_type": "code",
   "execution_count": 21,
   "metadata": {},
   "outputs": [],
   "source": [
    "frame['difflib'] = frame.apply(lambda row: difflib.SequenceMatcher(None, str(row['zalog']).lower(), str(row['zalogaddress']).lower()).ratio(), axis=1)\n",
    "frame['sorensen'] = frame.apply(lambda row: 1 - distance.sorensen(str(row['zalog']).lower(), str(row['zalogaddress']).lower()), axis=1)\n",
    "frame['jaccard'] = frame.apply(lambda row: 1 - distance.jaccard(str(row['zalog']).lower(), str(row['zalogaddress']).lower()), axis=1)"
   ]
  },
  {
   "cell_type": "code",
   "execution_count": 22,
   "metadata": {
    "scrolled": true
   },
   "outputs": [],
   "source": [
    "frame[['index','num','zalog','zalogstate','zalogaddress','accuracy','quality','ok','min_route','min_address','cluster','uniq_in_cluster','difflib','sorensen','jaccard']].to_excel('Результат.xlsx')"
   ]
  },
  {
   "cell_type": "markdown",
   "metadata": {
    "scrolled": true
   },
   "source": [
    "<font color=\"#000066\" face=\"Segoe UI\" size=\"6\">Черновик:</font>"
   ]
  },
  {
   "cell_type": "markdown",
   "metadata": {},
   "source": [
    "[Example]: http://example.com/"
   ]
  },
  {
   "cell_type": "markdown",
   "metadata": {},
   "source": [
    "Пример ошибочно распознанного адреса [ссылка](https://geocode-maps.yandex.ru/1.x/?apikey=23aa748e-b261-49a3-8e25-a353715fdb8c&geocode=молочно+товарная+ферма+с.+Новые+Чебеньки+Зианчуринского+района+Республики+Башкортостан&format=json&results=4)."
   ]
  },
  {
   "cell_type": "code",
   "execution_count": null,
   "metadata": {},
   "outputs": [],
   "source": []
  }
 ],
 "metadata": {
  "kernelspec": {
   "display_name": "Python 3 (ipykernel)",
   "language": "python",
   "name": "python3"
  },
  "language_info": {
   "codemirror_mode": {
    "name": "ipython",
    "version": 3
   },
   "file_extension": ".py",
   "mimetype": "text/x-python",
   "name": "python",
   "nbconvert_exporter": "python",
   "pygments_lexer": "ipython3",
   "version": "3.9.12"
  }
 },
 "nbformat": 4,
 "nbformat_minor": 2
}
