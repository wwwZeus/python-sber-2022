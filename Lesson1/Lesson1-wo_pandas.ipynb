{
 "cells": [
  {
   "cell_type": "markdown",
   "metadata": {
    "pycharm": {
     "name": "#%% md\n"
    }
   },
   "source": [
    "[![Open In Colab](https://colab.research.google.com/assets/colab-badge.svg)](https://colab.research.google.com/github/da-python/python-for-data-analytics/blob/main/Lesson1/hometask/without_pandas.ipynb)"
   ]
  },
  {
   "cell_type": "code",
   "execution_count": 11,
   "metadata": {
    "pycharm": {
     "name": "#%%\n"
    }
   },
   "outputs": [
    {
     "data": {
      "image/jpeg": "[encoded data removed]",
      "text/html": [
       "\n",
       "        <iframe\n",
       "            width=\"800\"\n",
       "            height=\"300\"\n",
       "            src=\"https://www.youtube.com/embed/lyDLAutA88s\"\n",
       "            frameborder=\"0\"\n",
       "            allowfullscreen\n",
       "            \n",
       "        ></iframe>\n",
       "        "
      ],
      "text/plain": [
       "<IPython.lib.display.YouTubeVideo at 0x26e6ed955b0>"
      ]
     },
     "execution_count": 11,
     "metadata": {},
     "output_type": "execute_result"
    }
   ],
   "source": [
    "from IPython.display import YouTubeVideo\n",
    "YouTubeVideo('lyDLAutA88s', width=800, height=300)"
   ]
  },
  {
   "cell_type": "code",
   "execution_count": null,
   "metadata": {
    "pycharm": {
     "name": "#%%\n"
    }
   },
   "outputs": [],
   "source": []
  },
  {
   "cell_type": "code",
   "execution_count": 12,
   "metadata": {
    "pycharm": {
     "name": "#%%\n"
    }
   },
   "outputs": [],
   "source": [
    "# 1. Посмотрите видео Дэвида Бизли про встроенные инструменты Python\n",
    "# 2. Попробуйте используя встроенные инструменты Python проанализировать таблицу из файла \"Vacancy.csv\"\n",
    "# 3. Попробуйте ответить на вопросы:\n",
    "# Сколько вакансий, которые вам нравятся?\n",
    "# За какие периоды эти вакансии?\n",
    "# Сколько вакансий с такими позициями, на которых вы работаете?\n",
    "# Сколько вакансий для аналитика данных?\n",
    "# Сколько вакансий для аналитика данных с использованием Python?\n",
    "\n",
    "# В задании важно не использовать pandas и numpy, а встроенные инструменты python\n",
    "# Counter, CSV, defaultdict, sorted"
   ]
  },
  {
   "cell_type": "code",
   "execution_count": 13,
   "metadata": {
    "pycharm": {
     "name": "#%%\n"
    }
   },
   "outputs": [],
   "source": [
    "# Colab Version\n",
    "# !pip install wget\n",
    "#!wget https://raw.githubusercontent.com/da-python/python-for-data-analytics/main/Lesson1/hometask/vacancy.csv.zip\n",
    "#!unzip vacancy.csv.zip"
   ]
  },
  {
   "cell_type": "code",
   "execution_count": 14,
   "metadata": {
    "pycharm": {
     "name": "#%%\n"
    }
   },
   "outputs": [],
   "source": [
    "import csv\n",
    "import sys\n",
    "from collections import Counter, defaultdict"
   ]
  },
  {
   "cell_type": "code",
   "execution_count": 18,
   "metadata": {
    "pycharm": {
     "name": "#%%\n"
    }
   },
   "outputs": [
    {
     "data": {
      "text/plain": [
       "131072"
      ]
     },
     "execution_count": 18,
     "metadata": {},
     "output_type": "execute_result"
    }
   ],
   "source": [
    "csv.field_size_limit(56000000)"
   ]
  },
  {
   "cell_type": "code",
   "execution_count": 19,
   "metadata": {
    "pycharm": {
     "name": "#%%\n"
    }
   },
   "outputs": [],
   "source": [
    "file_path = 'vacancy.csv'\n",
    "vacs = list(csv.DictReader(open(file_path, encoding='utf-8')))"
   ]
  },
  {
   "cell_type": "code",
   "execution_count": 23,
   "metadata": {
    "pycharm": {
     "name": "#%%\n"
    }
   },
   "outputs": [
    {
     "name": "stdout",
     "output_type": "stream",
     "text": [
      "Всего записей 4002\n"
     ]
    }
   ],
   "source": [
    "print(f'Всего записей {len(vacs)}')"
   ]
  },
  {
   "cell_type": "code",
   "execution_count": 29,
   "metadata": {},
   "outputs": [
    {
     "data": {
      "text/plain": [
       "dict_keys(['id', 'created_at', 'updated_at', 'vacid', 'vactitle', 'vacdescription', 'vacdate', 'vacstatus', 'vaclink', 'vachtml'])"
      ]
     },
     "execution_count": 29,
     "metadata": {},
     "output_type": "execute_result"
    }
   ],
   "source": [
    "vacs[0].keys()"
   ]
  },
  {
   "cell_type": "markdown",
   "metadata": {},
   "source": [
    "## Сколько вакансий, которые вам нравятся?"
   ]
  },
  {
   "cell_type": "code",
   "execution_count": 45,
   "metadata": {
    "pycharm": {
     "name": "#%%\n"
    }
   },
   "outputs": [],
   "source": [
    "c = Counter([x.get('vactitle') for x in vacs if \n",
    "             (x.get('vactitle').lower().find('python') > -1)|\n",
    "             (x.get('vactitle').lower().find('sql') > -1)])"
   ]
  },
  {
   "cell_type": "code",
   "execution_count": 55,
   "metadata": {},
   "outputs": [
    {
     "name": "stdout",
     "output_type": "stream",
     "text": [
      "Нравится 60 вакансий\n"
     ]
    }
   ],
   "source": [
    "count = len([x.get('vactitle') for x in vacs if \n",
    "             (x.get('vactitle').lower().find('python') > -1)|\n",
    "             (x.get('vactitle').lower().find('sql') > -1)])\n",
    "print (f'Нравится {count} вакансий')"
   ]
  },
  {
   "cell_type": "markdown",
   "metadata": {},
   "source": [
    "## За какие периоды эти вакансии?"
   ]
  },
  {
   "cell_type": "code",
   "execution_count": 64,
   "metadata": {},
   "outputs": [
    {
     "name": "stdout",
     "output_type": "stream",
     "text": [
      "Минимальная дата понравившихся вакансий 2020-11-09 и максимальная 2021-03-17\n"
     ]
    }
   ],
   "source": [
    "mindata=min([x.get('vacdate') for x in vacs if \n",
    "             (x.get('vactitle').lower().find('python') > -1)|\n",
    "             (x.get('vactitle').lower().find('sql') > -1)])\n",
    "\n",
    "maxdata=max([x.get('vacdate') for x in vacs if \n",
    "             (x.get('vactitle').lower().find('python') > -1)|\n",
    "             (x.get('vactitle').lower().find('sql') > -1)])\n",
    "print (f'Минимальная дата понравившихся вакансий {mindata} и максимальная {maxdata}')"
   ]
  },
  {
   "cell_type": "markdown",
   "metadata": {},
   "source": [
    "## Сколько вакансий с такими позициями, на которых вы работаете?"
   ]
  },
  {
   "cell_type": "code",
   "execution_count": 72,
   "metadata": {
    "pycharm": {
     "name": "#%%\n"
    }
   },
   "outputs": [
    {
     "data": {
      "text/plain": [
       "9"
      ]
     },
     "execution_count": 72,
     "metadata": {},
     "output_type": "execute_result"
    }
   ],
   "source": [
    "len([x.get('vactitle') for x in vacs if \n",
    "             (x.get('vactitle').lower().find('залог') > -1)])"
   ]
  },
  {
   "cell_type": "markdown",
   "metadata": {},
   "source": [
    "## Сколько вакансий для аналитика данных?"
   ]
  },
  {
   "cell_type": "code",
   "execution_count": 108,
   "metadata": {},
   "outputs": [
    {
     "name": "stdout",
     "output_type": "stream",
     "text": [
      "Вакансий по анализу данных 28\n"
     ]
    }
   ],
   "source": [
    "data_analist = len(set([x.get('id') for x in vacs if \n",
    "             (x.get('vactitle').lower().find('аналитик д') > -1)|\n",
    "             (x.get('vactitle').lower().find('analist') > -1)|\n",
    "             (x.get('vactitle').lower().find('аналитик bi') > -1)\n",
    "        ]\n",
    "   ))\n",
    "\n",
    "print(f'Вакансий по анализу данных {data_analist}')"
   ]
  },
  {
   "cell_type": "markdown",
   "metadata": {},
   "source": [
    "## Сколько вакансий для аналитика данных с использованием Python?"
   ]
  },
  {
   "cell_type": "code",
   "execution_count": 109,
   "metadata": {},
   "outputs": [
    {
     "name": "stdout",
     "output_type": "stream",
     "text": [
      "Вакансий по анализу данных 9\n"
     ]
    }
   ],
   "source": [
    "data_analist_py = len(set([x.get('id') for x in vacs if \n",
    "             ((x.get('vactitle').lower().find('аналитик д') > -1)|\n",
    "             (x.get('vactitle').lower().find('analist') > -1)|\n",
    "             (x.get('vactitle').lower().find('аналитик bi') > -1))&\n",
    "             (x.get('vacdescription').lower().find('python') > -1)\n",
    "        ]\n",
    "   ))\n",
    "\n",
    "print(f'Вакансий по анализу данных {data_analist_py}')"
   ]
  }
 ],
 "metadata": {
  "kernelspec": {
   "display_name": "Python 3 (ipykernel)",
   "language": "python",
   "name": "python3"
  },
  "language_info": {
   "codemirror_mode": {
    "name": "ipython",
    "version": 3
   },
   "file_extension": ".py",
   "mimetype": "text/x-python",
   "name": "python",
   "nbconvert_exporter": "python",
   "pygments_lexer": "ipython3",
   "version": "3.9.7"
  }
 },
 "nbformat": 4,
 "nbformat_minor": 4
}
